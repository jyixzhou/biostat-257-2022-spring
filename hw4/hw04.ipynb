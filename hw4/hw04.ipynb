{
 "cells": [
  {
   "cell_type": "markdown",
   "metadata": {},
   "source": [
    "# Biostat 257 Homework 4\n",
    "\n",
    "**Due May 20 @ 11:59PM**"
   ]
  },
  {
   "cell_type": "code",
   "execution_count": 1,
   "metadata": {},
   "outputs": [
    {
     "name": "stdout",
     "output_type": "stream",
     "text": [
      "Julia Version 1.7.2\n",
      "Commit bf53498635 (2022-02-06 15:21 UTC)\n",
      "Platform Info:\n",
      "  OS: macOS (x86_64-apple-darwin19.5.0)\n",
      "  CPU: Intel(R) Core(TM) i5-8257U CPU @ 1.40GHz\n",
      "  WORD_SIZE: 64\n",
      "  LIBM: libopenlibm\n",
      "  LLVM: libLLVM-12.0.1 (ORCJIT, skylake)\n"
     ]
    }
   ],
   "source": [
    "versioninfo()"
   ]
  },
  {
   "cell_type": "markdown",
   "metadata": {},
   "source": [
    "We are going to try different numerical methods learnt in class on the [Google PageRank problem](https://en.wikipedia.org/wiki/PageRank)."
   ]
  },
  {
   "cell_type": "markdown",
   "metadata": {},
   "source": [
    "## Q1 (5 pts) Recognize structure\n",
    "\n",
    "Let $\\mathbf{A} \\in \\{0,1\\}^{n \\times n}$ be the connectivity matrix of $n$ web pages with entries\n",
    "$$\n",
    "\\begin{eqnarray*}\n",
    "\ta_{ij}= \\begin{cases}\n",
    "\t1 & \\text{if page $i$ links to page $j$} \\\\\n",
    "\t0 & \\text{otherwise}\n",
    "\t\\end{cases}.\n",
    "\\end{eqnarray*}\n",
    "$$\n",
    "$r_i = \\sum_j a_{ij}$ is the out-degree of page $i$. That is $r_i$ is the number of links on page $i$. Imagine a random surfer exploring the space of $n$ pages according to the following rules.  \n",
    "\n",
    "- From a page $i$ with $r_i>0$\n",
    "    * with probability $p$, (s)he randomly chooses a link on page $i$ (uniformly) and follows that link to the next page  \n",
    "    * with probability $1-p$, (s)he randomly chooses one page from the set of all $n$ pages (uniformly) and proceeds to that page  \n",
    "- From a page $i$ with $r_i=0$ (a dangling page), (s)he randomly chooses one page from the set of all $n$ pages (uniformly) and proceeds to that page  \n",
    "    \n",
    "The process defines a Markov chain on the space of $n$ pages. Write the transition matrix $\\mathbf{P}$ of the Markov chain as a sparse matrix plus rank 1 matrix."
   ]
  },
  {
   "cell_type": "markdown",
   "metadata": {},
   "source": [
    "**Solution**\n",
    "\n",
    "$$\n",
    "P = \\text{diag}(d)A + a1'\n",
    "$$\n",
    "\n",
    "where $d$ is a $n \\times 1$ vector, with \n",
    "$$\n",
    "d_i = \\begin{cases}\n",
    "\\frac{p}{r_i}, & r_i > 0, \\\\\n",
    "0, & r_i = 0 \n",
    "\\end{cases}\n",
    "$$\n",
    "and $a$ is a $n \\times 1$ vector, with \n",
    "$$\n",
    "a_i = \\begin{cases}\n",
    "\\frac{1-p}{n}, & r_i > 0, \\\\\n",
    "\\frac{1}{n}, & r_i = 0 \n",
    "\\end{cases}\n",
    "$$\n",
    "\n",
    "A is a sparse matrix, and $a1'$ is a rank 1 matrix. "
   ]
  },
  {
   "cell_type": "markdown",
   "metadata": {},
   "source": [
    "## Q2 Relate to numerical linear algebra\n",
    "\n",
    "According to standard Markov chain theory, the (random) position of the surfer converges to the stationary distribution $\\mathbf{x} = (x_1,\\ldots,x_n)^T$ of the Markov chain. $x_i$ has the natural interpretation of the proportion of times the surfer visits page $i$ in the long run. Therefore $\\mathbf{x}$ serves as page ranks: a higher $x_i$ means page $i$ is more visited. It is well-known that $\\mathbf{x}$ is the left eigenvector corresponding to the top eigenvalue 1 of the transition matrix $\\mathbf{P}$. That is $\\mathbf{P}^T \\mathbf{x} = \\mathbf{x}$. Therefore $\\mathbf{x}$ can be solved as an **eigen-problem**. It can also be cast as **solving a linear system**. Since the row sums of $\\mathbf{P}$ are 1, $\\mathbf{P}$ is rank deficient. We can replace the first equation by the $\\sum_{i=1}^n x_i = 1$.\n",
    "\n",
    "Hint: For iterative solvers, we don't need to replace the 1st equation. We can use the matrix $\\mathbf{I} - \\mathbf{P}^T$ directly if we start with a vector with all positive entries."
   ]
  },
  {
   "cell_type": "markdown",
   "metadata": {},
   "source": [
    "## Q3 (10 pts) Explore data\n",
    "\n",
    "Obtain the connectivity matrix `A` from the `SNAP/web-Google` data in the MatrixDepot package. "
   ]
  },
  {
   "cell_type": "code",
   "execution_count": 2,
   "metadata": {},
   "outputs": [
    {
     "name": "stderr",
     "output_type": "stream",
     "text": [
      "┌ Info: verify download of index files...\n",
      "└ @ MatrixDepot /Users/julietzhou/.julia/packages/MatrixDepot/GEDc3/src/MatrixDepot.jl:139\n",
      "┌ Info: reading database\n",
      "└ @ MatrixDepot /Users/julietzhou/.julia/packages/MatrixDepot/GEDc3/src/download.jl:23\n",
      "┌ Info: adding metadata...\n",
      "└ @ MatrixDepot /Users/julietzhou/.julia/packages/MatrixDepot/GEDc3/src/download.jl:67\n",
      "┌ Info: adding svd data...\n",
      "└ @ MatrixDepot /Users/julietzhou/.julia/packages/MatrixDepot/GEDc3/src/download.jl:69\n",
      "┌ Info: writing database\n",
      "└ @ MatrixDepot /Users/julietzhou/.julia/packages/MatrixDepot/GEDc3/src/download.jl:74\n",
      "┌ Info: used remote sites are sparse.tamu.edu with MAT index and math.nist.gov with HTML index\n",
      "└ @ MatrixDepot /Users/julietzhou/.julia/packages/MatrixDepot/GEDc3/src/MatrixDepot.jl:141\n"
     ]
    },
    {
     "data": {
      "text/latex": [
       "\\section{SNAP/web-Google}\n",
       "\\subsubparagraph{MatrixMarket matrix coordinate pattern general}\n",
       "\\rule{\\textwidth}{1pt}\n",
       "\\begin{itemize}\n",
       "\\item UF Sparse Matrix Collection, Tim Davis\n",
       "\n",
       "\n",
       "\\item http://www.cise.ufl.edu/research/sparse/matrices/SNAP/web-Google\n",
       "\n",
       "\n",
       "\\item name: SNAP/web-Google\n",
       "\n",
       "\n",
       "\\item [Web graph from Google]\n",
       "\n",
       "\n",
       "\\item id: 2301\n",
       "\n",
       "\n",
       "\\item date: 2002\n",
       "\n",
       "\n",
       "\\item author: Google\n",
       "\n",
       "\n",
       "\\item ed: J. Leskovec\n",
       "\n",
       "\n",
       "\\item fields: name title A id date author ed kind notes\n",
       "\n",
       "\n",
       "\\item kind: directed graph\n",
       "\n",
       "\\end{itemize}\n",
       "\\rule{\\textwidth}{1pt}\n",
       "\\begin{itemize}\n",
       "\\item notes:\n",
       "\n",
       "\n",
       "\\item Networks from SNAP (Stanford Network Analysis Platform) Network Data Sets,     \n",
       "\n",
       "\n",
       "\\item Jure Leskovec http://snap.stanford.edu/data/index.html                         \n",
       "\n",
       "\n",
       "\\item email jure at cs.stanford.edu                                                  \n",
       "\n",
       "\n",
       "\\item \n",
       "\\item Google web graph                                                               \n",
       "\n",
       "\n",
       "\\item \n",
       "\\item Dataset information                                                            \n",
       "\n",
       "\n",
       "\\item \n",
       "\\item Nodes represent web pages and directed edges represent hyperlinks between them.\n",
       "\n",
       "\n",
       "\\item The data was released in 2002 by Google as a part of Google Programming        \n",
       "\n",
       "\n",
       "\\item Contest.                                                                       \n",
       "\n",
       "\n",
       "\\item \n",
       "\\item Dataset statistics                                                             \n",
       "\n",
       "\n",
       "\\item Nodes   875713                                                                 \n",
       "\n",
       "\n",
       "\\item Edges   5105039                                                                \n",
       "\n",
       "\n",
       "\\item Nodes in largest WCC    855802 (0.977)                                         \n",
       "\n",
       "\n",
       "\\item Edges in largest WCC    5066842 (0.993)                                        \n",
       "\n",
       "\n",
       "\\item Nodes in largest SCC    434818 (0.497)                                         \n",
       "\n",
       "\n",
       "\\item Edges in largest SCC    3419124 (0.670)                                        \n",
       "\n",
       "\n",
       "\\item Average clustering coefficient  0.6047                                         \n",
       "\n",
       "\n",
       "\\item Number of triangles     13391903                                               \n",
       "\n",
       "\n",
       "\\item Fraction of closed triangles    0.05523                                        \n",
       "\n",
       "\n",
       "\\item Diameter (longest shortest path)    22                                         \n",
       "\n",
       "\n",
       "\\item 90-percentile effective diameter    8.1                                        \n",
       "\n",
       "\n",
       "\\item \n",
       "\\item Source (citation)                                                              \n",
       "\n",
       "\n",
       "\\item \n",
       "\\item J. Leskovec, K. Lang, A. Dasgupta, M. Mahoney. Community Structure in Large    \n",
       "\n",
       "\n",
       "\\item Networks: Natural Cluster Sizes and the Absence of Large Well-Defined Clusters.\n",
       "\n",
       "\n",
       "\\item arXiv.org:0810.1355, 2008.                                                     \n",
       "\n",
       "\n",
       "\\item \n",
       "\\item Google programming contest, 2002                                               \n",
       "\n",
       "\n",
       "\\item http://www.google.com/programming-contest/                                     \n",
       "\n",
       "\n",
       "\\item \n",
       "\\item Files                                                                          \n",
       "\n",
       "\n",
       "\\item File    Description                                                            \n",
       "\n",
       "\n",
       "\\item web-Google.txt.gz   Webgraph from the Google programming contest, 2002         \n",
       "\n",
       "\\end{itemize}\n",
       "\\rule{\\textwidth}{1pt}\n",
       "916428 916428 5105039\n",
       "\n"
      ],
      "text/markdown": [
       "# SNAP/web-Google\n",
       "\n",
       "###### MatrixMarket matrix coordinate pattern general\n",
       "\n",
       "---\n",
       "\n",
       "  * UF Sparse Matrix Collection, Tim Davis\n",
       "  * http://www.cise.ufl.edu/research/sparse/matrices/SNAP/web-Google\n",
       "  * name: SNAP/web-Google\n",
       "  * [Web graph from Google]\n",
       "  * id: 2301\n",
       "  * date: 2002\n",
       "  * author: Google\n",
       "  * ed: J. Leskovec\n",
       "  * fields: name title A id date author ed kind notes\n",
       "  * kind: directed graph\n",
       "\n",
       "---\n",
       "\n",
       "  * notes:\n",
       "  * Networks from SNAP (Stanford Network Analysis Platform) Network Data Sets,\n",
       "  * Jure Leskovec http://snap.stanford.edu/data/index.html\n",
       "  * email jure at cs.stanford.edu\n",
       "  * \n",
       "  * Google web graph\n",
       "  * \n",
       "  * Dataset information\n",
       "  * \n",
       "  * Nodes represent web pages and directed edges represent hyperlinks between them.\n",
       "  * The data was released in 2002 by Google as a part of Google Programming\n",
       "  * Contest.\n",
       "  * \n",
       "  * Dataset statistics\n",
       "  * Nodes   875713\n",
       "  * Edges   5105039\n",
       "  * Nodes in largest WCC    855802 (0.977)\n",
       "  * Edges in largest WCC    5066842 (0.993)\n",
       "  * Nodes in largest SCC    434818 (0.497)\n",
       "  * Edges in largest SCC    3419124 (0.670)\n",
       "  * Average clustering coefficient  0.6047\n",
       "  * Number of triangles     13391903\n",
       "  * Fraction of closed triangles    0.05523\n",
       "  * Diameter (longest shortest path)    22\n",
       "  * 90-percentile effective diameter    8.1\n",
       "  * \n",
       "  * Source (citation)\n",
       "  * \n",
       "  * J. Leskovec, K. Lang, A. Dasgupta, M. Mahoney. Community Structure in Large\n",
       "  * Networks: Natural Cluster Sizes and the Absence of Large Well-Defined Clusters.\n",
       "  * arXiv.org:0810.1355, 2008.\n",
       "  * \n",
       "  * Google programming contest, 2002\n",
       "  * http://www.google.com/programming-contest/\n",
       "  * \n",
       "  * Files\n",
       "  * File    Description\n",
       "  * web-Google.txt.gz   Webgraph from the Google programming contest, 2002\n",
       "\n",
       "---\n",
       "\n",
       "916428 916428 5105039\n"
      ],
      "text/plain": [
       "\u001b[1m  SNAP/web-Google\u001b[22m\n",
       "\u001b[1m  ≡≡≡≡≡≡≡≡≡≡≡≡≡≡≡≡≡\u001b[22m\n",
       "\n",
       "\u001b[1m  MatrixMarket matrix coordinate pattern general\u001b[22m\n",
       "\n",
       "  ────────────────────────────────────────────────────────────────────────────\n",
       "\n",
       "    •  UF Sparse Matrix Collection, Tim Davis\n",
       "\n",
       "    •  http://www.cise.ufl.edu/research/sparse/matrices/SNAP/web-Google\n",
       "\n",
       "    •  name: SNAP/web-Google\n",
       "\n",
       "    •  [Web graph from Google]\n",
       "\n",
       "    •  id: 2301\n",
       "\n",
       "    •  date: 2002\n",
       "\n",
       "    •  author: Google\n",
       "\n",
       "    •  ed: J. Leskovec\n",
       "\n",
       "    •  fields: name title A id date author ed kind notes\n",
       "\n",
       "    •  kind: directed graph\n",
       "\n",
       "  ────────────────────────────────────────────────────────────────────────────\n",
       "\n",
       "    •  notes:\n",
       "\n",
       "    •  Networks from SNAP (Stanford Network Analysis Platform) Network\n",
       "       Data Sets,\n",
       "\n",
       "    •  Jure Leskovec http://snap.stanford.edu/data/index.html\n",
       "\n",
       "    •  email jure at cs.stanford.edu\n",
       "\n",
       "    •  \n",
       "\n",
       "    •  Google web graph\n",
       "\n",
       "    •  \n",
       "\n",
       "    •  Dataset information\n",
       "\n",
       "    •  \n",
       "\n",
       "    •  Nodes represent web pages and directed edges represent hyperlinks\n",
       "       between them.\n",
       "\n",
       "    •  The data was released in 2002 by Google as a part of Google\n",
       "       Programming\n",
       "\n",
       "    •  Contest.\n",
       "\n",
       "    •  \n",
       "\n",
       "    •  Dataset statistics\n",
       "\n",
       "    •  Nodes 875713\n",
       "\n",
       "    •  Edges 5105039\n",
       "\n",
       "    •  Nodes in largest WCC 855802 (0.977)\n",
       "\n",
       "    •  Edges in largest WCC 5066842 (0.993)\n",
       "\n",
       "    •  Nodes in largest SCC 434818 (0.497)\n",
       "\n",
       "    •  Edges in largest SCC 3419124 (0.670)\n",
       "\n",
       "    •  Average clustering coefficient 0.6047\n",
       "\n",
       "    •  Number of triangles 13391903\n",
       "\n",
       "    •  Fraction of closed triangles 0.05523\n",
       "\n",
       "    •  Diameter (longest shortest path) 22\n",
       "\n",
       "    •  90-percentile effective diameter 8.1\n",
       "\n",
       "    •  \n",
       "\n",
       "    •  Source (citation)\n",
       "\n",
       "    •  \n",
       "\n",
       "    •  J. Leskovec, K. Lang, A. Dasgupta, M. Mahoney. Community Structure\n",
       "       in Large\n",
       "\n",
       "    •  Networks: Natural Cluster Sizes and the Absence of Large\n",
       "       Well-Defined Clusters.\n",
       "\n",
       "    •  arXiv.org:0810.1355, 2008.\n",
       "\n",
       "    •  \n",
       "\n",
       "    •  Google programming contest, 2002\n",
       "\n",
       "    •  http://www.google.com/programming-contest/\n",
       "\n",
       "    •  \n",
       "\n",
       "    •  Files\n",
       "\n",
       "    •  File Description\n",
       "\n",
       "    •  web-Google.txt.gz Webgraph from the Google programming contest,\n",
       "       2002\n",
       "\n",
       "  ────────────────────────────────────────────────────────────────────────────\n",
       "\n",
       "  916428 916428 5105039"
      ]
     },
     "execution_count": 2,
     "metadata": {},
     "output_type": "execute_result"
    }
   ],
   "source": [
    "using MatrixDepot\n",
    "\n",
    "md = mdopen(\"SNAP/web-Google\")\n",
    "# display documentation for the SNAP/web-Google data\n",
    "mdinfo(md)"
   ]
  },
  {
   "cell_type": "code",
   "execution_count": 3,
   "metadata": {},
   "outputs": [
    {
     "data": {
      "text/plain": [
       "916428×916428 SparseArrays.SparseMatrixCSC{Bool, Int64} with 5105039 stored entries:\n",
       "⣿⣿⣿⣿⣿⣿⣿⣿⣿⣿⣿⣿⣿⣿⣿⣿⣿⣿⣿⣿⣿⣿⣿⣿⣿⣿⣿⣿⣿⣿⣿⣿⣿⣿⣿⣿⣿⣿⣿⣿\n",
       "⣿⣿⣿⣿⣿⣿⣿⣿⣿⣿⣿⣿⣿⣿⣿⣿⣿⣿⣿⣿⣿⣿⣿⣿⣿⣿⣿⣿⣿⣿⣿⣿⣿⣿⣿⣿⣿⣿⣿⣿\n",
       "⣿⣿⣿⣿⣿⣿⣿⣿⣿⣿⣿⣿⣿⣿⣿⣿⣿⣿⣿⣿⣿⣿⣿⣿⣿⣿⣿⣿⣿⣿⣿⣿⣿⣿⣿⣿⣿⣿⣿⣿\n",
       "⣿⣿⣿⣿⣿⣿⣿⣿⣿⣿⣿⣿⣿⣿⣿⣿⣿⣿⣿⣿⣿⣿⣿⣿⣿⣿⣿⣿⣿⣿⣿⣿⣿⣿⣿⣿⣿⣿⣿⣿\n",
       "⣿⣿⣿⣿⣿⣿⣿⣿⣿⣿⣿⣿⣿⣿⣿⣿⣿⣿⣿⣿⣿⣿⣿⣿⣿⣿⣿⣿⣿⣿⣿⣿⣿⣿⣿⣿⣿⣿⣿⣿\n",
       "⣿⣿⣿⣿⣿⣿⣿⣿⣿⣿⣿⣿⣿⣿⣿⣿⣿⣿⣿⣿⣿⣿⣿⣿⣿⣿⣿⣿⣿⣿⣿⣿⣿⣿⣿⣿⣿⣿⣿⣿\n",
       "⣿⣿⣿⣿⣿⣿⣿⣿⣿⣿⣿⣿⣿⣿⣿⣿⣿⣿⣿⣿⣿⣿⣿⣿⣿⣿⣿⣿⣿⣿⣿⣿⣿⣿⣿⣿⣿⣿⣿⣿\n",
       "⣿⣿⣿⣿⣿⣿⣿⣿⣿⣿⣿⣿⣿⣿⣿⣿⣿⣿⣿⣿⣿⣿⣿⣿⣿⣿⣿⣿⣿⣿⣿⣿⣿⣿⣿⣿⣿⣿⣿⣿\n",
       "⣿⣿⣿⣿⣿⣿⣿⣿⣿⣿⣿⣿⣿⣿⣿⣿⣿⣿⣿⣿⣿⣿⣿⣿⣿⣿⣿⣿⣿⣿⣿⣿⣿⣿⣿⣿⣿⣿⣿⣿\n",
       "⣿⣿⣿⣿⣿⣿⣿⣿⣿⣿⣿⣿⣿⣿⣿⣿⣿⣿⣿⣿⣿⣿⣿⣿⣿⣿⣿⣿⣿⣿⣿⣿⣿⣿⣿⣿⣿⣿⣿⣿\n",
       "⣿⣿⣿⣿⣿⣿⣿⣿⣿⣿⣿⣿⣿⣿⣿⣿⣿⣿⣿⣿⣿⣿⣿⣿⣿⣿⣿⣿⣿⣿⣿⣿⣿⣿⣿⣿⣿⣿⣿⣿\n",
       "⣿⣿⣿⣿⣿⣿⣿⣿⣿⣿⣿⣿⣿⣿⣿⣿⣿⣿⣿⣿⣿⣿⣿⣿⣿⣿⣿⣿⣿⣿⣿⣿⣿⣿⣿⣿⣿⣿⣿⣿\n",
       "⣿⣿⣿⣿⣿⣿⣿⣿⣿⣿⣿⣿⣿⣿⣿⣿⣿⣿⣿⣿⣿⣿⣿⣿⣿⣿⣿⣿⣿⣿⣿⣿⣿⣿⣿⣿⣿⣿⣿⣿\n",
       "⣿⣿⣿⣿⣿⣿⣿⣿⣿⣿⣿⣿⣿⣿⣿⣿⣿⣿⣿⣿⣿⣿⣿⣿⣿⣿⣿⣿⣿⣿⣿⣿⣿⣿⣿⣿⣿⣿⣿⣿\n",
       "⣿⣿⣿⣿⣿⣿⣿⣿⣿⣿⣿⣿⣿⣿⣿⣿⣿⣿⣿⣿⣿⣿⣿⣿⣿⣿⣿⣿⣿⣿⣿⣿⣿⣿⣿⣿⣿⣿⣿⣿\n",
       "⣿⣿⣿⣿⣿⣿⣿⣿⣿⣿⣿⣿⣿⣿⣿⣿⣿⣿⣿⣿⣿⣿⣿⣿⣿⣿⣿⣿⣿⣿⣿⣿⣿⣿⣿⣿⣿⣿⣿⣿\n",
       "⣿⣿⣿⣿⣿⣿⣿⣿⣿⣿⣿⣿⣿⣿⣿⣿⣿⣿⣿⣿⣿⣿⣿⣿⣿⣿⣿⣿⣿⣿⣿⣿⣿⣿⣿⣿⣿⣿⣿⣿\n",
       "⣿⣿⣿⣿⣿⣿⣿⣿⣿⣿⣿⣿⣿⣿⣿⣿⣿⣿⣿⣿⣿⣿⣿⣿⣿⣿⣿⣿⣿⣿⣿⣿⣿⣿⣿⣿⣿⣿⣿⣿\n",
       "⣿⣿⣿⣿⣿⣿⣿⣿⣿⣿⣿⣿⣿⣿⣿⣿⣿⣿⣿⣿⣿⣿⣿⣿⣿⣿⣿⣿⣿⣿⣿⣿⣿⣿⣿⣿⣿⣿⣿⣿\n",
       "⣿⣿⣿⣿⣿⣿⣿⣿⣿⣿⣿⣿⣿⣿⣿⣿⣿⣿⣿⣿⣿⣿⣿⣿⣿⣿⣿⣿⣿⣿⣿⣿⣿⣿⣿⣿⣿⣿⣿⣿"
      ]
     },
     "execution_count": 3,
     "metadata": {},
     "output_type": "execute_result"
    }
   ],
   "source": [
    "# connectivity matrix\n",
    "A = md.A"
   ]
  },
  {
   "cell_type": "markdown",
   "metadata": {},
   "source": [
    "Compute summary statistics:\n",
    "* How much memory does `A` take? If converted to a `Matrix{Float64}` (don't do it!), how much memory will it take?  \n",
    "* number of web pages\n",
    "* number of edges (web links). \n",
    "* number of dangling nodes (pages with no out links)\n",
    "* histogram of in-degrees  \n",
    "* list the top 20 pages with the largest in-degrees?  \n",
    "* histogram of out-degrees\n",
    "* which the top 20 pages with the largest out-degrees?\n",
    "* visualize the sparsity pattern of $\\mathbf{A}$ or a submatrix of $\\mathbf{A}$ say `A[1:10000, 1:10000]`. \n",
    "\n",
    "**Hint**: For plots, you can use the [UnicodePlots.jl](https://github.com/Evizero/UnicodePlots.jl) package (`spy`, `histogram`, etc), which is fast for large data. "
   ]
  },
  {
   "cell_type": "markdown",
   "metadata": {},
   "source": [
    "**Solution**"
   ]
  },
  {
   "cell_type": "code",
   "execution_count": 4,
   "metadata": {},
   "outputs": [
    {
     "data": {
      "text/plain": [
       "53276943"
      ]
     },
     "execution_count": 4,
     "metadata": {},
     "output_type": "execute_result"
    }
   ],
   "source": [
    "# memory in bytes \n",
    "Base.summarysize(A)"
   ]
  },
  {
   "cell_type": "code",
   "execution_count": 5,
   "metadata": {},
   "outputs": [
    {
     "data": {
      "text/plain": [
       "6718722233472"
      ]
     },
     "execution_count": 5,
     "metadata": {},
     "output_type": "execute_result"
    }
   ],
   "source": [
    "# approximate size of dense A in bytes\n",
    "size(A)[1]^2 * 8"
   ]
  },
  {
   "cell_type": "code",
   "execution_count": 6,
   "metadata": {},
   "outputs": [
    {
     "data": {
      "text/plain": [
       "916428"
      ]
     },
     "execution_count": 6,
     "metadata": {},
     "output_type": "execute_result"
    }
   ],
   "source": [
    "# number of web pages = 916428\n",
    "n = size(A, 1)"
   ]
  },
  {
   "cell_type": "code",
   "execution_count": 7,
   "metadata": {},
   "outputs": [
    {
     "data": {
      "text/plain": [
       "5105039"
      ]
     },
     "execution_count": 7,
     "metadata": {},
     "output_type": "execute_result"
    }
   ],
   "source": [
    "# number of edges\n",
    "outdeg = sum(A, dims = 2)\n",
    "sum(outdeg)"
   ]
  },
  {
   "cell_type": "code",
   "execution_count": 8,
   "metadata": {},
   "outputs": [
    {
     "data": {
      "text/plain": [
       "176974"
      ]
     },
     "execution_count": 8,
     "metadata": {},
     "output_type": "execute_result"
    }
   ],
   "source": [
    "# number of dangling nodes\n",
    "sum(iszero, outdeg)"
   ]
  },
  {
   "cell_type": "code",
   "execution_count": 9,
   "metadata": {},
   "outputs": [
    {
     "data": {
      "text/plain": [
       "                    \u001b[38;5;8m┌                                        ┐\u001b[0m \n",
       "   [   0.0,  200.0) \u001b[38;5;8m┤\u001b[0m\u001b[38;5;2m████████████████████████████████\u001b[0m\u001b[38;5;2m \u001b[0m 915169\u001b[38;5;8m \u001b[0m \u001b[38;5;8m\u001b[0m\n",
       "   [ 200.0,  400.0) \u001b[38;5;8m┤\u001b[0m\u001b[38;5;2m███████████████\u001b[0m\u001b[38;5;2m▋\u001b[0m 812                    \u001b[38;5;8m \u001b[0m \u001b[38;5;8m\u001b[0m\n",
       "   [ 400.0,  600.0) \u001b[38;5;8m┤\u001b[0m\u001b[38;5;2m████████████\u001b[0m\u001b[38;5;2m▍\u001b[0m 203                       \u001b[38;5;8m \u001b[0m \u001b[38;5;8m\u001b[0m\n",
       "   [ 600.0,  800.0) \u001b[38;5;8m┤\u001b[0m\u001b[38;5;2m██████████\u001b[0m\u001b[38;5;2m▎\u001b[0m 80                          \u001b[38;5;8m \u001b[0m \u001b[38;5;8m\u001b[0m\n",
       "   [ 800.0, 1000.0) \u001b[38;5;8m┤\u001b[0m\u001b[38;5;2m███████\u001b[0m\u001b[38;5;2m▉\u001b[0m 30                             \u001b[38;5;8m \u001b[0m \u001b[38;5;8m\u001b[0m\n",
       "   [1000.0, 1200.0) \u001b[38;5;8m┤\u001b[0m\u001b[38;5;2m██████\u001b[0m\u001b[38;5;2m▊\u001b[0m 19                              \u001b[38;5;8m \u001b[0m \u001b[38;5;8m\u001b[0m\n",
       "   [1200.0, 1400.0) \u001b[38;5;8m┤\u001b[0m\u001b[38;5;2m█████\u001b[0m\u001b[38;5;2m▊\u001b[0m 12                               \u001b[38;5;8m \u001b[0m \u001b[38;5;8m\u001b[0m\n",
       "   [1400.0, 1600.0) \u001b[38;5;8m┤\u001b[0m\u001b[38;5;2m████\u001b[0m\u001b[38;5;2m▎\u001b[0m 6                                 \u001b[38;5;8m \u001b[0m \u001b[38;5;8m\u001b[0m\n",
       "   [1600.0, 1800.0) \u001b[38;5;8m┤\u001b[0m\u001b[38;5;2m████\u001b[0m\u001b[38;5;2m▎\u001b[0m 6                                 \u001b[38;5;8m \u001b[0m \u001b[38;5;8m\u001b[0m\n",
       "   [1800.0, 2000.0) \u001b[38;5;8m┤\u001b[0m\u001b[38;5;2m█████\u001b[0m\u001b[38;5;2m▎\u001b[0m 9                                \u001b[38;5;8m \u001b[0m \u001b[38;5;8m\u001b[0m\n",
       "   [2000.0, 2200.0) \u001b[38;5;8m┤\u001b[0m\u001b[38;5;2m████\u001b[0m\u001b[38;5;2m▊\u001b[0m 8                                 \u001b[38;5;8m \u001b[0m \u001b[38;5;8m\u001b[0m\n",
       "   [2200.0, 2400.0) \u001b[38;5;8m┤\u001b[0m\u001b[38;5;2m███\u001b[0m\u001b[38;5;2m▎\u001b[0m 4                                  \u001b[38;5;8m \u001b[0m \u001b[38;5;8m\u001b[0m\n",
       "   [2400.0, 2600.0) \u001b[38;5;8m┤\u001b[0m\u001b[38;5;2m████\u001b[0m\u001b[38;5;2m▌\u001b[0m 7                                 \u001b[38;5;8m \u001b[0m \u001b[38;5;8m\u001b[0m\n",
       "   [2600.0, 2800.0) \u001b[38;5;8m┤\u001b[0m\u001b[38;5;2m█████\u001b[0m\u001b[38;5;2m▋\u001b[0m 11                               \u001b[38;5;8m \u001b[0m \u001b[38;5;8m\u001b[0m\n",
       "   [2800.0, 3000.0) \u001b[38;5;8m┤\u001b[0m\u001b[38;5;2m████\u001b[0m\u001b[38;5;2m▎\u001b[0m 6                                 \u001b[38;5;8m \u001b[0m \u001b[38;5;8m\u001b[0m\n",
       "   [3000.0, 3200.0) \u001b[38;5;8m┤\u001b[0m\u001b[38;5;2m█████\u001b[0m\u001b[38;5;2m▎\u001b[0m 9                                \u001b[38;5;8m \u001b[0m \u001b[38;5;8m\u001b[0m\n",
       "   [3200.0, 3400.0) \u001b[38;5;8m┤\u001b[0m\u001b[38;5;2m████\u001b[0m\u001b[38;5;2m▊\u001b[0m 8                                 \u001b[38;5;8m \u001b[0m \u001b[38;5;8m\u001b[0m\n",
       "   [3400.0, 3600.0) \u001b[38;5;8m┤\u001b[0m\u001b[38;5;2m██\u001b[0m\u001b[38;5;2m▌\u001b[0m 3                                   \u001b[38;5;8m \u001b[0m \u001b[38;5;8m\u001b[0m\n",
       "   [3600.0, 3800.0) \u001b[38;5;8m┤\u001b[0m\u001b[38;5;2m\u001b[0m\u001b[38;5;2m \u001b[0m 1                                     \u001b[38;5;8m \u001b[0m \u001b[38;5;8m\u001b[0m\n",
       "   [3800.0, 4000.0) \u001b[38;5;8m┤\u001b[0m\u001b[38;5;2m████\u001b[0m\u001b[38;5;2m▌\u001b[0m 7                                 \u001b[38;5;8m \u001b[0m \u001b[38;5;8m\u001b[0m\n",
       "   [4000.0, 4200.0) \u001b[38;5;8m┤\u001b[0m\u001b[38;5;2m███\u001b[0m\u001b[38;5;2m▊\u001b[0m 5                                  \u001b[38;5;8m \u001b[0m \u001b[38;5;8m\u001b[0m\n",
       "   [4200.0, 4400.0) \u001b[38;5;8m┤\u001b[0m\u001b[38;5;2m██\u001b[0m\u001b[38;5;2m▌\u001b[0m 3                                   \u001b[38;5;8m \u001b[0m \u001b[38;5;8m\u001b[0m\n",
       "   [4400.0, 4600.0) \u001b[38;5;8m┤\u001b[0m\u001b[38;5;2m█\u001b[0m\u001b[38;5;2m▋\u001b[0m 2                                    \u001b[38;5;8m \u001b[0m \u001b[38;5;8m\u001b[0m\n",
       "   [4600.0, 4800.0) \u001b[38;5;8m┤\u001b[0m\u001b[38;5;2m█\u001b[0m\u001b[38;5;2m▋\u001b[0m 2                                    \u001b[38;5;8m \u001b[0m \u001b[38;5;8m\u001b[0m\n",
       "   [4800.0, 5000.0) \u001b[38;5;8m┤\u001b[0m\u001b[38;5;2m\u001b[0m\u001b[38;5;2m \u001b[0m 1                                     \u001b[38;5;8m \u001b[0m \u001b[38;5;8m\u001b[0m\n",
       "   [5000.0, 5200.0) \u001b[38;5;8m┤\u001b[0m\u001b[38;5;2m█\u001b[0m\u001b[38;5;2m▋\u001b[0m 2                                    \u001b[38;5;8m \u001b[0m \u001b[38;5;8m\u001b[0m\n",
       "   [5200.0, 5400.0) \u001b[38;5;8m┤\u001b[0m\u001b[38;5;2m█\u001b[0m\u001b[38;5;2m▋\u001b[0m 2                                    \u001b[38;5;8m \u001b[0m \u001b[38;5;8m\u001b[0m\n",
       "   [5400.0, 5600.0) \u001b[38;5;8m┤\u001b[0m\u001b[38;5;2m\u001b[0m\u001b[38;5;2m \u001b[0m 0                                     \u001b[38;5;8m \u001b[0m \u001b[38;5;8m\u001b[0m\n",
       "   [5600.0, 5800.0) \u001b[38;5;8m┤\u001b[0m\u001b[38;5;2m\u001b[0m\u001b[38;5;2m \u001b[0m 0                                     \u001b[38;5;8m \u001b[0m \u001b[38;5;8m\u001b[0m\n",
       "   [5800.0, 6000.0) \u001b[38;5;8m┤\u001b[0m\u001b[38;5;2m\u001b[0m\u001b[38;5;2m \u001b[0m 0                                     \u001b[38;5;8m \u001b[0m \u001b[38;5;8m\u001b[0m\n",
       "   [6000.0, 6200.0) \u001b[38;5;8m┤\u001b[0m\u001b[38;5;2m\u001b[0m\u001b[38;5;2m \u001b[0m 0                                     \u001b[38;5;8m \u001b[0m \u001b[38;5;8m\u001b[0m\n",
       "   [6200.0, 6400.0) \u001b[38;5;8m┤\u001b[0m\u001b[38;5;2m\u001b[0m\u001b[38;5;2m \u001b[0m 1                                     \u001b[38;5;8m \u001b[0m \u001b[38;5;8m\u001b[0m\n",
       "                    \u001b[38;5;8m└                                        ┘\u001b[0m \n",
       "                                 Frequency [log10]             "
      ]
     },
     "execution_count": 9,
     "metadata": {},
     "output_type": "execute_result"
    }
   ],
   "source": [
    "using UnicodePlots\n",
    "# histogram of in-degrees\n",
    "indeg = sum(A, dims = 1)\n",
    "# UnicodePlots.histogram(indeg, closed = :right, nbins = 20) # very right skewed\n",
    "UnicodePlots.histogram(indeg, xscale = log10, closed = :left, nbins = 30)"
   ]
  },
  {
   "cell_type": "code",
   "execution_count": 10,
   "metadata": {},
   "outputs": [
    {
     "data": {
      "text/plain": [
       "20-element Vector{Int64}:\n",
       " 537040\n",
       " 597622\n",
       " 504141\n",
       " 751385\n",
       "  32164\n",
       " 885606\n",
       " 163076\n",
       " 819224\n",
       " 605857\n",
       " 828964\n",
       " 551830\n",
       "  41910\n",
       " 558792\n",
       " 459075\n",
       " 407611\n",
       " 213433\n",
       " 765335\n",
       " 384667\n",
       " 173977\n",
       " 687326"
      ]
     },
     "execution_count": 10,
     "metadata": {},
     "output_type": "execute_result"
    }
   ],
   "source": [
    "sortperm(vec(indeg), rev = true)[1:20]"
   ]
  },
  {
   "cell_type": "code",
   "execution_count": 11,
   "metadata": {},
   "outputs": [
    {
     "data": {
      "text/plain": [
       "                  \u001b[38;5;8m┌                                        ┐\u001b[0m \n",
       "   [  0.0,  20.0) \u001b[38;5;8m┤\u001b[0m\u001b[38;5;2m████████████████████████████████\u001b[0m\u001b[38;5;2m \u001b[0m 891798\u001b[38;5;8m \u001b[0m \u001b[38;5;8m\u001b[0m\n",
       "   [ 20.0,  40.0) \u001b[38;5;8m┤\u001b[0m\u001b[38;5;2m███████████████████████\u001b[0m\u001b[38;5;2m▌\u001b[0m 22628          \u001b[38;5;8m \u001b[0m \u001b[38;5;8m\u001b[0m\n",
       "   [ 40.0,  60.0) \u001b[38;5;8m┤\u001b[0m\u001b[38;5;2m████████████████\u001b[0m\u001b[38;5;2m▊\u001b[0m 1329                  \u001b[38;5;8m \u001b[0m \u001b[38;5;8m\u001b[0m\n",
       "   [ 60.0,  80.0) \u001b[38;5;8m┤\u001b[0m\u001b[38;5;2m█████████████\u001b[0m\u001b[38;5;2m▊\u001b[0m 371                      \u001b[38;5;8m \u001b[0m \u001b[38;5;8m\u001b[0m\n",
       "   [ 80.0, 100.0) \u001b[38;5;8m┤\u001b[0m\u001b[38;5;2m███████████\u001b[0m\u001b[38;5;2m▍\u001b[0m 124                        \u001b[38;5;8m \u001b[0m \u001b[38;5;8m\u001b[0m\n",
       "   [100.0, 120.0) \u001b[38;5;8m┤\u001b[0m\u001b[38;5;2m██████████\u001b[0m\u001b[38;5;2m▍\u001b[0m 86                          \u001b[38;5;8m \u001b[0m \u001b[38;5;8m\u001b[0m\n",
       "   [120.0, 140.0) \u001b[38;5;8m┤\u001b[0m\u001b[38;5;2m███████\u001b[0m\u001b[38;5;2m▊\u001b[0m 29                             \u001b[38;5;8m \u001b[0m \u001b[38;5;8m\u001b[0m\n",
       "   [140.0, 160.0) \u001b[38;5;8m┤\u001b[0m\u001b[38;5;2m██████\u001b[0m\u001b[38;5;2m▍\u001b[0m 15                              \u001b[38;5;8m \u001b[0m \u001b[38;5;8m\u001b[0m\n",
       "   [160.0, 180.0) \u001b[38;5;8m┤\u001b[0m\u001b[38;5;2m██████\u001b[0m\u001b[38;5;2m▍\u001b[0m 15                              \u001b[38;5;8m \u001b[0m \u001b[38;5;8m\u001b[0m\n",
       "   [180.0, 200.0) \u001b[38;5;8m┤\u001b[0m\u001b[38;5;2m████\u001b[0m\u001b[38;5;2m▊\u001b[0m 8                                 \u001b[38;5;8m \u001b[0m \u001b[38;5;8m\u001b[0m\n",
       "   [200.0, 220.0) \u001b[38;5;8m┤\u001b[0m\u001b[38;5;2m████\u001b[0m\u001b[38;5;2m▌\u001b[0m 7                                 \u001b[38;5;8m \u001b[0m \u001b[38;5;8m\u001b[0m\n",
       "   [220.0, 240.0) \u001b[38;5;8m┤\u001b[0m\u001b[38;5;2m██\u001b[0m\u001b[38;5;2m▌\u001b[0m 3                                   \u001b[38;5;8m \u001b[0m \u001b[38;5;8m\u001b[0m\n",
       "   [240.0, 260.0) \u001b[38;5;8m┤\u001b[0m\u001b[38;5;2m████\u001b[0m\u001b[38;5;2m▊\u001b[0m 8                                 \u001b[38;5;8m \u001b[0m \u001b[38;5;8m\u001b[0m\n",
       "   [260.0, 280.0) \u001b[38;5;8m┤\u001b[0m\u001b[38;5;2m██\u001b[0m\u001b[38;5;2m▌\u001b[0m 3                                   \u001b[38;5;8m \u001b[0m \u001b[38;5;8m\u001b[0m\n",
       "   [280.0, 300.0) \u001b[38;5;8m┤\u001b[0m\u001b[38;5;2m\u001b[0m\u001b[38;5;2m \u001b[0m 0                                     \u001b[38;5;8m \u001b[0m \u001b[38;5;8m\u001b[0m\n",
       "   [300.0, 320.0) \u001b[38;5;8m┤\u001b[0m\u001b[38;5;2m\u001b[0m\u001b[38;5;2m \u001b[0m 0                                     \u001b[38;5;8m \u001b[0m \u001b[38;5;8m\u001b[0m\n",
       "   [320.0, 340.0) \u001b[38;5;8m┤\u001b[0m\u001b[38;5;2m\u001b[0m\u001b[38;5;2m \u001b[0m 1                                     \u001b[38;5;8m \u001b[0m \u001b[38;5;8m\u001b[0m\n",
       "   [340.0, 360.0) \u001b[38;5;8m┤\u001b[0m\u001b[38;5;2m\u001b[0m\u001b[38;5;2m \u001b[0m 0                                     \u001b[38;5;8m \u001b[0m \u001b[38;5;8m\u001b[0m\n",
       "   [360.0, 380.0) \u001b[38;5;8m┤\u001b[0m\u001b[38;5;2m█\u001b[0m\u001b[38;5;2m▋\u001b[0m 2                                    \u001b[38;5;8m \u001b[0m \u001b[38;5;8m\u001b[0m\n",
       "   [380.0, 400.0) \u001b[38;5;8m┤\u001b[0m\u001b[38;5;2m\u001b[0m\u001b[38;5;2m \u001b[0m 0                                     \u001b[38;5;8m \u001b[0m \u001b[38;5;8m\u001b[0m\n",
       "   [400.0, 420.0) \u001b[38;5;8m┤\u001b[0m\u001b[38;5;2m\u001b[0m\u001b[38;5;2m \u001b[0m 0                                     \u001b[38;5;8m \u001b[0m \u001b[38;5;8m\u001b[0m\n",
       "   [420.0, 440.0) \u001b[38;5;8m┤\u001b[0m\u001b[38;5;2m\u001b[0m\u001b[38;5;2m \u001b[0m 0                                     \u001b[38;5;8m \u001b[0m \u001b[38;5;8m\u001b[0m\n",
       "   [440.0, 460.0) \u001b[38;5;8m┤\u001b[0m\u001b[38;5;2m\u001b[0m\u001b[38;5;2m \u001b[0m 1                                     \u001b[38;5;8m \u001b[0m \u001b[38;5;8m\u001b[0m\n",
       "                  \u001b[38;5;8m└                                        ┘\u001b[0m \n",
       "                               Frequency [log10]             "
      ]
     },
     "execution_count": 11,
     "metadata": {},
     "output_type": "execute_result"
    }
   ],
   "source": [
    "# histogram of out-degrees\n",
    "UnicodePlots.histogram(outdeg, xscale = log10, closed = :left, nbins = 30)"
   ]
  },
  {
   "cell_type": "code",
   "execution_count": 12,
   "metadata": {},
   "outputs": [
    {
     "data": {
      "text/plain": [
       "20-element Vector{Int64}:\n",
       " 506743\n",
       " 203749\n",
       " 305230\n",
       " 768092\n",
       " 808644\n",
       " 412411\n",
       " 600480\n",
       " 376429\n",
       " 156951\n",
       " 885729\n",
       " 667585\n",
       " 685696\n",
       " 282141\n",
       " 598189\n",
       " 579315\n",
       " 411594\n",
       " 321092\n",
       " 838279\n",
       " 302734\n",
       " 915274"
      ]
     },
     "execution_count": 12,
     "metadata": {},
     "output_type": "execute_result"
    }
   ],
   "source": [
    "sortperm(vec(outdeg), rev = true)[1:20]"
   ]
  },
  {
   "cell_type": "code",
   "execution_count": 13,
   "metadata": {},
   "outputs": [
    {
     "data": {
      "text/plain": [
       "         ⠀⠀⠀⠀⠀⠀⠀⠀⠀⠀⠀⠀⠀⠀\u001b[97;1mSparsity Pattern\u001b[0m⠀⠀⠀⠀⠀⠀⠀⠀⠀⠀⠀⠀⠀⠀    \n",
       "         \u001b[38;5;8m┌──────────────────────────────────────────┐\u001b[0m    \n",
       "       \u001b[38;5;8m1\u001b[0m \u001b[38;5;8m│\u001b[0m⠀⠀⠀⠀⠀⠀⠀\u001b[38;5;1m⠂\u001b[0m⠀⠀⠀⠀\u001b[38;5;1m⢀\u001b[0m\u001b[38;5;1m⢂\u001b[0m\u001b[38;5;1m⡂\u001b[0m\u001b[38;5;1m⠐\u001b[0m⠀⠀⠀\u001b[38;5;1m⠠\u001b[0m⠀⠀⠀\u001b[38;5;1m⠔\u001b[0m\u001b[38;5;1m⠄\u001b[0m⠀\u001b[38;5;1m⠈\u001b[0m\u001b[38;5;1m⢀\u001b[0m⠀⠀\u001b[38;5;1m⠉\u001b[0m⠀⠀\u001b[38;5;1m⠁\u001b[0m⠀⠀\u001b[38;5;1m⠐\u001b[0m⠀\u001b[38;5;1m⠄\u001b[0m⠀\u001b[38;5;1m⠐\u001b[0m⠀\u001b[38;5;8m│\u001b[0m \u001b[38;5;1m> 0\u001b[0m\n",
       "        \u001b[38;5;8m\u001b[0m \u001b[38;5;8m│\u001b[0m⠀⠀⠀⠀⠀\u001b[38;5;1m⠂\u001b[0m\u001b[38;5;1m⡂\u001b[0m⠀\u001b[38;5;1m⠄\u001b[0m\u001b[38;5;1m⠄\u001b[0m\u001b[38;5;1m⠈\u001b[0m\u001b[38;5;1m⠈\u001b[0m\u001b[38;5;1m⡔\u001b[0m⠀⠀\u001b[38;5;1m⠁\u001b[0m\u001b[38;5;1m⠂\u001b[0m⠀⠀⠀⠀\u001b[38;5;1m⠠\u001b[0m\u001b[38;5;1m⠁\u001b[0m\u001b[38;5;1m⠒\u001b[0m\u001b[38;5;1m⠁\u001b[0m⠀\u001b[38;5;1m⠄\u001b[0m⠀\u001b[38;5;1m⠐\u001b[0m⠀\u001b[38;5;1m⠈\u001b[0m⠀⠀\u001b[38;5;1m⡐\u001b[0m⠀⠀\u001b[38;5;1m⠠\u001b[0m⠀\u001b[38;5;1m⡀\u001b[0m⠀\u001b[38;5;1m⠉\u001b[0m⠀\u001b[38;5;8m│\u001b[0m \u001b[38;5;4m< 0\u001b[0m\n",
       "        \u001b[38;5;8m\u001b[0m \u001b[38;5;8m│\u001b[0m⠀\u001b[38;5;1m⠐\u001b[0m\u001b[38;5;1m⠠\u001b[0m⠀⠀\u001b[38;5;1m⠁\u001b[0m\u001b[38;5;1m⢐\u001b[0m\u001b[38;5;1m⠄\u001b[0m⠀\u001b[38;5;1m⠢\u001b[0m\u001b[38;5;1m⠠\u001b[0m⠀⠀\u001b[38;5;1m⡀\u001b[0m\u001b[38;5;1m⠈\u001b[0m⠀\u001b[38;5;1m⠋\u001b[0m⠀⠀⠀⠀⠀\u001b[38;5;1m⠂\u001b[0m\u001b[38;5;1m⡀\u001b[0m⠀\u001b[38;5;1m⠈\u001b[0m\u001b[38;5;1m⠄\u001b[0m⠀\u001b[38;5;1m⠄\u001b[0m\u001b[38;5;1m⠁\u001b[0m\u001b[38;5;1m⠈\u001b[0m⠀\u001b[38;5;1m⠠\u001b[0m⠀\u001b[38;5;1m⠰\u001b[0m⠀⠀⠀⠀\u001b[38;5;1m⢀\u001b[0m\u001b[38;5;1m⠆\u001b[0m⠀\u001b[38;5;8m│\u001b[0m \u001b[38;5;8m\u001b[0m   \n",
       "        \u001b[38;5;8m\u001b[0m \u001b[38;5;8m│\u001b[0m⠀\u001b[38;5;1m⠈\u001b[0m\u001b[38;5;1m⠠\u001b[0m\u001b[38;5;1m⠂\u001b[0m⠀\u001b[38;5;1m⠈\u001b[0m⠀\u001b[38;5;1m⡠\u001b[0m\u001b[38;5;1m⠐\u001b[0m⠀⠀⠀⠀⠀⠀⠀⠀⠀⠀\u001b[38;5;1m⡀\u001b[0m\u001b[38;5;1m⠈\u001b[0m\u001b[38;5;1m⠄\u001b[0m\u001b[38;5;1m⠁\u001b[0m\u001b[38;5;1m⢀\u001b[0m\u001b[38;5;1m⡀\u001b[0m\u001b[38;5;1m⠐\u001b[0m\u001b[38;5;1m⠄\u001b[0m\u001b[38;5;1m⠄\u001b[0m⠀⠀\u001b[38;5;1m⢀\u001b[0m⠀\u001b[38;5;1m⠈\u001b[0m\u001b[38;5;1m⠂\u001b[0m\u001b[38;5;1m⢠\u001b[0m⠀\u001b[38;5;1m⠢\u001b[0m\u001b[38;5;1m⠐\u001b[0m⠀⠀⠀\u001b[38;5;1m⡀\u001b[0m\u001b[38;5;8m│\u001b[0m \u001b[38;5;8m\u001b[0m   \n",
       "        \u001b[38;5;8m\u001b[0m \u001b[38;5;8m│\u001b[0m⠀⠀\u001b[38;5;1m⠐\u001b[0m\u001b[38;5;1m⡁\u001b[0m⠀\u001b[38;5;1m⡀\u001b[0m⠀⠀\u001b[38;5;1m⠠\u001b[0m⠀\u001b[38;5;1m⠁\u001b[0m⠀⠀⠀\u001b[38;5;1m⡄\u001b[0m⠀\u001b[38;5;1m⠈\u001b[0m\u001b[38;5;1m⠁\u001b[0m⠀⠀⠀⠀\u001b[38;5;1m⠠\u001b[0m\u001b[38;5;1m⠂\u001b[0m⠀⠀⠀⠀⠀\u001b[38;5;1m⠂\u001b[0m\u001b[38;5;1m⠪\u001b[0m⠀⠀\u001b[38;5;1m⠂\u001b[0m⠀⠀⠀\u001b[38;5;1m⠄\u001b[0m\u001b[38;5;1m⢀\u001b[0m⠀\u001b[38;5;1m⠁\u001b[0m⠀\u001b[38;5;8m│\u001b[0m \u001b[38;5;8m\u001b[0m   \n",
       "        \u001b[38;5;8m\u001b[0m \u001b[38;5;8m│\u001b[0m\u001b[38;5;1m⠂\u001b[0m\u001b[38;5;1m⢀\u001b[0m⠀\u001b[38;5;1m⠁\u001b[0m⠀⠀\u001b[38;5;1m⡀\u001b[0m\u001b[38;5;1m⡉\u001b[0m⠀⠀\u001b[38;5;1m⠠\u001b[0m\u001b[38;5;1m⠂\u001b[0m\u001b[38;5;1m⠐\u001b[0m\u001b[38;5;1m⢀\u001b[0m\u001b[38;5;1m⠄\u001b[0m\u001b[38;5;1m⠁\u001b[0m\u001b[38;5;1m⠐\u001b[0m⠀\u001b[38;5;1m⠈\u001b[0m⠀⠀⠀⠀⠀\u001b[38;5;1m⡀\u001b[0m\u001b[38;5;1m⠐\u001b[0m\u001b[38;5;1m⠁\u001b[0m\u001b[38;5;1m⡠\u001b[0m⠀\u001b[38;5;1m⠂\u001b[0m\u001b[38;5;1m⠚\u001b[0m⠀\u001b[38;5;1m⠁\u001b[0m⠀\u001b[38;5;1m⠐\u001b[0m\u001b[38;5;1m⢀\u001b[0m\u001b[38;5;1m⠆\u001b[0m⠀\u001b[38;5;1m⠈\u001b[0m\u001b[38;5;1m⠄\u001b[0m\u001b[38;5;1m⢀\u001b[0m\u001b[38;5;1m⠂\u001b[0m\u001b[38;5;8m│\u001b[0m \u001b[38;5;8m\u001b[0m   \n",
       "        \u001b[38;5;8m\u001b[0m \u001b[38;5;8m│\u001b[0m⠀⠀⠀\u001b[38;5;1m⠁\u001b[0m⠀\u001b[38;5;1m⡄\u001b[0m⠀⠀⠀⠀\u001b[38;5;1m⠒\u001b[0m⠀\u001b[38;5;1m⢄\u001b[0m\u001b[38;5;1m⠄\u001b[0m\u001b[38;5;1m⢂\u001b[0m⠀\u001b[38;5;1m⠂\u001b[0m⠀⠀\u001b[38;5;1m⠄\u001b[0m⠀\u001b[38;5;1m⢀\u001b[0m⠀\u001b[38;5;1m⠣\u001b[0m⠀\u001b[38;5;1m⢀\u001b[0m⠀⠀⠀⠀\u001b[38;5;1m⠠\u001b[0m\u001b[38;5;1m⡀\u001b[0m⠀⠀\u001b[38;5;1m⢠\u001b[0m\u001b[38;5;1m⠄\u001b[0m⠀\u001b[38;5;1m⡀\u001b[0m⠀\u001b[38;5;1m⠂\u001b[0m\u001b[38;5;1m⠂\u001b[0m⠀\u001b[38;5;8m│\u001b[0m \u001b[38;5;8m\u001b[0m   \n",
       "        \u001b[38;5;8m\u001b[0m \u001b[38;5;8m│\u001b[0m\u001b[38;5;1m⢀\u001b[0m\u001b[38;5;1m⠈\u001b[0m⠀⠀\u001b[38;5;1m⠂\u001b[0m⠀⠀\u001b[38;5;1m⠁\u001b[0m\u001b[38;5;1m⢠\u001b[0m\u001b[38;5;1m⠈\u001b[0m\u001b[38;5;1m⠄\u001b[0m\u001b[38;5;1m⠁\u001b[0m⠀⠀\u001b[38;5;1m⡈\u001b[0m\u001b[38;5;1m⠈\u001b[0m\u001b[38;5;1m⠠\u001b[0m⠀\u001b[38;5;1m⢀\u001b[0m\u001b[38;5;1m⡦\u001b[0m⠀⠀\u001b[38;5;1m⠅\u001b[0m\u001b[38;5;1m⠐\u001b[0m⠀\u001b[38;5;1m⠨\u001b[0m\u001b[38;5;1m⠁\u001b[0m\u001b[38;5;1m⠨\u001b[0m⠀\u001b[38;5;1m⠄\u001b[0m\u001b[38;5;1m⠠\u001b[0m\u001b[38;5;1m⢀\u001b[0m⠀\u001b[38;5;1m⠐\u001b[0m\u001b[38;5;1m⢐\u001b[0m⠀⠀\u001b[38;5;1m⠉\u001b[0m⠀⠀\u001b[38;5;1m⠠\u001b[0m\u001b[38;5;1m⠉\u001b[0m\u001b[38;5;8m│\u001b[0m \u001b[38;5;8m\u001b[0m   \n",
       "        \u001b[38;5;8m\u001b[0m \u001b[38;5;8m│\u001b[0m⠀⠀\u001b[38;5;1m⠨\u001b[0m⠀\u001b[38;5;1m⠋\u001b[0m⠀\u001b[38;5;1m⠄\u001b[0m⠀\u001b[38;5;1m⠂\u001b[0m⠀\u001b[38;5;1m⠈\u001b[0m⠀⠀⠀\u001b[38;5;1m⠈\u001b[0m⠀⠀⠀⠀\u001b[38;5;1m⡑\u001b[0m⠀\u001b[38;5;1m⢀\u001b[0m\u001b[38;5;1m⠈\u001b[0m\u001b[38;5;1m⠈\u001b[0m⠀⠀⠀\u001b[38;5;1m⠈\u001b[0m⠀\u001b[38;5;1m⠂\u001b[0m\u001b[38;5;1m⠐\u001b[0m\u001b[38;5;1m⠼\u001b[0m⠀\u001b[38;5;1m⠠\u001b[0m⠀⠀\u001b[38;5;1m⡈\u001b[0m\u001b[38;5;1m⠁\u001b[0m⠀⠀\u001b[38;5;1m⠡\u001b[0m\u001b[38;5;1m⠄\u001b[0m\u001b[38;5;8m│\u001b[0m \u001b[38;5;8m\u001b[0m   \n",
       "        \u001b[38;5;8m\u001b[0m \u001b[38;5;8m│\u001b[0m\u001b[38;5;1m⠠\u001b[0m\u001b[38;5;1m⡁\u001b[0m⠀⠀⠀⠀⠀⠀⠀⠀\u001b[38;5;1m⠂\u001b[0m\u001b[38;5;1m⢀\u001b[0m⠀⠀⠀\u001b[38;5;1m⡄\u001b[0m⠀⠀⠀\u001b[38;5;1m⠤\u001b[0m⠀⠀\u001b[38;5;1m⠁\u001b[0m⠀\u001b[38;5;1m⡂\u001b[0m⠀⠀⠀\u001b[38;5;1m⠄\u001b[0m⠀\u001b[38;5;1m⢈\u001b[0m⠀\u001b[38;5;1m⢔\u001b[0m\u001b[38;5;1m⡊\u001b[0m\u001b[38;5;1m⣨\u001b[0m\u001b[38;5;1m⠈\u001b[0m\u001b[38;5;1m⠂\u001b[0m⠀\u001b[38;5;1m⠄\u001b[0m\u001b[38;5;1m⢀\u001b[0m⠀⠀\u001b[38;5;8m│\u001b[0m \u001b[38;5;8m\u001b[0m   \n",
       "        \u001b[38;5;8m\u001b[0m \u001b[38;5;8m│\u001b[0m⠀\u001b[38;5;1m⠂\u001b[0m⠀\u001b[38;5;1m⠈\u001b[0m⠀⠀⠀⠀⠀⠀\u001b[38;5;1m⠈\u001b[0m⠀\u001b[38;5;1m⡀\u001b[0m⠀\u001b[38;5;1m⠂\u001b[0m\u001b[38;5;1m⠠\u001b[0m\u001b[38;5;1m⠐\u001b[0m⠀\u001b[38;5;1m⠄\u001b[0m⠀⠀⠀⠀⠀⠀\u001b[38;5;1m⠤\u001b[0m⠀⠀⠀\u001b[38;5;1m⠠\u001b[0m\u001b[38;5;1m⠘\u001b[0m\u001b[38;5;1m⠐\u001b[0m⠀\u001b[38;5;1m⠄\u001b[0m\u001b[38;5;1m⢘\u001b[0m⠀⠀\u001b[38;5;1m⢐\u001b[0m\u001b[38;5;1m⠄\u001b[0m⠀\u001b[38;5;1m⠁\u001b[0m⠀\u001b[38;5;8m│\u001b[0m \u001b[38;5;8m\u001b[0m   \n",
       "        \u001b[38;5;8m\u001b[0m \u001b[38;5;8m│\u001b[0m\u001b[38;5;1m⢀\u001b[0m\u001b[38;5;1m⠄\u001b[0m\u001b[38;5;1m⢠\u001b[0m\u001b[38;5;1m⠄\u001b[0m\u001b[38;5;1m⡊\u001b[0m\u001b[38;5;1m⠂\u001b[0m\u001b[38;5;1m⠢\u001b[0m\u001b[38;5;1m⢀\u001b[0m⠀⠀⠀⠀\u001b[38;5;1m⠄\u001b[0m\u001b[38;5;1m⡀\u001b[0m\u001b[38;5;1m⡑\u001b[0m⠀\u001b[38;5;1m⡐\u001b[0m⠀\u001b[38;5;1m⠁\u001b[0m\u001b[38;5;1m⡂\u001b[0m⠀⠀⠀\u001b[38;5;1m⠰\u001b[0m\u001b[38;5;1m⠂\u001b[0m\u001b[38;5;1m⢠\u001b[0m\u001b[38;5;1m⠄\u001b[0m\u001b[38;5;1m⠈\u001b[0m⠀\u001b[38;5;1m⠈\u001b[0m\u001b[38;5;1m⠐\u001b[0m⠀⠀⠀\u001b[38;5;1m⠉\u001b[0m⠀⠀\u001b[38;5;1m⡀\u001b[0m⠀⠀\u001b[38;5;1m⠃\u001b[0m⠀\u001b[38;5;8m│\u001b[0m \u001b[38;5;8m\u001b[0m   \n",
       "        \u001b[38;5;8m\u001b[0m \u001b[38;5;8m│\u001b[0m⠀⠀\u001b[38;5;1m⠅\u001b[0m⠀\u001b[38;5;1m⡁\u001b[0m⠀⠀⠀⠀⠀\u001b[38;5;1m⢁\u001b[0m\u001b[38;5;1m⢀\u001b[0m⠀\u001b[38;5;1m⡀\u001b[0m\u001b[38;5;1m⡀\u001b[0m\u001b[38;5;1m⡐\u001b[0m⠀⠀\u001b[38;5;1m⠈\u001b[0m\u001b[38;5;1m⠈\u001b[0m\u001b[38;5;1m⠔\u001b[0m\u001b[38;5;1m⠄\u001b[0m⠀⠀\u001b[38;5;1m⢀\u001b[0m⠀⠀⠀⠀⠀⠀⠀⠀\u001b[38;5;1m⠄\u001b[0m\u001b[38;5;1m⢉\u001b[0m\u001b[38;5;1m⠠\u001b[0m\u001b[38;5;1m⠁\u001b[0m⠀\u001b[38;5;1m⠁\u001b[0m⠀⠀⠀\u001b[38;5;8m│\u001b[0m \u001b[38;5;8m\u001b[0m   \n",
       "        \u001b[38;5;8m\u001b[0m \u001b[38;5;8m│\u001b[0m\u001b[38;5;1m⠊\u001b[0m\u001b[38;5;1m⢈\u001b[0m⠀\u001b[38;5;1m⠁\u001b[0m⠀⠀⠀\u001b[38;5;1m⠅\u001b[0m⠀\u001b[38;5;1m⠂\u001b[0m⠀\u001b[38;5;1m⡀\u001b[0m⠀⠀⠀⠀\u001b[38;5;1m⡀\u001b[0m⠀⠀\u001b[38;5;1m⠐\u001b[0m\u001b[38;5;1m⠄\u001b[0m\u001b[38;5;1m⠁\u001b[0m\u001b[38;5;1m⠠\u001b[0m⠀\u001b[38;5;1m⠐\u001b[0m\u001b[38;5;1m⠈\u001b[0m⠀⠀⠀\u001b[38;5;1m⡀\u001b[0m\u001b[38;5;1m⢠\u001b[0m⠀⠀⠀\u001b[38;5;1m⢰\u001b[0m⠀⠀⠀\u001b[38;5;1m⢀\u001b[0m⠀\u001b[38;5;1m⠠\u001b[0m\u001b[38;5;1m⠂\u001b[0m\u001b[38;5;8m│\u001b[0m \u001b[38;5;8m\u001b[0m   \n",
       "        \u001b[38;5;8m\u001b[0m \u001b[38;5;8m│\u001b[0m\u001b[38;5;1m⠈\u001b[0m⠀⠀\u001b[38;5;1m⠈\u001b[0m\u001b[38;5;1m⠄\u001b[0m⠀⠀\u001b[38;5;1m⠄\u001b[0m\u001b[38;5;1m⠐\u001b[0m⠀\u001b[38;5;1m⠠\u001b[0m\u001b[38;5;1m⠁\u001b[0m\u001b[38;5;1m⠁\u001b[0m⠀\u001b[38;5;1m⡂\u001b[0m⠀\u001b[38;5;1m⠠\u001b[0m\u001b[38;5;1m⠄\u001b[0m\u001b[38;5;1m⠌\u001b[0m\u001b[38;5;1m⠅\u001b[0m\u001b[38;5;1m⣀\u001b[0m⠀⠀\u001b[38;5;1m⢀\u001b[0m⠀\u001b[38;5;1m⠠\u001b[0m⠀\u001b[38;5;1m⠠\u001b[0m\u001b[38;5;1m⠠\u001b[0m⠀\u001b[38;5;1m⠲\u001b[0m\u001b[38;5;1m⢂\u001b[0m⠀\u001b[38;5;1m⠰\u001b[0m\u001b[38;5;1m⡄\u001b[0m⠀\u001b[38;5;1m⢀\u001b[0m\u001b[38;5;1m⠬\u001b[0m\u001b[38;5;1m⠈\u001b[0m⠀⠀⠀\u001b[38;5;8m│\u001b[0m \u001b[38;5;8m\u001b[0m   \n",
       "        \u001b[38;5;8m\u001b[0m \u001b[38;5;8m│\u001b[0m\u001b[38;5;1m⠈\u001b[0m⠀⠀\u001b[38;5;1m⠄\u001b[0m⠀⠀\u001b[38;5;1m⡀\u001b[0m\u001b[38;5;1m⠈\u001b[0m⠀⠀\u001b[38;5;1m⠙\u001b[0m⠀⠀⠀\u001b[38;5;1m⢀\u001b[0m\u001b[38;5;1m⢀\u001b[0m\u001b[38;5;1m⠂\u001b[0m⠀⠀\u001b[38;5;1m⡄\u001b[0m\u001b[38;5;1m⢀\u001b[0m⠀\u001b[38;5;1m⠠\u001b[0m⠀\u001b[38;5;1m⠂\u001b[0m⠀⠀\u001b[38;5;1m⠐\u001b[0m⠀⠀\u001b[38;5;1m⠸\u001b[0m⠀⠀⠀\u001b[38;5;1m⠈\u001b[0m\u001b[38;5;1m⠠\u001b[0m⠀\u001b[38;5;1m⠠\u001b[0m\u001b[38;5;1m⠁\u001b[0m⠀\u001b[38;5;1m⠂\u001b[0m⠀\u001b[38;5;8m│\u001b[0m \u001b[38;5;8m\u001b[0m   \n",
       "        \u001b[38;5;8m\u001b[0m \u001b[38;5;8m│\u001b[0m\u001b[38;5;1m⠄\u001b[0m⠀⠀⠀\u001b[38;5;1m⠄\u001b[0m\u001b[38;5;1m⠂\u001b[0m\u001b[38;5;1m⠂\u001b[0m⠀⠀⠀\u001b[38;5;1m⠡\u001b[0m\u001b[38;5;1m⠁\u001b[0m⠀\u001b[38;5;1m⢉\u001b[0m\u001b[38;5;1m⠄\u001b[0m⠀⠀⠀\u001b[38;5;1m⡐\u001b[0m\u001b[38;5;1m⠑\u001b[0m\u001b[38;5;1m⠂\u001b[0m\u001b[38;5;1m⠄\u001b[0m\u001b[38;5;1m⠂\u001b[0m⠀⠀⠀\u001b[38;5;1m⢀\u001b[0m⠀\u001b[38;5;1m⢀\u001b[0m⠀⠀⠀⠀\u001b[38;5;1m⠉\u001b[0m\u001b[38;5;1m⠠\u001b[0m\u001b[38;5;1m⠈\u001b[0m⠀\u001b[38;5;1m⠁\u001b[0m⠀⠀\u001b[38;5;1m⡀\u001b[0m\u001b[38;5;1m⠄\u001b[0m\u001b[38;5;8m│\u001b[0m \u001b[38;5;8m\u001b[0m   \n",
       "        \u001b[38;5;8m\u001b[0m \u001b[38;5;8m│\u001b[0m⠀⠀⠀⠀⠀⠀⠀⠀⠀⠀⠀\u001b[38;5;1m⠠\u001b[0m\u001b[38;5;1m⠂\u001b[0m⠀⠀\u001b[38;5;1m⠄\u001b[0m⠀⠀⠀⠀\u001b[38;5;1m⠐\u001b[0m\u001b[38;5;1m⡀\u001b[0m⠀⠀\u001b[38;5;1m⠁\u001b[0m⠀\u001b[38;5;1m⠐\u001b[0m⠀⠀⠀\u001b[38;5;1m⢰\u001b[0m\u001b[38;5;1m⡄\u001b[0m\u001b[38;5;1m⠁\u001b[0m⠀⠀\u001b[38;5;1m⠉\u001b[0m\u001b[38;5;1m⠠\u001b[0m⠀\u001b[38;5;1m⠠\u001b[0m⠀\u001b[38;5;1m⡀\u001b[0m⠀\u001b[38;5;8m│\u001b[0m \u001b[38;5;8m\u001b[0m   \n",
       "        \u001b[38;5;8m\u001b[0m \u001b[38;5;8m│\u001b[0m\u001b[38;5;1m⡁\u001b[0m\u001b[38;5;1m⠄\u001b[0m\u001b[38;5;1m⢀\u001b[0m\u001b[38;5;1m⠂\u001b[0m⠀\u001b[38;5;1m⠁\u001b[0m\u001b[38;5;1m⡈\u001b[0m\u001b[38;5;1m⠆\u001b[0m⠀\u001b[38;5;1m⠄\u001b[0m\u001b[38;5;1m⠁\u001b[0m\u001b[38;5;1m⠁\u001b[0m⠀\u001b[38;5;1m⠂\u001b[0m\u001b[38;5;1m⠁\u001b[0m⠀\u001b[38;5;1m⠂\u001b[0m\u001b[38;5;1m⢀\u001b[0m⠀⠀⠀⠀⠀⠀\u001b[38;5;1m⠁\u001b[0m⠀⠀\u001b[38;5;1m⡀\u001b[0m⠀\u001b[38;5;1m⠐\u001b[0m⠀⠀⠀⠀⠀⠀⠀\u001b[38;5;1m⢀\u001b[0m\u001b[38;5;1m⠄\u001b[0m\u001b[38;5;1m⠤\u001b[0m\u001b[38;5;1m⠁\u001b[0m\u001b[38;5;1m⠠\u001b[0m\u001b[38;5;8m│\u001b[0m \u001b[38;5;8m\u001b[0m   \n",
       "        \u001b[38;5;8m\u001b[0m \u001b[38;5;8m│\u001b[0m⠀\u001b[38;5;1m⠅\u001b[0m\u001b[38;5;1m⠄\u001b[0m\u001b[38;5;1m⠈\u001b[0m⠀\u001b[38;5;1m⢀\u001b[0m\u001b[38;5;1m⠂\u001b[0m\u001b[38;5;1m⠁\u001b[0m\u001b[38;5;1m⠐\u001b[0m⠀\u001b[38;5;1m⡠\u001b[0m\u001b[38;5;1m⠄\u001b[0m⠀\u001b[38;5;1m⠄\u001b[0m\u001b[38;5;1m⠐\u001b[0m⠀⠀⠀⠀\u001b[38;5;1m⡀\u001b[0m⠀\u001b[38;5;1m⠁\u001b[0m\u001b[38;5;1m⡢\u001b[0m⠀\u001b[38;5;1m⠙\u001b[0m⠀\u001b[38;5;1m⠇\u001b[0m⠀\u001b[38;5;1m⢂\u001b[0m⠀\u001b[38;5;1m⣠\u001b[0m⠀\u001b[38;5;1m⠂\u001b[0m⠀⠀\u001b[38;5;1m⠂\u001b[0m⠀\u001b[38;5;1m⠥\u001b[0m\u001b[38;5;1m⠄\u001b[0m\u001b[38;5;1m⢁\u001b[0m\u001b[38;5;1m⡀\u001b[0m\u001b[38;5;1m⡀\u001b[0m\u001b[38;5;8m│\u001b[0m \u001b[38;5;8m\u001b[0m   \n",
       "   \u001b[38;5;8m10000\u001b[0m \u001b[38;5;8m│\u001b[0m\u001b[38;5;1m⠘\u001b[0m⠀⠀⠀\u001b[38;5;1m⠈\u001b[0m\u001b[38;5;1m⠃\u001b[0m\u001b[38;5;1m⡁\u001b[0m\u001b[38;5;1m⠨\u001b[0m\u001b[38;5;1m⠁\u001b[0m\u001b[38;5;1m⠐\u001b[0m⠀⠀\u001b[38;5;1m⠈\u001b[0m\u001b[38;5;1m⠁\u001b[0m\u001b[38;5;1m⠄\u001b[0m⠀\u001b[38;5;1m⠁\u001b[0m⠀⠀\u001b[38;5;1m⠂\u001b[0m\u001b[38;5;1m⠁\u001b[0m\u001b[38;5;1m⢈\u001b[0m\u001b[38;5;1m⠁\u001b[0m⠀⠀\u001b[38;5;1m⡁\u001b[0m⠀⠀⠀\u001b[38;5;1m⢀\u001b[0m\u001b[38;5;1m⢰\u001b[0m⠀⠀\u001b[38;5;1m⠈\u001b[0m⠀\u001b[38;5;1m⠈\u001b[0m⠀⠀⠀⠀\u001b[38;5;1m⡂\u001b[0m⠀\u001b[38;5;8m│\u001b[0m \u001b[38;5;8m\u001b[0m   \n",
       "         \u001b[38;5;8m└──────────────────────────────────────────┘\u001b[0m    \n",
       "         ⠀\u001b[38;5;8m1\u001b[0m⠀⠀⠀⠀⠀⠀⠀⠀⠀⠀⠀⠀⠀⠀⠀⠀⠀⠀⠀\u001b[38;5;8m\u001b[0m⠀⠀⠀⠀⠀⠀⠀⠀⠀⠀⠀⠀⠀⠀⠀⠀⠀\u001b[38;5;8m10000\u001b[0m⠀    \n",
       "         ⠀⠀⠀⠀⠀⠀⠀⠀⠀⠀⠀⠀⠀⠀⠀⠀600 nonzeros⠀⠀⠀⠀⠀⠀⠀⠀⠀⠀⠀⠀⠀⠀⠀⠀    "
      ]
     },
     "execution_count": 13,
     "metadata": {},
     "output_type": "execute_result"
    }
   ],
   "source": [
    "using UnicodePlots\n",
    "spy(A[1:10000, 1:10000])"
   ]
  },
  {
   "cell_type": "markdown",
   "metadata": {},
   "source": [
    "## Q4 (5 pts) Dense linear algebra? \n",
    "\n",
    "Consider the following methods to obtain the page ranks of the `SNAP/web-Google` data. \n",
    "\n",
    "1. A dense linear system solver such as LU decomposition.  \n",
    "2. A dense eigen-solver for asymmetric matrix.  \n",
    "\n",
    "For the LU approach, estimate (1) the memory usage and (2) how long it will take assuming that the LAPACK functions can achieve the theoretical throughput of your computer. "
   ]
  },
  {
   "cell_type": "markdown",
   "metadata": {},
   "source": [
    "**Solution**"
   ]
  },
  {
   "cell_type": "code",
   "execution_count": 14,
   "metadata": {},
   "outputs": [
    {
     "data": {
      "text/plain": [
       "5.131037779285815e17"
      ]
     },
     "execution_count": 14,
     "metadata": {},
     "output_type": "execute_result"
    }
   ],
   "source": [
    "# # of flops if solving with LU decomposition \n",
    "flops = 2 / 3 * n^3 + 2 * n^2"
   ]
  },
  {
   "cell_type": "code",
   "execution_count": 15,
   "metadata": {},
   "outputs": [
    {
     "data": {
      "text/plain": [
       "59.38701133432656"
      ]
     },
     "execution_count": 15,
     "metadata": {},
     "output_type": "execute_result"
    }
   ],
   "source": [
    "# time (in days) assuming my computer can do 10^11 flops per second\n",
    "flops / 10^11 / 60 / 60 / 24"
   ]
  },
  {
   "cell_type": "markdown",
   "metadata": {},
   "source": [
    "## Q5 (75 pts) Iterative solvers\n",
    "\n",
    "Set the _teleportation_ parameter at $p = 0.85$. Consider the following methods for solving the PageRank problem. \n",
    "\n",
    "1. An iterative linear system solver such as GMRES. \n",
    "2. An iterative eigen-solver such as Arnoldi method.\n",
    "\n",
    "For iterative methods, we have many choices in Julia. See a list of existing Julia packages for linear solvers at this [page](https://jutho.github.io/KrylovKit.jl/stable/#Package-features-and-alternatives-1). The start-up code below uses the [KrylovKit.jl](https://github.com/Jutho/KrylovKit.jl) package. You can use other packages if you prefer. Make sure to utilize the special structure of $\\mathbf{P}$ (sparse + rank 1) to speed up the matrix-vector multiplication. "
   ]
  },
  {
   "cell_type": "markdown",
   "metadata": {},
   "source": [
    "### Step 1 (15 pts)\n",
    "\n",
    "Let's implement a type `PageRankImPt` that mimics the matrix $\\mathbf{M} = \\mathbf{I} - \\mathbf{P}^T$. For iterative methods, all we need to provide are methods for evaluating $\\mathbf{M} \\mathbf{v}$ and $\\mathbf{M}^T \\mathbf{v}$ for arbitrary vector $\\mathbf{v}$."
   ]
  },
  {
   "cell_type": "code",
   "execution_count": 16,
   "metadata": {},
   "outputs": [],
   "source": [
    "using BenchmarkTools, LinearAlgebra, SparseArrays, Revise\n",
    "\n",
    "# a type for the matrix M = I - P^T in PageRank problem\n",
    "struct PageRankImPt{TA <: Number, IA <: Integer, T <: AbstractFloat} <: AbstractMatrix{T}\n",
    "    A         :: SparseMatrixCSC{TA, IA} # adjacency matrix\n",
    "    telep     :: T\n",
    "    # working arrays\n",
    "    # TODO: whatever intermediate arrays you may want to pre-allocate\n",
    "    n         :: IA\n",
    "    r         :: Matrix{IA}\n",
    "    d         :: Vector{T}\n",
    "    a         :: Vector{T}\n",
    "    storage_n :: Vector{T}\n",
    "end\n",
    "\n",
    "# constructor\n",
    "function PageRankImPt(A::SparseMatrixCSC, telep::T) where T <: AbstractFloat\n",
    "    n = size(A, 1)\n",
    "    # TODO: initialize and pre-allocate arrays\n",
    "    r = sum(A, dims = 2)\n",
    "    d = Vector{T}(undef, n)\n",
    "    a = Vector{T}(undef, n)\n",
    "    for i in 1:n\n",
    "        if r[i, 1] > 0 \n",
    "            d[i] = telep / r[i, 1]\n",
    "            a[i] = (1 - telep) / n\n",
    "        else \n",
    "            d[i] = 0\n",
    "            a[i] = 1 / n\n",
    "        end\n",
    "    end\n",
    "    \n",
    "    storage_n = similar(d)\n",
    "         \n",
    "    PageRankImPt(A, telep, n, r, d, a, storage_n)\n",
    "end\n",
    "\n",
    "LinearAlgebra.issymmetric(::PageRankImPt) = false\n",
    "Base.size(M::PageRankImPt) = size(M.A)\n",
    "# TODO: implement this function for evaluating M[i, j]\n",
    "Base.getindex(M::PageRankImPt, i, j) = 1 - M.d[j] * M.A[j, i] - M.a[j]"
   ]
  },
  {
   "cell_type": "markdown",
   "metadata": {},
   "source": [
    "To simplify the two multiplications, we observe that\n",
    "$$\n",
    "(I - P') v = v - A' \\text{diag}(d) v - 1a'v\n",
    "$$\n",
    "and \n",
    "$$\n",
    "(I - P) v = v - \\text{diag}(d) A v - a1'v\n",
    "$$"
   ]
  },
  {
   "cell_type": "code",
   "execution_count": 17,
   "metadata": {},
   "outputs": [],
   "source": [
    "# overwrite `out` by `(I - Pt) * v`\n",
    "function LinearAlgebra.mul!(\n",
    "        out :: Vector{T}, \n",
    "        M   :: PageRankImPt{<:Number, <:Integer, T}, \n",
    "        v   :: Vector{T}\n",
    "        ) where T <: AbstractFloat\n",
    "    # TODO: implement mul!(out, M, v)\n",
    "    \n",
    "    # M.storage_n = diag(d) * v\n",
    "    M.storage_n .= M.d .* v\n",
    "    # out = A' * M.storage_n\n",
    "    mul!(out, transpose(M.A), M.storage_n)\n",
    "\n",
    "    out .= v .- out .- dot(v, M.a)\n",
    "    \n",
    "    return out\n",
    "end\n",
    "\n",
    "# overwrite `out` by `(I - P) * v`\n",
    "function LinearAlgebra.mul!(\n",
    "        out :: Vector{T}, \n",
    "        Mt  :: Transpose{T, PageRankImPt{TA, IA, T}}, \n",
    "        v   :: Vector{T}\n",
    "        ) where {TA<:Number, IA<:Integer, T <: AbstractFloat}\n",
    "    M = Mt.parent\n",
    "    # TODO: implement mul!(out, transpose(M), v)\n",
    "    \n",
    "    # out = A * v\n",
    "    mul!(out, M.A, v)\n",
    "    # out = diag(d) * out\n",
    "    out .= M.d .* out\n",
    "    \n",
    "    out .= v .- out .- M.a .* sum(v)\n",
    "    \n",
    "    return out\n",
    "end"
   ]
  },
  {
   "cell_type": "markdown",
   "metadata": {},
   "source": [
    "To check correctness. Note \n",
    "$$\n",
    "\\mathbf{M}^T \\mathbf{1} = \\mathbf{0}\n",
    "$$\n",
    "and\n",
    "$$\n",
    "\\mathbf{M} \\mathbf{x} = \\mathbf{0}\n",
    "$$\n",
    "for stationary distribution $\\mathbf{x}$.\n",
    "\n",
    "Download the solution file `pgrksol.csv.gz`. **Do not put this file in your Git**. You will lose points if you do. You can add a line `pgrksol.csv.gz` to your `.gitignore` file."
   ]
  },
  {
   "cell_type": "code",
   "execution_count": 18,
   "metadata": {},
   "outputs": [
    {
     "data": {
      "text/plain": [
       "916428-element Vector{Float64}:\n",
       " 3.3783428216975054e-5\n",
       " 2.0710155392568165e-6\n",
       " 3.663065984832893e-6\n",
       " 7.527510785028837e-7\n",
       " 8.63328599674051e-7\n",
       " 1.769418252415541e-6\n",
       " 2.431230382883396e-7\n",
       " 6.368417180141445e-7\n",
       " 4.744973703681939e-7\n",
       " 2.6895486110647536e-7\n",
       " 3.18574314847409e-6\n",
       " 7.375106374416742e-7\n",
       " 2.431230382883396e-7\n",
       " ⋮\n",
       " 1.1305006040148547e-6\n",
       " 4.874825281822915e-6\n",
       " 3.167946973112519e-6\n",
       " 9.72688040308568e-7\n",
       " 6.588614479285245e-7\n",
       " 7.737011774300648e-7\n",
       " 2.431230382883396e-7\n",
       " 1.6219204214797293e-6\n",
       " 3.912130060551738e-7\n",
       " 2.431230382883396e-7\n",
       " 7.296033831163157e-6\n",
       " 6.330939996912478e-7"
      ]
     },
     "execution_count": 18,
     "metadata": {},
     "output_type": "execute_result"
    }
   ],
   "source": [
    "using CodecZlib, DelimitedFiles\n",
    "\n",
    "isfile(\"pgrksol.csv.gz\") || download(\"https://raw.githubusercontent.com/ucla-biostat-257/2022spring/master/hw/hw4/pgrksol.csv.gz\")\n",
    "xsol = open(\"pgrksol.csv.gz\", \"r\") do io\n",
    "    vec(readdlm(GzipDecompressorStream(io)))\n",
    "end"
   ]
  },
  {
   "cell_type": "markdown",
   "metadata": {},
   "source": [
    "**You will lose all 35 points (Steps 1 and 2)** if the following statements throw AssertError."
   ]
  },
  {
   "cell_type": "code",
   "execution_count": 19,
   "metadata": {},
   "outputs": [],
   "source": [
    "M = PageRankImPt(A, 0.85)\n",
    "n = size(M, 1)\n",
    "\n",
    "@assert norm(transpose(M) * ones(n)) < 1e-12"
   ]
  },
  {
   "cell_type": "code",
   "execution_count": 20,
   "metadata": {},
   "outputs": [],
   "source": [
    "@assert norm(M * xsol) < 1e-12"
   ]
  },
  {
   "cell_type": "markdown",
   "metadata": {},
   "source": [
    "### Step 2 (20 pts)\n",
    "\n",
    "We want to benchmark the hot functions `mul!` to make sure they are efficient and allocate little memory."
   ]
  },
  {
   "cell_type": "code",
   "execution_count": 21,
   "metadata": {},
   "outputs": [
    {
     "data": {
      "text/plain": [
       "BenchmarkTools.Trial: 212 samples with 1 evaluation.\n",
       " Range \u001b[90m(\u001b[39m\u001b[36m\u001b[1mmin\u001b[22m\u001b[39m … \u001b[35mmax\u001b[39m\u001b[90m):  \u001b[39m\u001b[36m\u001b[1m22.052 ms\u001b[22m\u001b[39m … \u001b[35m39.987 ms\u001b[39m  \u001b[90m┊\u001b[39m GC \u001b[90m(\u001b[39mmin … max\u001b[90m): \u001b[39m0.00% … 0.00%\n",
       " Time  \u001b[90m(\u001b[39m\u001b[34m\u001b[1mmedian\u001b[22m\u001b[39m\u001b[90m):     \u001b[39m\u001b[34m\u001b[1m22.487 ms              \u001b[22m\u001b[39m\u001b[90m┊\u001b[39m GC \u001b[90m(\u001b[39mmedian\u001b[90m):    \u001b[39m0.00%\n",
       " Time  \u001b[90m(\u001b[39m\u001b[32m\u001b[1mmean\u001b[22m\u001b[39m ± \u001b[32mσ\u001b[39m\u001b[90m):   \u001b[39m\u001b[32m\u001b[1m22.965 ms\u001b[22m\u001b[39m ± \u001b[32m 1.549 ms\u001b[39m  \u001b[90m┊\u001b[39m GC \u001b[90m(\u001b[39mmean ± σ\u001b[90m):  \u001b[39m0.00% ± 0.00%\n",
       "\n",
       "  \u001b[39m \u001b[39m▂\u001b[39m█\u001b[39m█\u001b[39m▄\u001b[34m \u001b[39m\u001b[39m \u001b[39m \u001b[39m \u001b[39m \u001b[32m \u001b[39m\u001b[39m \u001b[39m \u001b[39m \u001b[39m \u001b[39m \u001b[39m \u001b[39m \u001b[39m \u001b[39m \u001b[39m \u001b[39m \u001b[39m \u001b[39m \u001b[39m \u001b[39m \u001b[39m \u001b[39m \u001b[39m \u001b[39m \u001b[39m \u001b[39m \u001b[39m \u001b[39m \u001b[39m \u001b[39m \u001b[39m \u001b[39m \u001b[39m \u001b[39m \u001b[39m \u001b[39m \u001b[39m \u001b[39m \u001b[39m \u001b[39m \u001b[39m \u001b[39m \u001b[39m \u001b[39m \u001b[39m \u001b[39m \u001b[39m \u001b[39m \u001b[39m \u001b[39m \u001b[39m \u001b[39m \u001b[39m \u001b[39m \u001b[39m \n",
       "  \u001b[39m▇\u001b[39m█\u001b[39m█\u001b[39m█\u001b[39m█\u001b[34m█\u001b[39m\u001b[39m▇\u001b[39m█\u001b[39m▆\u001b[39m▅\u001b[32m▄\u001b[39m\u001b[39m▄\u001b[39m▄\u001b[39m▄\u001b[39m▃\u001b[39m▄\u001b[39m▂\u001b[39m▃\u001b[39m▂\u001b[39m▃\u001b[39m▁\u001b[39m▂\u001b[39m▂\u001b[39m▂\u001b[39m▁\u001b[39m▃\u001b[39m▁\u001b[39m▃\u001b[39m▃\u001b[39m▂\u001b[39m▁\u001b[39m▁\u001b[39m▂\u001b[39m▁\u001b[39m▂\u001b[39m▂\u001b[39m▃\u001b[39m▂\u001b[39m▁\u001b[39m▁\u001b[39m▂\u001b[39m▁\u001b[39m▁\u001b[39m▂\u001b[39m▁\u001b[39m▁\u001b[39m▂\u001b[39m▁\u001b[39m▁\u001b[39m▁\u001b[39m▁\u001b[39m▁\u001b[39m▂\u001b[39m▁\u001b[39m▃\u001b[39m▁\u001b[39m▁\u001b[39m▁\u001b[39m▂\u001b[39m \u001b[39m▃\n",
       "  22.1 ms\u001b[90m         Histogram: frequency by time\u001b[39m        27.2 ms \u001b[0m\u001b[1m<\u001b[22m\n",
       "\n",
       " Memory estimate\u001b[90m: \u001b[39m\u001b[33m0 bytes\u001b[39m, allocs estimate\u001b[90m: \u001b[39m\u001b[33m0\u001b[39m."
      ]
     },
     "execution_count": 21,
     "metadata": {},
     "output_type": "execute_result"
    }
   ],
   "source": [
    "M = PageRankImPt(A, 0.85)\n",
    "n = size(M, 1)\n",
    "v, out = ones(n), zeros(n)\n",
    "bm_mv = @benchmark mul!($out, $M, $v) setup=(fill!(out, 0); fill!(v, 1))"
   ]
  },
  {
   "cell_type": "code",
   "execution_count": 22,
   "metadata": {},
   "outputs": [
    {
     "data": {
      "text/plain": [
       "BenchmarkTools.Trial: 165 samples with 1 evaluation.\n",
       " Range \u001b[90m(\u001b[39m\u001b[36m\u001b[1mmin\u001b[22m\u001b[39m … \u001b[35mmax\u001b[39m\u001b[90m):  \u001b[39m\u001b[36m\u001b[1m28.278 ms\u001b[22m\u001b[39m … \u001b[35m33.657 ms\u001b[39m  \u001b[90m┊\u001b[39m GC \u001b[90m(\u001b[39mmin … max\u001b[90m): \u001b[39m0.00% … 0.00%\n",
       " Time  \u001b[90m(\u001b[39m\u001b[34m\u001b[1mmedian\u001b[22m\u001b[39m\u001b[90m):     \u001b[39m\u001b[34m\u001b[1m29.205 ms              \u001b[22m\u001b[39m\u001b[90m┊\u001b[39m GC \u001b[90m(\u001b[39mmedian\u001b[90m):    \u001b[39m0.00%\n",
       " Time  \u001b[90m(\u001b[39m\u001b[32m\u001b[1mmean\u001b[22m\u001b[39m ± \u001b[32mσ\u001b[39m\u001b[90m):   \u001b[39m\u001b[32m\u001b[1m29.608 ms\u001b[22m\u001b[39m ± \u001b[32m 1.157 ms\u001b[39m  \u001b[90m┊\u001b[39m GC \u001b[90m(\u001b[39mmean ± σ\u001b[90m):  \u001b[39m0.00% ± 0.00%\n",
       "\n",
       "  \u001b[39m \u001b[39m \u001b[39m▃\u001b[39m▄\u001b[39m▃\u001b[39m▂\u001b[39m▄\u001b[39m▅\u001b[39m▇\u001b[39m█\u001b[39m▄\u001b[34m▂\u001b[39m\u001b[39m \u001b[39m \u001b[39m \u001b[39m▅\u001b[39m \u001b[32m \u001b[39m\u001b[39m \u001b[39m \u001b[39m \u001b[39m \u001b[39m \u001b[39m \u001b[39m \u001b[39m▂\u001b[39m \u001b[39m \u001b[39m \u001b[39m \u001b[39m \u001b[39m \u001b[39m \u001b[39m \u001b[39m \u001b[39m \u001b[39m \u001b[39m \u001b[39m \u001b[39m \u001b[39m \u001b[39m \u001b[39m \u001b[39m \u001b[39m \u001b[39m \u001b[39m \u001b[39m \u001b[39m \u001b[39m \u001b[39m \u001b[39m \u001b[39m \u001b[39m \u001b[39m \u001b[39m \u001b[39m \u001b[39m \u001b[39m \u001b[39m \u001b[39m \n",
       "  \u001b[39m▆\u001b[39m▇\u001b[39m█\u001b[39m█\u001b[39m█\u001b[39m█\u001b[39m█\u001b[39m█\u001b[39m█\u001b[39m█\u001b[39m█\u001b[34m█\u001b[39m\u001b[39m█\u001b[39m▇\u001b[39m▅\u001b[39m█\u001b[39m▆\u001b[32m▅\u001b[39m\u001b[39m▅\u001b[39m▃\u001b[39m▇\u001b[39m▇\u001b[39m▁\u001b[39m▅\u001b[39m▆\u001b[39m█\u001b[39m▆\u001b[39m▃\u001b[39m▃\u001b[39m▅\u001b[39m▃\u001b[39m▃\u001b[39m▃\u001b[39m▁\u001b[39m▃\u001b[39m▁\u001b[39m▁\u001b[39m▃\u001b[39m▃\u001b[39m▃\u001b[39m▅\u001b[39m▁\u001b[39m▃\u001b[39m▆\u001b[39m▃\u001b[39m▅\u001b[39m▁\u001b[39m▁\u001b[39m▃\u001b[39m▁\u001b[39m▁\u001b[39m▁\u001b[39m▁\u001b[39m▃\u001b[39m▃\u001b[39m▁\u001b[39m▃\u001b[39m▃\u001b[39m▃\u001b[39m \u001b[39m▃\n",
       "  28.3 ms\u001b[90m         Histogram: frequency by time\u001b[39m          33 ms \u001b[0m\u001b[1m<\u001b[22m\n",
       "\n",
       " Memory estimate\u001b[90m: \u001b[39m\u001b[33m0 bytes\u001b[39m, allocs estimate\u001b[90m: \u001b[39m\u001b[33m0\u001b[39m."
      ]
     },
     "execution_count": 22,
     "metadata": {},
     "output_type": "execute_result"
    }
   ],
   "source": [
    "bm_mtv = @benchmark mul!($out, $(transpose(M)), $v) setup=(fill!(out, 0); fill!(v, 1))"
   ]
  },
  {
   "cell_type": "markdown",
   "metadata": {},
   "source": [
    "You will lose 1 point for each 100 bytes memory allocation. So the points you will get is"
   ]
  },
  {
   "cell_type": "code",
   "execution_count": 23,
   "metadata": {},
   "outputs": [
    {
     "data": {
      "text/plain": [
       "20.0"
      ]
     },
     "execution_count": 23,
     "metadata": {},
     "output_type": "execute_result"
    }
   ],
   "source": [
    "clamp(10 - median(bm_mv).memory / 100, 0, 10) + \n",
    "clamp(10 - median(bm_mtv).memory / 100, 0, 10)"
   ]
  },
  {
   "cell_type": "markdown",
   "metadata": {},
   "source": [
    "**Hint**: My median run times are 30-40 ms and memory allocations are 0 bytes."
   ]
  },
  {
   "cell_type": "markdown",
   "metadata": {},
   "source": [
    "### Step 3 (20 pts)\n",
    "\n",
    "Let's first try to solve the PageRank problem by the GMRES method for solving linear equations. "
   ]
  },
  {
   "cell_type": "code",
   "execution_count": 24,
   "metadata": {},
   "outputs": [
    {
     "data": {
      "text/plain": [
       "(value = ([3.3783428221888584e-5, 2.0710155392484385e-6, 3.663065985237124e-6, 7.527510785602639e-7, 8.633285997161323e-7, 1.7694182527377933e-6, 2.431230382912157e-7, 6.368417180747229e-7, 4.744973703749994e-7, 2.689548611096568e-7  …  3.1679469739776893e-6, 9.7268804102312e-7, 6.588614478542467e-7, 7.737011774714668e-7, 2.431230382912157e-7, 1.621920421424626e-6, 3.91213006063147e-7, 2.431230382912157e-7, 7.296033831324964e-6, 6.330939996678448e-7], ConvergenceInfo: one converged value after 3 iterations and 72 applications of the linear map;\n",
       "norms of residuals are given by (7.821167231992103e-13,).\n",
       "), time = 3.809713475, bytes = 1009034460, gctime = 0.29973655, gcstats = Base.GC_Diff(1009034460, 137, 0, 75141, 5, 0, 299736550, 4, 2))"
      ]
     },
     "execution_count": 24,
     "metadata": {},
     "output_type": "execute_result"
    }
   ],
   "source": [
    "using KrylovKit\n",
    "\n",
    "# normalize in-degrees to be the start point\n",
    "x0   = vec(sum(A, dims = 1)) .+ 1.0\n",
    "x0 ./= sum(x0)\n",
    "\n",
    "# right hand side\n",
    "b = zeros(n)\n",
    "\n",
    "# warm up (compilation)\n",
    "linsolve(M, b, x0, issymmetric = false, isposdef = false, maxiter = 1) \n",
    "# output is complex eigenvalue/eigenvector\n",
    "(x_gmres, info), time_gmres, = @timed linsolve(M, b, x0, issymmetric = false, isposdef = false)"
   ]
  },
  {
   "cell_type": "markdown",
   "metadata": {},
   "source": [
    "Check correctness. **You will lose all 20 points if the following statement throws `AssertError`.**"
   ]
  },
  {
   "cell_type": "code",
   "execution_count": 25,
   "metadata": {},
   "outputs": [],
   "source": [
    "@assert norm(x_gmres - xsol) < 1e-8"
   ]
  },
  {
   "cell_type": "markdown",
   "metadata": {},
   "source": [
    "GMRES should be reasonably fast. The points you'll get is"
   ]
  },
  {
   "cell_type": "code",
   "execution_count": 26,
   "metadata": {},
   "outputs": [
    {
     "data": {
      "text/plain": [
       "20.0"
      ]
     },
     "execution_count": 26,
     "metadata": {},
     "output_type": "execute_result"
    }
   ],
   "source": [
    "clamp(20 / time_gmres * 20, 0, 20)"
   ]
  },
  {
   "cell_type": "markdown",
   "metadata": {},
   "source": [
    "**Hint**: My runtime is about 7-8 seconds."
   ]
  },
  {
   "cell_type": "markdown",
   "metadata": {},
   "source": [
    "### Step 4 (20 pts)\n",
    "\n",
    "Let's first try to solve the PageRank problem by the Arnoldi method for solving eigen problems. "
   ]
  },
  {
   "cell_type": "code",
   "execution_count": 27,
   "metadata": {},
   "outputs": [
    {
     "data": {
      "text/plain": [
       "(value = (ComplexF64[-8.937262196793364e-15 + 0.0im], Vector{ComplexF64}[[0.005635826953807289 + 0.0im, 0.0003454914380782886 + 0.0im, 0.0006110808494125137 + 0.0im, 0.00012557561626035183 + 0.0im, 0.0001440224053280327 + 0.0im, 0.0002951783050398468 + 0.0im, 4.055832828677895e-5 + 0.0im, 0.0001062393578485207 + 0.0im, 7.915671116195337e-5 + 0.0im, 4.48676506672492e-5 + 0.0im  …  0.0005284839899796993 + 0.0im, 0.00016226599147988675 + 0.0im, 0.00010991273837609693 + 0.0im, 0.00012907055855751663 + 0.0im, 4.055832828677895e-5 + 0.0im, 0.00027057238743203986 + 0.0im, 6.526302748333374e-5 + 0.0im, 4.055832828677895e-5 + 0.0im, 0.0012171406601328128 + 0.0im, 0.00010561415510699163 + 0.0im]], ConvergenceInfo: one converged value after 7 iterations and 99 applications of the linear map;\n",
       "norms of residuals are given by (9.576431215525902e-14,).\n",
       "), time = 7.668278204, bytes = 1581384437, gctime = 0.403376625, gcstats = Base.GC_Diff(1581384437, 213, 0, 77836, 20, 0, 403376625, 5, 2))"
      ]
     },
     "execution_count": 27,
     "metadata": {},
     "output_type": "execute_result"
    }
   ],
   "source": [
    "# warm up (compilation)\n",
    "eigsolve(M, x0, 1, :SR, issymmetric = false, maxiter = 1)\n",
    "# output is complex eigenvalue/eigenvector\n",
    "(vals, vecs, info), time_arnoldi, = @timed eigsolve(M, x0, 1, :SR, issymmetric = false)"
   ]
  },
  {
   "cell_type": "markdown",
   "metadata": {},
   "source": [
    "Check correctness. **You will lose all 20 points if the following statement throws `AssertError`.**"
   ]
  },
  {
   "cell_type": "code",
   "execution_count": 28,
   "metadata": {},
   "outputs": [],
   "source": [
    "@assert abs(Real(vals[1])) < 1e-8"
   ]
  },
  {
   "cell_type": "code",
   "execution_count": 29,
   "metadata": {},
   "outputs": [],
   "source": [
    "x_arnoldi   = abs.(Real.(vecs[1]))\n",
    "x_arnoldi ./= sum(x_arnoldi)\n",
    "@assert norm(x_arnoldi - xsol) < 1e-8"
   ]
  },
  {
   "cell_type": "markdown",
   "metadata": {},
   "source": [
    "Arnoldi should be reasonably fast. The points you'll get is"
   ]
  },
  {
   "cell_type": "code",
   "execution_count": 30,
   "metadata": {},
   "outputs": [
    {
     "data": {
      "text/plain": [
       "20.0"
      ]
     },
     "execution_count": 30,
     "metadata": {},
     "output_type": "execute_result"
    }
   ],
   "source": [
    "clamp(20 / time_arnoldi * 20, 0, 20)"
   ]
  },
  {
   "cell_type": "markdown",
   "metadata": {},
   "source": [
    "**Hint**: My runtime is about 11-12 seconds."
   ]
  },
  {
   "cell_type": "markdown",
   "metadata": {},
   "source": [
    "## Q6 (5 pts) Results\n",
    "\n",
    "List the top 20 pages you found and their corresponding PageRank score. Do they match the top 20 pages ranked according to in-degrees? "
   ]
  },
  {
   "cell_type": "markdown",
   "metadata": {},
   "source": [
    "**Solution**\n",
    "\n",
    "The top 20 pages by PageRank score and by in-degrees are shown below. We see that the order does not match exactly, but very important pages show up in both lists. "
   ]
  },
  {
   "cell_type": "code",
   "execution_count": 31,
   "metadata": {},
   "outputs": [
    {
     "data": {
      "text/plain": [
       "20×4 Matrix{Float64}:\n",
       " 597622.0  0.000914581  537040.0  6326.0\n",
       "  41910.0  0.000912013  597622.0  5354.0\n",
       " 163076.0  0.000895056  504141.0  5271.0\n",
       " 537040.0  0.000889934  751385.0  5182.0\n",
       " 384667.0  0.000779103   32164.0  5097.0\n",
       " 504141.0  0.000757542  885606.0  4847.0\n",
       " 486981.0  0.000717764  163076.0  4731.0\n",
       " 605857.0  0.000710848  819224.0  4620.0\n",
       "  32164.0  0.000705518  605857.0  4550.0\n",
       " 558792.0  0.000702166  828964.0  4484.0\n",
       " 551830.0  0.000695075  551830.0  4220.0\n",
       " 765335.0  0.000676228   41910.0  4219.0\n",
       " 751385.0  0.000654656  558792.0  4206.0\n",
       " 425771.0  0.000616848  459075.0  4187.0\n",
       " 908352.0  0.000614622  407611.0  4180.0\n",
       " 173977.0  0.000603115  213433.0  4084.0\n",
       "   7315.0  0.000592664  765335.0  4015.0\n",
       " 213433.0  0.000589447  384667.0  4010.0\n",
       " 885606.0  0.000581266  173977.0  3988.0\n",
       " 819224.0  0.000576519  687326.0  3956.0"
      ]
     },
     "execution_count": 31,
     "metadata": {},
     "output_type": "execute_result"
    }
   ],
   "source": [
    "# gmres results\n",
    "score_gmre = sort(x_gmres, rev = true)[1:20]\n",
    "page_gmre = sortperm(x_gmres, rev = true)[1:20]\n",
    "# in-degree results\n",
    "indegree = sort(vec(indeg), rev = true)[1:20]\n",
    "page_indeg = sortperm(vec(indeg), rev = true)[1:20]\n",
    "[page_gmre score_gmre page_indeg indegree]"
   ]
  },
  {
   "cell_type": "markdown",
   "metadata": {},
   "source": [
    "## Q7 Be proud of yourself\n",
    "\n",
    "Go to your resume/cv and claim you have experience performing analysis on a network of one million nodes."
   ]
  }
 ],
 "metadata": {
  "@webio": {
   "lastCommId": null,
   "lastKernelId": null
  },
  "kernelspec": {
   "display_name": "Julia 1.7.2",
   "language": "julia",
   "name": "julia-1.7"
  },
  "language_info": {
   "file_extension": ".jl",
   "mimetype": "application/julia",
   "name": "julia",
   "version": "1.7.2"
  },
  "toc": {
   "colors": {
    "hover_highlight": "#DAA520",
    "running_highlight": "#FF0000",
    "selected_highlight": "#FFD700"
   },
   "moveMenuLeft": true,
   "nav_menu": {
    "height": "87px",
    "width": "252px"
   },
   "navigate_menu": true,
   "number_sections": false,
   "sideBar": true,
   "skip_h1_title": true,
   "threshold": 4,
   "toc_cell": false,
   "toc_section_display": "block",
   "toc_window_display": true,
   "widenNotebook": false
  }
 },
 "nbformat": 4,
 "nbformat_minor": 4
}
