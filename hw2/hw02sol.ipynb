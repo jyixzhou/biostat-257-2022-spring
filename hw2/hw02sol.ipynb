{
 "cells": [
  {
   "cell_type": "markdown",
   "metadata": {},
   "source": [
    "# Biostat 257 Homework 2\n",
    "\n",
    "### Yixuan Zhou (UID 505 524 487)\n",
    "\n",
    "**Due Apr 29 @ 11:59PM**"
   ]
  },
  {
   "cell_type": "code",
   "execution_count": 1,
   "metadata": {},
   "outputs": [
    {
     "name": "stdout",
     "output_type": "stream",
     "text": [
      "Julia Version 1.7.2\n",
      "Commit bf53498635 (2022-02-06 15:21 UTC)\n",
      "Platform Info:\n",
      "  OS: macOS (x86_64-apple-darwin19.5.0)\n",
      "  CPU: Intel(R) Core(TM) i5-8257U CPU @ 1.40GHz\n",
      "  WORD_SIZE: 64\n",
      "  LIBM: libopenlibm\n",
      "  LLVM: libLLVM-12.0.1 (ORCJIT, skylake)\n"
     ]
    }
   ],
   "source": [
    "versioninfo()"
   ]
  },
  {
   "cell_type": "code",
   "execution_count": 2,
   "metadata": {},
   "outputs": [],
   "source": [
    "# load libraries\n",
    "using BenchmarkTools, DelimitedFiles, Images, LinearAlgebra, Random"
   ]
  },
  {
   "cell_type": "markdown",
   "metadata": {},
   "source": [
    "## Q1. Nonnegative Matrix Factorization\n",
    "\n",
    "Nonnegative matrix factorization (NNMF) was introduced by [Lee and Seung (1999)](https://www.nature.com/articles/44565) as an analog of principal components and vector quantization with applications in data compression and clustering. In this homework we consider algorithms for fitting NNMF and (optionally) high performance computing using graphical processing units (GPUs).\n",
    "\n",
    "<img src=\"./nnmf.png\" width=\"500\" align=\"center\"/>\n",
    "\n",
    "In mathematical terms, one approximates a data matrix $\\mathbf{X} \\in \\mathbb{R}^{m \\times n}$ with nonnegative entries $x_{ij}$ by a product of two low-rank matrices $\\mathbf{V} \\in \\mathbb{R}^{m \\times r}$ and $\\mathbf{W} \\in \\mathbb{R}^{r \\times n}$ with nonnegative entries $v_{ik}$ and $w_{kj}$. Consider minimization of the squared Frobenius norm\n",
    "$$\n",
    "\tL(\\mathbf{V}, \\mathbf{W}) = \\|\\mathbf{X} - \\mathbf{V} \\mathbf{W}\\|_{\\text{F}}^2 = \\sum_i \\sum_j \\left(x_{ij} - \\sum_k v_{ik} w_{kj} \\right)^2, \\quad v_{ik} \\ge 0, w_{kj} \\ge 0,\n",
    "$$\n",
    "which should lead to a good factorization. Lee and Seung suggest an iterative algorithm with multiplicative updates\n",
    "$$\n",
    "v_{ik}^{(t+1)} = v_{ik}^{(t)} \\frac{\\sum_j x_{ij} w_{kj}^{(t)}}{\\sum_j b_{ij}^{(t)} w_{kj}^{(t)}}, \\quad \\text{where } b_{ij}^{(t)} = \\sum_k v_{ik}^{(t)} w_{kj}^{(t)},\n",
    "$$\n",
    "$$\n",
    "w_{kj}^{(t+1)} = w_{kj}^{(t)} \\frac{\\sum_i x_{ij} v_{ik}^{(t+1)}}{\\sum_i b_{ij}^{(t+1/2)} v_{ik}^{(t+1)}}, \\quad \\text{where } b_{ij}^{(t+1/2)} = \\sum_k v_{ik}^{(t+1)} w_{kj}^{(t)}\n",
    "$$\n",
    "that will drive the objective $L^{(t)} = L(\\mathbf{V}^{(t)}, \\mathbf{W}^{(t)})$ downhill. Superscript $t$ indicates iteration number. In following questions, efficiency (both speed and memory) will be the most important criterion when grading this problem."
   ]
  },
  {
   "cell_type": "markdown",
   "metadata": {},
   "source": [
    "### Q1.1 Develop code\n",
    "\n",
    "Implement the algorithm with arguments: $\\mathbf{X}$ (data, each row is a vectorized image), rank $r$, convergence tolerance, and optional starting point."
   ]
  },
  {
   "cell_type": "code",
   "execution_count": 3,
   "metadata": {},
   "outputs": [
    {
     "data": {
      "text/plain": [
       "nnmf (generic function with 1 method)"
      ]
     },
     "execution_count": 3,
     "metadata": {},
     "output_type": "execute_result"
    }
   ],
   "source": [
    "function nnmf(\n",
    "    X       :: Matrix{T}, \n",
    "    r       :: Integer; \n",
    "    maxiter :: Integer = 1000, \n",
    "    tolfun  :: Number = 1e-4,\n",
    "    V       :: Matrix{T} = rand(T, size(X, 1), r), \n",
    "    W       :: Matrix{T} = rand(T, r, size(X, 2)),\n",
    "    verbose :: Bool = false\n",
    "    ) where T <: AbstractFloat\n",
    "\n",
    "    n, m = size(X)\n",
    "    \n",
    "    niter = maxiter\n",
    "    storageR = Matrix{T}(undef, r, r)\n",
    "    storageV1 = similar(V)\n",
    "    storageV2 = similar(V)\n",
    "    storageW1 = similar(W)\n",
    "    storageW2 = similar(W)\n",
    "\n",
    "    # set up initial obj\n",
    "    x2norm = norm(X)^2\n",
    "    obj = x2norm \n",
    "    mul!(storageR, transpose(V), V)\n",
    "    mul!(storageW2, storageR, W)\n",
    "    mul!(storageW1, transpose(V), X)\n",
    "    @inbounds for idx in eachindex(W)\n",
    "        obj = obj + (storageW2[idx] - 2storageW1[idx]) * W[idx]\n",
    "    end\n",
    "    \n",
    "    if verbose\n",
    "        println(\"iter = 0, obj = $obj\")\n",
    "    end\n",
    "\n",
    "    for iter in 1:maxiter\n",
    "\n",
    "        mul!(storageR, W, transpose(W)) \n",
    "        mul!(storageV2, V, storageR)\n",
    "        mul!(storageV1, X, transpose(W))\n",
    "        V .= V .* storageV1 ./ storageV2\n",
    "        \n",
    "        mul!(storageR, transpose(V), V)\n",
    "        mul!(storageW2, storageR, W)\n",
    "        mul!(storageW1, transpose(V), X)\n",
    "        \n",
    "        objold = obj\n",
    "        obj = x2norm \n",
    "        @inbounds for idx in eachindex(W)\n",
    "            obj = obj + (storageW2[idx] - 2storageW1[idx]) * W[idx]\n",
    "            W[idx] = W[idx] * storageW1[idx] / storageW2[idx]\n",
    "        end \n",
    "    \n",
    "        if verbose\n",
    "            println(\"iter = $iter, obj = $obj\")\n",
    "        end\n",
    "        if abs(obj - objold) ≤ tolfun * (abs(objold) + 1) \n",
    "            niter = iter\n",
    "            break\n",
    "        end     \n",
    "    end\n",
    "    \n",
    "    if niter == maxiter\n",
    "        # @warning \"maxiter reached without convergence\"\n",
    "        @warn \"SCREAM!!!! maxiter reached without convergence\"\n",
    "    end \n",
    "\n",
    "    V, W, obj, niter\n",
    "end"
   ]
  },
  {
   "cell_type": "markdown",
   "metadata": {},
   "source": [
    "### Q1.2 Data\n",
    "\n",
    "Database 1 from the [MIT Center for Biological and Computational Learning (CBCL)](http://cbcl.mit.edu) reduces to a matrix $\\mathbf{X}$ containing $m = 2,429$ gray-scale face images with $n = 19 \\times 19 = 361$ pixels per face. Each image (row) is scaled to have mean and standard deviation 0.25.  \n",
    "\n",
    "Read in the [`nnmf-2429-by-361-face.txt`](https://raw.githubusercontent.com/ucla-biostat-257/2022spring/master/hw/hw2/nnmf-2429-by-361-face.txt) file, e.g., using [`readdlm`](https://docs.julialang.org/en/v1/stdlib/DelimitedFiles/#Delimited-Files) function, and display a couple sample images, e.g., using the [Images.jl](https://juliaimages.org/stable/) package."
   ]
  },
  {
   "cell_type": "code",
   "execution_count": 4,
   "metadata": {},
   "outputs": [
    {
     "data": {
      "image/png": "[encoded data removed]",
      "text/plain": [
       "19×19 reinterpret(reshape, Gray{Float64}, ::Matrix{Float64}) with eltype Gray{Float64}:\n",
       " Gray{Float64}(0.14815)   …  Gray{Float64}(0.0)\n",
       " Gray{Float64}(0.018294)     Gray{Float64}(0.027569)\n",
       " Gray{Float64}(0.027569)     Gray{Float64}(0.0)\n",
       " Gray{Float64}(0.0)          Gray{Float64}(0.0090181)\n",
       " Gray{Float64}(0.083222)     Gray{Float64}(0.036844)\n",
       " Gray{Float64}(0.10177)   …  Gray{Float64}(0.064671)\n",
       " Gray{Float64}(0.38004)      Gray{Float64}(0.13887)\n",
       " Gray{Float64}(0.51917)      Gray{Float64}(0.30583)\n",
       " Gray{Float64}(0.43569)      Gray{Float64}(0.37076)\n",
       " Gray{Float64}(0.38004)      Gray{Float64}(0.37076)\n",
       " Gray{Float64}(0.29656)   …  Gray{Float64}(0.26873)\n",
       " Gray{Float64}(0.25946)      Gray{Float64}(0.28728)\n",
       " Gray{Float64}(0.31511)      Gray{Float64}(0.28728)\n",
       " Gray{Float64}(0.2038)       Gray{Float64}(0.19453)\n",
       " Gray{Float64}(0.083222)     Gray{Float64}(0.073946)\n",
       " Gray{Float64}(0.018294)  …  Gray{Float64}(0.0)\n",
       " Gray{Float64}(0.064671)     Gray{Float64}(0.0)\n",
       " Gray{Float64}(0.018294)     Gray{Float64}(0.0)\n",
       " Gray{Float64}(0.0)          Gray{Float64}(0.0)"
      ]
     },
     "execution_count": 4,
     "metadata": {},
     "output_type": "execute_result"
    }
   ],
   "source": [
    "X = readdlm(\"nnmf-2429-by-361-face.txt\")\n",
    "V0full = readdlm(\"V0.txt\")\n",
    "W0full = readdlm(\"W0.txt\")\n",
    "colorview(Gray, reshape(X[1, :], 19, 19))"
   ]
  },
  {
   "cell_type": "code",
   "execution_count": 5,
   "metadata": {},
   "outputs": [
    {
     "data": {
      "image/png": "[encoded data removed]",
      "text/plain": [
       "19×19 reinterpret(reshape, Gray{Float64}, ::Matrix{Float64}) with eltype Gray{Float64}:\n",
       " Gray{Float64}(0.0082034)  …  Gray{Float64}(0.18099)\n",
       " Gray{Float64}(0.0)           Gray{Float64}(0.018367)\n",
       " Gray{Float64}(0.16066)       Gray{Float64}(0.0)\n",
       " Gray{Float64}(0.0)           Gray{Float64}(0.0)\n",
       " Gray{Float64}(0.059024)      Gray{Float64}(0.0)\n",
       " Gray{Float64}(0.069188)   …  Gray{Float64}(0.0)\n",
       " Gray{Float64}(0.2928)        Gray{Float64}(0.0082034)\n",
       " Gray{Float64}(0.47575)       Gray{Float64}(0.12001)\n",
       " Gray{Float64}(0.36394)       Gray{Float64}(0.17083)\n",
       " Gray{Float64}(0.35378)       Gray{Float64}(0.27247)\n",
       " Gray{Float64}(0.39444)    …  Gray{Float64}(0.31312)\n",
       " Gray{Float64}(0.2928)        Gray{Float64}(0.32329)\n",
       " Gray{Float64}(0.22165)       Gray{Float64}(0.27247)\n",
       " Gray{Float64}(0.21148)       Gray{Float64}(0.22165)\n",
       " Gray{Float64}(0.25214)       Gray{Float64}(0.22165)\n",
       " Gray{Float64}(0.23181)    …  Gray{Float64}(0.17083)\n",
       " Gray{Float64}(0.20132)       Gray{Float64}(0.089516)\n",
       " Gray{Float64}(0.17083)       Gray{Float64}(0.059024)\n",
       " Gray{Float64}(0.19116)       Gray{Float64}(0.0)"
      ]
     },
     "execution_count": 5,
     "metadata": {},
     "output_type": "execute_result"
    }
   ],
   "source": [
    "colorview(Gray, reshape(X[5, :], 19, 19))"
   ]
  },
  {
   "cell_type": "markdown",
   "metadata": {},
   "source": [
    "### Q1.3 Correctness and efficiency\n",
    "\n",
    "Report the run times, using `@time`, of your function for fitting NNMF on the MIT CBCL face data set at ranks $r=10, 20, 30, 40, 50$. For ease of comparison (and grading), please start your algorithm with the provided $\\mathbf{V}^{(0)}$ (first $r$ columns of [`V0.txt`](https://raw.githubusercontent.com/ucla-biostat-257/2022spring/master/hw/hw2/V0.txt)) and $\\mathbf{W}^{(0)}$ (first $r$ rows of [`W0.txt`](https://raw.githubusercontent.com/ucla-biostat-257/2022spring/master/hw/hw2/W0.txt)) and stopping criterion\n",
    "$$\n",
    "\\frac{|L^{(t+1)} - L^{(t)}|}{|L^{(t)}| + 1} \\le 10^{-4}.\n",
    "$$\n",
    "\n",
    "**Hint**: When I run the following code using my own implementation of `nnmf`\n",
    "```julia\n",
    "for r in [10, 20, 30, 40, 50]\n",
    "    println(\"r=$r\")\n",
    "    V0 = V0full[:, 1:r]\n",
    "    W0 = W0full[1:r, :]\n",
    "    @time V, W, obj, niter = nnmf(X, r; V = V0, W = W0)\n",
    "    println(\"obj=$obj, niter=$niter\")\n",
    "end\n",
    "```\n",
    "the output is\n",
    "```\n",
    "r=10\n",
    "  1.047598 seconds (20 allocations: 6.904 MiB)\n",
    "obj=11730.38800985483, niter=239\n",
    "r=20\n",
    "  1.913147 seconds (20 allocations: 7.120 MiB)\n",
    "obj=8497.222317850326, niter=394\n",
    "r=30\n",
    "  2.434662 seconds (20 allocations: 7.336 MiB)\n",
    "obj=6621.627345486279, niter=482\n",
    "r=40\n",
    "  3.424469 seconds (22 allocations: 7.554 MiB)\n",
    "obj=5256.663870563529, niter=581\n",
    "r=50\n",
    "  4.480342 seconds (23 allocations: 7.774 MiB)\n",
    "obj=4430.201581697291, niter=698\n",
    "```\n",
    "Since my laptop is about 6-7 years old, I expect to see your run time shorter than mine. Your memory allocation should be less or equal to mine."
   ]
  },
  {
   "cell_type": "markdown",
   "metadata": {},
   "source": [
    "**Solution**"
   ]
  },
  {
   "cell_type": "code",
   "execution_count": 6,
   "metadata": {},
   "outputs": [
    {
     "data": {
      "text/plain": [
       "([0.11851552506050547 0.029940503455096936 … 0.0028830808553836898 0.064209910487126; 0.13176807592569614 0.0004309168162359835 … 0.01486343136309386 0.035028745583671625; … ; 0.052705837558246364 0.04794098005164004 … 0.1700196278798265 0.04626182097825301; 0.12933014679416066 0.01956781040212816 … 0.09435983264067124 0.029580777291877237], [3.385885235846894e-27 1.1745375738681033e-27 … 0.23001933337975108 2.2801686250908547e-6; 0.01089979057338704 1.7007366080212261e-6 … 9.165787020781076e-15 5.134415347265328e-11; … ; 4.0722852963975666e-10 0.00011974641917548936 … 6.611383816440941e-6 1.3798984047397109e-12; 5.698509363463677e-10 6.980500700786396e-9 … 2.2318529440909026e-14 1.8764490698063125e-18], 11730.86690575003, 239)"
      ]
     },
     "execution_count": 6,
     "metadata": {},
     "output_type": "execute_result"
    }
   ],
   "source": [
    "# run the function once to compile it\n",
    "r = 10\n",
    "V0 = V0full[:, 1:r]\n",
    "W0 = W0full[1:r, :]\n",
    "nnmf(X, r; V = V0, W = W0)"
   ]
  },
  {
   "cell_type": "code",
   "execution_count": 7,
   "metadata": {},
   "outputs": [
    {
     "name": "stdout",
     "output_type": "stream",
     "text": [
      "r=10\n",
      "  0.420252 seconds (2.66 k allocations: 591.181 KiB, 2.92% compilation time)\n",
      "obj=11730.86690575003, niter=239\n",
      "r=20\n",
      "  0.764594 seconds (22 allocations: 875.891 KiB)\n",
      "obj=8497.605595865596, niter=394\n",
      "r=30\n",
      "  1.058854 seconds (22 allocations: 1.285 MiB)\n",
      "obj=6621.945968477781, niter=482\n",
      "r=40\n",
      "  1.470157 seconds (24 allocations: 1.716 MiB)\n",
      "obj=5256.866299832117, niter=581\n",
      "r=50\n",
      "  2.437973 seconds (25 allocations: 2.149 MiB)\n",
      "obj=4430.362097313581, niter=698\n"
     ]
    }
   ],
   "source": [
    "for r in [10, 20, 30, 40, 50]\n",
    "    println(\"r=$r\")\n",
    "    V0 = V0full[:, 1:r]\n",
    "    W0 = W0full[1:r, :]\n",
    "    @time V, W, obj, niter = nnmf(X, r; V = V0, W = W0)\n",
    "    println(\"obj=$obj, niter=$niter\")\n",
    "end"
   ]
  },
  {
   "cell_type": "markdown",
   "metadata": {},
   "source": [
    "### Q1.4 Non-uniqueness\n",
    "\n",
    "Choose an $r \\in \\{10, 20, 30, 40, 50\\}$ and start your algorithm from a different $\\mathbf{V}^{(0)}$ and $\\mathbf{W}^{(0)}$. Do you obtain the same objective value and $(\\mathbf{V}, \\mathbf{W})$? Explain what you find."
   ]
  },
  {
   "cell_type": "markdown",
   "metadata": {},
   "source": [
    "**Solution**\n",
    "\n",
    "No, the answer from choosing different starting $\\mathbf{V}^{(0)}$ and $\\mathbf{W}^{(0)}$ gives different objective values and $(\\mathbf{V}, \\mathbf{W})$. Since it is a numerical search based on the objective function, the result might prematurely stop on a plateau of the objective function without reaching the global minimum. "
   ]
  },
  {
   "cell_type": "code",
   "execution_count": 8,
   "metadata": {},
   "outputs": [
    {
     "data": {
      "text/plain": [
       "([0.15639140668990062 0.0015110046893658383 … 0.017505157138830274 6.743421135235227e-7; 0.183437502753449 0.0037040562063363897 … 0.03490943487859234 2.1259645340095597e-7; … ; 0.0433991260771574 0.03806544167018934 … 0.06941835850668024 0.020544893336734323; 0.1319224118079186 1.4722228394706425e-30 … 0.007155803405155358 0.1131608643995278], [1.9486373647887635e-27 2.9049023385036153e-34 … 0.0029521015712268795 1.5754888954917352e-22; 0.5194953000146963 0.4305190756940345 … 1.4638347637819606 1.447771181275669; … ; 1.2028562561079277 1.6800376244622715 … 1.0694524520983362e-9 1.6219022752604946e-16; 4.515031596988584e-20 1.5741529561407076e-12 … 1.7708254500572091 1.4174803801837539], 11589.359173554183, 293)"
      ]
     },
     "execution_count": 8,
     "metadata": {},
     "output_type": "execute_result"
    }
   ],
   "source": [
    "r = 10\n",
    "V02 = V0full[:, 11:(10+r)]\n",
    "W02 = W0full[11:(10+r), :]\n",
    "nnmf(X, r, V = V02, W = W02)"
   ]
  },
  {
   "cell_type": "markdown",
   "metadata": {},
   "source": [
    "### Q1.5 Fixed point\n",
    "\n",
    "For the same $r$, start your algorithm from $v_{ik}^{(0)} = w_{kj}^{(0)} = 1$ for all $i,j,k$. Do you obtain the same objective value and $(\\mathbf{V}, \\mathbf{W})$? Explain what you find."
   ]
  },
  {
   "cell_type": "markdown",
   "metadata": {},
   "source": [
    "**Solution**\n",
    "\n",
    "No, we do not obtain the same objective value and $(\\mathbf{V}, \\mathbf{W})$. By comparing the objective values at the end of the algorithm with the previous examples, we see a much larger objective value from specifying all 1's for the starting matrices. This might suggest that the algorithm is trapped at a location without finding a much better minimum objective value. "
   ]
  },
  {
   "cell_type": "code",
   "execution_count": 9,
   "metadata": {},
   "outputs": [
    {
     "data": {
      "text/plain": [
       "([0.02737339344273953 0.02737339344273953 … 0.027373393442739525 0.027373393442739525; 0.027206938610572086 0.027206938610572086 … 0.027206938610572096 0.027206938610572096; … ; 0.028520195404725113 0.028520195404725113 … 0.028520195404725116 0.028520195404725116; 0.02803092551508475 0.02803092551508475 … 0.028030925515084758 0.028030925515084758], [0.36995177994768597 0.46065860110694035 … 0.5580793952009436 0.4255210382434648; 0.36995177994768597 0.46065860110694035 … 0.5580793952009436 0.4255210382434648; … ; 0.36995177994768613 0.46065860110694046 … 0.5580793952009441 0.42552103824346466; 0.36995177994768613 0.46065860110694046 … 0.5580793952009441 0.42552103824346466], 25297.015778490062, 4)"
      ]
     },
     "execution_count": 9,
     "metadata": {},
     "output_type": "execute_result"
    }
   ],
   "source": [
    "r = 10\n",
    "m, n = size(X) \n",
    "V03 = ones(m, r)\n",
    "W03 = ones(r, n)\n",
    "nnmf(X, r, V = V03, W = W03)"
   ]
  },
  {
   "cell_type": "markdown",
   "metadata": {},
   "source": [
    "### Q1.6 Interpret NNMF result\n",
    "\n",
    "Plot the basis images (rows of $\\mathbf{W}$) at rank $r=50$. What do you find?"
   ]
  },
  {
   "cell_type": "markdown",
   "metadata": {},
   "source": [
    "**Solution**\n",
    "\n",
    "The basis images of W are the blurred versions of X. "
   ]
  },
  {
   "cell_type": "code",
   "execution_count": 10,
   "metadata": {},
   "outputs": [
    {
     "data": {
      "image/png": "[encoded data removed]",
      "text/plain": [
       "19×19 reinterpret(reshape, Gray{Float64}, ::Matrix{Float64}) with eltype Gray{Float64}:\n",
       " Gray{Float64}(1.98839e-64)  …  Gray{Float64}(2.48462e-38)\n",
       " Gray{Float64}(1.24767e-53)     Gray{Float64}(1.37279e-24)\n",
       " Gray{Float64}(4.23683e-37)     Gray{Float64}(1.10396e-21)\n",
       " Gray{Float64}(4.18452e-53)     Gray{Float64}(3.92605e-28)\n",
       " Gray{Float64}(1.36685e-60)     Gray{Float64}(5.8582e-30)\n",
       " Gray{Float64}(3.68341e-42)  …  Gray{Float64}(2.50681e-23)\n",
       " Gray{Float64}(1.44121e-18)     Gray{Float64}(9.88283e-12)\n",
       " Gray{Float64}(8.26647e-6)      Gray{Float64}(0.134432)\n",
       " Gray{Float64}(0.368834)        Gray{Float64}(0.354807)\n",
       " Gray{Float64}(0.730839)        Gray{Float64}(0.382191)\n",
       " Gray{Float64}(0.706065)     …  Gray{Float64}(1.00823)\n",
       " Gray{Float64}(0.610767)        Gray{Float64}(1.755)\n",
       " Gray{Float64}(0.294331)        Gray{Float64}(1.90719)\n",
       " Gray{Float64}(0.016579)        Gray{Float64}(1.37447)\n",
       " Gray{Float64}(1.53265e-13)     Gray{Float64}(0.684247)\n",
       " Gray{Float64}(1.67756e-16)  …  Gray{Float64}(0.317117)\n",
       " Gray{Float64}(9.62891e-13)     Gray{Float64}(0.0110806)\n",
       " Gray{Float64}(2.31583e-8)      Gray{Float64}(2.73192e-14)\n",
       " Gray{Float64}(4.80407e-23)     Gray{Float64}(8.87992e-65)"
      ]
     },
     "execution_count": 10,
     "metadata": {},
     "output_type": "execute_result"
    }
   ],
   "source": [
    "r = 50\n",
    "V0 = V0full[:, 1:r]\n",
    "W0 = W0full[1:r, :]\n",
    "result = nnmf(X, r, V = V0, W = W0)\n",
    "colorview(Gray, reshape(result[2][1, :], 19, 19))"
   ]
  },
  {
   "cell_type": "code",
   "execution_count": 11,
   "metadata": {},
   "outputs": [
    {
     "data": {
      "image/png": "[encoded data removed]",
      "text/plain": [
       "19×19 reinterpret(reshape, Gray{Float64}, ::Matrix{Float64}) with eltype Gray{Float64}:\n",
       " Gray{Float64}(2.55231e-28)  …  Gray{Float64}(8.58516e-52)\n",
       " Gray{Float64}(1.90869e-20)     Gray{Float64}(1.56411e-43)\n",
       " Gray{Float64}(3.46506e-14)     Gray{Float64}(5.2133e-37)\n",
       " Gray{Float64}(1.71962e-36)     Gray{Float64}(2.6886e-34)\n",
       " Gray{Float64}(1.45601e-40)     Gray{Float64}(6.04518e-51)\n",
       " Gray{Float64}(6.64597e-16)  …  Gray{Float64}(3.4646e-36)\n",
       " Gray{Float64}(0.301853)        Gray{Float64}(2.79333e-16)\n",
       " Gray{Float64}(1.4767)          Gray{Float64}(0.00205396)\n",
       " Gray{Float64}(1.74502)         Gray{Float64}(0.549894)\n",
       " Gray{Float64}(2.62256)         Gray{Float64}(1.30626)\n",
       " Gray{Float64}(2.93876)      …  Gray{Float64}(0.873984)\n",
       " Gray{Float64}(2.64446)         Gray{Float64}(0.402087)\n",
       " Gray{Float64}(1.60693)         Gray{Float64}(0.00514615)\n",
       " Gray{Float64}(0.286327)        Gray{Float64}(1.45863e-10)\n",
       " Gray{Float64}(3.54053e-7)      Gray{Float64}(9.79739e-11)\n",
       " Gray{Float64}(4.07595e-8)   …  Gray{Float64}(0.137673)\n",
       " Gray{Float64}(1.32083e-13)     Gray{Float64}(0.376255)\n",
       " Gray{Float64}(2.1663e-13)      Gray{Float64}(1.12898e-22)\n",
       " Gray{Float64}(2.66678e-17)     Gray{Float64}(1.17291e-79)"
      ]
     },
     "execution_count": 11,
     "metadata": {},
     "output_type": "execute_result"
    }
   ],
   "source": [
    "colorview(Gray, reshape(result[2][5, :], 19, 19))"
   ]
  },
  {
   "cell_type": "markdown",
   "metadata": {},
   "source": [
    "### Q1.7 GPU (optional)\n",
    "\n",
    "Investigate the GPU capabilities of Julia. Report the speed gain of your GPU code over CPU code at ranks $r=10, 20, 30, 40, 50$. Make sure to use the same starting point as in Q1.3."
   ]
  },
  {
   "cell_type": "markdown",
   "metadata": {},
   "source": [
    "## Q2. Estimating Kinship Matrix\n",
    "\n",
    "Consider the numerical task of estimating an $n \\times n$ kinship matrix $\\Phi$ from an $n \\times m$ genotype matrix $\\mathbf{G}$. Here $n$ is the number of individuals and $m$ is the number of genetic markers. [Lange et al](https://www.ncbi.nlm.nih.gov/pmc/articles/PMC6763373/) derived a method of moment estimator of form\n",
    "$$\n",
    "    \\widehat \\Phi_{ij} = \\frac{e_{ij} - \\sum_{k=1}^m [p_k^2 + (1 - p_k)^2]}{m - \\sum_{k=1}^m [p_k^2 + (1 - p_k)^2]}, \\quad 1 \\le i, j \\le n,\n",
    "$$\n",
    "where\n",
    "$$\n",
    "\\begin{eqnarray*}\n",
    "    e_{ij} &=& \\frac{1}{4} \\sum_{k=1}^m [g_{ik} g_{jk} + (2 - g_{ik})(2 - g_{jk})] \\\\\n",
    "    p_k &=& \\frac {1}{2n} \\sum_{i=1}^n g_{ik}.\n",
    "\\end{eqnarray*}\n",
    "$$"
   ]
  },
  {
   "cell_type": "markdown",
   "metadata": {},
   "source": [
    "### Q2.1 Develop code\n",
    "\n",
    "Write a function that takes a matrix `G` as input and outputs the method of moment estimator. \n",
    "Make your function as efficient (both speed and memory) as possible.    "
   ]
  },
  {
   "cell_type": "markdown",
   "metadata": {},
   "source": [
    "**Solution**"
   ]
  },
  {
   "cell_type": "code",
   "execution_count": 12,
   "metadata": {},
   "outputs": [
    {
     "data": {
      "text/plain": [
       "kinship (generic function with 1 method)"
      ]
     },
     "execution_count": 12,
     "metadata": {},
     "output_type": "execute_result"
    }
   ],
   "source": [
    "function kinship(G::Matrix{T}) where T <: AbstractFloat\n",
    "    n, m = size(G)\n",
    "\n",
    "    Φ = zeros(n, n)\n",
    "    S = zeros(n)\n",
    "    \n",
    "    sum!(S, G)\n",
    "    mul!(Φ, G, G')\n",
    "    denom = 2 / n * sum(S) - 1 / n^2 * sum(Φ)\n",
    "    \n",
    "    Φ .= Φ ./ denom .+ 1\n",
    "    \n",
    "    for i = 1:n, j = 1:n\n",
    "        Φ[i, j] =  Φ[i, j] - (S[i] + S[j])/ denom\n",
    "    end\n",
    "    # output\n",
    "    Φ\n",
    "end"
   ]
  },
  {
   "cell_type": "markdown",
   "metadata": {},
   "source": [
    "### Q2.2 Correctness\n",
    "\n",
    "First let's make sure our function yields correct answer. Run your function on a fake genotype matrix"
   ]
  },
  {
   "cell_type": "markdown",
   "metadata": {},
   "source": [
    "Compare the upper left $5 \\times 5$ block to what I got using my implementation\n",
    "\n",
    "```julia\n",
    "Φ[1:5, 1:5]\n",
    "```\n",
    "\n",
    "```\n",
    "5×5 Matrix{Float64}:\n",
    "  0.673584     -0.000762864  -0.00266412   0.00343992   0.00293959\n",
    " -0.000762864   0.665178     -0.0101691   -0.0110697    0.00223912\n",
    " -0.00266412   -0.0101691     0.665078     0.0102444    0.00253932\n",
    "  0.00343992   -0.0110697     0.0102444    0.66768     -0.0083679\n",
    "  0.00293959    0.00223912    0.00253932  -0.0083679    0.663777\n",
    "```"
   ]
  },
  {
   "cell_type": "markdown",
   "metadata": {},
   "source": [
    "**Solution**\n",
    "\n",
    "The answer matches with the expected result."
   ]
  },
  {
   "cell_type": "code",
   "execution_count": 13,
   "metadata": {},
   "outputs": [
    {
     "data": {
      "text/plain": [
       "5×5 Matrix{Float64}:\n",
       "  0.673584     -0.000762864  -0.00266412   0.00343992   0.00293959\n",
       " -0.000762864   0.665178     -0.0101691   -0.0110697    0.00223912\n",
       " -0.00266412   -0.0101691     0.665078     0.0102444    0.00253932\n",
       "  0.00343992   -0.0110697     0.0102444    0.66768     -0.0083679\n",
       "  0.00293959    0.00223912    0.00253932  -0.0083679    0.663777"
      ]
     },
     "execution_count": 13,
     "metadata": {},
     "output_type": "execute_result"
    }
   ],
   "source": [
    "# generate a fake genotype matrix with entries {0, 1, 2}\n",
    "Random.seed!(257)\n",
    "G = rand(0.0:2.0, 1000, 10000)\n",
    "Φ = kinship(G)\n",
    "Φ[1:5, 1:5]"
   ]
  },
  {
   "cell_type": "markdown",
   "metadata": {},
   "source": [
    "### Q2.3 Efficiency\n",
    "\n",
    "In a typical genetic data set, $n$ is at order of $10^3 \\sim 10^6$ and $m$ is at order of $10^6 \\sim 10^7$. Benchmark your function using the smaller data set $G$ generated in Q2.2. Efficiency (both speed and memory) will be the most important criterion when grading this question."
   ]
  },
  {
   "cell_type": "markdown",
   "metadata": {},
   "source": [
    "**Hint**: I got `@btime` output\n",
    "```\n",
    "82.144 ms (3 allocations: 7.64 MiB)\n",
    "```"
   ]
  },
  {
   "cell_type": "markdown",
   "metadata": {},
   "source": [
    "**Solution**\n",
    "\n",
    "The result matches with the expected efficiency. "
   ]
  },
  {
   "cell_type": "code",
   "execution_count": 14,
   "metadata": {},
   "outputs": [
    {
     "name": "stdout",
     "output_type": "stream",
     "text": [
      "  83.541 ms (3 allocations: 7.64 MiB)\n"
     ]
    },
    {
     "data": {
      "text/plain": [
       "1000×1000 Matrix{Float64}:\n",
       "  0.673584     -0.000762864  -0.00266412   …   0.0108448    -0.00446532\n",
       " -0.000762864   0.665178     -0.0101691        0.00994423   -0.00136326\n",
       " -0.00266412   -0.0101691     0.665078        -0.0157728    -0.00356472\n",
       "  0.00343992   -0.0110697     0.0102444        0.0106447     0.00514105\n",
       "  0.00293959    0.00223912    0.00253932      -0.00506571    0.00163873\n",
       " -0.00226386   -0.00626651   -0.00876817   …   0.00834317    0.00494091\n",
       "  0.00684217   -0.00516578    0.00384018      -0.00486558    0.00604164\n",
       "  0.00404032    0.00524111   -0.00816777      -0.00236392   -0.00696697\n",
       "  0.000237799   0.00233919    0.0129462       -0.0012632    -0.00296432\n",
       "  0.00564138   -0.00366479    0.0108448       -0.00736724    0.0154479\n",
       "  0.00574144   -0.00606638    0.00203899   …   0.00273946   -0.00736724\n",
       " -0.00326452   -0.00856803   -0.000162467      0.00183886   -0.0089683\n",
       "  0.000638064   0.00293959   -0.00306439      -0.00496565   -0.00156339\n",
       "  ⋮                                        ⋱                \n",
       "  0.0122458    -0.000962997  -0.0106694       -0.00476552    0.00173879\n",
       " -0.00466545    0.0150476     0.00073813       0.00454065   -0.00306439\n",
       "  0.00193893    0.00273946    0.012546     …   0.00384018    0.00414038\n",
       "  0.00754264    0.0128461    -0.00106306       0.0088435     0.00474078\n",
       " -0.00246399   -0.00396499   -0.00506571      -0.0095687    -0.00406505\n",
       " -0.00646664    0.00353999   -0.00146333      -0.0111698     0.00203899\n",
       " -0.012971     -0.0112698    -0.00206373      -0.00756737   -0.0198755\n",
       " -0.00206373    0.00654197    0.00404032   …   0.00253932   -0.00466545\n",
       "  0.0135466     0.00524111    0.00143859       0.000437931   0.00584151\n",
       "  0.000938262   0.000137732  -0.00476552       0.000337865  -0.00186359\n",
       "  0.0108448     0.00994423   -0.0157728        0.665378     -0.0109696\n",
       " -0.00446532   -0.00136326   -0.00356472      -0.0109696     0.665478"
      ]
     },
     "execution_count": 14,
     "metadata": {},
     "output_type": "execute_result"
    }
   ],
   "source": [
    "# benchmark\n",
    "@btime kinship($G)"
   ]
  }
 ],
 "metadata": {
  "@webio": {
   "lastCommId": null,
   "lastKernelId": null
  },
  "kernelspec": {
   "display_name": "Julia 1.7.2",
   "language": "julia",
   "name": "julia-1.7"
  },
  "language_info": {
   "file_extension": ".jl",
   "mimetype": "application/julia",
   "name": "julia",
   "version": "1.7.2"
  },
  "toc": {
   "colors": {
    "hover_highlight": "#DAA520",
    "running_highlight": "#FF0000",
    "selected_highlight": "#FFD700"
   },
   "moveMenuLeft": true,
   "nav_menu": {
    "height": "87px",
    "width": "252px"
   },
   "navigate_menu": true,
   "number_sections": true,
   "sideBar": true,
   "skip_h1_title": true,
   "threshold": 4,
   "toc_cell": false,
   "toc_section_display": "block",
   "toc_window_display": false,
   "widenNotebook": false
  }
 },
 "nbformat": 4,
 "nbformat_minor": 4
}
