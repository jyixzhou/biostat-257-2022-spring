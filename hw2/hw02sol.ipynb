{
 "cells": [
  {
   "cell_type": "markdown",
   "metadata": {},
   "source": [
    "# Biostat 257 Homework 2\n",
    "\n",
    "### Yixuan Zhou (UID 505 524 487)\n",
    "\n",
    "**Due Apr 29 @ 11:59PM**"
   ]
  },
  {
   "cell_type": "code",
   "execution_count": null,
   "metadata": {},
   "outputs": [],
   "source": [
    "versioninfo()"
   ]
  },
  {
   "cell_type": "code",
   "execution_count": 1,
   "metadata": {},
   "outputs": [
    {
     "name": "stderr",
     "output_type": "stream",
     "text": [
      "┌ Info: Precompiling BenchmarkTools [6e4b80f9-dd63-53aa-95a3-0cdb28fa8baf]\n",
      "└ @ Base loading.jl:1423\n",
      "┌ Info: Precompiling Images [916415d5-f1e6-5110-898d-aaa5f9f070e0]\n",
      "└ @ Base loading.jl:1423\n"
     ]
    }
   ],
   "source": [
    "# load libraries\n",
    "using BenchmarkTools, DelimitedFiles, Images, LinearAlgebra, Random"
   ]
  },
  {
   "cell_type": "markdown",
   "metadata": {},
   "source": [
    "## Q1. Nonnegative Matrix Factorization\n",
    "\n",
    "Nonnegative matrix factorization (NNMF) was introduced by [Lee and Seung (1999)](https://www.nature.com/articles/44565) as an analog of principal components and vector quantization with applications in data compression and clustering. In this homework we consider algorithms for fitting NNMF and (optionally) high performance computing using graphical processing units (GPUs).\n",
    "\n",
    "<img src=\"./nnmf.png\" width=\"500\" align=\"center\"/>\n",
    "\n",
    "In mathematical terms, one approximates a data matrix $\\mathbf{X} \\in \\mathbb{R}^{m \\times n}$ with nonnegative entries $x_{ij}$ by a product of two low-rank matrices $\\mathbf{V} \\in \\mathbb{R}^{m \\times r}$ and $\\mathbf{W} \\in \\mathbb{R}^{r \\times n}$ with nonnegative entries $v_{ik}$ and $w_{kj}$. Consider minimization of the squared Frobenius norm\n",
    "$$\n",
    "\tL(\\mathbf{V}, \\mathbf{W}) = \\|\\mathbf{X} - \\mathbf{V} \\mathbf{W}\\|_{\\text{F}}^2 = \\sum_i \\sum_j \\left(x_{ij} - \\sum_k v_{ik} w_{kj} \\right)^2, \\quad v_{ik} \\ge 0, w_{kj} \\ge 0,\n",
    "$$\n",
    "which should lead to a good factorization. Lee and Seung suggest an iterative algorithm with multiplicative updates\n",
    "$$\n",
    "v_{ik}^{(t+1)} = v_{ik}^{(t)} \\frac{\\sum_j x_{ij} w_{kj}^{(t)}}{\\sum_j b_{ij}^{(t)} w_{kj}^{(t)}}, \\quad \\text{where } b_{ij}^{(t)} = \\sum_k v_{ik}^{(t)} w_{kj}^{(t)},\n",
    "$$\n",
    "$$\n",
    "w_{kj}^{(t+1)} = w_{kj}^{(t)} \\frac{\\sum_i x_{ij} v_{ik}^{(t+1)}}{\\sum_i b_{ij}^{(t+1/2)} v_{ik}^{(t+1)}}, \\quad \\text{where } b_{ij}^{(t+1/2)} = \\sum_k v_{ik}^{(t+1)} w_{kj}^{(t)}\n",
    "$$\n",
    "that will drive the objective $L^{(t)} = L(\\mathbf{V}^{(t)}, \\mathbf{W}^{(t)})$ downhill. Superscript $t$ indicates iteration number. In following questions, efficiency (both speed and memory) will be the most important criterion when grading this problem."
   ]
  },
  {
   "cell_type": "markdown",
   "metadata": {},
   "source": [
    "### Q1.1 Develop code\n",
    "\n",
    "Implement the algorithm with arguments: $\\mathbf{X}$ (data, each row is a vectorized image), rank $r$, convergence tolerance, and optional starting point."
   ]
  },
  {
   "cell_type": "code",
   "execution_count": null,
   "metadata": {},
   "outputs": [],
   "source": [
    "function nnmf(\n",
    "    X       :: Matrix{T}, #T: (specifies type of element in the matrix) abstract float\n",
    "    r       :: Integer; # any type of integer\n",
    "    # X and r are required arguments. After the semicolon are optional arguments\n",
    "    maxiter :: Integer = 1000, \n",
    "    tolfun  :: Number = 1e-4,\n",
    "    V       :: Matrix{T} = rand(T, size(X, 1), r), \n",
    "    W       :: Matrix{T} = rand(T, r, size(X, 2))\n",
    "    # V and W are starting values \n",
    "    ) where T <: AbstractFloat\n",
    "    # implementation\n",
    "    # evaluate obj at starting point\n",
    "    # initialization\n",
    "    for iter in 1:maxiter\n",
    "        # TODO update V \n",
    "        # TODO update W\n",
    "        # these two steps are of interest\n",
    "        # evaluate obj\n",
    "        objold = obj # store old obj\n",
    "        obj = ... \n",
    "        niter = maxiter\n",
    "        # check convergence (criterion in 1.3)\n",
    "        if abs(obj - objold) <= tolfun * (abs(objold) + 1)\n",
    "            niter = iter\n",
    "            break\n",
    "        end     \n",
    "    end\n",
    "    # Output: returns whatever is on the last line\n",
    "    V, W, obj, niter\n",
    "end"
   ]
  },
  {
   "cell_type": "code",
   "execution_count": 20,
   "metadata": {},
   "outputs": [
    {
     "data": {
      "text/plain": [
       "3×6 Matrix{Float64}:\n",
       " 0.750322  0.599032  0.281214  0.74488   0.896104  0.424931\n",
       " 0.377483  0.1875    0.765121  0.54295   0.986991  0.248434\n",
       " 0.668728  0.789416  0.88107   0.576785  0.896508  0.768132"
      ]
     },
     "execution_count": 20,
     "metadata": {},
     "output_type": "execute_result"
    }
   ],
   "source": [
    "#X = readdlm(\"nnmf-2429-by-361-face.txt\")\n",
    "X = abs.(randn(4,6))\n",
    "r = 3\n",
    "maxiter = 2\n",
    "tolfun = 1e-4\n",
    "V = rand(size(X, 1), r)\n",
    "W = rand(r, size(X, 2))"
   ]
  },
  {
   "cell_type": "code",
   "execution_count": 21,
   "metadata": {},
   "outputs": [
    {
     "data": {
      "text/plain": [
       "4×3 Matrix{Float64}:\n",
       " 0.41563   0.942924   0.228512\n",
       " 0.599111  0.790634   0.844326\n",
       " 0.6375    0.0649066  0.473245\n",
       " 0.726727  0.468496   0.724374"
      ]
     },
     "execution_count": 21,
     "metadata": {},
     "output_type": "execute_result"
    }
   ],
   "source": [
    "V"
   ]
  },
  {
   "cell_type": "code",
   "execution_count": 22,
   "metadata": {},
   "outputs": [
    {
     "data": {
      "text/plain": [
       "3×6 Matrix{Float64}:\n",
       " 0.750322  0.599032  0.281214  0.74488   0.896104  0.424931\n",
       " 0.377483  0.1875    0.765121  0.54295   0.986991  0.248434\n",
       " 0.668728  0.789416  0.88107   0.576785  0.896508  0.768132"
      ]
     },
     "execution_count": 22,
     "metadata": {},
     "output_type": "execute_result"
    }
   ],
   "source": [
    "W"
   ]
  },
  {
   "cell_type": "code",
   "execution_count": null,
   "metadata": {},
   "outputs": [],
   "source": [
    "# TODO update V \n",
    "\n",
    "# TODO update W\n",
    "# these two steps are of interest\n",
    "# evaluate obj\n",
    "objold = obj # store old obj\n",
    "obj = ... \n",
    "niter = maxiter\n",
    "# check convergence (criterion in 1.3)\n",
    "if abs(obj - objold) <= tolful * (abs(objold) + 1)\n",
    "    niter = iter\n",
    "    break\n",
    "end     \n"
   ]
  },
  {
   "cell_type": "code",
   "execution_count": 19,
   "metadata": {},
   "outputs": [
    {
     "data": {
      "text/plain": [
       "BenchmarkTools.Trial: 10000 samples with 199 evaluations.\n",
       " Range \u001b[90m(\u001b[39m\u001b[36m\u001b[1mmin\u001b[22m\u001b[39m … \u001b[35mmax\u001b[39m\u001b[90m):  \u001b[39m\u001b[36m\u001b[1m418.754 ns\u001b[22m\u001b[39m … \u001b[35m 17.553 μs\u001b[39m  \u001b[90m┊\u001b[39m GC \u001b[90m(\u001b[39mmin … max\u001b[90m): \u001b[39m0.00% … 95.24%\n",
       " Time  \u001b[90m(\u001b[39m\u001b[34m\u001b[1mmedian\u001b[22m\u001b[39m\u001b[90m):     \u001b[39m\u001b[34m\u001b[1m443.090 ns               \u001b[22m\u001b[39m\u001b[90m┊\u001b[39m GC \u001b[90m(\u001b[39mmedian\u001b[90m):    \u001b[39m0.00%\n",
       " Time  \u001b[90m(\u001b[39m\u001b[32m\u001b[1mmean\u001b[22m\u001b[39m ± \u001b[32mσ\u001b[39m\u001b[90m):   \u001b[39m\u001b[32m\u001b[1m497.939 ns\u001b[22m\u001b[39m ± \u001b[32m615.954 ns\u001b[39m  \u001b[90m┊\u001b[39m GC \u001b[90m(\u001b[39mmean ± σ\u001b[90m):  \u001b[39m5.19% ±  4.19%\n",
       "\n",
       "  \u001b[39m▂\u001b[39m▇\u001b[39m▇\u001b[34m█\u001b[39m\u001b[39m▄\u001b[39m▅\u001b[39m▅\u001b[39m▅\u001b[39m▂\u001b[39m \u001b[39m▁\u001b[32m▂\u001b[39m\u001b[39m▁\u001b[39m▂\u001b[39m▂\u001b[39m▁\u001b[39m▁\u001b[39m \u001b[39m \u001b[39m \u001b[39m \u001b[39m \u001b[39m \u001b[39m \u001b[39m \u001b[39m \u001b[39m▁\u001b[39m \u001b[39m \u001b[39m \u001b[39m \u001b[39m \u001b[39m \u001b[39m \u001b[39m \u001b[39m \u001b[39m \u001b[39m \u001b[39m \u001b[39m \u001b[39m \u001b[39m \u001b[39m \u001b[39m \u001b[39m \u001b[39m \u001b[39m \u001b[39m \u001b[39m \u001b[39m \u001b[39m \u001b[39m \u001b[39m \u001b[39m \u001b[39m \u001b[39m \u001b[39m \u001b[39m \u001b[39m \u001b[39m \u001b[39m \u001b[39m \u001b[39m▂\n",
       "  \u001b[39m█\u001b[39m█\u001b[39m█\u001b[34m█\u001b[39m\u001b[39m█\u001b[39m█\u001b[39m█\u001b[39m█\u001b[39m█\u001b[39m█\u001b[39m█\u001b[32m█\u001b[39m\u001b[39m█\u001b[39m█\u001b[39m█\u001b[39m█\u001b[39m█\u001b[39m█\u001b[39m█\u001b[39m█\u001b[39m█\u001b[39m▇\u001b[39m▇\u001b[39m█\u001b[39m█\u001b[39m▇\u001b[39m█\u001b[39m█\u001b[39m█\u001b[39m▆\u001b[39m▇\u001b[39m▇\u001b[39m▆\u001b[39m▇\u001b[39m▆\u001b[39m█\u001b[39m▆\u001b[39m▇\u001b[39m▇\u001b[39m▆\u001b[39m▆\u001b[39m▆\u001b[39m▆\u001b[39m▅\u001b[39m▆\u001b[39m▅\u001b[39m▅\u001b[39m▅\u001b[39m▆\u001b[39m▄\u001b[39m▅\u001b[39m▆\u001b[39m▄\u001b[39m▄\u001b[39m▅\u001b[39m▃\u001b[39m▅\u001b[39m▄\u001b[39m▄\u001b[39m▃\u001b[39m▄\u001b[39m \u001b[39m█\n",
       "  419 ns\u001b[90m        \u001b[39m\u001b[90mHistogram: \u001b[39m\u001b[90m\u001b[1mlog(\u001b[22m\u001b[39m\u001b[90mfrequency\u001b[39m\u001b[90m\u001b[1m)\u001b[22m\u001b[39m\u001b[90m by time\u001b[39m        874 ns \u001b[0m\u001b[1m<\u001b[22m\n",
       "\n",
       " Memory estimate\u001b[90m: \u001b[39m\u001b[33m528 bytes\u001b[39m, allocs estimate\u001b[90m: \u001b[39m\u001b[33m3\u001b[39m."
      ]
     },
     "execution_count": 19,
     "metadata": {},
     "output_type": "execute_result"
    }
   ],
   "source": [
    "old = zeros(4,6)\n",
    "@benchmark old = norm(X - V*W)"
   ]
  },
  {
   "cell_type": "markdown",
   "metadata": {},
   "source": [
    "### Q1.2 Data\n",
    "\n",
    "Database 1 from the [MIT Center for Biological and Computational Learning (CBCL)](http://cbcl.mit.edu) reduces to a matrix $\\mathbf{X}$ containing $m = 2,429$ gray-scale face images with $n = 19 \\times 19 = 361$ pixels per face. Each image (row) is scaled to have mean and standard deviation 0.25.  \n",
    "\n",
    "Read in the [`nnmf-2429-by-361-face.txt`](https://raw.githubusercontent.com/ucla-biostat-257/2022spring/master/hw/hw2/nnmf-2429-by-361-face.txt) file, e.g., using [`readdlm`](https://docs.julialang.org/en/v1/stdlib/DelimitedFiles/#Delimited-Files) function, and display a couple sample images, e.g., using the [Images.jl](https://juliaimages.org/stable/) package."
   ]
  },
  {
   "cell_type": "code",
   "execution_count": null,
   "metadata": {},
   "outputs": [],
   "source": [
    "X = readdlm(\"nnmf-2429-by-361-face.txt\")\n",
    "#V0full = readdlm(\"\")\n",
    "#W0full = raddlm(\"\")\n",
    "colorview(Gray, reshape(X[1, :], 19, 19))"
   ]
  },
  {
   "cell_type": "code",
   "execution_count": null,
   "metadata": {},
   "outputs": [],
   "source": [
    "colorview(Gray, reshape(X[5, :], 19, 19))"
   ]
  },
  {
   "cell_type": "markdown",
   "metadata": {},
   "source": [
    "### Q1.3 Correctness and efficiency\n",
    "\n",
    "Report the run times, using `@time`, of your function for fitting NNMF on the MIT CBCL face data set at ranks $r=10, 20, 30, 40, 50$. For ease of comparison (and grading), please start your algorithm with the provided $\\mathbf{V}^{(0)}$ (first $r$ columns of [`V0.txt`](https://raw.githubusercontent.com/ucla-biostat-257/2022spring/master/hw/hw2/V0.txt)) and $\\mathbf{W}^{(0)}$ (first $r$ rows of [`W0.txt`](https://raw.githubusercontent.com/ucla-biostat-257/2022spring/master/hw/hw2/W0.txt)) and stopping criterion\n",
    "$$\n",
    "\\frac{|L^{(t+1)} - L^{(t)}|}{|L^{(t)}| + 1} \\le 10^{-4}.\n",
    "$$\n",
    "\n",
    "**Hint**: When I run the following code using my own implementation of `nnmf`\n",
    "```julia\n",
    "for r in [10, 20, 30, 40, 50]\n",
    "    println(\"r=$r\")\n",
    "    V0 = V0full[:, 1:r]\n",
    "    W0 = W0full[1:r, :]\n",
    "    @time V, W, obj, niter = nnmf(X, r; V = V0, W = W0)\n",
    "    println(\"obj=$obj, niter=$niter\")\n",
    "end\n",
    "```\n",
    "the output is\n",
    "```\n",
    "r=10\n",
    "  1.047598 seconds (20 allocations: 6.904 MiB)\n",
    "obj=11730.38800985483, niter=239\n",
    "r=20\n",
    "  1.913147 seconds (20 allocations: 7.120 MiB)\n",
    "obj=8497.222317850326, niter=394\n",
    "r=30\n",
    "  2.434662 seconds (20 allocations: 7.336 MiB)\n",
    "obj=6621.627345486279, niter=482\n",
    "r=40\n",
    "  3.424469 seconds (22 allocations: 7.554 MiB)\n",
    "obj=5256.663870563529, niter=581\n",
    "r=50\n",
    "  4.480342 seconds (23 allocations: 7.774 MiB)\n",
    "obj=4430.201581697291, niter=698\n",
    "```\n",
    "Since my laptop is about 6-7 years old, I expect to see your run time shorter than mine. Your memory allocation should be less or equal to mine."
   ]
  },
  {
   "cell_type": "markdown",
   "metadata": {},
   "source": [
    "#### Class Solution\n",
    "\n",
    "**Step 1 Protyping**"
   ]
  },
  {
   "cell_type": "code",
   "execution_count": 5,
   "metadata": {},
   "outputs": [
    {
     "data": {
      "text/plain": [
       "nnmf_prototype (generic function with 1 method)"
      ]
     },
     "execution_count": 5,
     "metadata": {},
     "output_type": "execute_result"
    }
   ],
   "source": [
    "function nnmf_prototype(\n",
    "    X       :: Matrix{T}, #T: (specifies type of element in the matrix) abstract float\n",
    "    r       :: Integer; # any type of integer\n",
    "    maxiter :: Integer = 1000, \n",
    "    tolfun  :: Number = 1e-4,\n",
    "    V       :: Matrix{T} = rand(T, size(X, 1), r), \n",
    "    W       :: Matrix{T} = rand(T, r, size(X, 2)),\n",
    "    verbose :: Bool = false\n",
    "    ) where T <: AbstractFloat\n",
    "    # implementation\n",
    "    obj = norm(X - V * W)^2\n",
    "    \n",
    "    if verbose\n",
    "        println(\"iter = 0, obj = $obj\")\n",
    "    end\n",
    "    \n",
    "    niter = maxiter\n",
    "    for iter in 1:maxiter\n",
    "        # TODO update V \n",
    "        # optimize \n",
    "        V .= V .* (X * W') ./ (V * W * W')\n",
    "        # the dot in equal stores result on the right to the left (i.e. V is updated)\n",
    "        # TODO update W\n",
    "        # optimize\n",
    "        W .= W .* (V' * X) ./ (V' * V * W)\n",
    "        \n",
    "        # check convergence (criterion in 1.3)\n",
    "        # optimize\n",
    "        objold = obj\n",
    "        obj = norm(X - V * W)^2\n",
    "        if verbose\n",
    "            println(\"iter = $iter, obj = $obj\")\n",
    "        end\n",
    "        if abs(obj - objold) ≤ tolfun * (abs(objold) + 1) \n",
    "            niter = iter\n",
    "            break\n",
    "        end     \n",
    "    end\n",
    "    if niter == maxiter\n",
    "        # @warning \"maxiter reached without convergence\"\n",
    "        @warn \"SCREAM!!!! maxiter reached without convergence\"\n",
    "    end \n",
    "    # Output\n",
    "    V, W, obj, niter\n",
    "end"
   ]
  },
  {
   "cell_type": "code",
   "execution_count": 7,
   "metadata": {},
   "outputs": [
    {
     "data": {
      "text/plain": [
       "50×361 Matrix{Float64}:\n",
       " 0.5634    0.32048   0.067202   0.25107   …  0.4476     0.12656   0.13688\n",
       " 0.71473   0.25423   0.084735   0.84327      0.20947    0.32729   0.43787\n",
       " 0.046351  0.041688  0.79152    0.8962       0.6786     0.17112   0.83691\n",
       " 0.76991   0.13366   0.0061026  0.70588      0.4457     0.012722  0.64244\n",
       " 0.56335   0.35408   0.62697    0.94923      0.073816   0.62934   0.58596\n",
       " 0.13659   0.82449   0.17183    0.051802  …  0.87725    0.86247   0.45418\n",
       " 0.2326    0.92296   0.73855    0.35246      0.015108   0.68424   0.15457\n",
       " 0.95628   0.97221   0.94922    0.59106      0.49038    0.52232   0.4399\n",
       " 0.82876   0.33257   0.95808    0.11028      0.66812    0.69979   0.57679\n",
       " 0.33585   0.59454   0.75948    0.26544      0.34689    0.071471  0.020196\n",
       " 0.87571   0.83349   0.83207    0.57283   …  0.34609    0.22545   0.2295\n",
       " 0.27631   0.10171   0.4809     0.10614      0.0039955  0.92647   0.27393\n",
       " 0.914     0.45783   0.32193    0.65607      0.1204     0.29447   0.88988\n",
       " ⋮                                        ⋱                       ⋮\n",
       " 0.30883   0.41147   0.64075    0.87004      0.20019    0.55648   0.7459\n",
       " 0.97866   0.74029   0.037366   0.97796      0.55272    0.3288    0.837\n",
       " 0.71393   0.78077   0.051596   0.25867   …  0.95825    0.89787   0.21096\n",
       " 0.35293   0.41894   0.0063373  0.43144      0.14756    0.93285   0.59017\n",
       " 0.46036   0.61322   0.91126    0.76635      0.67864    0.16147   0.93417\n",
       " 0.036917  0.4889    0.2838     0.03403      0.027589   0.79055   0.31241\n",
       " 0.74309   0.12138   0.82587    0.84609      0.52128    0.908     0.6062\n",
       " 0.74466   0.46317   0.38367    0.97784   …  0.78373    0.4644    0.54906\n",
       " 0.57612   0.81248   0.14814    0.65148      0.78202    0.26502   0.34613\n",
       " 0.65722   0.28434   0.78214    0.62961      0.054762   0.14826   0.23983\n",
       " 0.5275    0.15481   0.50847    0.26226      0.1513     0.048605  0.052235\n",
       " 0.027423  0.80658   0.33708    0.54062      0.887      0.15571   0.76327"
      ]
     },
     "execution_count": 7,
     "metadata": {},
     "output_type": "execute_result"
    }
   ],
   "source": [
    "# load X and starting point\n",
    "X = readdlm(\"nnmf-2429-by-361-face.txt\")\n",
    "V0full = readdlm(\"V0.txt\")\n",
    "W0full = readdlm(\"W0.txt\")"
   ]
  },
  {
   "cell_type": "code",
   "execution_count": 10,
   "metadata": {},
   "outputs": [
    {
     "name": "stdout",
     "output_type": "stream",
     "text": [
      "iter = 0, obj = 4.898772038789471e6\n",
      "iter = 1, obj = 26397.21637479479\n",
      "iter = 2, obj = 25984.0874695548\n",
      "iter = 3, obj = 25869.85809608935\n",
      "iter = 4, obj = 25760.44327059261\n",
      "iter = 5, obj = 25648.863265758395\n",
      "iter = 6, obj = 25527.99041197396\n",
      "iter = 7, obj = 25389.470351972137\n",
      "iter = 8, obj = 25223.080057769024\n",
      "iter = 9, obj = 25016.28160328746\n",
      "iter = 10, obj = 24754.251587964573\n",
      "iter = 11, obj = 24420.876956576914\n",
      "iter = 12, obj = 24001.324903966375\n",
      "iter = 13, obj = 23486.480241352092\n",
      "iter = 14, obj = 22878.368744815874\n",
      "iter = 15, obj = 22193.861436724594\n",
      "iter = 16, obj = 21463.307632261403\n",
      "iter = 17, obj = 20723.431260629197\n",
      "iter = 18, obj = 20008.184575799358\n",
      "iter = 19, obj = 19342.301525748167\n",
      "iter = 20, obj = 18739.26730548495\n",
      "iter = 21, obj = 18202.58327336699\n",
      "iter = 22, obj = 17728.61456024205\n",
      "iter = 23, obj = 17309.73262737562\n",
      "iter = 24, obj = 16936.953319932112\n",
      "iter = 25, obj = 16601.7120945438\n",
      "iter = 26, obj = 16296.773096661153\n",
      "iter = 27, obj = 16016.48238388981\n",
      "iter = 28, obj = 15756.639576858608\n",
      "iter = 29, obj = 15514.219700801534\n",
      "iter = 30, obj = 15287.090604434723\n",
      "iter = 31, obj = 15073.786977687292\n",
      "iter = 32, obj = 14873.34185390181\n",
      "iter = 33, obj = 14685.147288659728\n",
      "iter = 34, obj = 14508.817432572761\n",
      "iter = 35, obj = 14344.052135927128\n",
      "iter = 36, obj = 14190.5251960899\n",
      "iter = 37, obj = 14047.822111246192\n",
      "iter = 38, obj = 13915.430032793156\n",
      "iter = 39, obj = 13792.767106023444\n",
      "iter = 40, obj = 13679.240717144203\n",
      "iter = 41, obj = 13574.314267585205\n",
      "iter = 42, obj = 13477.52280051876\n",
      "iter = 43, obj = 13388.397900300639\n",
      "iter = 44, obj = 13306.38976994449\n",
      "iter = 45, obj = 13230.885431969564\n",
      "iter = 46, obj = 13161.276912105463\n",
      "iter = 47, obj = 13097.002669889338\n",
      "iter = 48, obj = 13037.555510798395\n",
      "iter = 49, obj = 12982.478188641306\n",
      "iter = 50, obj = 12931.358297680426\n",
      "iter = 51, obj = 12883.824345292636\n",
      "iter = 52, obj = 12839.542244163922\n",
      "iter = 53, obj = 12798.21183857753\n",
      "iter = 54, obj = 12759.563644018624\n",
      "iter = 55, obj = 12723.356076354705\n",
      "iter = 56, obj = 12689.373291675936\n",
      "iter = 57, obj = 12657.423526435752\n",
      "iter = 58, obj = 12627.337533460823\n",
      "iter = 59, obj = 12598.966532255043\n",
      "iter = 60, obj = 12572.17935064833\n",
      "iter = 61, obj = 12546.859078396586\n",
      "iter = 62, obj = 12522.900020176034\n",
      "iter = 63, obj = 12500.205578426796\n",
      "iter = 64, obj = 12478.687124208149\n",
      "iter = 65, obj = 12458.263470436283\n",
      "iter = 66, obj = 12438.860494859795\n",
      "iter = 67, obj = 12420.4106327659\n",
      "iter = 68, obj = 12402.852162939174\n",
      "iter = 69, obj = 12386.128348189271\n",
      "iter = 70, obj = 12370.18655331538\n",
      "iter = 71, obj = 12354.977464802518\n",
      "iter = 72, obj = 12340.45449899709\n",
      "iter = 73, obj = 12326.57343122845\n",
      "iter = 74, obj = 12313.292227133354\n",
      "iter = 75, obj = 12300.571022694523\n",
      "iter = 76, obj = 12288.372186214498\n",
      "iter = 77, obj = 12276.660401071365\n",
      "iter = 78, obj = 12265.402725534424\n",
      "iter = 79, obj = 12254.568606981824\n",
      "iter = 80, obj = 12244.12984605175\n",
      "iter = 81, obj = 12234.06051807683\n",
      "iter = 82, obj = 12224.336864090048\n",
      "iter = 83, obj = 12214.93716330773\n",
      "iter = 84, obj = 12205.841595717282\n",
      "iter = 85, obj = 12197.032099534876\n",
      "iter = 86, obj = 12188.492225467578\n",
      "iter = 87, obj = 12180.206988627795\n",
      "iter = 88, obj = 12172.162719464308\n",
      "iter = 89, obj = 12164.346916446322\n",
      "iter = 90, obj = 12156.748104495497\n",
      "iter = 91, obj = 12149.355703545469\n",
      "iter = 92, obj = 12142.159910864832\n",
      "iter = 93, obj = 12135.151599201597\n",
      "iter = 94, obj = 12128.322231005264\n",
      "iter = 95, obj = 12121.663787542675\n",
      "iter = 96, obj = 12115.168710955062\n",
      "iter = 97, obj = 12108.829857182933\n",
      "iter = 98, obj = 12102.640457972058\n",
      "iter = 99, obj = 12096.59409057704\n",
      "iter = 100, obj = 12090.684654082912\n",
      "iter = 101, obj = 12084.906351373465\n",
      "iter = 102, obj = 12079.253675696018\n",
      "iter = 103, obj = 12073.721400580289\n",
      "iter = 104, obj = 12068.304571669003\n",
      "iter = 105, obj = 12062.998498916128\n",
      "iter = 106, obj = 12057.798747694647\n",
      "iter = 107, obj = 12052.701127679167\n",
      "iter = 108, obj = 12047.701678922218\n",
      "iter = 109, obj = 12042.796655250248\n",
      "iter = 110, obj = 12037.982505823627\n",
      "iter = 111, obj = 12033.255856255022\n",
      "iter = 112, obj = 12028.613490893127\n",
      "iter = 113, obj = 12024.052337655201\n",
      "iter = 114, obj = 12019.569456151294\n",
      "iter = 115, obj = 12015.162028939238\n",
      "iter = 116, obj = 12010.827354842744\n",
      "iter = 117, obj = 12006.562842649464\n",
      "iter = 118, obj = 12002.36600341571\n",
      "iter = 119, obj = 11998.234440121842\n",
      "iter = 120, obj = 11994.165834432204\n",
      "iter = 121, obj = 11990.157931522515\n",
      "iter = 122, obj = 11986.208524965905\n",
      "iter = 123, obj = 11982.315444183689\n",
      "iter = 124, obj = 11978.476546803922\n",
      "iter = 125, obj = 11974.689717488895\n",
      "iter = 126, obj = 11970.952873638687\n",
      "iter = 127, obj = 11967.263977180992\n",
      "iter = 128, obj = 11963.62105071168\n",
      "iter = 129, obj = 11960.022195733705\n",
      "iter = 130, obj = 11956.4656106963\n",
      "iter = 131, obj = 11952.94960689525\n",
      "iter = 132, obj = 11949.472620926588\n",
      "iter = 133, obj = 11946.033223131519\n",
      "iter = 134, obj = 11942.630122174316\n",
      "iter = 135, obj = 11939.262166430808\n",
      "iter = 136, obj = 11935.928343165224\n",
      "iter = 137, obj = 11932.62777654514\n",
      "iter = 138, obj = 11929.359725463137\n",
      "iter = 139, obj = 11926.123582001153\n",
      "iter = 140, obj = 11922.918871254513\n",
      "iter = 141, obj = 11919.745253109706\n",
      "iter = 142, obj = 11916.602526339078\n",
      "iter = 143, obj = 11913.490634899892\n",
      "iter = 144, obj = 11910.409675524352\n",
      "iter = 145, obj = 11907.35990462139\n",
      "iter = 146, obj = 11904.341741414897\n",
      "iter = 147, obj = 11901.355763488335\n",
      "iter = 148, obj = 11898.402690890158\n",
      "iter = 149, obj = 11895.483355962115\n",
      "iter = 150, obj = 11892.598658121282\n",
      "iter = 151, obj = 11889.749505677655\n",
      "iter = 152, obj = 11886.936749816476\n",
      "iter = 153, obj = 11884.161118329042\n",
      "iter = 154, obj = 11881.423157747888\n",
      "iter = 155, obj = 11878.72319171758\n",
      "iter = 156, obj = 11876.061300734364\n",
      "iter = 157, obj = 11873.437324475748\n",
      "iter = 158, obj = 11870.85088392282\n",
      "iter = 159, obj = 11868.301417480334\n",
      "iter = 160, obj = 11865.78822401258\n",
      "iter = 161, obj = 11863.31050616914\n",
      "iter = 162, obj = 11860.86740905338\n",
      "iter = 163, obj = 11858.458051437638\n",
      "iter = 164, obj = 11856.081548699089\n",
      "iter = 165, obj = 11853.737028064566\n",
      "iter = 166, obj = 11851.423637523569\n",
      "iter = 167, obj = 11849.140550003263\n",
      "iter = 168, obj = 11846.886964281022\n",
      "iter = 169, obj = 11844.662103816434\n",
      "iter = 170, obj = 11842.465214345948\n",
      "iter = 171, obj = 11840.295560775618\n",
      "iter = 172, obj = 11838.152423664547\n",
      "iter = 173, obj = 11836.035095419922\n",
      "iter = 174, obj = 11833.942876216284\n",
      "iter = 175, obj = 11831.875069594025\n",
      "iter = 176, obj = 11829.830977672653\n",
      "iter = 177, obj = 11827.809895922848\n",
      "iter = 178, obj = 11825.811107471438\n",
      "iter = 179, obj = 11823.833876961742\n",
      "iter = 180, obj = 11821.877444058513\n",
      "iter = 181, obj = 11819.941016774159\n",
      "iter = 182, obj = 11818.023764905165\n",
      "iter = 183, obj = 11816.12481400869\n",
      "iter = 184, obj = 11814.243240520747\n",
      "iter = 185, obj = 11812.378068815397\n",
      "iter = 186, obj = 11810.528271213545\n",
      "iter = 187, obj = 11808.692772137972\n",
      "iter = 188, obj = 11806.870457721063\n",
      "iter = 189, obj = 11805.060192119368\n",
      "iter = 190, obj = 11803.26084146744\n",
      "iter = 191, obj = 11801.471305705618\n",
      "iter = 192, obj = 11799.690557382874\n",
      "iter = 193, obj = 11797.91768502699\n",
      "iter = 194, obj = 11796.151937051805\n",
      "iter = 195, obj = 11794.392760937186\n",
      "iter = 196, obj = 11792.639832243722\n",
      "iter = 197, obj = 11790.8930694996\n",
      "iter = 198, obj = 11789.152634219583\n",
      "iter = 199, obj = 11787.418919494314\n",
      "iter = 200, obj = 11785.692533984511\n",
      "iter = 201, obj = 11783.97428865607\n",
      "iter = 202, obj = 11782.265189892838\n",
      "iter = 203, obj = 11780.566435462573\n",
      "iter = 204, obj = 11778.879402367293\n",
      "iter = 205, obj = 11777.205612364822\n",
      "iter = 206, obj = 11775.546665225982\n",
      "iter = 207, obj = 11773.90414124824\n",
      "iter = 208, obj = 11772.279488435242\n",
      "iter = 209, obj = 11770.673919007177\n",
      "iter = 210, obj = 11769.08833921162\n",
      "iter = 211, obj = 11767.52332561695\n",
      "iter = 212, obj = 11765.97914548072\n",
      "iter = 213, obj = 11764.455805900858\n",
      "iter = 214, obj = 11762.953111630126\n",
      "iter = 215, obj = 11761.470715287025\n",
      "iter = 216, obj = 11760.008152635603\n",
      "iter = 217, obj = 11758.564864501532\n",
      "iter = 218, obj = 11757.14021194161\n",
      "iter = 219, obj = 11755.733491508141\n",
      "iter = 220, obj = 11754.343954368214\n",
      "iter = 221, obj = 11752.970829182097\n",
      "iter = 222, obj = 11751.613346016298\n",
      "iter = 223, obj = 11750.270757879527\n",
      "iter = 224, obj = 11748.9423573173\n",
      "iter = 225, obj = 11747.627486999627\n",
      "iter = 226, obj = 11746.325544616793\n",
      "iter = 227, obj = 11745.035983268628\n",
      "iter = 228, obj = 11743.758308849614\n",
      "iter = 229, obj = 11742.492075844999\n",
      "iter = 230, obj = 11741.236882652305\n",
      "iter = 231, obj = 11739.992367181461\n",
      "iter = 232, obj = 11738.758203154643\n",
      "iter = 233, obj = 11737.534097261281\n",
      "iter = 234, obj = 11736.319787132103\n",
      "iter = 235, obj = 11735.11503996963\n",
      "iter = 236, obj = 11733.919651602126\n",
      "iter = 237, obj = 11732.733445703861\n",
      "iter = 238, obj = 11731.55627294124\n",
      "iter = 239, obj = 11730.38800985483\n"
     ]
    },
    {
     "data": {
      "text/plain": [
       "([0.11851552506050547 0.029940503455096936 … 0.0028830808553836898 0.064209910487126; 0.13176807592569614 0.0004309168162359835 … 0.01486343136309386 0.035028745583671625; … ; 0.052705837558246364 0.04794098005164004 … 0.1700196278798265 0.04626182097825301; 0.12933014679416066 0.01956781040212816 … 0.09435983264067124 0.029580777291877237], [3.385885235846894e-27 1.1745375738681033e-27 … 0.23001933337975108 2.2801686250908547e-6; 0.01089979057338704 1.7007366080212261e-6 … 9.165787020781076e-15 5.134415347265328e-11; … ; 4.0722852963975666e-10 0.00011974641917548936 … 6.611383816440941e-6 1.3798984047397109e-12; 5.698509363463677e-10 6.980500700786396e-9 … 2.2318529440909026e-14 1.8764490698063125e-18], 11730.38800985483, 239)"
      ]
     },
     "execution_count": 10,
     "metadata": {},
     "output_type": "execute_result"
    }
   ],
   "source": [
    "r = 10\n",
    "V0 = V0full[:, 1:r]\n",
    "W0 = W0full[1:r, :]\n",
    "nnmf_prototype(X, r, V = V0, W = W0, verbose = true)"
   ]
  },
  {
   "cell_type": "code",
   "execution_count": 54,
   "metadata": {},
   "outputs": [
    {
     "name": "stdout",
     "output_type": "stream",
     "text": [
      "  1.858176 seconds (3.35 k allocations: 3.236 GiB, 21.16% gc time)\n"
     ]
    },
    {
     "data": {
      "text/plain": [
       "([0.11851552506050547 0.029940503455096936 … 0.0028830808553836898 0.064209910487126; 0.13176807592569614 0.0004309168162359835 … 0.01486343136309386 0.035028745583671625; … ; 0.052705837558246364 0.04794098005164004 … 0.1700196278798265 0.04626182097825301; 0.12933014679416066 0.01956781040212816 … 0.09435983264067124 0.029580777291877237], [3.385885235846894e-27 1.1745375738681033e-27 … 0.23001933337975108 2.2801686250908547e-6; 0.01089979057338704 1.7007366080212261e-6 … 9.165787020781076e-15 5.134415347265328e-11; … ; 4.0722852963975666e-10 0.00011974641917548936 … 6.611383816440941e-6 1.3798984047397109e-12; 5.698509363463677e-10 6.980500700786396e-9 … 2.2318529440909026e-14 1.8764490698063125e-18], 11730.38800985483, 239)"
      ]
     },
     "execution_count": 54,
     "metadata": {},
     "output_type": "execute_result"
    }
   ],
   "source": [
    "V0 = V0full[:, 1:r]\n",
    "W0 = W0full[1:r, :]\n",
    "@time nnmf_prototype(X, r, V = V0, W = W0)"
   ]
  },
  {
   "cell_type": "markdown",
   "metadata": {},
   "source": [
    "**Step 2 Optimization**\n",
    "benchmarking, profiling, ..."
   ]
  },
  {
   "cell_type": "code",
   "execution_count": 43,
   "metadata": {},
   "outputs": [
    {
     "data": {
      "text/plain": [
       "nnmf (generic function with 1 method)"
      ]
     },
     "execution_count": 43,
     "metadata": {},
     "output_type": "execute_result"
    }
   ],
   "source": [
    "function nnmf(\n",
    "    X       :: Matrix{T}, #T: (specifies type of element in the matrix) abstract float\n",
    "    r       :: Integer; # any type of integer\n",
    "    maxiter :: Integer = 1000, \n",
    "    tolfun  :: Number = 1e-4,\n",
    "    V       :: Matrix{T} = rand(T, size(X, 1), r), \n",
    "    W       :: Matrix{T} = rand(T, r, size(X, 2)),\n",
    "    verbose :: Bool = false\n",
    "    ) where T <: AbstractFloat\n",
    "    # implementation\n",
    "    n, m = size(X)\n",
    "\n",
    "    if verbose\n",
    "        println(\"iter = 0, obj = $obj\")\n",
    "    end\n",
    "    \n",
    "    niter = maxiter\n",
    "    storageR = Matrix{T}(undef, r, r)\n",
    "    storageV1 = similar(V) #num\n",
    "    storageV2 = similar(V) #denom\n",
    "    storageW1 = similar(W)\n",
    "    storageW2 = similar(W)\n",
    "    storageX = similar(X)\n",
    "    \n",
    "    #obj = norm(X - V * W)^2\n",
    "    mul!(storageX, V, W)\n",
    "    storageX .= X .- storageX\n",
    "    obj = norm(storageX)^2\n",
    "    \n",
    "    for iter in 1:maxiter\n",
    "\n",
    "        # V .= V .* (X * W') ./ (V * (W * W'))\n",
    "        mul!(storageR, W, transpose(W)) #O(nr^2)\n",
    "        mul!(storageV2, V, storageR)\n",
    "        mul!(storageV1, X, transpose(W))\n",
    "        V .= V .* storageV1 ./ storageV2\n",
    "        \n",
    "        # W .= W .* (V' * X) ./ ((V' * V) * W)\n",
    "        mul!(storageR, transpose(V), V)\n",
    "        mul!(storageW2, storageR, W)\n",
    "        mul!(storageW1, transpose(V), X)\n",
    "        W .= W .* storageW1 ./ storageW2\n",
    "        \n",
    "        # check convergence (criterion in 1.3)\n",
    "        objold = obj\n",
    "        mul!(storageX, V, W) # O(mnr) BLAS 3, faster\n",
    "        storageX .= X .- storageX # O(mn) BLAS 1, slower\n",
    "        # combine these two steps using gemm\n",
    "        # BLAS.gemm!(storageX, V, W, *, *)\n",
    "        obj = norm(storageX)^2\n",
    "        \n",
    "        if verbose\n",
    "            println(\"iter = $iter, obj = $obj\")\n",
    "        end\n",
    "        if abs(obj - objold) ≤ tolfun * (abs(objold) + 1) \n",
    "            niter = iter\n",
    "            break\n",
    "        end     \n",
    "    end\n",
    "    if niter == maxiter\n",
    "        # @warning \"maxiter reached without convergence\"\n",
    "        @warn \"SCREAM!!!! maxiter reached without convergence\"\n",
    "    end \n",
    "    # Output\n",
    "    V, W, obj, niter\n",
    "end"
   ]
  },
  {
   "cell_type": "code",
   "execution_count": 47,
   "metadata": {},
   "outputs": [
    {
     "data": {
      "text/plain": [
       "([0.11851552506050547 0.029940503455096936 … 0.0028830808553836898 0.064209910487126; 0.13176807592569614 0.0004309168162359835 … 0.01486343136309386 0.035028745583671625; … ; 0.052705837558246364 0.04794098005164004 … 0.1700196278798265 0.04626182097825301; 0.12933014679416066 0.01956781040212816 … 0.09435983264067124 0.029580777291877237], [3.385885235846894e-27 1.1745375738681033e-27 … 0.23001933337975108 2.2801686250908547e-6; 0.01089979057338704 1.7007366080212261e-6 … 9.165787020781076e-15 5.134415347265328e-11; … ; 4.0722852963975666e-10 0.00011974641917548936 … 6.611383816440941e-6 1.3798984047397109e-12; 5.698509363463677e-10 6.980500700786396e-9 … 2.2318529440909026e-14 1.8764490698063125e-18], 11730.38800985483, 239)"
      ]
     },
     "execution_count": 47,
     "metadata": {},
     "output_type": "execute_result"
    }
   ],
   "source": [
    "r = 10\n",
    "V0 = V0full[:, 1:r]\n",
    "W0 = W0full[1:r, :]\n",
    "nnmf(X, r, V = V0, W = W0)"
   ]
  },
  {
   "cell_type": "code",
   "execution_count": 49,
   "metadata": {},
   "outputs": [
    {
     "name": "stdout",
     "output_type": "stream",
     "text": [
      "  0.745996 seconds (14 allocations: 7.117 MiB)\n"
     ]
    },
    {
     "data": {
      "text/plain": [
       "([0.11851552506050547 0.029940503455096936 … 0.0028830808553836898 0.064209910487126; 0.13176807592569614 0.0004309168162359835 … 0.01486343136309386 0.035028745583671625; … ; 0.052705837558246364 0.04794098005164004 … 0.1700196278798265 0.04626182097825301; 0.12933014679416066 0.01956781040212816 … 0.09435983264067124 0.029580777291877237], [3.385885235846894e-27 1.1745375738681033e-27 … 0.23001933337975108 2.2801686250908547e-6; 0.01089979057338704 1.7007366080212261e-6 … 9.165787020781076e-15 5.134415347265328e-11; … ; 4.0722852963975666e-10 0.00011974641917548936 … 6.611383816440941e-6 1.3798984047397109e-12; 5.698509363463677e-10 6.980500700786396e-9 … 2.2318529440909026e-14 1.8764490698063125e-18], 11730.38800985483, 239)"
      ]
     },
     "execution_count": 49,
     "metadata": {},
     "output_type": "execute_result"
    }
   ],
   "source": [
    "r = 10\n",
    "V0 = V0full[:, 1:r]\n",
    "W0 = W0full[1:r, :]\n",
    "@time nnmf(X, r, V = V0, W = W0)"
   ]
  },
  {
   "cell_type": "code",
   "execution_count": 50,
   "metadata": {},
   "outputs": [
    {
     "name": "stdout",
     "output_type": "stream",
     "text": [
      " Count  Overhead File                    Line Function\n",
      " =====  ======== ====                    ==== ========\n",
      "     8         0 In[43]                    27 nnmf(X::Matrix{Float64}, r::Int...\n",
      "     1         0 In[43]                    33 nnmf(X::Matrix{Float64}, r::Int...\n",
      "     1         0 In[43]                    34 nnmf(X::Matrix{Float64}, r::Int...\n",
      "     5         0 In[43]                    35 nnmf(X::Matrix{Float64}, r::Int...\n",
      "    50         0 In[43]                    36 nnmf(X::Matrix{Float64}, r::Int...\n",
      "     1         0 In[43]                    39 nnmf(X::Matrix{Float64}, r::Int...\n",
      "     1         0 In[43]                    40 nnmf(X::Matrix{Float64}, r::Int...\n",
      "    14         0 In[43]                    42 nnmf(X::Matrix{Float64}, r::Int...\n",
      "     1         0 In[43]                    46 nnmf(X::Matrix{Float64}, r::Int...\n",
      "  1231         0 In[43]                    47 nnmf(X::Matrix{Float64}, r::Int...\n",
      "     2         0 In[43]                    50 nnmf(X::Matrix{Float64}, r::Int...\n",
      "  1317         0 In[43]                    11 (::var\"#nnmf##kw\")(::NamedTuple...\n",
      "   198         0 In[50]                     4 macro expansion\n",
      "     2         0 In[50]                     5 macro expansion\n",
      "  1317         0 In[50]                     6 macro expansion\n",
      "     2         0 @Base/abstractarray.jl    95 axes\n",
      "   200         0 @Base/abstractarray.jl  1218 getindex(::Matrix{Float64}, ::U...\n",
      "   194         0 @Base/abstractarray.jl   783 similar\n",
      "   167       167 @Base/array.jl           862 getindex\n",
      "     6         6 @Base/array.jl           903 setindex!\n",
      "   581       581 @Base/array.jl           905 setindex!\n",
      "   194         0 @Base/array.jl           378 similar\n",
      "     2         2 @Base/array.jl           152 size\n",
      "   194       194 @Base/boot.jl            459 Array\n",
      "   194         0 @Base/boot.jl            467 Array\n",
      "  1517         0 @Base/boot.jl            373 eval\n",
      "     3         0 @Base/broadcast.jl       224 _axes\n",
      "     1         1 @Base/broadcast.jl       509 _bcs(shape::Tuple{Base.OneTo{In...\n",
      "   167         0 @Base/broadcast.jl       636 _broadcast_getindex\n",
      "   173         0 @Base/broadcast.jl       642 _broadcast_getindex\n",
      "   314         0 @Base/broadcast.jl       643 _broadcast_getindex\n",
      "   314         0 @Base/broadcast.jl       670 _broadcast_getindex_evalf\n",
      "   173         0 @Base/broadcast.jl       666 _getindex\n",
      "     1         0 @Base/broadcast.jl       591 _newindexer\n",
      "     1         0 @Base/broadcast.jl       592 _newindexer\n",
      "     3         0 @Base/broadcast.jl       222 axes\n",
      "     1         0 @Base/broadcast.jl       504 broadcast_shape\n",
      "     3         0 @Base/broadcast.jl       543 check_broadcast_axes\n",
      "     3         0 @Base/broadcast.jl       546 check_broadcast_axes\n",
      "     3         0 @Base/broadcast.jl       499 combine_axes\n",
      "  1300         0 @Base/broadcast.jl       913 copyto!\n",
      "     1         0 @Base/broadcast.jl       957 copyto!\n",
      "  1299         0 @Base/broadcast.jl       960 copyto!\n",
      "     1         0 @Base/broadcast.jl       637 extrude\n",
      "   481         0 @Base/broadcast.jl       597 getindex\n",
      "     3         0 @Base/broadcast.jl       284 instantiate\n",
      "  1062         0 @Base/broadcast.jl       961 macro expansion\n",
      "  1303         0 @Base/broadcast.jl       868 materialize!\n",
      "  1303         0 @Base/broadcast.jl       871 materialize!\n",
      "     1         0 @Base/broadcast.jl       586 newindexer\n",
      "     1         0 @Base/broadcast.jl       940 preprocess\n",
      "     1         0 @Base/broadcast.jl       941 preprocess\n",
      "     1         0 @Base/broadcast.jl       943 preprocess_args\n",
      "     1         0 @Base/broadcast.jl       944 preprocess_args\n",
      "     1         0 @Base/broadcast.jl       587 shapeindexer\n",
      "     6         0 @Base/cartesian.jl        64 macro expansion\n",
      "  1517         0 @Base/essentials.jl      716 #invokelatest#2\n",
      "  1517         0 @Base/essentials.jl      714 invokelatest\n",
      "     6         6 @Base/float.jl           405 *\n",
      "   298       298 @Base/float.jl           402 -\n",
      "    10        10 @Base/float.jl           408 /\n",
      "   227       227 @Base/int.jl              87 +\n",
      "     2         2 @Base/int.jl              83 <\n",
      "  1517         0 @Base/loading.jl        1196 include_string(mapexpr::typeof(...\n",
      "     1         1 ...multidimensional.jl   407 __inc\n",
      "   200         0 ...multidimensional.jl   839 _getindex\n",
      "   194         0 ...multidimensional.jl   851 _unsafe_getindex(::IndexLinear,...\n",
      "     6         0 ...multidimensional.jl   853 _unsafe_getindex(::IndexLinear,...\n",
      "     6         0 ...multidimensional.jl   862 _unsafe_getindex!\n",
      "   167         0 ...multidimensional.jl   644 getindex\n",
      "     1         0 ...multidimensional.jl   388 iterate\n",
      "     6         0 ...multidimensional.jl   867 macro expansion\n",
      "   581         0 ...multidimensional.jl   646 setindex!\n",
      "     1         0 @Base/operators.jl       278 !=\n",
      "     1         1 @Base/promotion.jl       468 ==\n",
      "     2         2 @Base/simdloop.jl          ? nnmf(X::Matrix{Float64}, r::Int...\n",
      "     9         7 @Base/simdloop.jl         75 macro expansion\n",
      "  1062         0 @Base/simdloop.jl         77 macro expansion\n",
      "   227         0 @Base/simdloop.jl         78 macro expansion\n",
      "     1         0 @Base/simdloop.jl         79 macro expansion\n",
      "  1517         0 @Base/task.jl            423 (::IJulia.var\"#15#18\")()\n",
      "     1         1 ...Algebra/src/blas.jl  1421 gemm!(transA::Char, transB::Cha...\n",
      "     2         2 ...ebra/src/generic.jl   624 norm(itr::Matrix{Float64}, p::I...\n",
      "     2         0 ...ebra/src/generic.jl   625 norm\n",
      "     2         2 ...gebra/src/matmul.jl   636 gemm_wrapper!(C::Matrix{Float64...\n",
      "     1         1 ...gebra/src/matmul.jl   650 gemm_wrapper!(C::Matrix{Float64...\n",
      "     1         0 ...gebra/src/matmul.jl   671 gemm_wrapper!(C::Matrix{Float64...\n",
      "     3         0 ...gebra/src/matmul.jl   169 mul!\n",
      "    10         0 ...gebra/src/matmul.jl   275 mul!\n",
      "     1         0 ...gebra/src/matmul.jl   375 mul!\n",
      "     5         5 ...gebra/src/matmul.jl   389 mul!\n",
      "     1         0 ...gebra/src/matmul.jl   390 mul!\n",
      "     1         1 ...gebra/src/matmul.jl   550 syrk_wrapper!(C::Matrix{Float64...\n",
      "     1         1 ...gebra/src/matmul.jl   582 syrk_wrapper!(C::Matrix{Float64...\n",
      "  1517         0 ...file/src/Profile.jl    28 top-level scope\n",
      "  1517         0 ...ia/src/eventloop.jl     8 eventloop(socket::ZMQ.Socket)\n",
      "  1517         0 .../execute_request.jl    67 execute_request(socket::ZMQ.Soc...\n",
      "  1517         0 .../SoftGlobalScope.jl    65 softscope_include_string(m::Mod...\n",
      "Total snapshots: 6172\n"
     ]
    }
   ],
   "source": [
    "using Profile\n",
    "Profile.clear()\n",
    "@profile for i in 1:10 \n",
    "    V0 = V0full[:, 1:r]\n",
    "    W0 = W0full[1:r, :]\n",
    "    nnmf(X, r, V = V0, W = W0)\n",
    "end\n",
    "Profile.print(format=:flat)"
   ]
  },
  {
   "cell_type": "code",
   "execution_count": 55,
   "metadata": {},
   "outputs": [
    {
     "data": {
      "text/plain": [
       "nnmf_new (generic function with 1 method)"
      ]
     },
     "execution_count": 55,
     "metadata": {},
     "output_type": "execute_result"
    }
   ],
   "source": [
    "function nnmf_new(\n",
    "    X       :: Matrix{T}, #T: (specifies type of element in the matrix) abstract float\n",
    "    r       :: Integer; # any type of integer\n",
    "    maxiter :: Integer = 1000, \n",
    "    tolfun  :: Number = 1e-4,\n",
    "    V       :: Matrix{T} = rand(T, size(X, 1), r), \n",
    "    W       :: Matrix{T} = rand(T, r, size(X, 2)),\n",
    "    verbose :: Bool = false\n",
    "    ) where T <: AbstractFloat\n",
    "    # implementation\n",
    "    n, m = size(X)\n",
    "    \n",
    "    niter = maxiter\n",
    "    storageR = Matrix{T}(undef, r, r)\n",
    "    storageV1 = similar(V) #num\n",
    "    storageV2 = similar(V) #denom\n",
    "    storageW1 = similar(W)\n",
    "    storageW2 = similar(W)\n",
    "    #storageX = similar(X)\n",
    "    x2norm = norm(X)^2\n",
    "    obj = x2norm \n",
    "    mul!(storageR, transpose(V), V)\n",
    "    mul!(storageW2, storageR, W)\n",
    "    mul!(storageW1, transpose(V), X)\n",
    "    @inbounds for idx in eachindex(W)\n",
    "        obj = obj + (storageW2[idx] - 2storageW1[idx]) * W[idx]\n",
    "    end\n",
    "    \n",
    "    if verbose\n",
    "        println(\"iter = 0, obj = $obj\")\n",
    "    end\n",
    "\n",
    "    for iter in 1:maxiter\n",
    "        # optimize \n",
    "        # V .= V .* (X * W') ./ (V * (W * W'))\n",
    "        mul!(storageR, W, transpose(W)) #O(nr^2)\n",
    "        mul!(storageV2, V, storageR)\n",
    "        mul!(storageV1, X, transpose(W))\n",
    "        V .= V .* storageV1 ./ storageV2\n",
    "        \n",
    "        # optimize\n",
    "        # W .= W .* (V' * X) ./ ((V' * V) * W)\n",
    "        mul!(storageR, transpose(V), V)\n",
    "        mul!(storageW2, storageR, W)\n",
    "        mul!(storageW1, transpose(V), X)\n",
    "        # W .= W .* storageW1 ./ storageW2\n",
    "        \n",
    "        objold = obj\n",
    "        obj = x2norm \n",
    "        @inbounds for idx in eachindex(W)\n",
    "            obj = obj + (storageW2[idx] - 2storageW1[idx]) * W[idx]\n",
    "            W[idx] = W[idx] * storageW1[idx] / storageW2[idx]\n",
    "        end \n",
    "    \n",
    "        if verbose\n",
    "            println(\"iter = $iter, obj = $obj\")\n",
    "        end\n",
    "        if abs(obj - objold) ≤ tolfun * (abs(objold) + 1) \n",
    "            niter = iter\n",
    "            break\n",
    "        end     \n",
    "    end\n",
    "    if niter == maxiter\n",
    "        # @warning \"maxiter reached without convergence\"\n",
    "        @warn \"SCREAM!!!! maxiter reached without convergence\"\n",
    "    end \n",
    "    # Output\n",
    "    V, W, obj, niter\n",
    "end"
   ]
  },
  {
   "cell_type": "code",
   "execution_count": 56,
   "metadata": {},
   "outputs": [
    {
     "name": "stdout",
     "output_type": "stream",
     "text": [
      "  0.968951 seconds (183.72 k allocations: 9.741 MiB, 50.45% compilation time)\n"
     ]
    },
    {
     "data": {
      "text/plain": [
       "([0.11851552506050547 0.029940503455096936 … 0.0028830808553836898 0.064209910487126; 0.13176807592569614 0.0004309168162359835 … 0.01486343136309386 0.035028745583671625; … ; 0.052705837558246364 0.04794098005164004 … 0.1700196278798265 0.04626182097825301; 0.12933014679416066 0.01956781040212816 … 0.09435983264067124 0.029580777291877237], [3.385885235846894e-27 1.1745375738681033e-27 … 0.23001933337975108 2.2801686250908547e-6; 0.01089979057338704 1.7007366080212261e-6 … 9.165787020781076e-15 5.134415347265328e-11; … ; 4.0722852963975666e-10 0.00011974641917548936 … 6.611383816440941e-6 1.3798984047397109e-12; 5.698509363463677e-10 6.980500700786396e-9 … 2.2318529440909026e-14 1.8764490698063125e-18], 11730.86690575003, 239)"
      ]
     },
     "execution_count": 56,
     "metadata": {},
     "output_type": "execute_result"
    }
   ],
   "source": [
    "r = 10\n",
    "V0 = V0full[:, 1:r]\n",
    "W0 = W0full[1:r, :]\n",
    "@time nnmf_new(X, r, V = V0, W = W0)"
   ]
  },
  {
   "cell_type": "markdown",
   "metadata": {},
   "source": [
    "### Q1.4 Non-uniqueness\n",
    "\n",
    "Choose an $r \\in \\{10, 20, 30, 40, 50\\}$ and start your algorithm from a different $\\mathbf{V}^{(0)}$ and $\\mathbf{W}^{(0)}$. Do you obtain the same objective value and $(\\mathbf{V}, \\mathbf{W})$? Explain what you find."
   ]
  },
  {
   "cell_type": "markdown",
   "metadata": {},
   "source": [
    "No"
   ]
  },
  {
   "cell_type": "markdown",
   "metadata": {},
   "source": [
    "### Q1.5 Fixed point\n",
    "\n",
    "For the same $r$, start your algorithm from $v_{ik}^{(0)} = w_{kj}^{(0)} = 1$ for all $i,j,k$. Do you obtain the same objective value and $(\\mathbf{V}, \\mathbf{W})$? Explain what you find."
   ]
  },
  {
   "cell_type": "markdown",
   "metadata": {},
   "source": [
    "### Q1.6 Interpret NNMF result\n",
    "\n",
    "Plot the basis images (rows of $\\mathbf{W}$) at rank $r=50$. What do you find?"
   ]
  },
  {
   "cell_type": "markdown",
   "metadata": {},
   "source": [
    "### Q1.7 GPU (optional)\n",
    "\n",
    "Investigate the GPU capabilities of Julia. Report the speed gain of your GPU code over CPU code at ranks $r=10, 20, 30, 40, 50$. Make sure to use the same starting point as in Q1.3."
   ]
  },
  {
   "cell_type": "markdown",
   "metadata": {},
   "source": [
    "## Q2. Estimating Kinship Matrix\n",
    "\n",
    "Consider the numerical task of estimating an $n \\times n$ kinship matrix $\\Phi$ from an $n \\times m$ genotype matrix $\\mathbf{G}$. Here $n$ is the number of individuals and $m$ is the number of genetic markers. [Lange et al](https://www.ncbi.nlm.nih.gov/pmc/articles/PMC6763373/) derived a method of moment estimator of form\n",
    "$$\n",
    "    \\widehat \\Phi_{ij} = \\frac{e_{ij} - \\sum_{k=1}^m [p_k^2 + (1 - p_k)^2]}{m - \\sum_{k=1}^m [p_k^2 + (1 - p_k)^2]}, \\quad 1 \\le i, j \\le n,\n",
    "$$\n",
    "where\n",
    "$$\n",
    "\\begin{eqnarray*}\n",
    "    e_{ij} &=& \\frac{1}{4} \\sum_{k=1}^m [g_{ik} g_{jk} + (2 - g_{ik})(2 - g_{jk})] \\\\\n",
    "    p_k &=& \\frac {1}{2n} \\sum_{i=1}^n g_{ik}.\n",
    "\\end{eqnarray*}\n",
    "$$"
   ]
  },
  {
   "cell_type": "markdown",
   "metadata": {},
   "source": [
    "### Q2.1 Develop code\n",
    "\n",
    "Write a function that takes a matrix `G` as input and outputs the method of moment estimator. \n",
    "Make your function as efficient (both speed and memory) as possible.    "
   ]
  },
  {
   "cell_type": "code",
   "execution_count": null,
   "metadata": {},
   "outputs": [],
   "source": [
    "function kinship(G::Matrix{T}) where T <: AbstractFloat\n",
    "    n, m = size(G)\n",
    "    # TODO: your code here\n",
    "    Φ = zeros(n, m)\n",
    "    # output\n",
    "    Φ\n",
    "end"
   ]
  },
  {
   "cell_type": "code",
   "execution_count": 92,
   "metadata": {},
   "outputs": [
    {
     "data": {
      "text/plain": [
       "1000×10000 Matrix{Float64}:\n",
       " 0.0  0.0  2.0  2.0  1.0  2.0  2.0  0.0  …  0.0  2.0  2.0  2.0  2.0  2.0  0.0\n",
       " 1.0  2.0  0.0  0.0  0.0  1.0  2.0  2.0     2.0  1.0  0.0  1.0  0.0  0.0  2.0\n",
       " 1.0  1.0  2.0  0.0  0.0  0.0  0.0  2.0     2.0  1.0  2.0  2.0  1.0  0.0  1.0\n",
       " 0.0  1.0  2.0  2.0  2.0  0.0  0.0  1.0     2.0  2.0  0.0  0.0  0.0  2.0  2.0\n",
       " 1.0  0.0  0.0  1.0  1.0  1.0  2.0  2.0     0.0  0.0  2.0  1.0  1.0  0.0  0.0\n",
       " 1.0  0.0  1.0  1.0  1.0  0.0  1.0  1.0  …  0.0  2.0  1.0  0.0  1.0  0.0  0.0\n",
       " 2.0  2.0  2.0  0.0  2.0  1.0  0.0  0.0     0.0  1.0  1.0  2.0  0.0  2.0  1.0\n",
       " 1.0  1.0  0.0  0.0  1.0  1.0  0.0  0.0     1.0  1.0  0.0  1.0  0.0  1.0  0.0\n",
       " 2.0  1.0  2.0  2.0  0.0  2.0  1.0  0.0     1.0  1.0  1.0  1.0  2.0  0.0  0.0\n",
       " 0.0  0.0  0.0  2.0  2.0  1.0  1.0  0.0     1.0  0.0  2.0  2.0  0.0  1.0  1.0\n",
       " 0.0  2.0  1.0  2.0  2.0  1.0  0.0  1.0  …  2.0  0.0  0.0  0.0  1.0  2.0  2.0\n",
       " 0.0  1.0  0.0  1.0  0.0  0.0  1.0  0.0     2.0  0.0  1.0  0.0  2.0  2.0  0.0\n",
       " 0.0  0.0  1.0  1.0  1.0  1.0  2.0  1.0     2.0  0.0  2.0  0.0  2.0  1.0  2.0\n",
       " ⋮                        ⋮              ⋱            ⋮                   \n",
       " 1.0  1.0  2.0  1.0  1.0  2.0  2.0  2.0     1.0  0.0  1.0  1.0  1.0  1.0  2.0\n",
       " 0.0  1.0  0.0  2.0  0.0  0.0  0.0  0.0     1.0  0.0  1.0  1.0  0.0  1.0  2.0\n",
       " 0.0  0.0  1.0  2.0  2.0  1.0  1.0  0.0  …  2.0  1.0  0.0  1.0  1.0  2.0  1.0\n",
       " 1.0  1.0  0.0  2.0  0.0  0.0  1.0  0.0     2.0  2.0  1.0  1.0  0.0  2.0  2.0\n",
       " 1.0  2.0  1.0  1.0  0.0  1.0  1.0  2.0     2.0  1.0  0.0  1.0  0.0  0.0  0.0\n",
       " 0.0  2.0  0.0  1.0  2.0  1.0  1.0  0.0     1.0  2.0  0.0  0.0  0.0  2.0  2.0\n",
       " 0.0  0.0  0.0  1.0  2.0  2.0  2.0  2.0     1.0  0.0  2.0  1.0  2.0  2.0  2.0\n",
       " 0.0  2.0  2.0  1.0  1.0  0.0  0.0  2.0  …  1.0  2.0  1.0  2.0  2.0  1.0  1.0\n",
       " 1.0  1.0  0.0  0.0  2.0  1.0  2.0  0.0     2.0  2.0  1.0  2.0  0.0  0.0  2.0\n",
       " 1.0  1.0  2.0  2.0  2.0  2.0  2.0  1.0     2.0  0.0  1.0  0.0  1.0  0.0  1.0\n",
       " 2.0  0.0  0.0  1.0  1.0  2.0  1.0  2.0     0.0  2.0  2.0  0.0  0.0  0.0  0.0\n",
       " 1.0  0.0  0.0  0.0  1.0  1.0  0.0  2.0     0.0  1.0  1.0  1.0  2.0  2.0  1.0"
      ]
     },
     "execution_count": 92,
     "metadata": {},
     "output_type": "execute_result"
    }
   ],
   "source": [
    "n = 1000\n",
    "m = 10000\n",
    "G = rand(0.0:2.0, 1000, 10000)"
   ]
  },
  {
   "cell_type": "code",
   "execution_count": 114,
   "metadata": {},
   "outputs": [
    {
     "data": {
      "text/plain": [
       "1000"
      ]
     },
     "execution_count": 114,
     "metadata": {},
     "output_type": "execute_result"
    }
   ],
   "source": [
    "stride(G, 2)"
   ]
  },
  {
   "cell_type": "code",
   "execution_count": 102,
   "metadata": {},
   "outputs": [
    {
     "data": {
      "text/plain": [
       "BenchmarkTools.Trial: 1085 samples with 1 evaluation.\n",
       " Range \u001b[90m(\u001b[39m\u001b[36m\u001b[1mmin\u001b[22m\u001b[39m … \u001b[35mmax\u001b[39m\u001b[90m):  \u001b[39m\u001b[36m\u001b[1m4.147 ms\u001b[22m\u001b[39m … \u001b[35m 14.188 ms\u001b[39m  \u001b[90m┊\u001b[39m GC \u001b[90m(\u001b[39mmin … max\u001b[90m): \u001b[39m0.00% … 0.00%\n",
       " Time  \u001b[90m(\u001b[39m\u001b[34m\u001b[1mmedian\u001b[22m\u001b[39m\u001b[90m):     \u001b[39m\u001b[34m\u001b[1m4.494 ms               \u001b[22m\u001b[39m\u001b[90m┊\u001b[39m GC \u001b[90m(\u001b[39mmedian\u001b[90m):    \u001b[39m0.00%\n",
       " Time  \u001b[90m(\u001b[39m\u001b[32m\u001b[1mmean\u001b[22m\u001b[39m ± \u001b[32mσ\u001b[39m\u001b[90m):   \u001b[39m\u001b[32m\u001b[1m4.592 ms\u001b[22m\u001b[39m ± \u001b[32m513.750 μs\u001b[39m  \u001b[90m┊\u001b[39m GC \u001b[90m(\u001b[39mmean ± σ\u001b[90m):  \u001b[39m0.00% ± 0.00%\n",
       "\n",
       "  \u001b[39m \u001b[39m \u001b[39m \u001b[39m \u001b[39m \u001b[39m \u001b[39m \u001b[39m▁\u001b[39m▆\u001b[39m█\u001b[39m▆\u001b[39m▅\u001b[34m▅\u001b[39m\u001b[39m▃\u001b[39m▂\u001b[39m▁\u001b[32m \u001b[39m\u001b[39m \u001b[39m \u001b[39m \u001b[39m \u001b[39m \u001b[39m \u001b[39m \u001b[39m \u001b[39m \u001b[39m \u001b[39m \u001b[39m \u001b[39m \u001b[39m \u001b[39m \u001b[39m \u001b[39m \u001b[39m \u001b[39m \u001b[39m \u001b[39m \u001b[39m \u001b[39m \u001b[39m \u001b[39m \u001b[39m \u001b[39m \u001b[39m \u001b[39m \u001b[39m \u001b[39m \u001b[39m \u001b[39m \u001b[39m \u001b[39m \u001b[39m \u001b[39m \u001b[39m \u001b[39m \u001b[39m \u001b[39m \u001b[39m \u001b[39m \u001b[39m \n",
       "  \u001b[39m▂\u001b[39m▂\u001b[39m▂\u001b[39m▂\u001b[39m▂\u001b[39m▃\u001b[39m▆\u001b[39m█\u001b[39m█\u001b[39m█\u001b[39m█\u001b[39m█\u001b[34m█\u001b[39m\u001b[39m█\u001b[39m█\u001b[39m█\u001b[32m▇\u001b[39m\u001b[39m▆\u001b[39m▅\u001b[39m▄\u001b[39m▃\u001b[39m▄\u001b[39m▃\u001b[39m▂\u001b[39m▃\u001b[39m▄\u001b[39m▃\u001b[39m▂\u001b[39m▂\u001b[39m▃\u001b[39m▂\u001b[39m▂\u001b[39m▂\u001b[39m▃\u001b[39m▂\u001b[39m▂\u001b[39m▂\u001b[39m▃\u001b[39m▃\u001b[39m▂\u001b[39m▂\u001b[39m▂\u001b[39m▂\u001b[39m▂\u001b[39m▃\u001b[39m▂\u001b[39m▂\u001b[39m▂\u001b[39m▂\u001b[39m▂\u001b[39m▂\u001b[39m▁\u001b[39m▂\u001b[39m▁\u001b[39m▂\u001b[39m▂\u001b[39m▂\u001b[39m▂\u001b[39m▂\u001b[39m \u001b[39m▃\n",
       "  4.15 ms\u001b[90m         Histogram: frequency by time\u001b[39m        5.81 ms \u001b[0m\u001b[1m<\u001b[22m\n",
       "\n",
       " Memory estimate\u001b[90m: \u001b[39m\u001b[33m7.94 KiB\u001b[39m, allocs estimate\u001b[90m: \u001b[39m\u001b[33m1\u001b[39m."
      ]
     },
     "execution_count": 102,
     "metadata": {},
     "output_type": "execute_result"
    }
   ],
   "source": [
    "p = zeros(1, m)\n",
    "@benchmark mul!(p, ones(1, n), G)"
   ]
  },
  {
   "cell_type": "code",
   "execution_count": 108,
   "metadata": {},
   "outputs": [
    {
     "data": {
      "text/plain": [
       "BenchmarkTools.Trial: 10000 samples with 1 evaluation.\n",
       " Range \u001b[90m(\u001b[39m\u001b[36m\u001b[1mmin\u001b[22m\u001b[39m … \u001b[35mmax\u001b[39m\u001b[90m):  \u001b[39m\u001b[36m\u001b[1m 82.080 μs\u001b[22m\u001b[39m … \u001b[35m 24.699 ms\u001b[39m  \u001b[90m┊\u001b[39m GC \u001b[90m(\u001b[39mmin … max\u001b[90m): \u001b[39m0.00% … 99.47%\n",
       " Time  \u001b[90m(\u001b[39m\u001b[34m\u001b[1mmedian\u001b[22m\u001b[39m\u001b[90m):     \u001b[39m\u001b[34m\u001b[1m148.285 μs               \u001b[22m\u001b[39m\u001b[90m┊\u001b[39m GC \u001b[90m(\u001b[39mmedian\u001b[90m):    \u001b[39m0.00%\n",
       " Time  \u001b[90m(\u001b[39m\u001b[32m\u001b[1mmean\u001b[22m\u001b[39m ± \u001b[32mσ\u001b[39m\u001b[90m):   \u001b[39m\u001b[32m\u001b[1m168.267 μs\u001b[22m\u001b[39m ± \u001b[32m593.317 μs\u001b[39m  \u001b[90m┊\u001b[39m GC \u001b[90m(\u001b[39mmean ± σ\u001b[90m):  \u001b[39m8.63% ±  2.43%\n",
       "\n",
       "  \u001b[39m \u001b[39m \u001b[39m \u001b[39m \u001b[39m \u001b[39m \u001b[39m \u001b[39m \u001b[39m \u001b[39m \u001b[39m \u001b[39m \u001b[39m \u001b[39m \u001b[39m \u001b[39m \u001b[39m \u001b[39m \u001b[39m \u001b[39m \u001b[39m▂\u001b[39m▅\u001b[39m█\u001b[39m█\u001b[39m█\u001b[34m▇\u001b[39m\u001b[39m▇\u001b[39m▅\u001b[39m▄\u001b[39m▄\u001b[39m▃\u001b[39m▃\u001b[32m▃\u001b[39m\u001b[39m▂\u001b[39m▂\u001b[39m▁\u001b[39m▁\u001b[39m▂\u001b[39m▁\u001b[39m▂\u001b[39m▁\u001b[39m▁\u001b[39m \u001b[39m▁\u001b[39m▁\u001b[39m \u001b[39m \u001b[39m \u001b[39m \u001b[39m \u001b[39m \u001b[39m \u001b[39m \u001b[39m \u001b[39m \u001b[39m \u001b[39m \u001b[39m \u001b[39m \u001b[39m \u001b[39m \u001b[39m \u001b[39m▃\n",
       "  \u001b[39m█\u001b[39m█\u001b[39m▅\u001b[39m▁\u001b[39m▃\u001b[39m▁\u001b[39m▁\u001b[39m▁\u001b[39m▁\u001b[39m▆\u001b[39m▁\u001b[39m▃\u001b[39m▁\u001b[39m▁\u001b[39m▄\u001b[39m▃\u001b[39m▃\u001b[39m▁\u001b[39m▁\u001b[39m▁\u001b[39m█\u001b[39m█\u001b[39m█\u001b[39m█\u001b[39m█\u001b[34m█\u001b[39m\u001b[39m█\u001b[39m█\u001b[39m█\u001b[39m█\u001b[39m█\u001b[39m█\u001b[32m█\u001b[39m\u001b[39m█\u001b[39m█\u001b[39m█\u001b[39m█\u001b[39m█\u001b[39m█\u001b[39m█\u001b[39m█\u001b[39m█\u001b[39m█\u001b[39m█\u001b[39m█\u001b[39m█\u001b[39m█\u001b[39m█\u001b[39m▇\u001b[39m▆\u001b[39m█\u001b[39m▇\u001b[39m▇\u001b[39m▇\u001b[39m▇\u001b[39m▇\u001b[39m▅\u001b[39m▆\u001b[39m▆\u001b[39m▅\u001b[39m▆\u001b[39m \u001b[39m█\n",
       "  82.1 μs\u001b[90m       \u001b[39m\u001b[90mHistogram: \u001b[39m\u001b[90m\u001b[1mlog(\u001b[22m\u001b[39m\u001b[90mfrequency\u001b[39m\u001b[90m\u001b[1m)\u001b[22m\u001b[39m\u001b[90m by time\u001b[39m        246 μs \u001b[0m\u001b[1m<\u001b[22m\n",
       "\n",
       " Memory estimate\u001b[90m: \u001b[39m\u001b[33m156.39 KiB\u001b[39m, allocs estimate\u001b[90m: \u001b[39m\u001b[33m7\u001b[39m."
      ]
     },
     "execution_count": 108,
     "metadata": {},
     "output_type": "execute_result"
    }
   ],
   "source": [
    "one = ones(1, m)\n",
    "num = 0\n",
    "@benchmark num = dot(p, p) + dot(one - p, one - p) "
   ]
  },
  {
   "cell_type": "markdown",
   "metadata": {},
   "source": [
    "### Q2.2 Correctness\n",
    "\n",
    "First let's make sure our function yields correct answer. Run your function on a fake genotype matrix"
   ]
  },
  {
   "cell_type": "code",
   "execution_count": null,
   "metadata": {},
   "outputs": [],
   "source": [
    "# generate a fake genotype matrix with entries {0, 1, 2}\n",
    "Random.seed!(257)\n",
    "G = rand(0.0:2.0, 1000, 10000)\n",
    "Φ = kinship(G)"
   ]
  },
  {
   "cell_type": "markdown",
   "metadata": {},
   "source": [
    "Compare the upper left $5 \\times 5$ block to what I got using my implementation\n",
    "\n",
    "```julia\n",
    "Φ[1:5, 1:5]\n",
    "```\n",
    "\n",
    "```\n",
    "5×5 Matrix{Float64}:\n",
    "  0.673584     -0.000762864  -0.00266412   0.00343992   0.00293959\n",
    " -0.000762864   0.665178     -0.0101691   -0.0110697    0.00223912\n",
    " -0.00266412   -0.0101691     0.665078     0.0102444    0.00253932\n",
    "  0.00343992   -0.0110697     0.0102444    0.66768     -0.0083679\n",
    "  0.00293959    0.00223912    0.00253932  -0.0083679    0.663777\n",
    "```"
   ]
  },
  {
   "cell_type": "markdown",
   "metadata": {},
   "source": [
    "### Q2.3 Efficiency\n",
    "\n",
    "In a typical genetic data set, $n$ is at order of $10^3 \\sim 10^6$ and $m$ is at order of $10^6 \\sim 10^7$. Benchmark your function using the smaller data set $G$ generated in Q2.2. Efficiency (both speed and memory) will be the most important criterion when grading this question."
   ]
  },
  {
   "cell_type": "code",
   "execution_count": null,
   "metadata": {},
   "outputs": [],
   "source": [
    "# benchmark\n",
    "@btime kinship($G)"
   ]
  },
  {
   "cell_type": "markdown",
   "metadata": {},
   "source": [
    "**Hint**: I got `@btime` output\n",
    "```\n",
    "82.144 ms (3 allocations: 7.64 MiB)\n",
    "```"
   ]
  }
 ],
 "metadata": {
  "@webio": {
   "lastCommId": null,
   "lastKernelId": null
  },
  "kernelspec": {
   "display_name": "Julia 1.7.2",
   "language": "julia",
   "name": "julia-1.7"
  },
  "language_info": {
   "file_extension": ".jl",
   "mimetype": "application/julia",
   "name": "julia",
   "version": "1.7.2"
  },
  "toc": {
   "colors": {
    "hover_highlight": "#DAA520",
    "running_highlight": "#FF0000",
    "selected_highlight": "#FFD700"
   },
   "moveMenuLeft": true,
   "nav_menu": {
    "height": "87px",
    "width": "252px"
   },
   "navigate_menu": true,
   "number_sections": true,
   "sideBar": true,
   "skip_h1_title": true,
   "threshold": 4,
   "toc_cell": false,
   "toc_section_display": "block",
   "toc_window_display": false,
   "widenNotebook": false
  }
 },
 "nbformat": 4,
 "nbformat_minor": 4
}
