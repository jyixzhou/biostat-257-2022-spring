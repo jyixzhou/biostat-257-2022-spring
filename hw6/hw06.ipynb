{
 "cells": [
  {
   "cell_type": "markdown",
   "metadata": {},
   "source": [
    "# Biostat 257 Homework 6\n",
    "\n",
    "**Due June 10 @ 11:59PM**"
   ]
  },
  {
   "cell_type": "code",
<<<<<<< HEAD
   "execution_count": null,
   "metadata": {},
   "outputs": [],
=======
   "execution_count": 1,
   "metadata": {},
   "outputs": [
    {
     "name": "stdout",
     "output_type": "stream",
     "text": [
      "Julia Version 1.7.2\n",
      "Commit bf53498635 (2022-02-06 15:21 UTC)\n",
      "Platform Info:\n",
      "  OS: macOS (x86_64-apple-darwin19.5.0)\n",
      "  CPU: Intel(R) Core(TM) i5-8257U CPU @ 1.40GHz\n",
      "  WORD_SIZE: 64\n",
      "  LIBM: libopenlibm\n",
      "  LLVM: libLLVM-12.0.1 (ORCJIT, skylake)\n"
     ]
    }
   ],
>>>>>>> main
   "source": [
    "versioninfo()"
   ]
  },
  {
   "cell_type": "markdown",
   "metadata": {},
   "source": [
    "Again we continue with the linear mixed effects model (LMM)\n",
    "$$\n",
    "    \\mathbf{Y}_i = \\mathbf{X}_i \\boldsymbol{\\beta} + \\mathbf{Z}_i \\boldsymbol{\\gamma}_i + \\boldsymbol{\\epsilon}_i, \\quad i=1,\\ldots,n,\n",
    "$$\n",
    "where   \n",
    "- $\\mathbf{Y}_i \\in \\mathbb{R}^{n_i}$ is the response vector of $i$-th individual,  \n",
    "- $\\mathbf{X}_i \\in \\mathbb{R}^{n_i \\times p}$ is the fixed effects predictor matrix of $i$-th individual,  \n",
    "- $\\mathbf{Z}_i \\in \\mathbb{R}^{n_i \\times q}$ is the random effects predictor matrix of $i$-th individual,  \n",
    "- $\\boldsymbol{\\epsilon}_i \\in \\mathbb{R}^{n_i}$ are multivariate normal $N(\\mathbf{0}_{n_i},\\sigma^2 \\mathbf{I}_{n_i})$,  \n",
    "- $\\boldsymbol{\\beta} \\in \\mathbb{R}^p$ are fixed effects, and  \n",
    "- $\\boldsymbol{\\gamma}_i \\in \\mathbb{R}^q$ are random effects assumed to be $N(\\mathbf{0}_q, \\boldsymbol{\\Sigma}_{q \\times q}$) independent of $\\boldsymbol{\\epsilon}_i$.\n",
    "\n",
    "The log-likelihood of the $i$-th datum $(\\mathbf{y}_i, \\mathbf{X}_i, \\mathbf{Z}_i)$ is \n",
    "$$\n",
    "    \\ell_i(\\boldsymbol{\\beta}, \\mathbf{L}, \\sigma_0^2) = - \\frac{n_i}{2} \\log (2\\pi) - \\frac{1}{2} \\log \\det \\boldsymbol{\\Omega}_i - \\frac{1}{2} (\\mathbf{y} - \\mathbf{X}_i \\boldsymbol{\\beta})^T \\boldsymbol{\\Omega}_i^{-1} (\\mathbf{y} - \\mathbf{X}_i \\boldsymbol{\\beta}),\n",
    "$$\n",
    "where\n",
    "$$\n",
    "    \\boldsymbol{\\Omega}_i = \\sigma^2 \\mathbf{I}_{n_i} + \\mathbf{Z}_i \\boldsymbol{\\Sigma} \\mathbf{Z}_i^T.\n",
    "$$\n",
    "Given $m$ independent data points $(\\mathbf{y}_i, \\mathbf{X}_i, \\mathbf{Z}_i)$, $i=1,\\ldots,m$, we seek the maximum likelihood estimate (MLE) by maximizing the log-likelihood\n",
    "$$\n",
    "\\ell(\\boldsymbol{\\beta}, \\boldsymbol{\\Sigma}, \\sigma_0^2) = \\sum_{i=1}^m \\ell_i(\\boldsymbol{\\beta}, \\boldsymbol{\\Sigma}, \\sigma_0^2).\n",
    "$$\n",
    "\n",
    "In HW5, we used the nonlinear programming (NLP) approach (Newton type algorithms) for optimization. In this assignment, we derive and implement an expectation-maximization (EM) algorithm for the same problem."
   ]
  },
  {
   "cell_type": "code",
<<<<<<< HEAD
   "execution_count": null,
=======
   "execution_count": 2,
>>>>>>> main
   "metadata": {},
   "outputs": [],
   "source": [
    "# load necessary packages; make sure install them first\n",
    "using BenchmarkTools, Distributions, LinearAlgebra, Random, Revise"
   ]
  },
  {
   "cell_type": "markdown",
   "metadata": {},
   "source": [
    "## Q1. (10 pts) Refresher on normal-normal model\n",
    "\n",
    "Assume the conditional distribution\n",
    "$$\n",
    "\\mathbf{y} \\mid \\boldsymbol{\\gamma} \\sim N(\\mathbf{X} \\boldsymbol{\\beta} + \\mathbf{Z} \\boldsymbol{\\gamma}, \\sigma^2 \\mathbf{I}_n)\n",
    "$$\n",
    "and the prior distribution\n",
    "$$\n",
    "\\boldsymbol{\\gamma} \\sim N(\\mathbf{0}_q, \\boldsymbol{\\Sigma}).\n",
    "$$\n",
    "By the Bayes theorem, the posterior distribution is\n",
    "\\begin{eqnarray*}\n",
    "f(\\boldsymbol{\\gamma} \\mid \\mathbf{y}) &=& \\frac{f(\\mathbf{y} \\mid \\boldsymbol{\\gamma}) \\times f(\\boldsymbol{\\gamma})}{f(\\mathbf{y})}, \\end{eqnarray*}\n",
    "where $f$ denotes corresponding density. \n",
    "\n",
    "Show that the posterior distribution of random effects $\\boldsymbol{\\gamma}$ is a multivariate normal with mean\n",
    "\\begin{eqnarray*}\n",
    "\\mathbb{E} (\\boldsymbol{\\gamma} \\mid \\mathbf{y}) &=& \\sigma^{-2} (\\sigma^{-2} \\mathbf{Z}^T \\mathbf{Z} + \\boldsymbol{\\Sigma}^{-1})^{-1 } \\mathbf{Z}^T (\\mathbf{y} - \\mathbf{X} \\boldsymbol{\\beta}) \\\\\n",
    "&=& \\boldsymbol{\\Sigma} \\mathbf{Z}^T (\\mathbf{Z} \\boldsymbol{\\Sigma} \\mathbf{Z}^T + \\sigma^2 \\mathbf{I})^{-1} (\\mathbf{y} - \\mathbf{X} \\boldsymbol{\\beta})\n",
    "\\end{eqnarray*}\n",
    "and covariance\n",
    "\\begin{eqnarray*}\n",
    "\\text{Var} (\\boldsymbol{\\gamma} \\mid \\mathbf{y}) &=& (\\sigma^{-2} \\mathbf{Z}^T \\mathbf{Z} + \\boldsymbol{\\Sigma}^{-1})^{-1} \\\\\n",
    "&=& \\boldsymbol{\\Sigma} - \\boldsymbol{\\Sigma} \\mathbf{Z}^T (\\mathbf{Z} \\boldsymbol{\\Sigma} \\mathbf{Z}^T + \\sigma^2 \\mathbf{I})^{-1} \\mathbf{Z} \\boldsymbol{\\Sigma}.\n",
    "\\end{eqnarray*}"
   ]
  },
  {
   "cell_type": "markdown",
   "metadata": {},
   "source": [
<<<<<<< HEAD
=======
    "**Solution**"
   ]
  },
  {
   "cell_type": "markdown",
   "metadata": {},
   "source": [
    "\\begin{eqnarray*}\n",
    "f(\\boldsymbol{\\gamma} \\mid \\mathbf{y}) &\\propto& f(\\mathbf{y} \\mid \\boldsymbol{\\gamma}) \\times f(\\boldsymbol{\\gamma}) \\\\\n",
    "&\\propto& \\exp \\{-\\frac{1}{2} [(\\mathbf{y} - \\mathbf{X} \\boldsymbol{\\beta} - \\mathbf{Z} \\boldsymbol{\\gamma})'\\sigma^{-2}(\\mathbf{y} - \\mathbf{X} \\boldsymbol{\\beta} - \\mathbf{Z} \\boldsymbol{\\gamma}) + \\boldsymbol{\\gamma}' \\boldsymbol{\\Sigma}^{-1} \\boldsymbol{\\gamma} ] \\} \\\\\n",
    "&\\propto& \\exp \\{-\\frac{1}{2} [ \\boldsymbol{\\gamma}'(\\sigma^{-2} \\mathbf{Z}'\\mathbf{Z}) \\boldsymbol{\\gamma} - 2 \\sigma^{-2} (\\mathbf{y} - \\mathbf{X} \\boldsymbol{\\beta})' \\mathbf{Z}\n",
    "\\boldsymbol{\\gamma} + \\boldsymbol{\\gamma} \\boldsymbol{\\Sigma}^{-1} \\boldsymbol{\\gamma} ] \\} \\\\\n",
    "&\\propto& \\exp \\{-\\frac{1}{2} [ \\boldsymbol{\\gamma}' (\\sigma^{-2} \\mathbf{Z}'\\mathbf{Z} + \\boldsymbol{\\Sigma}^{-1}) \\boldsymbol{\\gamma} ] - 2 \\sigma^{-2} (\\mathbf{y} - \\mathbf{X} \\boldsymbol{\\beta})' \\mathbf{Z}\n",
    "\\boldsymbol{\\gamma} \\}\n",
    "\\end{eqnarray*}\n",
    "This is the kernel of the normal distribution with mean $\\mathbf{m}$ and variance $\\mathbf{V}$, \n",
    "\\begin{align*}\n",
    "\\mathbf{V} &= \\text{Var} (\\boldsymbol{\\gamma} \\mid \\mathbf{y}) \\\\\n",
    "&= (\\sigma^{-2} \\mathbf{Z}'\\mathbf{Z} + \\boldsymbol{\\Sigma}^{-1})^{-1} = \\boldsymbol{\\Sigma} - \\boldsymbol{\\Sigma} \\mathbf{Z}' (\\sigma^2 \\mathbf{I} + \\mathbf{Z} \\boldsymbol{\\Sigma} \\mathbf{Z}')^{-1} \\mathbf{Z} \\boldsymbol{\\Sigma} \\\\\n",
    "\\mathbf{m} &= \\mathbb{E} (\\boldsymbol{\\gamma} \\mid \\mathbf{y}) = (\\sigma^{-2} \\mathbf{Z}'\\mathbf{Z} + \\boldsymbol{\\Sigma}^{-1})^{-1} \\sigma^{-2} \\mathbf{Z}' (\\mathbf{y} - \\mathbf{X} \\boldsymbol{\\beta}) \\\\\n",
    "&= [\\boldsymbol{\\Sigma} - \\boldsymbol{\\Sigma} \\mathbf{Z}' (\\sigma^2 \\mathbf{I} + \\mathbf{Z} \\boldsymbol{\\Sigma} \\mathbf{Z}')^{-1} \\mathbf{Z} \\boldsymbol{\\Sigma}] \\sigma^{-2} \\mathbf{Z}' (\\mathbf{y} - \\mathbf{X} \\boldsymbol{\\beta}) \\\\\n",
    "&= [\\sigma^{-2} \\boldsymbol{\\Sigma} \\mathbf{Z}' - \\sigma^{-2}\\boldsymbol{\\Sigma} \\mathbf{Z}' (\\sigma^2 \\mathbf{I} + \\mathbf{Z} \\boldsymbol{\\Sigma} \\mathbf{Z}')^{-1} \\mathbf{Z} \\boldsymbol{\\Sigma} \\mathbf{Z}' ](\\mathbf{y} - \\mathbf{X} \\boldsymbol{\\beta}) \\\\\n",
    "&= \\boldsymbol{\\Sigma} \\mathbf{Z}'[\\sigma^{-2} \\mathbf{I} - \\sigma^{-2} (\\sigma^2 \\mathbf{I} + \\mathbf{Z} \\boldsymbol{\\Sigma} \\mathbf{Z}' )^{-1} \\mathbf{Z} \\boldsymbol{\\Sigma} \\mathbf{Z}' ] (\\mathbf{y} - \\mathbf{X} \\boldsymbol{\\beta}) \\\\\n",
    "&= \\boldsymbol{\\Sigma} \\mathbf{Z}' (\\mathbf{Z} \\boldsymbol{\\Sigma} \\mathbf{Z}' + \\sigma^2 \\mathbf{I})^{-1} (\\mathbf{y} - \\mathbf{X} \\boldsymbol{\\beta}) \n",
    "\\end{align*}"
   ]
  },
  {
   "cell_type": "markdown",
   "metadata": {},
   "source": [
>>>>>>> main
    "## Q2. (20 pts) Derive EM algorithm\n",
    "\n",
    "1. Write down the complete log-likelihood\n",
    "$$\n",
    "\\sum_{i=1}^m \\log f(\\mathbf{y}_i, \\boldsymbol{\\gamma}_i \\mid \\boldsymbol{\\beta}, \\boldsymbol{\\Sigma}, \\sigma^2)\n",
    "$$\n",
    "\n",
    "2. Derive the $Q$ function (E-step).\n",
    "$$\n",
    "Q(\\boldsymbol{\\beta}, \\boldsymbol{\\Sigma}, \\sigma^2 \\mid \\boldsymbol{\\beta}^{(t)}, \\boldsymbol{\\Sigma}^{(t)}, \\sigma^{2(t)}).\n",
    "$$\n",
    "\n",
    "3. Derive the EM (or ECM) update of $\\boldsymbol{\\beta}$, $\\boldsymbol{\\Sigma}$, and $\\sigma^2$ (M-step). "
   ]
  },
  {
   "cell_type": "markdown",
   "metadata": {},
   "source": [
<<<<<<< HEAD
=======
    "**Solution**"
   ]
  },
  {
   "cell_type": "markdown",
   "metadata": {},
   "source": [
    "1. "
   ]
  },
  {
   "cell_type": "markdown",
   "metadata": {},
   "source": [
    "\\begin{eqnarray*}\n",
    "\\sum_{i=1}^m \\log f(\\mathbf{y}_i, \\boldsymbol{\\gamma}_i \\mid \\boldsymbol{\\beta}, \\boldsymbol{\\Sigma}, \\sigma^2) &=& \\sum_{i=1}^m \\log [f(\\mathbf{y}_i \\mid \\boldsymbol{\\gamma}_i, \\boldsymbol{\\beta}, \\boldsymbol{\\Sigma}, \\sigma^2) f(\\boldsymbol{\\gamma}_i \\mid \\boldsymbol{\\beta}, \\boldsymbol{\\Sigma}, \\sigma^2)] \\\\\n",
    "&=& \\sum_{i=1}^m \\Big[ \\log f(\\mathbf{y}_i \\mid \\boldsymbol{\\gamma}_i, \\boldsymbol{\\beta}, \\boldsymbol{\\Sigma}, \\sigma^2) + \\log f(\\boldsymbol{\\gamma}_i \\mid \\boldsymbol{\\beta}, \\boldsymbol{\\Sigma}, \\sigma^2) \\Big]\\\\\n",
    "&=& \\sum_{i=1}^m \\Big[ -\\frac{n_i}{2} \\log (2\\pi) - \\frac{n_i}{2} \\log \\sigma^2 - \\frac{1}{2 \\sigma^2} (\\mathbf{y}_i - \\mathbf{X}_i \\boldsymbol{\\beta} - \\mathbf{Z}_i \\boldsymbol{\\gamma}_i)' (\\mathbf{y}_i - \\mathbf{X}_i \\boldsymbol{\\beta} - \\mathbf{Z}_i \\boldsymbol{\\gamma}_i) - \\frac{q}{2} \\log (2\\pi) - \\frac{1}{2} \\log |\\boldsymbol{\\Sigma}| - \\frac{1}{2} \\boldsymbol{\\gamma}_i' \\boldsymbol{\\Sigma}^{-1} \\boldsymbol{\\gamma}_i  \\Big] \\\\\n",
    "&=& \\sum_{i=1}^m \\Big[ -\\frac{n_i}{2} \\log (2\\pi) - \\frac{n_i}{2} \\log \\sigma^2 - \\frac{q}{2} \\log (2\\pi) - \\frac{1}{2} \\log |\\boldsymbol{\\Sigma}| \\\\\n",
    " &-& \\frac{1}{2 \\sigma^2} (\\mathbf{y}_i - \\mathbf{X}_i \\boldsymbol{\\beta})'(\\mathbf{y}_i - \\mathbf{X}_i \\boldsymbol{\\beta}) + \\frac{1}{\\sigma^2} (\\mathbf{y}_i - \\mathbf{X}_i \\boldsymbol{\\beta})' \\mathbf{Z}_i \\boldsymbol{\\gamma}_i - \\frac{1}{2 \\sigma^2} \\boldsymbol{\\gamma}_i' \\mathbf{Z}_i' \\mathbf{Z}_i \\boldsymbol{\\gamma}_i - \\frac{1}{2} \\boldsymbol{\\gamma}_i' \\boldsymbol{\\Sigma}^{-1} \\boldsymbol{\\gamma}_i \\Big]\n",
    "\\end{eqnarray*}"
   ]
  },
  {
   "cell_type": "markdown",
   "metadata": {},
   "source": [
    "2. "
   ]
  },
  {
   "cell_type": "markdown",
   "metadata": {},
   "source": [
    "\\begin{eqnarray*}\n",
    "Q(\\boldsymbol{\\beta}, \\boldsymbol{\\Sigma}, \\sigma^2 \\mid \\boldsymbol{\\beta}^{(t)}, \\boldsymbol{\\Sigma}^{(t)}, \\sigma^{2(t)}) &=& \\mathbf{E}_{\\boldsymbol{\\gamma}|\\mathbf{y}, \\boldsymbol{\\theta}^{t}} \\Big[ \\sum_{i=1}^m \\log f(\\mathbf{y}_i, \\boldsymbol{\\gamma}_i \\mid \\boldsymbol{\\beta}, \\boldsymbol{\\Sigma}, \\sigma^2) \\Big]  \\\\\n",
    "&=& \\sum_{i=1}^m \\Big[ -\\frac{n_i}{2} \\log (2\\pi) - \\frac{n_i}{2} \\log \\sigma^2 - \\frac{q}{2} \\log (2\\pi) - \\frac{1}{2} \\log |\\boldsymbol{\\Sigma}| - \\frac{1}{2 \\sigma^2} (\\mathbf{y}_i - \\mathbf{X}_i \\boldsymbol{\\beta})'(\\mathbf{y}_i - \\mathbf{X}_i \\boldsymbol{\\beta}) \\Big] \\\\\n",
    "&+& \\mathbf{E}_{\\boldsymbol{\\gamma}|\\mathbf{y}, \\boldsymbol{\\theta}^{t}} \\{ \\sum_{i=1}^m  \\Big[\\frac{1}{\\sigma^2} (\\mathbf{y}_i - \\mathbf{X}_i \\boldsymbol{\\beta})' \\mathbf{Z}_i \\boldsymbol{\\gamma}_i - \\frac{1}{2 \\sigma^2} \\boldsymbol{\\gamma}_i' \\mathbf{Z}_i' \\mathbf{Z}_i \\boldsymbol{\\gamma}_i - \\frac{1}{2} \\boldsymbol{\\gamma}_i' \\boldsymbol{\\Sigma}^{-1} \\boldsymbol{\\gamma}_i \\Big] \\}\n",
    "\\end{eqnarray*}"
   ]
  },
  {
   "cell_type": "markdown",
   "metadata": {},
   "source": [
    "Since $\\boldsymbol{\\gamma_i} \\mid \\mathbf{y} \\sim N(\\mathbf{m}_i, \\mathbf{V}_i)$, and also using the fact that $\\mathbf{E}(\\boldsymbol{\\gamma_i}' \\mathbf{A} \\boldsymbol{\\gamma_i}) = tr(\\mathbf{A} \\mathbf{V}_i) + \\mathbf{m}_i' \\mathbf{A} \\mathbf{m}_i$"
   ]
  },
  {
   "cell_type": "markdown",
   "metadata": {},
   "source": [
    "\\begin{eqnarray*}\n",
    "Q(\\boldsymbol{\\beta}, \\boldsymbol{\\Sigma}, \\sigma^2 \\mid \\boldsymbol{\\beta}^{(t)}, \\boldsymbol{\\Sigma}^{(t)}, \\sigma^{2(t)}) &=& \\sum_{i=1}^m \\Big[ -\\frac{n_i}{2} \\log (2\\pi) - \\frac{n_i}{2} \\log \\sigma^2 - \\frac{q}{2} \\log (2\\pi) - \\frac{1}{2} \\log |\\boldsymbol{\\Sigma}| - \\frac{1}{2 \\sigma^2} (\\mathbf{y}_i - \\mathbf{X}_i \\boldsymbol{\\beta})'(\\mathbf{y}_i - \\mathbf{X}_i \\boldsymbol{\\beta}) \\Big] \\\\\n",
    "&+& \\sum_{i=1}^m \\Big[ \\frac{1}{\\sigma^2} (\\mathbf{y}_i - \\mathbf{X}_i \\boldsymbol{\\beta})' \\mathbf{Z}_i \\mathbf{m}_i - \\frac{1}{2} \\text{tr} [(\\sigma^{-2} \\mathbf{Z}_i' \\mathbf{Z}_i + \\boldsymbol{\\Sigma}^{-1}) \\mathbf{V}_i] - \\frac{1}{2} \\mathbf{m}_i' (\\sigma^{-2} \\mathbf{Z}_i' \\mathbf{Z}_i + \\boldsymbol{\\Sigma}^{-1}) \\mathbf{m}_i \\Big]\n",
    "\\end{eqnarray*}"
   ]
  },
  {
   "cell_type": "markdown",
   "metadata": {},
   "source": [
    "3. Note that $\\mathbf{m}_i$ and $\\mathbf{V}_i$ are functions of $\\boldsymbol{\\theta}^{(t)}  = \\{ \\boldsymbol{\\beta}^{(t)}, \\boldsymbol{\\Sigma}^{(t)}, \\sigma^{2(t)} \\}$. Take derivatives of $Q(\\boldsymbol{\\theta} \\mid \\boldsymbol{\\theta}^{(t)})$ wrt to each element of $\\boldsymbol{\\theta}$ and set to 0 to obtain $\\boldsymbol{\\theta}^{(t+1)}$ which maximizes $Q$. "
   ]
  },
  {
   "cell_type": "markdown",
   "metadata": {},
   "source": [
    "\\begin{eqnarray*}\n",
    "\\nabla_{\\boldsymbol{\\beta}} Q(\\boldsymbol{\\theta} \\mid \\boldsymbol{\\theta}^{(t)}) &=& \\nabla_{\\boldsymbol{\\beta}} \\sum_{i=1}^m \\Big[ - \\frac{1}{2 \\sigma^2} (\\mathbf{y}_i - \\mathbf{X}_i \\boldsymbol{\\beta})'(\\mathbf{y}_i - \\mathbf{X}_i \\boldsymbol{\\beta}) + \\frac{1}{\\sigma^2} (\\mathbf{y}_i - \\mathbf{X}_i \\boldsymbol{\\beta})' \\mathbf{Z}_i \\mathbf{m}_i \\Big] \\\\\n",
    "&=& \\frac{1}{\\sigma^2} \\sum_{i=1}^m \\Big[ \\mathbf{X}_i' \\mathbf{y}_i - \\mathbf{X}_i' \\mathbf{X}_i \\boldsymbol{\\beta} - \\mathbf{X}_i'\\mathbf{Z}_i \\mathbf{m}_i \\Big] := 0 \n",
    "\\end{eqnarray*}\n",
    "\\begin{eqnarray*}\n",
    "\\sum_{i=1}^m \\mathbf{X}_i' \\mathbf{X}_i \\boldsymbol{\\beta}^{(t+1)} &=& \\sum_{i=1}^m \\Big[ \\mathbf{X}_i' \\mathbf{y}_i - \\mathbf{X}_i'\\mathbf{Z}_i \\mathbf{m}_i \\Big] \\\\\n",
    "\\boldsymbol{\\beta}^{(t+1)} &=& \\Big[ \\sum_{i=1}^m \\mathbf{X}_i' \\mathbf{X}_i \\Big]^{-1} \\sum_{i=1}^m \\Big[ \\mathbf{X}_i' \\mathbf{y}_i - \\mathbf{X}_i'\\mathbf{Z}_i \\mathbf{m}_i \\Big]\n",
    "\\end{eqnarray*}"
   ]
  },
  {
   "cell_type": "markdown",
   "metadata": {},
   "source": [
    "\\begin{eqnarray*}\n",
    "\\nabla_{\\boldsymbol{\\sigma^2}} Q(\\boldsymbol{\\theta} \\mid \\boldsymbol{\\theta}^{(t)}) = \n",
    "\\nabla_{\\boldsymbol{\\sigma^2}} \\sum_{i=1}^m \\Big[ &-& \\frac{n_i}{2} \\log \\sigma^2 - \\frac{1}{2 \\sigma^2} (\\mathbf{y}_i - \\mathbf{X}_i \\boldsymbol{\\beta})'(\\mathbf{y}_i - \\mathbf{X}_i \\boldsymbol{\\beta}) + \\frac{1}{\\sigma^2} (\\mathbf{y}_i - \\mathbf{X}_i \\boldsymbol{\\beta})' \\mathbf{Z}_i \\mathbf{m}_i \\\\\n",
    "&-& \\frac{1}{2} \\text{tr} [(\\sigma^{-2} \\mathbf{Z}_i' \\mathbf{Z}_i + \\boldsymbol{\\Sigma}^{-1}) \\mathbf{V}_i] - \\frac{1}{2} \\mathbf{m}_i' (\\sigma^{-2} \\mathbf{Z}_i' \\mathbf{Z}_i + \\boldsymbol{\\Sigma}^{-1}) \\mathbf{m}_i \\Big] \\\\\n",
    "= \\sum_{i=1}^m \\Big[ &-& \\frac{n_i}{2 \\sigma^2} + \\frac{1}{2 (\\sigma^2)^2} (\\mathbf{y}_i - \\mathbf{X}_i \\boldsymbol{\\beta})'(\\mathbf{y}_i - \\mathbf{X}_i \\boldsymbol{\\beta}) - \\frac{1}{(\\sigma^2)^2} (\\mathbf{y}_i - \\mathbf{X}_i \\boldsymbol{\\beta})' \\mathbf{Z}_i \\mathbf{m}_i \\\\\n",
    "&+& \\frac{1}{2 (\\sigma^2)^2} \\text{tr} (\\mathbf{Z}_i' \\mathbf{Z}_i \\mathbf{V}_i) + \\frac{1}{2 \\sigma^{2}} \\mathbf{m}_i'  \\mathbf{Z}_i' \\mathbf{Z}_i  \\mathbf{m}_i \\Big] := 0 \n",
    "\\end{eqnarray*}\n",
    "\\begin{eqnarray*}\n",
    "\\sum_{i=1}^m n_i \\sigma^{2(t)} = \\sum_{i=1}^m \\Big[ (\\mathbf{y}_i - \\mathbf{X}_i \\boldsymbol{\\beta})'(\\mathbf{y}_i - \\mathbf{X}_i \\boldsymbol{\\beta}) - 2(\\mathbf{y}_i - \\mathbf{X}_i \\boldsymbol{\\beta})' \\mathbf{Z}_i \\mathbf{m}_i + \\mathbf{m}_i' \\mathbf{Z}_i' \\mathbf{Z}_i \\mathbf{V}_i + \\text{tr} (\\mathbf{Z}_i' \\mathbf{Z}_i  \\mathbf{m}_i) \\Big] \\\\\n",
    "\\sigma^{2(t)} = [\\sum_{i=1}^m n_i]^{-1}\\sum_{i=1}^m \\Big[ (\\mathbf{y}_i - \\mathbf{X}_i \\boldsymbol{\\beta})'(\\mathbf{y}_i - \\mathbf{X}_i \\boldsymbol{\\beta}) - 2(\\mathbf{y}_i - \\mathbf{X}_i \\boldsymbol{\\beta})' \\mathbf{Z}_i \\mathbf{m}_i + \\mathbf{m}_i' \\mathbf{Z}_i' \\mathbf{Z}_i \\mathbf{V}_i + \\text{tr} (\\mathbf{Z}_i' \\mathbf{Z}_i  \\mathbf{m}_i ) \\Big]\n",
    "\\end{eqnarray*}"
   ]
  },
  {
   "cell_type": "markdown",
   "metadata": {},
   "source": [
    "\\begin{eqnarray*}\n",
    "\\frac{\\partial}{\\partial \\mathbf{\\Sigma}} Q(\\boldsymbol{\\theta} \\mid \\boldsymbol{\\theta}^{(t)}) &=& \\frac{\\partial}{\\partial \\mathbf{\\Sigma}} \\sum_{i=1}^m  \\Big[ - \\frac{1}{2} \\log |\\boldsymbol{\\Sigma}| - \\frac{1}{2} \\text{tr} (\\boldsymbol{\\Sigma}^{-1} \\mathbf{V}_i) - \\frac{1}{2} \\mathbf{m}_i' \\boldsymbol{\\Sigma}^{-1} \\mathbf{m}_i \\Big] \\\\\n",
    "&=& - \\frac{1}{2} \\sum_{i=1}^m \\Big[ \\boldsymbol{\\Sigma}^{-1} - \\boldsymbol{\\Sigma}^{-1}  \\mathbf{V}_i \\boldsymbol{\\Sigma}^{-1} - \\boldsymbol{\\Sigma}^{-1} \\mathbf{m}_i \\mathbf{m}_i' \\boldsymbol{\\Sigma}^{-1} \\Big] := 0 \n",
    "\\end{eqnarray*}\n",
    "\\begin{eqnarray*}\n",
    "\\boldsymbol{\\Sigma}^{(t+1)} = \\frac{1}{m} \\sum_{i=1}^m \\Big[ \\mathbf{V}_i + \\mathbf{m}_i \\mathbf{m}_i' \\Big]\n",
    "\\end{eqnarray*}"
   ]
  },
  {
   "cell_type": "markdown",
   "metadata": {},
   "source": [
>>>>>>> main
    "## Q3. (20 pts) Objective of a single datum\n",
    "\n",
    "We modify the code from HW5 to evaluate the objective, the conditional mean of $\\boldsymbol{\\gamma}$, and the conditional variance of $\\boldsymbol{\\gamma}$. Start-up code is provided below. You do _not_ have to use this code."
   ]
  },
  {
   "cell_type": "code",
<<<<<<< HEAD
   "execution_count": null,
   "metadata": {},
   "outputs": [],
=======
   "execution_count": 3,
   "metadata": {},
   "outputs": [
    {
     "data": {
      "text/plain": [
       "logl!"
      ]
     },
     "execution_count": 3,
     "metadata": {},
     "output_type": "execute_result"
    }
   ],
>>>>>>> main
   "source": [
    "# define a type that holds an LMM datum\n",
    "struct LmmObs{T <: AbstractFloat}\n",
    "    # data\n",
    "    y          :: Vector{T}\n",
    "    X          :: Matrix{T}\n",
    "    Z          :: Matrix{T}\n",
    "    # posterior mean and variance of random effects γ\n",
    "    μγ         :: Vector{T} # posterior mean of random effects\n",
    "    νγ         :: Matrix{T} # posterior variance of random effects\n",
    "    # TODO: add whatever intermediate arrays you may want to pre-allocate\n",
    "    yty        :: T\n",
    "    rtr        :: Vector{T}\n",
    "    xty        :: Vector{T}\n",
    "    zty        :: Vector{T}\n",
    "    ztr        :: Vector{T}\n",
    "    ltztr      :: Vector{T}\n",
    "    xtr        :: Vector{T}\n",
    "    storage_p  :: Vector{T}\n",
    "    storage_q  :: Vector{T}\n",
    "    xtx        :: Matrix{T}\n",
    "    ztx        :: Matrix{T}\n",
    "    ztz        :: Matrix{T}\n",
    "    ltztzl     :: Matrix{T}\n",
    "    storage_qq :: Matrix{T}\n",
<<<<<<< HEAD
=======
    "    storage_νγ :: Matrix{T}\n",
>>>>>>> main
    "end\n",
    "\n",
    "\"\"\"\n",
    "    LmmObs(y::Vector, X::Matrix, Z::Matrix)\n",
    "\n",
    "Create an LMM datum of type `LmmObs`.\n",
    "\"\"\"\n",
    "function LmmObs(\n",
    "    y::Vector{T}, \n",
    "    X::Matrix{T}, \n",
    "    Z::Matrix{T}) where T <: AbstractFloat\n",
    "    n, p, q = size(X, 1), size(X, 2), size(Z, 2)\n",
    "    μγ         = Vector{T}(undef, q)\n",
    "    νγ         = Matrix{T}(undef, q, q)\n",
    "    yty        = abs2(norm(y))\n",
    "    rtr        = Vector{T}(undef, 1)\n",
    "    xty        = transpose(X) * y\n",
    "    zty        = transpose(Z) * y\n",
    "    ztr        = similar(zty)\n",
    "    ltztr      = similar(zty)\n",
    "    xtr        = Vector{T}(undef, p)\n",
    "    storage_p  = similar(xtr)\n",
    "    storage_q  = Vector{T}(undef, q)\n",
    "    xtx        = transpose(X) * X\n",
    "    ztx        = transpose(Z) * X\n",
    "    ztz        = transpose(Z) * Z\n",
    "    ltztzl     = similar(ztz)\n",
    "    storage_qq = similar(ztz)\n",
<<<<<<< HEAD
    "    LmmObs(y, X, Z, μγ, νγ, \n",
    "        yty, rtr, xty, zty, ztr, ltztr, xtr,\n",
    "        storage_p, storage_q, \n",
    "        xtx, ztx, ztz, ltztzl, storage_qq)\n",
=======
    "    storage_νγ = Matrix{T}(undef, q, q)\n",
    "    LmmObs(y, X, Z, μγ, νγ, \n",
    "        yty, rtr, xty, zty, ztr, ltztr, xtr,\n",
    "        storage_p, storage_q, \n",
    "        xtx, ztx, ztz, ltztzl, storage_qq,\n",
    "        storage_νγ)\n",
>>>>>>> main
    "end\n",
    "\n",
    "\"\"\"\n",
    "    logl!(obs::LmmObs, β, Σ, L, σ², updater = false)\n",
    "\n",
    "Evaluate the log-likelihood of a single LMM datum at parameter values `β`, `Σ`, \n",
    "and `σ²`. The lower triangular Cholesky factor `L` of `Σ` must be supplied too.\n",
    "The fields `obs.μγ` and `obs.νγ` are overwritten by the posterior mean and \n",
    "posterior variance of random effects. If `updater==true`, fields `obs.ztr`, \n",
    "`obs.xtr`, and `obs.rtr` are updated according to input parameter values. \n",
    "Otherwise, it assumes these three fields are pre-computed. \n",
    "\"\"\"\n",
    "function logl!(\n",
    "        obs     :: LmmObs{T}, \n",
    "        β       :: Vector{T}, \n",
    "        Σ       :: Matrix{T},\n",
    "        L       :: Matrix{T},\n",
    "        σ²      :: T,\n",
    "        updater :: Bool = false\n",
    "        ) where T <: AbstractFloat\n",
    "    n, p, q = size(obs.X, 1), size(obs.X, 2), size(obs.Z, 2)\n",
    "    σ²inv   = inv(σ²)\n",
    "    ####################\n",
    "    # Evaluate objective\n",
    "    ####################\n",
    "    # form the q-by-q matrix: Lt Zt Z L\n",
    "    copy!(obs.ltztzl, obs.ztz)\n",
    "    BLAS.trmm!('L', 'L', 'T', 'N', T(1), L, obs.ltztzl) # O(q^3)\n",
    "    BLAS.trmm!('R', 'L', 'N', 'N', T(1), L, obs.ltztzl) # O(q^3)        \n",
    "    # form the q-by-q matrix: M = σ² I + Lt Zt Z L\n",
    "    copy!(obs.storage_qq, obs.ltztzl)\n",
    "    @inbounds for j in 1:q\n",
    "        obs.storage_qq[j, j] += σ²\n",
    "    end\n",
    "    LAPACK.potrf!('U', obs.storage_qq) # O(q^3)\n",
    "    # Zt * res\n",
    "    updater && BLAS.gemv!('N', T(-1), obs.ztx, β, T(1), copy!(obs.ztr, obs.zty)) # O(pq)\n",
    "    # Lt * (Zt * res)\n",
    "    BLAS.trmv!('L', 'T', 'N', L, copy!(obs.ltztr, obs.ztr))    # O(q^2)\n",
    "    # storage_q = (Mchol.U') \\ (Lt * (Zt * res))\n",
    "    BLAS.trsv!('U', 'T', 'N', obs.storage_qq, copy!(obs.storage_q, obs.ltztr)) # O(q^3)\n",
    "    # Xt * res = Xt * y - Xt * X * β\n",
    "    updater && BLAS.gemv!('N', T(-1), obs.xtx, β, T(1), copy!(obs.xtr, obs.xty))\n",
    "    # l2 norm of residual vector\n",
    "    updater && (obs.rtr[1] = obs.yty - dot(obs.xty, β) - dot(obs.xtr, β))\n",
    "    # assemble pieces\n",
    "    logl::T = n * log(2π) + (n - q) * log(σ²) # constant term\n",
    "    @inbounds for j in 1:q # log det term\n",
    "        logl += 2log(obs.storage_qq[j, j])\n",
    "    end\n",
    "    qf    = abs2(norm(obs.storage_q)) # quadratic form term\n",
    "    logl += (obs.rtr[1] - qf) * σ²inv \n",
    "    logl /= -2\n",
    "    ######################################\n",
    "    # TODO: Evaluate posterior mean and variance\n",
<<<<<<< HEAD
    "    ######################################    \n",
    "    # TODO\n",
    "    ###################\n",
=======
    "    \n",
    "    # νγ = (Z'Z / σ² + (LL')⁻¹)⁻¹\n",
    "    # first: invert Σ = LL' in place\n",
    "    copy!(obs.νγ, L)\n",
    "    # LAPACK.trtri!('L', 'N', obs.νγ) # obs.νγ = L⁻¹\n",
    "    LAPACK.potri!('L', obs.νγ)\n",
    "    # # storage_νγ = L⁻ᵀL⁻¹\n",
    "    # getting Σ⁻¹ using gemm causes monotonocity issue down the line\n",
    "    # BLAS.gemm!('T', 'N', 1.0, obs.νγ, obs.νγ, 0.0, obs.storage_νγ) \n",
    "    # copy!(obs.νγ, obs.storage_νγ)\n",
    "    LinearAlgebra.copytri!(obs.νγ, 'L')\n",
    "    # axpy!(1/σ², obs.ztz, obs.νγ)\n",
    "    axpy!(1/σ², obs.ztz, obs.νγ)\n",
    "    # invert νγ in place\n",
    "    LAPACK.potrf!('U',obs.νγ) # cholesky\n",
    "    LAPACK.potri!('U', obs.νγ) # inverse\n",
    "    LinearAlgebra.copytri!(obs.νγ, 'U')\n",
    "    \n",
    "    # μγ = 1/σ² * νγ * ztr\n",
    "    BLAS.gemv!('N', 1/σ², obs.νγ, obs.ztr, 0.0, obs.μγ)\n",
    "    \n",
>>>>>>> main
    "    # Return\n",
    "    ###################        \n",
    "    return logl\n",
    "end\n"
   ]
  },
  {
   "cell_type": "markdown",
   "metadata": {},
   "source": [
    "It is a good idea to test correctness and efficiency of the single datum objective/posterior mean/var evaluator here. It's the same test datum in HW3 and HW5."
   ]
  },
  {
   "cell_type": "code",
<<<<<<< HEAD
   "execution_count": null,
=======
   "execution_count": 4,
>>>>>>> main
   "metadata": {},
   "outputs": [],
   "source": [
    "Random.seed!(257)\n",
    "# dimension\n",
    "n, p, q = 2000, 5, 3\n",
    "# predictors\n",
    "X = [ones(n) randn(n, p - 1)]\n",
    "Z = [ones(n) randn(n, q - 1)]\n",
    "# parameter values\n",
    "β  = [2.0; -1.0; rand(p - 2)]\n",
    "σ² = 1.5\n",
    "Σ  = fill(0.1, q, q) + 0.9I # compound symmetry \n",
    "L  = Matrix(cholesky(Symmetric(Σ)).L)\n",
    "# generate y\n",
    "y  = X * β + Z * rand(MvNormal(Σ)) + sqrt(σ²) * randn(n)\n",
    "\n",
    "# form the LmmObs object\n",
    "obs = LmmObs(y, X, Z);"
   ]
  },
  {
   "cell_type": "markdown",
   "metadata": {},
   "source": [
    "### Correctness"
   ]
  },
  {
   "cell_type": "code",
<<<<<<< HEAD
   "execution_count": null,
   "metadata": {},
   "outputs": [],
=======
   "execution_count": 5,
   "metadata": {},
   "outputs": [
    {
     "name": "stdout",
     "output_type": "stream",
     "text": [
      "logl = logl!(obs, β, Σ, L, σ², true) = -3256.1793358058258\n",
      "obs.μγ = [0.1060868930133282, -0.25104190602572535, -1.4653979409850382]\n",
      "obs.νγ = [0.0007494356395786613 -1.2183420464422428e-6 -2.176783682941748e-6; -1.2183420464422428e-6 0.0007542331466357765 2.1553464612468787e-5; -2.176783682941748e-6 2.1553464612468787e-5 0.0007465271344917235]\n"
     ]
    }
   ],
>>>>>>> main
   "source": [
    "@show logl = logl!(obs, β, Σ, L, σ², true)\n",
    "@show obs.μγ\n",
    "@show obs.νγ;"
   ]
  },
  {
   "cell_type": "markdown",
   "metadata": {},
   "source": [
    "You will lose all 20 points if following statement throws `AssertionError`."
   ]
  },
  {
   "cell_type": "code",
<<<<<<< HEAD
   "execution_count": null,
=======
   "execution_count": 6,
>>>>>>> main
   "metadata": {},
   "outputs": [],
   "source": [
    "@assert abs(logl - (-3256.1793358058258)) < 1e-4\n",
    "@assert norm(obs.μγ - [0.10608689301333621, \n",
    "        -0.25104190602577225, -1.4653979409855415]) < 1e-4\n",
    "@assert norm(obs.νγ - [\n",
    "        0.0007494356395909563 -1.2183420093769967e-6 -2.176783643112221e-6; \n",
    "        -1.2183420282298223e-6 0.0007542331467601107 2.1553464632686345e-5; \n",
    "        -2.1767836636008638e-6 2.1553464641863096e-5 0.0007465271342535443\n",
    "        ]) < 1e-4"
   ]
  },
  {
   "cell_type": "markdown",
   "metadata": {},
   "source": [
    "### Efficiency"
   ]
  },
  {
   "cell_type": "markdown",
   "metadata": {},
   "source": [
    "Benchmark for efficiency."
   ]
  },
  {
   "cell_type": "code",
<<<<<<< HEAD
   "execution_count": null,
   "metadata": {},
   "outputs": [],
=======
   "execution_count": 7,
   "metadata": {},
   "outputs": [
    {
     "data": {
      "text/plain": [
       "BenchmarkTools.Trial: 10000 samples with 10 evaluations.\n",
       " Range \u001b[90m(\u001b[39m\u001b[36m\u001b[1mmin\u001b[22m\u001b[39m … \u001b[35mmax\u001b[39m\u001b[90m):  \u001b[39m\u001b[36m\u001b[1m1.483 μs\u001b[22m\u001b[39m … \u001b[35m 10.660 μs\u001b[39m  \u001b[90m┊\u001b[39m GC \u001b[90m(\u001b[39mmin … max\u001b[90m): \u001b[39m0.00% … 0.00%\n",
       " Time  \u001b[90m(\u001b[39m\u001b[34m\u001b[1mmedian\u001b[22m\u001b[39m\u001b[90m):     \u001b[39m\u001b[34m\u001b[1m1.497 μs               \u001b[22m\u001b[39m\u001b[90m┊\u001b[39m GC \u001b[90m(\u001b[39mmedian\u001b[90m):    \u001b[39m0.00%\n",
       " Time  \u001b[90m(\u001b[39m\u001b[32m\u001b[1mmean\u001b[22m\u001b[39m ± \u001b[32mσ\u001b[39m\u001b[90m):   \u001b[39m\u001b[32m\u001b[1m1.548 μs\u001b[22m\u001b[39m ± \u001b[32m286.931 ns\u001b[39m  \u001b[90m┊\u001b[39m GC \u001b[90m(\u001b[39mmean ± σ\u001b[90m):  \u001b[39m0.00% ± 0.00%\n",
       "\n",
       "  \u001b[34m█\u001b[39m\u001b[39m▅\u001b[32m▃\u001b[39m\u001b[39m▂\u001b[39m▁\u001b[39m \u001b[39m▂\u001b[39m \u001b[39m▁\u001b[39m▁\u001b[39m \u001b[39m▁\u001b[39m▁\u001b[39m \u001b[39m \u001b[39m \u001b[39m \u001b[39m \u001b[39m \u001b[39m \u001b[39m \u001b[39m \u001b[39m \u001b[39m \u001b[39m \u001b[39m \u001b[39m \u001b[39m \u001b[39m \u001b[39m \u001b[39m \u001b[39m \u001b[39m \u001b[39m \u001b[39m \u001b[39m \u001b[39m \u001b[39m \u001b[39m \u001b[39m \u001b[39m \u001b[39m \u001b[39m \u001b[39m \u001b[39m \u001b[39m \u001b[39m \u001b[39m \u001b[39m \u001b[39m \u001b[39m \u001b[39m \u001b[39m \u001b[39m \u001b[39m \u001b[39m \u001b[39m \u001b[39m \u001b[39m \u001b[39m \u001b[39m▁\n",
       "  \u001b[34m█\u001b[39m\u001b[39m█\u001b[32m█\u001b[39m\u001b[39m█\u001b[39m█\u001b[39m▄\u001b[39m█\u001b[39m▇\u001b[39m█\u001b[39m█\u001b[39m█\u001b[39m█\u001b[39m█\u001b[39m▄\u001b[39m▁\u001b[39m▃\u001b[39m▃\u001b[39m▄\u001b[39m▁\u001b[39m▁\u001b[39m▃\u001b[39m▁\u001b[39m▃\u001b[39m▃\u001b[39m▁\u001b[39m▁\u001b[39m▁\u001b[39m▃\u001b[39m▁\u001b[39m▁\u001b[39m▃\u001b[39m▃\u001b[39m▁\u001b[39m▁\u001b[39m▁\u001b[39m▁\u001b[39m▁\u001b[39m▁\u001b[39m▁\u001b[39m▃\u001b[39m▁\u001b[39m▃\u001b[39m▁\u001b[39m▁\u001b[39m▁\u001b[39m▁\u001b[39m▁\u001b[39m▁\u001b[39m▁\u001b[39m▃\u001b[39m▃\u001b[39m▄\u001b[39m▄\u001b[39m▃\u001b[39m▁\u001b[39m▃\u001b[39m▃\u001b[39m▄\u001b[39m▆\u001b[39m \u001b[39m█\n",
       "  1.48 μs\u001b[90m      \u001b[39m\u001b[90mHistogram: \u001b[39m\u001b[90m\u001b[1mlog(\u001b[22m\u001b[39m\u001b[90mfrequency\u001b[39m\u001b[90m\u001b[1m)\u001b[22m\u001b[39m\u001b[90m by time\u001b[39m      3.17 μs \u001b[0m\u001b[1m<\u001b[22m\n",
       "\n",
       " Memory estimate\u001b[90m: \u001b[39m\u001b[33m0 bytes\u001b[39m, allocs estimate\u001b[90m: \u001b[39m\u001b[33m0\u001b[39m."
      ]
     },
     "execution_count": 7,
     "metadata": {},
     "output_type": "execute_result"
    }
   ],
>>>>>>> main
   "source": [
    "bm_obj = @benchmark logl!($obs, $β, $Σ, $L, $σ², true)"
   ]
  },
  {
   "cell_type": "markdown",
   "metadata": {},
   "source": [
    "My median runt time is 1.8μs. You will get full credit if the median run time is within 10μs. The points you will get are"
   ]
  },
  {
   "cell_type": "code",
<<<<<<< HEAD
   "execution_count": null,
   "metadata": {},
   "outputs": [],
=======
   "execution_count": 8,
   "metadata": {},
   "outputs": [
    {
     "data": {
      "text/plain": [
       "10.0"
      ]
     },
     "execution_count": 8,
     "metadata": {},
     "output_type": "execute_result"
    }
   ],
>>>>>>> main
   "source": [
    "clamp(10 / (median(bm_obj).time / 1e3) * 10, 0, 10)"
   ]
  },
  {
   "cell_type": "code",
<<<<<<< HEAD
   "execution_count": null,
=======
   "execution_count": 9,
>>>>>>> main
   "metadata": {},
   "outputs": [],
   "source": [
    "# # check for type stability\n",
    "# @code_warntype logl!(obs, β, Σ, L, σ²)"
   ]
  },
  {
   "cell_type": "code",
<<<<<<< HEAD
   "execution_count": null,
=======
   "execution_count": 10,
>>>>>>> main
   "metadata": {},
   "outputs": [],
   "source": [
    "# using Profile\n",
    "\n",
    "# Profile.clear()\n",
    "# @profile for i in 1:10000; logl!(obs, β, Σ, L, σ²); end\n",
    "# Profile.print(format=:flat)"
   ]
  },
  {
   "cell_type": "markdown",
   "metadata": {},
   "source": [
    "## Q4. LmmModel type\n",
    "\n",
    "We modify the `LmmModel` type in HW4 to hold all data points, model parameters, and intermediate arrays."
   ]
  },
  {
   "cell_type": "code",
<<<<<<< HEAD
   "execution_count": null,
   "metadata": {},
   "outputs": [],
=======
   "execution_count": 11,
   "metadata": {},
   "outputs": [
    {
     "data": {
      "text/plain": [
       "LmmModel"
      ]
     },
     "execution_count": 11,
     "metadata": {},
     "output_type": "execute_result"
    }
   ],
>>>>>>> main
   "source": [
    "# define a type that holds LMM model (data + parameters)\n",
    "struct LmmModel{T <: AbstractFloat}\n",
    "    # data\n",
    "    data :: Vector{LmmObs{T}}\n",
    "    # parameters\n",
    "    β      :: Vector{T}\n",
    "    Σ      :: Matrix{T}\n",
    "    L      :: Matrix{T}\n",
    "    σ²     :: Vector{T}    \n",
    "    # TODO: add whatever intermediate arrays you may want to pre-allocate\n",
    "    xty    :: Vector{T}\n",
    "    xtr    :: Vector{T}\n",
    "    ztr2   :: Vector{T}\n",
    "    xtxinv :: Matrix{T}\n",
    "    ztz2   :: Matrix{T}\n",
<<<<<<< HEAD
=======
    "    # add new ones\n",
    "    storage_β :: Vector{T}\n",
    "    storage_σ :: Vector{T}\n",
    "    storage_qq :: Matrix{T}\n",
>>>>>>> main
    "end\n",
    "\n",
    "\"\"\"\n",
    "    LmmModel(data::Vector{LmmObs})\n",
    "\n",
    "Create an LMM model that contains data and parameters.\n",
    "\"\"\"\n",
    "function LmmModel(obsvec::Vector{LmmObs{T}}) where T <: AbstractFloat\n",
    "    # dims\n",
    "    p      = size(obsvec[1].X, 2)\n",
    "    q      = size(obsvec[1].Z, 2)\n",
    "    # parameters\n",
    "    β      = Vector{T}(undef, p)\n",
    "    Σ      = Matrix{T}(undef, q, q)\n",
    "    L      = Matrix{T}(undef, q, q)\n",
    "    σ²     = Vector{T}(undef, 1)    \n",
    "    # intermediate arrays\n",
    "    xty    = zeros(T, p)\n",
    "    xtr    = similar(xty)\n",
    "    ztr2   = Vector{T}(undef, abs2(q))\n",
    "    xtxinv = zeros(T, p, p)\n",
    "    # pre-calculate \\sum_i Xi^T Xi and \\sum_i Xi^T y_i\n",
    "    @inbounds for i in eachindex(obsvec)\n",
    "        obs = obsvec[i]\n",
    "        BLAS.axpy!(T(1), obs.xtx, xtxinv)\n",
    "        BLAS.axpy!(T(1), obs.xty, xty)\n",
    "    end\n",
    "    # invert X'X\n",
    "    LAPACK.potrf!('U', xtxinv)\n",
    "    LAPACK.potri!('U', xtxinv)\n",
    "    LinearAlgebra.copytri!(xtxinv, 'U')\n",
    "    ztz2   = Matrix{T}(undef, abs2(q), abs2(q))\n",
<<<<<<< HEAD
    "    LmmModel(obsvec, β, Σ, L, σ², xty, xtr, ztr2, xtxinv, ztz2)\n",
=======
    "    # add new ones\n",
    "    storage_β = Vector{T}(undef, p)\n",
    "    storage_σ = Vector{T}(undef, q)\n",
    "    storage_qq = Matrix{T}(undef, q, q)\n",
    "    LmmModel(obsvec, β, Σ, L, σ², xty, xtr, ztr2, xtxinv, ztz2, \n",
    "             storage_β, storage_σ, storage_qq)\n",
>>>>>>> main
    "end"
   ]
  },
  {
   "cell_type": "markdown",
   "metadata": {},
   "source": [
    "## Q5. Implement EM update\n",
    "\n",
    "Let's write the key function `update_em!` that performs one iteration of EM update."
   ]
  },
  {
   "cell_type": "code",
<<<<<<< HEAD
   "execution_count": null,
   "metadata": {},
   "outputs": [],
=======
   "execution_count": 12,
   "metadata": {},
   "outputs": [
    {
     "data": {
      "text/plain": [
       "update_em!"
      ]
     },
     "execution_count": 12,
     "metadata": {},
     "output_type": "execute_result"
    }
   ],
>>>>>>> main
   "source": [
    "\"\"\"\n",
    "    update_em!(m::LmmModel, updater::Bool = false)\n",
    "\n",
    "Perform one iteration of EM update. It returns the log-likelihood calculated \n",
    "from input `m.β`, `m.Σ`, `m.L`, and `m.σ²`. These fields are then overwritten \n",
    "by the next EM iterate. The fields `m.data[i].xtr`, `m.data[i].ztr`, and \n",
    "`m.data[i].rtr` are updated according to the resultant `m.β`. If `updater==true`, \n",
    "the function first updates `m.data[i].xtr`, `m.data[i].ztr`, and \n",
    "`m.data[i].rtr` according to `m.β`. If `updater==false`, it assumes these fields \n",
    "are pre-computed.\n",
    "\"\"\"\n",
    "function update_em!(m::LmmModel{T}, updater::Bool = false) where T <: AbstractFloat\n",
    "    logl = zero(T)\n",
    "    # TODO: update m.β\n",
<<<<<<< HEAD
    "    # TODO: update m.data[i].ztr, m.data[i].xtr, m.data[i].rtr\n",
    "    # TODO: update m.σ²\n",
    "    # update m.Σ and m.L\n",
=======
    "    fill!(m.storage_β, T(0))\n",
    "    @inbounds for i in 1:length(m.data)\n",
    "        obs = m.data[i]\n",
    "        # accumulate logl and update/don't update xtr, ztr, rtr given updater\n",
    "        logl += logl!(obs, m.β, m.Σ, m.L, m.σ²[1], updater)\n",
    "        # storage_β += xtz * μγ\n",
    "        BLAS.gemv!('T', T(-1), obs.ztx, obs.μγ, T(1), m.storage_β)\n",
    "    end \n",
    "    \n",
    "    # β = m.xtxinv * (X'Y - storage_β)\n",
    "    axpy!(T(1), m.xty, m.storage_β)\n",
    "    BLAS.gemv!('N', T(1), m.xtxinv, m.storage_β, T(0), m.β)\n",
    "    \n",
    "    # TODO: update m.data[i].ztr, m.data[i].xtr, m.data[i].rtr\n",
    "    # adapted from logl! function\n",
    "    @inbounds for i in 1:length(m.data)\n",
    "        obs = m.data[i]\n",
    "        BLAS.gemv!('N', T(-1), obs.ztx, m.β, T(1), copy!(obs.ztr, obs.zty))\n",
    "        BLAS.gemv!('N', T(-1), obs.xtx, m.β, T(1), copy!(obs.xtr, obs.xty))\n",
    "        obs.rtr[1] = obs.yty - dot(obs.xty, m.β) - dot(obs.xtr, m.β)\n",
    "    end \n",
    "    \n",
    "    # TODO: update m.σ² and m.Σ\n",
    "    m.σ²[1] = T(0)\n",
    "    fill!(m.Σ, T(0))\n",
    "    fill!(m.storage_σ, T(0))\n",
    "    ntotal = 0\n",
    "    @inbounds for i in 1:length(m.data)\n",
    "        obs = m.data[i]\n",
    "        ntotal += size(obs.X, 1)\n",
    "        # m.σ²[1] += obs.rtr[1] - 2 * dot(obs.ztr, obs.μγ) + tr(obs.ztz * obs.νγ) +\n",
    "        #            + obs.μγ' * obs.ztz * obs.μγ \n",
    "        BLAS.gemv!('N', T(1), obs.ztz, obs.μγ, T(0), m.storage_σ) # obs.ztz * obs.νγ\n",
    "        BLAS.gemm!('N', 'N', T(1), obs.ztz, obs.νγ, T(0), m.storage_qq)\n",
    "        m.σ²[1] += obs.rtr[1]\n",
    "        m.σ²[1] -= 2 * dot(obs.ztr, obs.μγ)\n",
    "        m.σ²[1] += tr(m.storage_qq)\n",
    "        m.σ²[1] += dot(m.storage_σ, obs.μγ) # obs.μγ' * obs.ztz * obs.μγ\n",
    "        # m.Σ = obs.νγ + obs.μγ * obs.μγ'\n",
    "        m.Σ .+= obs.νγ\n",
    "        BLAS.ger!(T(1), obs.μγ, obs.μγ, m.Σ)\n",
    "    end\n",
    "    m.σ²[1] /= ntotal\n",
    "    m.Σ ./= length(m.data)\n",
    "    \n",
    "    # update m.L\n",
    "    copy!(m.L, m.Σ)\n",
    "    LAPACK.potrf!('L', m.L)\n",
>>>>>>> main
    "    # return log-likelihood at input parameter values\n",
    "    logl\n",
    "end"
   ]
  },
  {
   "cell_type": "markdown",
   "metadata": {},
   "source": [
    "## Q6. (30 pts) Test data\n",
    "\n",
    "Let's generate a fake longitudinal data set (same as HW4) to test our algorithm."
   ]
  },
  {
   "cell_type": "code",
<<<<<<< HEAD
   "execution_count": null,
=======
   "execution_count": 13,
>>>>>>> main
   "metadata": {},
   "outputs": [],
   "source": [
    "Random.seed!(257)\n",
    "\n",
    "# dimension\n",
    "m      = 1000 # number of individuals\n",
    "ns     = rand(1500:2000, m) # numbers of observations per individual\n",
    "p      = 5 # number of fixed effects, including intercept\n",
    "q      = 3 # number of random effects, including intercept\n",
    "obsvec = Vector{LmmObs{Float64}}(undef, m)\n",
    "# true parameter values\n",
    "βtrue  = [0.1; 6.5; -3.5; 1.0; 5]\n",
    "σ²true = 1.5\n",
    "σtrue  = sqrt(σ²true)\n",
    "Σtrue  = Matrix(Diagonal([2.0; 1.2; 1.0]))\n",
    "Ltrue  = Matrix(cholesky(Symmetric(Σtrue)).L)\n",
    "# generate data\n",
    "for i in 1:m\n",
    "    # first column intercept, remaining entries iid std normal\n",
    "    X = Matrix{Float64}(undef, ns[i], p)\n",
    "    X[:, 1] .= 1\n",
    "    @views Distributions.rand!(Normal(), X[:, 2:p])\n",
    "    # first column intercept, remaining entries iid std normal\n",
    "    Z = Matrix{Float64}(undef, ns[i], q)\n",
    "    Z[:, 1] .= 1\n",
    "    @views Distributions.rand!(Normal(), Z[:, 2:q])\n",
    "    # generate y\n",
    "    y = X * βtrue .+ Z * (Ltrue * randn(q)) .+ σtrue * randn(ns[i])\n",
    "    # form a LmmObs instance\n",
    "    obsvec[i] = LmmObs(y, X, Z)\n",
    "end\n",
    "# form a LmmModel instance\n",
    "lmm = LmmModel(obsvec);"
   ]
  },
  {
   "cell_type": "markdown",
   "metadata": {},
   "source": [
    "### Correctness\n",
    "\n",
    "Evaluate log-likelihood and gradient at the true parameter values."
   ]
  },
  {
   "cell_type": "code",
<<<<<<< HEAD
   "execution_count": null,
   "metadata": {},
   "outputs": [],
=======
   "execution_count": 14,
   "metadata": {},
   "outputs": [
    {
     "name": "stdout",
     "output_type": "stream",
     "text": [
      "obj1 = update_em!(lmm, true) = -2.840068438369969e6\n",
      "lmm.β = [0.10003613673625023, 6.500382871080183, -3.4998646342112254, 0.9997124657606657, 4.999230851463544]\n",
      "lmm.Σ = [1.9903882760455238 0.06862095707037452 0.05347290179472646; 0.06862095707037452 1.2813220461216897 -0.09044913324906328; 0.05347290179472646 -0.09044913324906328 0.9435400745724167]\n",
      "lmm.L = [1.4108112120498348 0.06862095707037452 0.05347290179472646; 0.04863936186803609 1.130909482937852 -0.09044913324906328; 0.03790223761904552 -0.08160924927472395 0.9671832429217858]\n",
      "lmm.σ² = [1.498736727924369]\n",
      "\n",
      "obj2 = update_em!(lmm, false) = -2.840060460542059e6\n",
      "lmm.β = [0.10007136571174438, 6.500383550631514, -3.499864298041545, 0.9997119269497645, 4.999229480978786]\n",
      "lmm.Σ = [1.9903775380783666 0.06870107683947133 0.0535435175044393; 0.06870107683947133 1.2814409213711735 -0.09059223997463761; 0.0535435175044393 -0.09059223997463761 0.9434431688085726]\n",
      "lmm.L = [1.4108074064443972 0.06870107683947133 0.0535435175044393; 0.04869628308276037 1.1309595896339961 -0.09059223997463761; 0.03795239326066691 -0.08173623647370379 0.967120453874012]\n",
      "lmm.σ² = [1.4987345544160267]\n"
     ]
    },
    {
     "data": {
      "text/plain": [
       "1-element Vector{Float64}:\n",
       " 1.4987345544160267"
      ]
     },
     "execution_count": 14,
     "metadata": {},
     "output_type": "execute_result"
    }
   ],
>>>>>>> main
   "source": [
    "copy!(lmm.β, βtrue)\n",
    "copy!(lmm.Σ, Σtrue)\n",
    "copy!(lmm.L, Ltrue)\n",
    "lmm.σ²[1] = σ²true\n",
    "@show obj1 = update_em!(lmm, true)\n",
    "@show lmm.β\n",
    "@show lmm.Σ\n",
    "@show lmm.L\n",
    "@show lmm.σ²\n",
    "println()\n",
    "@show obj2 = update_em!(lmm, false)\n",
    "@show lmm.β\n",
    "@show lmm.Σ\n",
    "@show lmm.L\n",
    "@show lmm.σ²"
   ]
  },
  {
   "cell_type": "markdown",
   "metadata": {},
   "source": [
    "Test correctness. You will loss all 30 points if following code throws `AssertError`."
   ]
  },
  {
   "cell_type": "code",
<<<<<<< HEAD
   "execution_count": null,
=======
   "execution_count": 15,
>>>>>>> main
   "metadata": {},
   "outputs": [],
   "source": [
    "@assert abs(obj1 - (-2.840068438369969e6)) < 1e-4\n",
    "@assert abs(obj2 - (-2.84006046054206e6)) < 1e-4"
   ]
  },
  {
   "cell_type": "markdown",
   "metadata": {},
   "source": [
    "### Efficiency\n",
    "\n",
    "Test efficiency of EM update."
   ]
  },
  {
   "cell_type": "code",
<<<<<<< HEAD
   "execution_count": null,
   "metadata": {},
   "outputs": [],
=======
   "execution_count": 16,
   "metadata": {},
   "outputs": [
    {
     "data": {
      "text/plain": [
       "BenchmarkTools.Trial: 2447 samples with 1 evaluation.\n",
       " Range \u001b[90m(\u001b[39m\u001b[36m\u001b[1mmin\u001b[22m\u001b[39m … \u001b[35mmax\u001b[39m\u001b[90m):  \u001b[39m\u001b[36m\u001b[1m1.942 ms\u001b[22m\u001b[39m … \u001b[35m  3.805 ms\u001b[39m  \u001b[90m┊\u001b[39m GC \u001b[90m(\u001b[39mmin … max\u001b[90m): \u001b[39m0.00% … 0.00%\n",
       " Time  \u001b[90m(\u001b[39m\u001b[34m\u001b[1mmedian\u001b[22m\u001b[39m\u001b[90m):     \u001b[39m\u001b[34m\u001b[1m2.001 ms               \u001b[22m\u001b[39m\u001b[90m┊\u001b[39m GC \u001b[90m(\u001b[39mmedian\u001b[90m):    \u001b[39m0.00%\n",
       " Time  \u001b[90m(\u001b[39m\u001b[32m\u001b[1mmean\u001b[22m\u001b[39m ± \u001b[32mσ\u001b[39m\u001b[90m):   \u001b[39m\u001b[32m\u001b[1m2.039 ms\u001b[22m\u001b[39m ± \u001b[32m132.952 μs\u001b[39m  \u001b[90m┊\u001b[39m GC \u001b[90m(\u001b[39mmean ± σ\u001b[90m):  \u001b[39m0.00% ± 0.00%\n",
       "\n",
       "  \u001b[39m▂\u001b[39m█\u001b[39m▃\u001b[39m \u001b[39m \u001b[39m \u001b[34m \u001b[39m\u001b[39m \u001b[39m \u001b[32m \u001b[39m\u001b[39m \u001b[39m \u001b[39m \u001b[39m \u001b[39m \u001b[39m \u001b[39m \u001b[39m \u001b[39m \u001b[39m \u001b[39m \u001b[39m \u001b[39m \u001b[39m \u001b[39m \u001b[39m \u001b[39m \u001b[39m \u001b[39m \u001b[39m \u001b[39m \u001b[39m \u001b[39m \u001b[39m \u001b[39m \u001b[39m \u001b[39m \u001b[39m \u001b[39m \u001b[39m \u001b[39m \u001b[39m \u001b[39m \u001b[39m \u001b[39m \u001b[39m \u001b[39m \u001b[39m \u001b[39m \u001b[39m \u001b[39m \u001b[39m \u001b[39m \u001b[39m \u001b[39m \u001b[39m \u001b[39m \u001b[39m \u001b[39m \u001b[39m \u001b[39m \n",
       "  \u001b[39m█\u001b[39m█\u001b[39m█\u001b[39m▆\u001b[39m▅\u001b[39m▆\u001b[34m▆\u001b[39m\u001b[39m▅\u001b[39m▆\u001b[32m▅\u001b[39m\u001b[39m▄\u001b[39m▅\u001b[39m▄\u001b[39m▄\u001b[39m▄\u001b[39m▃\u001b[39m▃\u001b[39m▃\u001b[39m▃\u001b[39m▃\u001b[39m▃\u001b[39m▃\u001b[39m▂\u001b[39m▃\u001b[39m▂\u001b[39m▂\u001b[39m▂\u001b[39m▂\u001b[39m▂\u001b[39m▂\u001b[39m▂\u001b[39m▂\u001b[39m▂\u001b[39m▂\u001b[39m▂\u001b[39m▂\u001b[39m▂\u001b[39m▂\u001b[39m▂\u001b[39m▂\u001b[39m▂\u001b[39m▂\u001b[39m▂\u001b[39m▂\u001b[39m▂\u001b[39m▁\u001b[39m▂\u001b[39m▂\u001b[39m▂\u001b[39m▁\u001b[39m▂\u001b[39m▂\u001b[39m▂\u001b[39m▂\u001b[39m▂\u001b[39m▂\u001b[39m▂\u001b[39m▂\u001b[39m▂\u001b[39m \u001b[39m▃\n",
       "  1.94 ms\u001b[90m         Histogram: frequency by time\u001b[39m        2.56 ms \u001b[0m\u001b[1m<\u001b[22m\n",
       "\n",
       " Memory estimate\u001b[90m: \u001b[39m\u001b[33m0 bytes\u001b[39m, allocs estimate\u001b[90m: \u001b[39m\u001b[33m0\u001b[39m."
      ]
     },
     "execution_count": 16,
     "metadata": {},
     "output_type": "execute_result"
    }
   ],
>>>>>>> main
   "source": [
    "bm_emupdate = @benchmark update_em!($lmm, true) setup=(\n",
    "    copy!(lmm.β, βtrue);\n",
    "    copy!(lmm.Σ, Σtrue);\n",
    "    copy!(lmm.L, Ltrue);\n",
    "    lmm.σ²[1] = σ²true)"
   ]
  },
  {
   "cell_type": "markdown",
   "metadata": {},
   "source": [
    "My median run time is 2.4ms. You will get full credit if your median run time is within 10ms. The points you will get are"
   ]
  },
  {
   "cell_type": "code",
<<<<<<< HEAD
   "execution_count": null,
   "metadata": {},
   "outputs": [],
=======
   "execution_count": 17,
   "metadata": {},
   "outputs": [
    {
     "data": {
      "text/plain": [
       "10.0"
      ]
     },
     "execution_count": 17,
     "metadata": {},
     "output_type": "execute_result"
    }
   ],
>>>>>>> main
   "source": [
    "clamp(10 / (median(bm_emupdate).time / 1e6) * 10, 0, 10)"
   ]
  },
  {
   "cell_type": "markdown",
   "metadata": {},
   "source": [
    "### Memory\n",
    "\n",
    "You will lose 1 point for each 100 bytes memory allocation. So the points you will get is"
   ]
  },
  {
   "cell_type": "code",
<<<<<<< HEAD
   "execution_count": null,
   "metadata": {},
   "outputs": [],
=======
   "execution_count": 18,
   "metadata": {},
   "outputs": [
    {
     "data": {
      "text/plain": [
       "10.0"
      ]
     },
     "execution_count": 18,
     "metadata": {},
     "output_type": "execute_result"
    }
   ],
>>>>>>> main
   "source": [
    "clamp(10 - median(bm_emupdate).memory / 100, 0, 10)"
   ]
  },
  {
   "cell_type": "markdown",
   "metadata": {},
   "source": [
    "## Q7. Starting point\n",
    "\n",
    "We use the same least squares estimates as in HW4 as starting point. "
   ]
  },
  {
   "cell_type": "code",
<<<<<<< HEAD
   "execution_count": null,
   "metadata": {},
   "outputs": [],
=======
   "execution_count": 19,
   "metadata": {},
   "outputs": [
    {
     "data": {
      "text/plain": [
       "kron_axpy!"
      ]
     },
     "execution_count": 19,
     "metadata": {},
     "output_type": "execute_result"
    }
   ],
>>>>>>> main
   "source": [
    "\"\"\"\n",
    "    init_ls!(m::LmmModel)\n",
    "\n",
    "Initialize parameters of a `LmmModel` object from the least squares estimate. \n",
    "`m.β`, `m.L`, and `m.σ²` are overwritten with the least squares estimates.\n",
    "\"\"\"\n",
    "function init_ls!(m::LmmModel{T}) where T <: AbstractFloat\n",
    "    p, q = size(m.data[1].X, 2), size(m.data[1].Z, 2)\n",
    "    # LS estimate for β\n",
    "    mul!(m.β, m.xtxinv, m.xty)\n",
    "    # LS etimate for σ2 and Σ\n",
    "    rss, ntotal = zero(T), 0\n",
    "    fill!(m.ztz2, 0)\n",
    "    fill!(m.ztr2, 0)    \n",
    "    @inbounds for i in eachindex(m.data)\n",
    "        obs = m.data[i]\n",
    "        ntotal += length(obs.y)\n",
    "        # update Xt * res\n",
    "        BLAS.gemv!('N', T(-1), obs.xtx, m.β, T(1), copy!(obs.xtr, obs.xty))\n",
    "        # rss of i-th individual\n",
    "        rss += obs.yty - dot(obs.xty, m.β) - dot(obs.xtr, m.β)\n",
    "        # update Zi' * res\n",
    "        BLAS.gemv!('N', T(-1), obs.ztx, m.β, T(1), copy!(obs.ztr, obs.zty))\n",
    "        # Zi'Zi ⊗ Zi'Zi\n",
    "        kron_axpy!(obs.ztz, obs.ztz, m.ztz2)\n",
    "        # Zi'res ⊗ Zi'res\n",
    "        kron_axpy!(obs.ztr, obs.ztr, m.ztr2)\n",
    "    end\n",
    "    m.σ²[1] = rss / ntotal\n",
    "    # LS estimate for Σ = LLt\n",
    "    LAPACK.potrf!('U', m.ztz2)\n",
    "    BLAS.trsv!('U', 'T', 'N', m.ztz2, m.ztr2)\n",
    "    BLAS.trsv!('U', 'N', 'N', m.ztz2, m.ztr2)\n",
    "    copyto!(m.Σ, m.ztr2)\n",
    "    copy!(m.L, m.Σ)\n",
    "    LAPACK.potrf!('L', m.L)\n",
    "    for j in 2:q, i in 1:j-1\n",
    "        m.L[i, j] = 0\n",
    "    end\n",
    "    m\n",
    "end\n",
    "\n",
    "\"\"\"\n",
    "    kron_axpy!(A, X, Y)\n",
    "\n",
    "Overwrite `Y` with `A ⊗ X + Y`. Same as `Y += kron(A, X)` but\n",
    "more memory efficient.\n",
    "\"\"\"\n",
    "function kron_axpy!(\n",
    "        A::AbstractVecOrMat{T},\n",
    "        X::AbstractVecOrMat{T},\n",
    "        Y::AbstractVecOrMat{T}\n",
    "        ) where T <: Real\n",
    "    m, n = size(A, 1), size(A, 2)\n",
    "    p, q = size(X, 1), size(X, 2)\n",
    "    @assert size(Y, 1) == m * p\n",
    "    @assert size(Y, 2) == n * q\n",
    "    @inbounds for j in 1:n\n",
    "        coffset = (j - 1) * q\n",
    "        for i in 1:m\n",
    "            a = A[i, j]\n",
    "            roffset = (i - 1) * p            \n",
    "            for l in 1:q\n",
    "                r = roffset + 1\n",
    "                c = coffset + l\n",
    "                for k in 1:p                \n",
    "                    Y[r, c] += a * X[k, l]\n",
    "                    r += 1\n",
    "                end\n",
    "            end\n",
    "        end\n",
    "    end\n",
    "    Y\n",
    "end"
   ]
  },
  {
   "cell_type": "code",
<<<<<<< HEAD
   "execution_count": null,
   "metadata": {},
   "outputs": [],
=======
   "execution_count": 20,
   "metadata": {},
   "outputs": [
    {
     "name": "stdout",
     "output_type": "stream",
     "text": [
      "lmm.β = [0.18207934611476334, 6.500480700993723, -3.4979107842091604, 1.001113296229796, 5.0002519857919285]\n",
      "lmm.Σ = [1.979430283668505 0.0725846100391669 0.05717147035274013; 0.07258461003916691 1.2840385734767714 -0.0770794276897856; 0.05717147035274013 -0.0770794276897856 0.9509885905046902]\n",
      "lmm.L = [1.4069222734993234 0.0 0.0; 0.05159105901325531 1.1319792118703693 0.0; 0.04063584138912108 -0.06994463586493141 0.9718256360134829]\n",
      "lmm.σ² = [5.709004733413663]\n"
     ]
    },
    {
     "data": {
      "text/plain": [
       "1-element Vector{Float64}:\n",
       " 5.709004733413663"
      ]
     },
     "execution_count": 20,
     "metadata": {},
     "output_type": "execute_result"
    }
   ],
>>>>>>> main
   "source": [
    "init_ls!(lmm)\n",
    "@show lmm.β\n",
    "@show lmm.Σ\n",
    "@show lmm.L\n",
    "@show lmm.σ²"
   ]
  },
  {
   "cell_type": "markdown",
   "metadata": {},
   "source": [
    "## Q8. Estimation by EM\n",
    "\n",
    "We write a function `fit!` that implements the EM algorithm for estimating LMM."
   ]
  },
  {
   "cell_type": "code",
<<<<<<< HEAD
   "execution_count": null,
   "metadata": {},
   "outputs": [],
=======
   "execution_count": 21,
   "metadata": {},
   "outputs": [
    {
     "data": {
      "text/plain": [
       "fit!"
      ]
     },
     "execution_count": 21,
     "metadata": {},
     "output_type": "execute_result"
    }
   ],
>>>>>>> main
   "source": [
    "\"\"\"\n",
    "    fit!(m::LmmModel)\n",
    "\n",
    "Fit an `LmmModel` object by MLE using a EM algorithm. Start point \n",
    "should be provided in `m.β`, `m.σ²`, `m.L`.\n",
    "\"\"\"\n",
    "function fit!(\n",
    "        m       :: LmmModel;\n",
    "        maxiter :: Integer       = 10_000,\n",
    "        ftolrel :: AbstractFloat = 1e-12,\n",
    "        prtfreq :: Integer       = 0\n",
    "    )\n",
    "    obj = update_em!(m, true)\n",
    "    for iter in 0:maxiter\n",
    "        obj_old = obj\n",
    "        # EM update\n",
    "        obj = update_em!(m, false)\n",
    "        # print obj\n",
    "        prtfreq > 0 && rem(iter, prtfreq) == 0 && println(\"iter=$iter, obj=$obj\")\n",
    "        # check monotonicity\n",
    "        obj < obj_old && (@warn \"monotoniciy violated\")\n",
    "        # check convergence criterion\n",
    "        (obj - obj_old) < ftolrel * (abs(obj_old) + 1) && break\n",
    "        # warning about non-convergence\n",
    "        iter == maxiter && (@warn \"maximum iterations reached\")\n",
    "    end\n",
    "    m\n",
    "end\n"
   ]
  },
  {
   "cell_type": "markdown",
   "metadata": {},
   "source": [
    "## Q9. (20 pts) Test drive\n",
    "\n",
    "Now we can run our EM algorithm to compute the MLE."
   ]
  },
  {
   "cell_type": "code",
<<<<<<< HEAD
   "execution_count": null,
   "metadata": {},
   "outputs": [],
=======
   "execution_count": 22,
   "metadata": {},
   "outputs": [
    {
     "name": "stdout",
     "output_type": "stream",
     "text": [
      "iter=0, obj=-2.840068882178376e6\n",
      "iter=1, obj=-2.8400587867556866e6\n",
      "iter=2, obj=-2.8400587867255462e6\n",
      "iter=3, obj=-2.8400587867254727e6\n",
      "  0.047927 seconds (155.67 k allocations: 8.284 MiB, 76.74% compilation time)\n",
      "objective value at solution: -2.8400587867254023e6\n",
      "\n",
      "solution values:\n",
      "lmm.β = [0.1820785580314922, 6.5003835473925795, -3.499864296224197, 0.9997119252318643, 4.999229481214087]\n",
      "lmm.σ² = [1.4987345519194346]\n",
      "lmm.L * transpose(lmm.L) = [1.9910121170848074 0.13511176181337373 0.10338307121955843; 0.13511176181337373 1.2896479966475474 -0.17820187294251738; 0.10338307121955843 -0.17820187294251738 0.9434430471656196]\n"
     ]
    },
    {
     "data": {
      "text/plain": [
       "3×3 Matrix{Float64}:\n",
       " 1.99101    0.135112   0.103383\n",
       " 0.135112   1.28965   -0.178202\n",
       " 0.103383  -0.178202   0.943443"
      ]
     },
     "execution_count": 22,
     "metadata": {},
     "output_type": "execute_result"
    }
   ],
>>>>>>> main
   "source": [
    "# initialize from least squares\n",
    "init_ls!(lmm)\n",
    "\n",
    "@time fit!(lmm, prtfreq = 1);\n",
    "\n",
    "println(\"objective value at solution: \", update_em!(lmm)); println()\n",
    "println(\"solution values:\")\n",
    "@show lmm.β\n",
    "@show lmm.σ²\n",
    "@show lmm.L * transpose(lmm.L)"
   ]
  },
  {
   "cell_type": "markdown",
   "metadata": {},
   "source": [
    "### Correctness\n",
    "\n",
    "You get 10 points if the following code does not throw `AssertError`."
   ]
  },
  {
   "cell_type": "code",
<<<<<<< HEAD
   "execution_count": null,
=======
   "execution_count": 23,
>>>>>>> main
   "metadata": {},
   "outputs": [],
   "source": [
    "# objective at solution should be close enough to the optimal\n",
<<<<<<< HEAD
    "@assert update_em!(lmm) > -2.83426451e6"
=======
    "# @assert update_em!(lmm) > -2.83426451e6\n",
    "# update to new assertion criteria\n",
    "@assert update_em!(lmm) > -2.840059e6"
   ]
  },
  {
   "cell_type": "code",
   "execution_count": 24,
   "metadata": {},
   "outputs": [
    {
     "data": {
      "text/plain": [
       "-2.840058786725276e6"
      ]
     },
     "execution_count": 24,
     "metadata": {},
     "output_type": "execute_result"
    }
   ],
   "source": [
    "update_em!(lmm)"
>>>>>>> main
   ]
  },
  {
   "cell_type": "markdown",
   "metadata": {},
   "source": [
    "### Efficiency\n",
    "\n",
    "My median run time 12ms. You get 10 points if your median run time is within 1s."
   ]
  },
  {
   "cell_type": "code",
<<<<<<< HEAD
   "execution_count": null,
   "metadata": {},
   "outputs": [],
=======
   "execution_count": 25,
   "metadata": {},
   "outputs": [
    {
     "data": {
      "text/plain": [
       "BenchmarkTools.Trial: 486 samples with 1 evaluation.\n",
       " Range \u001b[90m(\u001b[39m\u001b[36m\u001b[1mmin\u001b[22m\u001b[39m … \u001b[35mmax\u001b[39m\u001b[90m):  \u001b[39m\u001b[36m\u001b[1m9.209 ms\u001b[22m\u001b[39m … \u001b[35m22.479 ms\u001b[39m  \u001b[90m┊\u001b[39m GC \u001b[90m(\u001b[39mmin … max\u001b[90m): \u001b[39m0.00% … 0.00%\n",
       " Time  \u001b[90m(\u001b[39m\u001b[34m\u001b[1mmedian\u001b[22m\u001b[39m\u001b[90m):     \u001b[39m\u001b[34m\u001b[1m9.569 ms              \u001b[22m\u001b[39m\u001b[90m┊\u001b[39m GC \u001b[90m(\u001b[39mmedian\u001b[90m):    \u001b[39m0.00%\n",
       " Time  \u001b[90m(\u001b[39m\u001b[32m\u001b[1mmean\u001b[22m\u001b[39m ± \u001b[32mσ\u001b[39m\u001b[90m):   \u001b[39m\u001b[32m\u001b[1m9.902 ms\u001b[22m\u001b[39m ± \u001b[32m 1.145 ms\u001b[39m  \u001b[90m┊\u001b[39m GC \u001b[90m(\u001b[39mmean ± σ\u001b[90m):  \u001b[39m0.00% ± 0.00%\n",
       "\n",
       "  \u001b[39m▃\u001b[39m▅\u001b[39m▇\u001b[39m█\u001b[39m▇\u001b[34m▆\u001b[39m\u001b[39m▅\u001b[39m▃\u001b[39m▄\u001b[32m \u001b[39m\u001b[39m▃\u001b[39m▁\u001b[39m▁\u001b[39m▁\u001b[39m▁\u001b[39m \u001b[39m▁\u001b[39m \u001b[39m \u001b[39m \u001b[39m \u001b[39m \u001b[39m \u001b[39m \u001b[39m \u001b[39m \u001b[39m \u001b[39m \u001b[39m \u001b[39m \u001b[39m \u001b[39m \u001b[39m \u001b[39m \u001b[39m \u001b[39m \u001b[39m \u001b[39m \u001b[39m \u001b[39m \u001b[39m \u001b[39m \u001b[39m \u001b[39m \u001b[39m \u001b[39m \u001b[39m \u001b[39m \u001b[39m \u001b[39m \u001b[39m \u001b[39m \u001b[39m \u001b[39m \u001b[39m \u001b[39m \u001b[39m \u001b[39m \u001b[39m \u001b[39m \n",
       "  \u001b[39m█\u001b[39m█\u001b[39m█\u001b[39m█\u001b[39m█\u001b[34m█\u001b[39m\u001b[39m█\u001b[39m█\u001b[39m█\u001b[32m█\u001b[39m\u001b[39m█\u001b[39m█\u001b[39m█\u001b[39m█\u001b[39m█\u001b[39m█\u001b[39m█\u001b[39m▇\u001b[39m▁\u001b[39m▆\u001b[39m█\u001b[39m▅\u001b[39m▅\u001b[39m▆\u001b[39m▁\u001b[39m▅\u001b[39m▅\u001b[39m▇\u001b[39m▅\u001b[39m▅\u001b[39m▄\u001b[39m▁\u001b[39m▅\u001b[39m▁\u001b[39m▁\u001b[39m▁\u001b[39m▄\u001b[39m▁\u001b[39m▆\u001b[39m▄\u001b[39m▅\u001b[39m▆\u001b[39m▁\u001b[39m▅\u001b[39m▅\u001b[39m▁\u001b[39m▄\u001b[39m▁\u001b[39m▁\u001b[39m▁\u001b[39m▁\u001b[39m▁\u001b[39m▁\u001b[39m▁\u001b[39m▁\u001b[39m▄\u001b[39m▁\u001b[39m▅\u001b[39m \u001b[39m▇\n",
       "  9.21 ms\u001b[90m      \u001b[39m\u001b[90mHistogram: \u001b[39m\u001b[90m\u001b[1mlog(\u001b[22m\u001b[39m\u001b[90mfrequency\u001b[39m\u001b[90m\u001b[1m)\u001b[22m\u001b[39m\u001b[90m by time\u001b[39m     13.5 ms \u001b[0m\u001b[1m<\u001b[22m\n",
       "\n",
       " Memory estimate\u001b[90m: \u001b[39m\u001b[33m0 bytes\u001b[39m, allocs estimate\u001b[90m: \u001b[39m\u001b[33m0\u001b[39m."
      ]
     },
     "execution_count": 25,
     "metadata": {},
     "output_type": "execute_result"
    }
   ],
>>>>>>> main
   "source": [
    "bm_em = @benchmark fit!($lmm) setup = (init_ls!(lmm))"
   ]
  },
  {
   "cell_type": "code",
<<<<<<< HEAD
   "execution_count": null,
   "metadata": {},
   "outputs": [],
=======
   "execution_count": 26,
   "metadata": {},
   "outputs": [
    {
     "data": {
      "text/plain": [
       "10.0"
      ]
     },
     "execution_count": 26,
     "metadata": {},
     "output_type": "execute_result"
    }
   ],
>>>>>>> main
   "source": [
    "# this is the points you get\n",
    "clamp(1 / (median(bm_em).time / 1e9) * 10, 0, 10)"
   ]
  },
  {
   "cell_type": "markdown",
   "metadata": {},
   "source": [
    "## Q10. (10 pts) EM vs Newton type algorithms\n",
    "\n",
    "Contrast EM algorithm to the Newton type algorithms (gradient free, gradient based, using Hessian) in HW5, in terms of the stability, convergence rate (how fast the algorithm is converging),  final objective value, total run time, derivation, and implementation efforts. "
   ]
<<<<<<< HEAD
=======
  },
  {
   "cell_type": "markdown",
   "metadata": {},
   "source": [
    "**Solution**\n",
    "\n",
    "The median runtime for the EM algorithm implemented here is 9.6ms, which is much faster than the Newton algorithm implemented in HW5, taking 184ms, and also much faster than the three other methods (gradient free - 0.86s, gradient based - 0.19s, and Hessian based - 2.96s) in HW5. The Newton methods generally converge faster (fewer iterations) than the EM algorithm, since the latter converges at a linear rate. Therefore, we see a tradeoff between runtime and convergence rate. \n",
    "\n",
    "The final objective value for the EM algorithm is similar to the Newton algorithm implemented in HW5,  the gradient-based method and the method using Hessian, but all of these methods are very different from the gradient-free method. \n",
    "\n",
    "The derivation for the EM algorithm relies on choosing a good \"missing\" variable. This choice might involve more thinking, but the derivation afterwards and implementation are straightforward. Personally, I find it more time-consuming to derive and implement the gradient and Hessian functions."
   ]
>>>>>>> main
  }
 ],
 "metadata": {
  "@webio": {
   "lastCommId": null,
   "lastKernelId": null
  },
  "kernelspec": {
<<<<<<< HEAD
   "display_name": "Julia 1.7.1",
=======
   "display_name": "Julia 1.7.2",
>>>>>>> main
   "language": "julia",
   "name": "julia-1.7"
  },
  "language_info": {
   "file_extension": ".jl",
   "mimetype": "application/julia",
   "name": "julia",
<<<<<<< HEAD
   "version": "1.7.1"
=======
   "version": "1.7.2"
>>>>>>> main
  },
  "toc": {
   "colors": {
    "hover_highlight": "#DAA520",
    "running_highlight": "#FF0000",
    "selected_highlight": "#FFD700"
   },
   "moveMenuLeft": true,
   "nav_menu": {
    "height": "87px",
    "width": "252px"
   },
   "navigate_menu": true,
   "number_sections": true,
   "sideBar": true,
   "skip_h1_title": true,
   "threshold": 4,
   "toc_cell": false,
   "toc_section_display": "block",
   "toc_window_display": false,
   "widenNotebook": false
  }
 },
 "nbformat": 4,
 "nbformat_minor": 4
}
