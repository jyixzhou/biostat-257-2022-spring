{
 "cells": [
  {
   "cell_type": "markdown",
   "metadata": {
    "tags": []
   },
   "source": [
    "# Biostat 257 Homework 1\n",
    "\n",
    "### Yixuan Zhou (UID 505 524 487)\n",
    "\n",
    "#### Due Apr 15 @ 11:59PM"
   ]
  },
  {
   "cell_type": "markdown",
   "metadata": {},
   "source": [
    "## Q1\n",
    "\n",
    "**No handwritten homework reports are accepted for this course.**  We work with Git/GitHub.  Efficient and abundant use of Git, e.g., **frequent and well-documented** commits, is an important criterion for grading your homework.\n",
    "\n",
    "1. If you don't have a GitHub account, apply for the [Student Developer Pack](https://education.github.com/pack) at GitHub using your UCLA email.\n",
    "\n",
    "2. Create a **private** repository `biostat-257-2022-spring` and add `Hua-Zhou` and `maschepps` (TA) as your collaborators.\n",
    "\n",
    "3. Top directories of the repository should be `hw1`, `hw2`, ... You may create other branches for developing your homework solutions; but the `master` branch will be your presentation area. Put your homework submission files (Jupyter notebook `.ipynb`, html converted from notebook, all code and data set to reproduce results) in the `master` branch. \n",
    "\n",
    "4. After each homework due date, teaching assistant and instructor will check out your `master` branch for grading. Tag each of your homework submissions with tag names `hw1`, `hw2`, ...  Tagging time will be used as your submission time. That means if you tag your hw1 submission after deadline, penalty points will be deducted for late submission.  \n",
    "\n",
    "5. Read the [style guide](https://github.com/johnmyleswhite/Style.jl) for Julia programming. Following rules in the style guide will be strictly enforced when grading: (4) four space indenting rule, (6) 80 charcter rule, (7) space after comma rule, (8) no space before comma rule, (9) space around operator rule."
   ]
  },
  {
   "cell_type": "markdown",
   "metadata": {
    "tags": []
   },
   "source": [
    "## Q2\n",
    "\n",
    "Let's check whether floating-point numbers obey certain algebraic rules. For 2-5, one counter-example suffices.\n",
    "\n",
    "1. Associative rule for addition says `(x + y) + z == x + (y + z)`. Check association rule using `x = 0.1`, `y = 0.1` and `z = 1.0` in Julia. Explain what you find.\n",
    "\n",
    "2. Do floating-point numbers obey the associative rule for multiplication: `(x * y) * z == x * (y * z)`?\n",
    "\n",
    "3. Do floating-point numbers obey the distributive rule: `a * (x + y) == a * x + a * y`?  \n",
    "\n",
    "4. Is `0 * x == 0` true for all floating-point number `x`? \n",
    "\n",
    "5. Is `x / a == x * (1 / a)` always true?"
   ]
  },
  {
   "cell_type": "markdown",
   "metadata": {},
   "source": [
    "**Solution to 2.1**"
   ]
  },
  {
   "cell_type": "code",
   "execution_count": 1,
   "metadata": {},
   "outputs": [
    {
     "data": {
      "text/plain": [
       "1.0"
      ]
     },
     "execution_count": 1,
     "metadata": {},
     "output_type": "execute_result"
    }
   ],
   "source": [
    "x = 0.1\n",
    "y = 0.1\n",
    "z = 1.0"
   ]
  },
  {
   "cell_type": "code",
   "execution_count": 2,
   "metadata": {},
   "outputs": [
    {
     "data": {
      "text/plain": [
       "1.2"
      ]
     },
     "execution_count": 2,
     "metadata": {},
     "output_type": "execute_result"
    }
   ],
   "source": [
    "(x + y) + z"
   ]
  },
  {
   "cell_type": "code",
   "execution_count": 3,
   "metadata": {},
   "outputs": [
    {
     "data": {
      "text/plain": [
       "1.2000000000000002"
      ]
     },
     "execution_count": 3,
     "metadata": {},
     "output_type": "execute_result"
    }
   ],
   "source": [
    "x + (y + z)"
   ]
  },
  {
   "cell_type": "markdown",
   "metadata": {},
   "source": [
    "Floating-point numbers do not always obey the associative rule. Changing the order of summation changes the order of how the floating points are shifted and the order of rounding floating numbers. "
   ]
  },
  {
   "cell_type": "markdown",
   "metadata": {},
   "source": [
    "**Solution to 2.2**"
   ]
  },
  {
   "cell_type": "code",
   "execution_count": 4,
   "metadata": {},
   "outputs": [
    {
     "data": {
      "text/plain": [
       "0.006000000000000001"
      ]
     },
     "execution_count": 4,
     "metadata": {},
     "output_type": "execute_result"
    }
   ],
   "source": [
    "x = 0.1\n",
    "y = 0.2\n",
    "z = 0.3\n",
    "(x * y) * z"
   ]
  },
  {
   "cell_type": "code",
   "execution_count": 5,
   "metadata": {},
   "outputs": [
    {
     "data": {
      "text/plain": [
       "0.006"
      ]
     },
     "execution_count": 5,
     "metadata": {},
     "output_type": "execute_result"
    }
   ],
   "source": [
    "x * (y * z)"
   ]
  },
  {
   "cell_type": "markdown",
   "metadata": {},
   "source": [
    "The floating-point numbers do not always obey the associative rule for multiplication for the same reasons as 2.1. "
   ]
  },
  {
   "cell_type": "markdown",
   "metadata": {},
   "source": [
    "**Solution to 2.3**"
   ]
  },
  {
   "cell_type": "code",
   "execution_count": 6,
   "metadata": {},
   "outputs": [
    {
     "data": {
      "text/plain": [
       "0.19999980000000003"
      ]
     },
     "execution_count": 6,
     "metadata": {},
     "output_type": "execute_result"
    }
   ],
   "source": [
    "a = 0.666666\n",
    "x = 0.1\n",
    "y = 0.2\n",
    "a * (x + y)"
   ]
  },
  {
   "cell_type": "code",
   "execution_count": 7,
   "metadata": {},
   "outputs": [
    {
     "data": {
      "text/plain": [
       "0.1999998"
      ]
     },
     "execution_count": 7,
     "metadata": {},
     "output_type": "execute_result"
    }
   ],
   "source": [
    "a * x + a * y"
   ]
  },
  {
   "cell_type": "markdown",
   "metadata": {},
   "source": [
    "The floating-point numbers do not always obey the distributive rule. "
   ]
  },
  {
   "cell_type": "markdown",
   "metadata": {},
   "source": [
    "**Solution to 2.4**"
   ]
  },
  {
   "cell_type": "code",
   "execution_count": 8,
   "metadata": {},
   "outputs": [
    {
     "data": {
      "text/plain": [
       "true"
      ]
     },
     "execution_count": 8,
     "metadata": {},
     "output_type": "execute_result"
    }
   ],
   "source": [
    "x = 1.10000000111\n",
    "0 * x == 0"
   ]
  },
  {
   "cell_type": "code",
   "execution_count": 9,
   "metadata": {},
   "outputs": [
    {
     "data": {
      "text/plain": [
       "false"
      ]
     },
     "execution_count": 9,
     "metadata": {},
     "output_type": "execute_result"
    }
   ],
   "source": [
    "x = Inf\n",
    "0 * x == 0"
   ]
  },
  {
   "cell_type": "code",
   "execution_count": 10,
   "metadata": {},
   "outputs": [
    {
     "data": {
      "text/plain": [
       "false"
      ]
     },
     "execution_count": 10,
     "metadata": {},
     "output_type": "execute_result"
    }
   ],
   "source": [
    "x = -Inf\n",
    "0 * x == 0"
   ]
  },
  {
   "cell_type": "code",
   "execution_count": 11,
   "metadata": {},
   "outputs": [
    {
     "data": {
      "text/plain": [
       "false"
      ]
     },
     "execution_count": 11,
     "metadata": {},
     "output_type": "execute_result"
    }
   ],
   "source": [
    "x = NaN\n",
    "0 * x == 0"
   ]
  },
  {
   "cell_type": "markdown",
   "metadata": {},
   "source": [
    "We see that `0 * x == 0` is true for all x as a real number, but it is not true if x is positive or negative infinity or NaN.  "
   ]
  },
  {
   "cell_type": "markdown",
   "metadata": {},
   "source": [
    "**Solution to 2.5**"
   ]
  },
  {
   "cell_type": "code",
   "execution_count": 12,
   "metadata": {},
   "outputs": [
    {
     "data": {
      "text/plain": [
       "false"
      ]
     },
     "execution_count": 12,
     "metadata": {},
     "output_type": "execute_result"
    }
   ],
   "source": [
    "x = 100000000\n",
    "a = 0.0000000356\n",
    "x / a == x * (1 / a)"
   ]
  },
  {
   "cell_type": "code",
   "execution_count": 13,
   "metadata": {},
   "outputs": [
    {
     "data": {
      "text/plain": [
       "false"
      ]
     },
     "execution_count": 13,
     "metadata": {},
     "output_type": "execute_result"
    }
   ],
   "source": [
    "x = 1.0\n",
    "a = NaN\n",
    "x / a == x * (1 / a)"
   ]
  },
  {
   "cell_type": "code",
   "execution_count": 14,
   "metadata": {},
   "outputs": [
    {
     "data": {
      "text/plain": [
       "false"
      ]
     },
     "execution_count": 14,
     "metadata": {},
     "output_type": "execute_result"
    }
   ],
   "source": [
    "x = 0\n",
    "a = 0\n",
    "x / a == x * (1 / a)"
   ]
  },
  {
   "cell_type": "markdown",
   "metadata": {},
   "source": [
    "We see that `x / a == x * (1 / a)` is not always true."
   ]
  },
  {
   "cell_type": "markdown",
   "metadata": {
    "tags": []
   },
   "source": [
    "## Q3\n",
    "\n",
    "Consider Julia function\n",
    "```julia\n",
    "function g(k)\n",
    "    for i in 1:10\n",
    "        k = 5k - 1\n",
    "    end\n",
    "    k\n",
    "end\n",
    "```\n",
    "1. Use `@code_llvm` to find the LLVM bitcode of compiled `g` with `Int64` input.   \n",
    "2. Use `@code_llvm` to find the LLVM bitcode of compiled `g` with `Float64` input.  \n",
    "3. Compare the bitcode from questions 1 and 2. What do you find?  \n",
    "4. Read Julia documentation on `@fastmath` and repeat the questions 1-3 on the function  \n",
    "\n",
    "```julia\n",
    "function g_fastmath(k)  \n",
    "    @fastmath for i in 1:10  \n",
    "        k = 5k - 1\n",
    "    end\n",
    "    k\n",
    "end\n",
    "```\n",
    "    Explain what does macro `@fastmath` do?"
   ]
  },
  {
   "cell_type": "markdown",
   "metadata": {},
   "source": [
    "**Solution to 3.1**"
   ]
  },
  {
   "cell_type": "code",
   "execution_count": 15,
   "metadata": {},
   "outputs": [
    {
     "data": {
      "text/plain": [
       "g (generic function with 1 method)"
      ]
     },
     "execution_count": 15,
     "metadata": {},
     "output_type": "execute_result"
    }
   ],
   "source": [
    "function g(k)\n",
    "    for i in 1:10\n",
    "        k = 5k - 1\n",
    "    end\n",
    "    k\n",
    "end"
   ]
  },
  {
   "cell_type": "code",
   "execution_count": 16,
   "metadata": {},
   "outputs": [
    {
     "name": "stdout",
     "output_type": "stream",
     "text": [
      "\u001b[90m;  @ In[15]:1 within `g`\u001b[39m\n",
      "\u001b[95mdefine\u001b[39m \u001b[36mi64\u001b[39m \u001b[93m@julia_g_1305\u001b[39m\u001b[33m(\u001b[39m\u001b[36mi64\u001b[39m \u001b[95msignext\u001b[39m \u001b[0m%0\u001b[33m)\u001b[39m \u001b[0m#0 \u001b[33m{\u001b[39m\n",
      "\u001b[91mtop:\u001b[39m\n",
      "\u001b[90m;  @ In[15]:3 within `g`\u001b[39m\n",
      "\u001b[90m; ┌ @ int.jl:88 within `*`\u001b[39m\n",
      "   \u001b[0m%1 \u001b[0m= \u001b[96m\u001b[1mmul\u001b[22m\u001b[39m \u001b[36mi64\u001b[39m \u001b[0m%0\u001b[0m, \u001b[33m9765625\u001b[39m\n",
      "\u001b[90m; └\u001b[39m\n",
      "\u001b[90m; ┌ @ int.jl:86 within `-`\u001b[39m\n",
      "   \u001b[0m%2 \u001b[0m= \u001b[96m\u001b[1madd\u001b[22m\u001b[39m \u001b[36mi64\u001b[39m \u001b[0m%1\u001b[0m, \u001b[33m-2441406\u001b[39m\n",
      "\u001b[90m; └\u001b[39m\n",
      "\u001b[90m;  @ In[15]:5 within `g`\u001b[39m\n",
      "  \u001b[96m\u001b[1mret\u001b[22m\u001b[39m \u001b[36mi64\u001b[39m \u001b[0m%2\n",
      "\u001b[33m}\u001b[39m\n"
     ]
    }
   ],
   "source": [
    "k = 2 # Int64\n",
    "@code_llvm g(k)"
   ]
  },
  {
   "cell_type": "markdown",
   "metadata": {},
   "source": [
    "**Solution to 3.2**"
   ]
  },
  {
   "cell_type": "code",
   "execution_count": 17,
   "metadata": {},
   "outputs": [
    {
     "name": "stdout",
     "output_type": "stream",
     "text": [
      "\u001b[90m;  @ In[15]:1 within `g`\u001b[39m\n",
      "\u001b[95mdefine\u001b[39m \u001b[36mdouble\u001b[39m \u001b[93m@julia_g_1335\u001b[39m\u001b[33m(\u001b[39m\u001b[36mdouble\u001b[39m \u001b[0m%0\u001b[33m)\u001b[39m \u001b[0m#0 \u001b[33m{\u001b[39m\n",
      "\u001b[91mtop:\u001b[39m\n",
      "\u001b[90m;  @ In[15]:3 within `g`\u001b[39m\n",
      "\u001b[90m; ┌ @ promotion.jl:380 within `*` @ float.jl:405\u001b[39m\n",
      "   \u001b[0m%1 \u001b[0m= \u001b[96m\u001b[1mfmul\u001b[22m\u001b[39m \u001b[36mdouble\u001b[39m \u001b[0m%0\u001b[0m, \u001b[33m5.000000e+00\u001b[39m\n",
      "\u001b[90m; └\u001b[39m\n",
      "\u001b[90m; ┌ @ promotion.jl:381 within `-` @ float.jl:402\u001b[39m\n",
      "   \u001b[0m%2 \u001b[0m= \u001b[96m\u001b[1mfadd\u001b[22m\u001b[39m \u001b[36mdouble\u001b[39m \u001b[0m%1\u001b[0m, \u001b[33m-1.000000e+00\u001b[39m\n",
      "\u001b[90m; └\u001b[39m\n",
      "\u001b[90m; ┌ @ promotion.jl:380 within `*` @ float.jl:405\u001b[39m\n",
      "   \u001b[0m%3 \u001b[0m= \u001b[96m\u001b[1mfmul\u001b[22m\u001b[39m \u001b[36mdouble\u001b[39m \u001b[0m%2\u001b[0m, \u001b[33m5.000000e+00\u001b[39m\n",
      "\u001b[90m; └\u001b[39m\n",
      "\u001b[90m; ┌ @ promotion.jl:381 within `-` @ float.jl:402\u001b[39m\n",
      "   \u001b[0m%4 \u001b[0m= \u001b[96m\u001b[1mfadd\u001b[22m\u001b[39m \u001b[36mdouble\u001b[39m \u001b[0m%3\u001b[0m, \u001b[33m-1.000000e+00\u001b[39m\n",
      "\u001b[90m; └\u001b[39m\n",
      "\u001b[90m; ┌ @ promotion.jl:380 within `*` @ float.jl:405\u001b[39m\n",
      "   \u001b[0m%5 \u001b[0m= \u001b[96m\u001b[1mfmul\u001b[22m\u001b[39m \u001b[36mdouble\u001b[39m \u001b[0m%4\u001b[0m, \u001b[33m5.000000e+00\u001b[39m\n",
      "\u001b[90m; └\u001b[39m\n",
      "\u001b[90m; ┌ @ promotion.jl:381 within `-` @ float.jl:402\u001b[39m\n",
      "   \u001b[0m%6 \u001b[0m= \u001b[96m\u001b[1mfadd\u001b[22m\u001b[39m \u001b[36mdouble\u001b[39m \u001b[0m%5\u001b[0m, \u001b[33m-1.000000e+00\u001b[39m\n",
      "\u001b[90m; └\u001b[39m\n",
      "\u001b[90m; ┌ @ promotion.jl:380 within `*` @ float.jl:405\u001b[39m\n",
      "   \u001b[0m%7 \u001b[0m= \u001b[96m\u001b[1mfmul\u001b[22m\u001b[39m \u001b[36mdouble\u001b[39m \u001b[0m%6\u001b[0m, \u001b[33m5.000000e+00\u001b[39m\n",
      "\u001b[90m; └\u001b[39m\n",
      "\u001b[90m; ┌ @ promotion.jl:381 within `-` @ float.jl:402\u001b[39m\n",
      "   \u001b[0m%8 \u001b[0m= \u001b[96m\u001b[1mfadd\u001b[22m\u001b[39m \u001b[36mdouble\u001b[39m \u001b[0m%7\u001b[0m, \u001b[33m-1.000000e+00\u001b[39m\n",
      "\u001b[90m; └\u001b[39m\n",
      "\u001b[90m; ┌ @ promotion.jl:380 within `*` @ float.jl:405\u001b[39m\n",
      "   \u001b[0m%9 \u001b[0m= \u001b[96m\u001b[1mfmul\u001b[22m\u001b[39m \u001b[36mdouble\u001b[39m \u001b[0m%8\u001b[0m, \u001b[33m5.000000e+00\u001b[39m\n",
      "\u001b[90m; └\u001b[39m\n",
      "\u001b[90m; ┌ @ promotion.jl:381 within `-` @ float.jl:402\u001b[39m\n",
      "   \u001b[0m%10 \u001b[0m= \u001b[96m\u001b[1mfadd\u001b[22m\u001b[39m \u001b[36mdouble\u001b[39m \u001b[0m%9\u001b[0m, \u001b[33m-1.000000e+00\u001b[39m\n",
      "\u001b[90m; └\u001b[39m\n",
      "\u001b[90m; ┌ @ promotion.jl:380 within `*` @ float.jl:405\u001b[39m\n",
      "   \u001b[0m%11 \u001b[0m= \u001b[96m\u001b[1mfmul\u001b[22m\u001b[39m \u001b[36mdouble\u001b[39m \u001b[0m%10\u001b[0m, \u001b[33m5.000000e+00\u001b[39m\n",
      "\u001b[90m; └\u001b[39m\n",
      "\u001b[90m; ┌ @ promotion.jl:381 within `-` @ float.jl:402\u001b[39m\n",
      "   \u001b[0m%12 \u001b[0m= \u001b[96m\u001b[1mfadd\u001b[22m\u001b[39m \u001b[36mdouble\u001b[39m \u001b[0m%11\u001b[0m, \u001b[33m-1.000000e+00\u001b[39m\n",
      "\u001b[90m; └\u001b[39m\n",
      "\u001b[90m; ┌ @ promotion.jl:380 within `*` @ float.jl:405\u001b[39m\n",
      "   \u001b[0m%13 \u001b[0m= \u001b[96m\u001b[1mfmul\u001b[22m\u001b[39m \u001b[36mdouble\u001b[39m \u001b[0m%12\u001b[0m, \u001b[33m5.000000e+00\u001b[39m\n",
      "\u001b[90m; └\u001b[39m\n",
      "\u001b[90m; ┌ @ promotion.jl:381 within `-` @ float.jl:402\u001b[39m\n",
      "   \u001b[0m%14 \u001b[0m= \u001b[96m\u001b[1mfadd\u001b[22m\u001b[39m \u001b[36mdouble\u001b[39m \u001b[0m%13\u001b[0m, \u001b[33m-1.000000e+00\u001b[39m\n",
      "\u001b[90m; └\u001b[39m\n",
      "\u001b[90m; ┌ @ promotion.jl:380 within `*` @ float.jl:405\u001b[39m\n",
      "   \u001b[0m%15 \u001b[0m= \u001b[96m\u001b[1mfmul\u001b[22m\u001b[39m \u001b[36mdouble\u001b[39m \u001b[0m%14\u001b[0m, \u001b[33m5.000000e+00\u001b[39m\n",
      "\u001b[90m; └\u001b[39m\n",
      "\u001b[90m; ┌ @ promotion.jl:381 within `-` @ float.jl:402\u001b[39m\n",
      "   \u001b[0m%16 \u001b[0m= \u001b[96m\u001b[1mfadd\u001b[22m\u001b[39m \u001b[36mdouble\u001b[39m \u001b[0m%15\u001b[0m, \u001b[33m-1.000000e+00\u001b[39m\n",
      "\u001b[90m; └\u001b[39m\n",
      "\u001b[90m; ┌ @ promotion.jl:380 within `*` @ float.jl:405\u001b[39m\n",
      "   \u001b[0m%17 \u001b[0m= \u001b[96m\u001b[1mfmul\u001b[22m\u001b[39m \u001b[36mdouble\u001b[39m \u001b[0m%16\u001b[0m, \u001b[33m5.000000e+00\u001b[39m\n",
      "\u001b[90m; └\u001b[39m\n",
      "\u001b[90m; ┌ @ promotion.jl:381 within `-` @ float.jl:402\u001b[39m\n",
      "   \u001b[0m%18 \u001b[0m= \u001b[96m\u001b[1mfadd\u001b[22m\u001b[39m \u001b[36mdouble\u001b[39m \u001b[0m%17\u001b[0m, \u001b[33m-1.000000e+00\u001b[39m\n",
      "\u001b[90m; └\u001b[39m\n",
      "\u001b[90m; ┌ @ promotion.jl:380 within `*` @ float.jl:405\u001b[39m\n",
      "   \u001b[0m%19 \u001b[0m= \u001b[96m\u001b[1mfmul\u001b[22m\u001b[39m \u001b[36mdouble\u001b[39m \u001b[0m%18\u001b[0m, \u001b[33m5.000000e+00\u001b[39m\n",
      "\u001b[90m; └\u001b[39m\n",
      "\u001b[90m; ┌ @ promotion.jl:381 within `-` @ float.jl:402\u001b[39m\n",
      "   \u001b[0m%20 \u001b[0m= \u001b[96m\u001b[1mfadd\u001b[22m\u001b[39m \u001b[36mdouble\u001b[39m \u001b[0m%19\u001b[0m, \u001b[33m-1.000000e+00\u001b[39m\n",
      "\u001b[90m; └\u001b[39m\n",
      "\u001b[90m;  @ In[15]:5 within `g`\u001b[39m\n",
      "  \u001b[96m\u001b[1mret\u001b[22m\u001b[39m \u001b[36mdouble\u001b[39m \u001b[0m%20\n",
      "\u001b[33m}\u001b[39m\n"
     ]
    }
   ],
   "source": [
    "k = 2.0 #Float64\n",
    "@code_llvm g(k)"
   ]
  },
  {
   "cell_type": "markdown",
   "metadata": {},
   "source": [
    "**Solution to 3.3**\n",
    "\n",
    "More floating number calculations are needed to run the function than integer calculations. "
   ]
  },
  {
   "cell_type": "markdown",
   "metadata": {},
   "source": [
    "**Solution to 3.4**"
   ]
  },
  {
   "cell_type": "code",
   "execution_count": 18,
   "metadata": {},
   "outputs": [
    {
     "data": {
      "text/plain": [
       "g_fastmath (generic function with 1 method)"
      ]
     },
     "execution_count": 18,
     "metadata": {},
     "output_type": "execute_result"
    }
   ],
   "source": [
    "function g_fastmath(k)  \n",
    "    @fastmath for i in 1:10  \n",
    "        k = 5k - 1\n",
    "    end\n",
    "    k\n",
    "end"
   ]
  },
  {
   "cell_type": "code",
   "execution_count": 19,
   "metadata": {},
   "outputs": [
    {
     "name": "stdout",
     "output_type": "stream",
     "text": [
      "\u001b[90m;  @ In[18]:1 within `g_fastmath`\u001b[39m\n",
      "\u001b[95mdefine\u001b[39m \u001b[36mi64\u001b[39m \u001b[93m@julia_g_fastmath_1362\u001b[39m\u001b[33m(\u001b[39m\u001b[36mi64\u001b[39m \u001b[95msignext\u001b[39m \u001b[0m%0\u001b[33m)\u001b[39m \u001b[0m#0 \u001b[33m{\u001b[39m\n",
      "\u001b[91mtop:\u001b[39m\n",
      "\u001b[90m;  @ In[18]:3 within `g_fastmath`\u001b[39m\n",
      "\u001b[90m; ┌ @ fastmath.jl:270 within `mul_fast`\u001b[39m\n",
      "\u001b[90m; │┌ @ int.jl:88 within `*`\u001b[39m\n",
      "    \u001b[0m%1 \u001b[0m= \u001b[96m\u001b[1mmul\u001b[22m\u001b[39m \u001b[36mi64\u001b[39m \u001b[0m%0\u001b[0m, \u001b[33m9765625\u001b[39m\n",
      "\u001b[90m; └└\u001b[39m\n",
      "\u001b[90m; ┌ @ fastmath.jl:270 within `sub_fast`\u001b[39m\n",
      "\u001b[90m; │┌ @ int.jl:86 within `-`\u001b[39m\n",
      "    \u001b[0m%2 \u001b[0m= \u001b[96m\u001b[1madd\u001b[22m\u001b[39m \u001b[36mi64\u001b[39m \u001b[0m%1\u001b[0m, \u001b[33m-2441406\u001b[39m\n",
      "\u001b[90m; └└\u001b[39m\n",
      "\u001b[90m;  @ In[18]:5 within `g_fastmath`\u001b[39m\n",
      "  \u001b[96m\u001b[1mret\u001b[22m\u001b[39m \u001b[36mi64\u001b[39m \u001b[0m%2\n",
      "\u001b[33m}\u001b[39m\n"
     ]
    }
   ],
   "source": [
    "k = 2 # Int64\n",
    "@code_llvm g_fastmath(k)"
   ]
  },
  {
   "cell_type": "code",
   "execution_count": 20,
   "metadata": {},
   "outputs": [
    {
     "name": "stdout",
     "output_type": "stream",
     "text": [
      "\u001b[90m;  @ In[18]:1 within `g_fastmath`\u001b[39m\n",
      "\u001b[95mdefine\u001b[39m \u001b[36mdouble\u001b[39m \u001b[93m@julia_g_fastmath_1364\u001b[39m\u001b[33m(\u001b[39m\u001b[36mdouble\u001b[39m \u001b[0m%0\u001b[33m)\u001b[39m \u001b[0m#0 \u001b[33m{\u001b[39m\n",
      "\u001b[91mtop:\u001b[39m\n",
      "\u001b[90m;  @ In[18]:3 within `g_fastmath`\u001b[39m\n",
      "\u001b[90m; ┌ @ fastmath.jl:267 within `mul_fast` @ fastmath.jl:167\u001b[39m\n",
      "   \u001b[0m%1 \u001b[0m= \u001b[96m\u001b[1mfmul\u001b[22m\u001b[39m \u001b[95mfast\u001b[39m \u001b[36mdouble\u001b[39m \u001b[0m%0\u001b[0m, \u001b[33m0x4162A05F20000000\u001b[39m\n",
      "\u001b[90m; └\u001b[39m\n",
      "\u001b[90m; ┌ @ fastmath.jl:267 within `sub_fast` @ fastmath.jl:166\u001b[39m\n",
      "   \u001b[0m%2 \u001b[0m= \u001b[96m\u001b[1mfadd\u001b[22m\u001b[39m \u001b[95mfast\u001b[39m \u001b[36mdouble\u001b[39m \u001b[0m%1\u001b[0m, \u001b[33m0xC142A05F00000000\u001b[39m\n",
      "\u001b[90m; └\u001b[39m\n",
      "\u001b[90m;  @ In[18]:5 within `g_fastmath`\u001b[39m\n",
      "  \u001b[96m\u001b[1mret\u001b[22m\u001b[39m \u001b[36mdouble\u001b[39m \u001b[0m%2\n",
      "\u001b[33m}\u001b[39m\n"
     ]
    }
   ],
   "source": [
    "k = 2.0 # Float64\n",
    "@code_llvm g_fastmath(k)"
   ]
  },
  {
   "cell_type": "markdown",
   "metadata": {},
   "source": [
    "`@fastmath` finds a faster but less accurate version of the operations needed in the function. Therefore, we see similar speed when we use either an integer or a floating number as input. "
   ]
  },
  {
   "cell_type": "markdown",
   "metadata": {},
   "source": [
    "## Q4\n",
    "\n",
    "Create the vector `x = (0.988, 0.989, 0.990, ..., 1.010, 1.011, 1.012)`.   \n",
    "\n",
    "1. Plot the polynomial `y = x^7 - 7x^6 + 21x^5 - 35x^4 + 35x^3 - 21x^2 + 7x - 1` at points `x`.  \n",
    "\n",
    "2. Plot the polynomial `y = (x - 1)^7` at points `x`.  \n",
    "\n",
    "3. Explain what you found."
   ]
  },
  {
   "cell_type": "markdown",
   "metadata": {},
   "source": [
    "**Solution 4.1**"
   ]
  },
  {
   "cell_type": "code",
   "execution_count": 21,
   "metadata": {},
   "outputs": [
    {
     "data": {
      "image/svg+xml": [
       "<?xml version=\"1.0\" encoding=\"utf-8\"?>\n",
       "<svg xmlns=\"http://www.w3.org/2000/svg\" xmlns:xlink=\"http://www.w3.org/1999/xlink\" width=\"600\" height=\"400\" viewBox=\"0 0 2400 1600\">\n",
       "<defs>\n",
       "  <clipPath id=\"clip740\">\n",
       "    <rect x=\"0\" y=\"0\" width=\"2400\" height=\"1600\"/>\n",
       "  </clipPath>\n",
       "</defs>\n",
       "<path clip-path=\"url(#clip740)\" d=\"\n",
       "M0 1600 L2400 1600 L2400 0 L0 0  Z\n",
       "  \" fill=\"#ffffff\" fill-rule=\"evenodd\" fill-opacity=\"1\"/>\n",
       "<defs>\n",
       "  <clipPath id=\"clip741\">\n",
       "    <rect x=\"480\" y=\"0\" width=\"1681\" height=\"1600\"/>\n",
       "  </clipPath>\n",
       "</defs>\n",
       "<path clip-path=\"url(#clip740)\" d=\"\n",
       "M369.025 1486.45 L2352.76 1486.45 L2352.76 47.2441 L369.025 47.2441  Z\n",
       "  \" fill=\"#ffffff\" fill-rule=\"evenodd\" fill-opacity=\"1\"/>\n",
       "<defs>\n",
       "  <clipPath id=\"clip742\">\n",
       "    <rect x=\"369\" y=\"47\" width=\"1985\" height=\"1440\"/>\n",
       "  </clipPath>\n",
       "</defs>\n",
       "<polyline clip-path=\"url(#clip742)\" style=\"stroke:#000000; stroke-linecap:butt; stroke-linejoin:round; stroke-width:2; stroke-opacity:0.1; fill:none\" points=\"\n",
       "  581.122,1486.45 581.122,47.2441 \n",
       "  \"/>\n",
       "<polyline clip-path=\"url(#clip742)\" style=\"stroke:#000000; stroke-linecap:butt; stroke-linejoin:round; stroke-width:2; stroke-opacity:0.1; fill:none\" points=\"\n",
       "  971.006,1486.45 971.006,47.2441 \n",
       "  \"/>\n",
       "<polyline clip-path=\"url(#clip742)\" style=\"stroke:#000000; stroke-linecap:butt; stroke-linejoin:round; stroke-width:2; stroke-opacity:0.1; fill:none\" points=\"\n",
       "  1360.89,1486.45 1360.89,47.2441 \n",
       "  \"/>\n",
       "<polyline clip-path=\"url(#clip742)\" style=\"stroke:#000000; stroke-linecap:butt; stroke-linejoin:round; stroke-width:2; stroke-opacity:0.1; fill:none\" points=\"\n",
       "  1750.77,1486.45 1750.77,47.2441 \n",
       "  \"/>\n",
       "<polyline clip-path=\"url(#clip742)\" style=\"stroke:#000000; stroke-linecap:butt; stroke-linejoin:round; stroke-width:2; stroke-opacity:0.1; fill:none\" points=\"\n",
       "  2140.66,1486.45 2140.66,47.2441 \n",
       "  \"/>\n",
       "<polyline clip-path=\"url(#clip740)\" style=\"stroke:#000000; stroke-linecap:butt; stroke-linejoin:round; stroke-width:4; stroke-opacity:1; fill:none\" points=\"\n",
       "  369.025,1486.45 2352.76,1486.45 \n",
       "  \"/>\n",
       "<polyline clip-path=\"url(#clip740)\" style=\"stroke:#000000; stroke-linecap:butt; stroke-linejoin:round; stroke-width:4; stroke-opacity:1; fill:none\" points=\"\n",
       "  581.122,1486.45 581.122,1467.55 \n",
       "  \"/>\n",
       "<polyline clip-path=\"url(#clip740)\" style=\"stroke:#000000; stroke-linecap:butt; stroke-linejoin:round; stroke-width:4; stroke-opacity:1; fill:none\" points=\"\n",
       "  971.006,1486.45 971.006,1467.55 \n",
       "  \"/>\n",
       "<polyline clip-path=\"url(#clip740)\" style=\"stroke:#000000; stroke-linecap:butt; stroke-linejoin:round; stroke-width:4; stroke-opacity:1; fill:none\" points=\"\n",
       "  1360.89,1486.45 1360.89,1467.55 \n",
       "  \"/>\n",
       "<polyline clip-path=\"url(#clip740)\" style=\"stroke:#000000; stroke-linecap:butt; stroke-linejoin:round; stroke-width:4; stroke-opacity:1; fill:none\" points=\"\n",
       "  1750.77,1486.45 1750.77,1467.55 \n",
       "  \"/>\n",
       "<polyline clip-path=\"url(#clip740)\" style=\"stroke:#000000; stroke-linecap:butt; stroke-linejoin:round; stroke-width:4; stroke-opacity:1; fill:none\" points=\"\n",
       "  2140.66,1486.45 2140.66,1467.55 \n",
       "  \"/>\n",
       "<path clip-path=\"url(#clip740)\" d=\"M528.344 1517.37 Q524.733 1517.37 522.905 1520.93 Q521.099 1524.47 521.099 1531.6 Q521.099 1538.71 522.905 1542.27 Q524.733 1545.82 528.344 1545.82 Q531.979 1545.82 533.784 1542.27 Q535.613 1538.71 535.613 1531.6 Q535.613 1524.47 533.784 1520.93 Q531.979 1517.37 528.344 1517.37 M528.344 1513.66 Q534.154 1513.66 537.21 1518.27 Q540.289 1522.85 540.289 1531.6 Q540.289 1540.33 537.21 1544.94 Q534.154 1549.52 528.344 1549.52 Q522.534 1549.52 519.455 1544.94 Q516.4 1540.33 516.4 1531.6 Q516.4 1522.85 519.455 1518.27 Q522.534 1513.66 528.344 1513.66 Z\" fill=\"#000000\" fill-rule=\"evenodd\" fill-opacity=\"1\" /><path clip-path=\"url(#clip740)\" d=\"M548.506 1542.97 L553.39 1542.97 L553.39 1548.85 L548.506 1548.85 L548.506 1542.97 Z\" fill=\"#000000\" fill-rule=\"evenodd\" fill-opacity=\"1\" /><path clip-path=\"url(#clip740)\" d=\"M563.714 1548.13 L563.714 1543.87 Q565.474 1544.7 567.279 1545.14 Q569.085 1545.58 570.821 1545.58 Q575.451 1545.58 577.881 1542.48 Q580.335 1539.36 580.682 1533.01 Q579.339 1535.01 577.279 1536.07 Q575.219 1537.13 572.719 1537.13 Q567.534 1537.13 564.502 1534.01 Q561.492 1530.86 561.492 1525.42 Q561.492 1520.1 564.64 1516.88 Q567.789 1513.66 573.02 1513.66 Q579.015 1513.66 582.163 1518.27 Q585.335 1522.85 585.335 1531.6 Q585.335 1539.77 581.446 1544.66 Q577.58 1549.52 571.029 1549.52 Q569.27 1549.52 567.464 1549.17 Q565.659 1548.82 563.714 1548.13 M573.02 1533.48 Q576.168 1533.48 577.997 1531.32 Q579.849 1529.17 579.849 1525.42 Q579.849 1521.7 577.997 1519.54 Q576.168 1517.37 573.02 1517.37 Q569.872 1517.37 568.02 1519.54 Q566.191 1521.7 566.191 1525.42 Q566.191 1529.17 568.02 1531.32 Q569.872 1533.48 573.02 1533.48 Z\" fill=\"#000000\" fill-rule=\"evenodd\" fill-opacity=\"1\" /><path clip-path=\"url(#clip740)\" d=\"M593.876 1548.13 L593.876 1543.87 Q595.636 1544.7 597.441 1545.14 Q599.247 1545.58 600.983 1545.58 Q605.612 1545.58 608.043 1542.48 Q610.497 1539.36 610.844 1533.01 Q609.501 1535.01 607.441 1536.07 Q605.381 1537.13 602.881 1537.13 Q597.696 1537.13 594.663 1534.01 Q591.654 1530.86 591.654 1525.42 Q591.654 1520.1 594.802 1516.88 Q597.95 1513.66 603.182 1513.66 Q609.177 1513.66 612.325 1518.27 Q615.497 1522.85 615.497 1531.6 Q615.497 1539.77 611.608 1544.66 Q607.742 1549.52 601.191 1549.52 Q599.432 1549.52 597.626 1549.17 Q595.821 1548.82 593.876 1548.13 M603.182 1533.48 Q606.33 1533.48 608.159 1531.32 Q610.011 1529.17 610.011 1525.42 Q610.011 1521.7 608.159 1519.54 Q606.33 1517.37 603.182 1517.37 Q600.034 1517.37 598.182 1519.54 Q596.353 1521.7 596.353 1525.42 Q596.353 1529.17 598.182 1531.32 Q600.034 1533.48 603.182 1533.48 Z\" fill=\"#000000\" fill-rule=\"evenodd\" fill-opacity=\"1\" /><path clip-path=\"url(#clip740)\" d=\"M633.899 1517.37 Q630.288 1517.37 628.46 1520.93 Q626.654 1524.47 626.654 1531.6 Q626.654 1538.71 628.46 1542.27 Q630.288 1545.82 633.899 1545.82 Q637.534 1545.82 639.339 1542.27 Q641.168 1538.71 641.168 1531.6 Q641.168 1524.47 639.339 1520.93 Q637.534 1517.37 633.899 1517.37 M633.899 1513.66 Q639.709 1513.66 642.765 1518.27 Q645.844 1522.85 645.844 1531.6 Q645.844 1540.33 642.765 1544.94 Q639.709 1549.52 633.899 1549.52 Q628.089 1549.52 625.01 1544.94 Q621.955 1540.33 621.955 1531.6 Q621.955 1522.85 625.01 1518.27 Q628.089 1513.66 633.899 1513.66 Z\" fill=\"#000000\" fill-rule=\"evenodd\" fill-opacity=\"1\" /><path clip-path=\"url(#clip740)\" d=\"M918.726 1517.37 Q915.115 1517.37 913.286 1520.93 Q911.481 1524.47 911.481 1531.6 Q911.481 1538.71 913.286 1542.27 Q915.115 1545.82 918.726 1545.82 Q922.36 1545.82 924.166 1542.27 Q925.995 1538.71 925.995 1531.6 Q925.995 1524.47 924.166 1520.93 Q922.36 1517.37 918.726 1517.37 M918.726 1513.66 Q924.536 1513.66 927.592 1518.27 Q930.671 1522.85 930.671 1531.6 Q930.671 1540.33 927.592 1544.94 Q924.536 1549.52 918.726 1549.52 Q912.916 1549.52 909.837 1544.94 Q906.782 1540.33 906.782 1531.6 Q906.782 1522.85 909.837 1518.27 Q912.916 1513.66 918.726 1513.66 Z\" fill=\"#000000\" fill-rule=\"evenodd\" fill-opacity=\"1\" /><path clip-path=\"url(#clip740)\" d=\"M938.888 1542.97 L943.772 1542.97 L943.772 1548.85 L938.888 1548.85 L938.888 1542.97 Z\" fill=\"#000000\" fill-rule=\"evenodd\" fill-opacity=\"1\" /><path clip-path=\"url(#clip740)\" d=\"M954.096 1548.13 L954.096 1543.87 Q955.856 1544.7 957.661 1545.14 Q959.467 1545.58 961.203 1545.58 Q965.832 1545.58 968.263 1542.48 Q970.717 1539.36 971.064 1533.01 Q969.721 1535.01 967.661 1536.07 Q965.601 1537.13 963.101 1537.13 Q957.916 1537.13 954.883 1534.01 Q951.874 1530.86 951.874 1525.42 Q951.874 1520.1 955.022 1516.88 Q958.17 1513.66 963.402 1513.66 Q969.397 1513.66 972.545 1518.27 Q975.717 1522.85 975.717 1531.6 Q975.717 1539.77 971.828 1544.66 Q967.962 1549.52 961.411 1549.52 Q959.652 1549.52 957.846 1549.17 Q956.041 1548.82 954.096 1548.13 M963.402 1533.48 Q966.55 1533.48 968.379 1531.32 Q970.231 1529.17 970.231 1525.42 Q970.231 1521.7 968.379 1519.54 Q966.55 1517.37 963.402 1517.37 Q960.254 1517.37 958.402 1519.54 Q956.573 1521.7 956.573 1525.42 Q956.573 1529.17 958.402 1531.32 Q960.254 1533.48 963.402 1533.48 Z\" fill=\"#000000\" fill-rule=\"evenodd\" fill-opacity=\"1\" /><path clip-path=\"url(#clip740)\" d=\"M984.258 1548.13 L984.258 1543.87 Q986.018 1544.7 987.823 1545.14 Q989.629 1545.58 991.365 1545.58 Q995.994 1545.58 998.425 1542.48 Q1000.88 1539.36 1001.23 1533.01 Q999.883 1535.01 997.823 1536.07 Q995.763 1537.13 993.263 1537.13 Q988.078 1537.13 985.045 1534.01 Q982.036 1530.86 982.036 1525.42 Q982.036 1520.1 985.184 1516.88 Q988.332 1513.66 993.564 1513.66 Q999.559 1513.66 1002.71 1518.27 Q1005.88 1522.85 1005.88 1531.6 Q1005.88 1539.77 1001.99 1544.66 Q998.124 1549.52 991.573 1549.52 Q989.814 1549.52 988.008 1549.17 Q986.203 1548.82 984.258 1548.13 M993.564 1533.48 Q996.712 1533.48 998.541 1531.32 Q1000.39 1529.17 1000.39 1525.42 Q1000.39 1521.7 998.541 1519.54 Q996.712 1517.37 993.564 1517.37 Q990.416 1517.37 988.564 1519.54 Q986.735 1521.7 986.735 1525.42 Q986.735 1529.17 988.564 1531.32 Q990.416 1533.48 993.564 1533.48 Z\" fill=\"#000000\" fill-rule=\"evenodd\" fill-opacity=\"1\" /><path clip-path=\"url(#clip740)\" d=\"M1014.33 1514.29 L1032.68 1514.29 L1032.68 1518.22 L1018.61 1518.22 L1018.61 1526.7 Q1019.63 1526.35 1020.65 1526.19 Q1021.67 1526 1022.68 1526 Q1028.47 1526 1031.85 1529.17 Q1035.23 1532.34 1035.23 1537.76 Q1035.23 1543.34 1031.76 1546.44 Q1028.29 1549.52 1021.97 1549.52 Q1019.79 1549.52 1017.52 1549.15 Q1015.28 1548.78 1012.87 1548.04 L1012.87 1543.34 Q1014.95 1544.47 1017.17 1545.03 Q1019.4 1545.58 1021.87 1545.58 Q1025.88 1545.58 1028.22 1543.48 Q1030.55 1541.37 1030.55 1537.76 Q1030.55 1534.15 1028.22 1532.04 Q1025.88 1529.94 1021.87 1529.94 Q1020 1529.94 1018.12 1530.35 Q1016.27 1530.77 1014.33 1531.65 L1014.33 1514.29 Z\" fill=\"#000000\" fill-rule=\"evenodd\" fill-opacity=\"1\" /><path clip-path=\"url(#clip740)\" d=\"M1297.88 1544.91 L1305.52 1544.91 L1305.52 1518.55 L1297.21 1520.21 L1297.21 1515.95 L1305.47 1514.29 L1310.15 1514.29 L1310.15 1544.91 L1317.79 1544.91 L1317.79 1548.85 L1297.88 1548.85 L1297.88 1544.91 Z\" fill=\"#000000\" fill-rule=\"evenodd\" fill-opacity=\"1\" /><path clip-path=\"url(#clip740)\" d=\"M1327.23 1542.97 L1332.12 1542.97 L1332.12 1548.85 L1327.23 1548.85 L1327.23 1542.97 Z\" fill=\"#000000\" fill-rule=\"evenodd\" fill-opacity=\"1\" /><path clip-path=\"url(#clip740)\" d=\"M1352.3 1517.37 Q1348.69 1517.37 1346.86 1520.93 Q1345.06 1524.47 1345.06 1531.6 Q1345.06 1538.71 1346.86 1542.27 Q1348.69 1545.82 1352.3 1545.82 Q1355.94 1545.82 1357.74 1542.27 Q1359.57 1538.71 1359.57 1531.6 Q1359.57 1524.47 1357.74 1520.93 Q1355.94 1517.37 1352.3 1517.37 M1352.3 1513.66 Q1358.11 1513.66 1361.17 1518.27 Q1364.25 1522.85 1364.25 1531.6 Q1364.25 1540.33 1361.17 1544.94 Q1358.11 1549.52 1352.3 1549.52 Q1346.49 1549.52 1343.41 1544.94 Q1340.36 1540.33 1340.36 1531.6 Q1340.36 1522.85 1343.41 1518.27 Q1346.49 1513.66 1352.3 1513.66 Z\" fill=\"#000000\" fill-rule=\"evenodd\" fill-opacity=\"1\" /><path clip-path=\"url(#clip740)\" d=\"M1382.46 1517.37 Q1378.85 1517.37 1377.02 1520.93 Q1375.22 1524.47 1375.22 1531.6 Q1375.22 1538.71 1377.02 1542.27 Q1378.85 1545.82 1382.46 1545.82 Q1386.1 1545.82 1387.9 1542.27 Q1389.73 1538.71 1389.73 1531.6 Q1389.73 1524.47 1387.9 1520.93 Q1386.1 1517.37 1382.46 1517.37 M1382.46 1513.66 Q1388.27 1513.66 1391.33 1518.27 Q1394.41 1522.85 1394.41 1531.6 Q1394.41 1540.33 1391.33 1544.94 Q1388.27 1549.52 1382.46 1549.52 Q1376.65 1549.52 1373.58 1544.94 Q1370.52 1540.33 1370.52 1531.6 Q1370.52 1522.85 1373.58 1518.27 Q1376.65 1513.66 1382.46 1513.66 Z\" fill=\"#000000\" fill-rule=\"evenodd\" fill-opacity=\"1\" /><path clip-path=\"url(#clip740)\" d=\"M1412.63 1517.37 Q1409.02 1517.37 1407.19 1520.93 Q1405.38 1524.47 1405.38 1531.6 Q1405.38 1538.71 1407.19 1542.27 Q1409.02 1545.82 1412.63 1545.82 Q1416.26 1545.82 1418.07 1542.27 Q1419.89 1538.71 1419.89 1531.6 Q1419.89 1524.47 1418.07 1520.93 Q1416.26 1517.37 1412.63 1517.37 M1412.63 1513.66 Q1418.44 1513.66 1421.49 1518.27 Q1424.57 1522.85 1424.57 1531.6 Q1424.57 1540.33 1421.49 1544.94 Q1418.44 1549.52 1412.63 1549.52 Q1406.82 1549.52 1403.74 1544.94 Q1400.68 1540.33 1400.68 1531.6 Q1400.68 1522.85 1403.74 1518.27 Q1406.82 1513.66 1412.63 1513.66 Z\" fill=\"#000000\" fill-rule=\"evenodd\" fill-opacity=\"1\" /><path clip-path=\"url(#clip740)\" d=\"M1688.26 1544.91 L1695.9 1544.91 L1695.9 1518.55 L1687.59 1520.21 L1687.59 1515.95 L1695.86 1514.29 L1700.53 1514.29 L1700.53 1544.91 L1708.17 1544.91 L1708.17 1548.85 L1688.26 1548.85 L1688.26 1544.91 Z\" fill=\"#000000\" fill-rule=\"evenodd\" fill-opacity=\"1\" /><path clip-path=\"url(#clip740)\" d=\"M1717.62 1542.97 L1722.5 1542.97 L1722.5 1548.85 L1717.62 1548.85 L1717.62 1542.97 Z\" fill=\"#000000\" fill-rule=\"evenodd\" fill-opacity=\"1\" /><path clip-path=\"url(#clip740)\" d=\"M1742.68 1517.37 Q1739.07 1517.37 1737.24 1520.93 Q1735.44 1524.47 1735.44 1531.6 Q1735.44 1538.71 1737.24 1542.27 Q1739.07 1545.82 1742.68 1545.82 Q1746.32 1545.82 1748.12 1542.27 Q1749.95 1538.71 1749.95 1531.6 Q1749.95 1524.47 1748.12 1520.93 Q1746.32 1517.37 1742.68 1517.37 M1742.68 1513.66 Q1748.49 1513.66 1751.55 1518.27 Q1754.63 1522.85 1754.63 1531.6 Q1754.63 1540.33 1751.55 1544.94 Q1748.49 1549.52 1742.68 1549.52 Q1736.87 1549.52 1733.8 1544.94 Q1730.74 1540.33 1730.74 1531.6 Q1730.74 1522.85 1733.8 1518.27 Q1736.87 1513.66 1742.68 1513.66 Z\" fill=\"#000000\" fill-rule=\"evenodd\" fill-opacity=\"1\" /><path clip-path=\"url(#clip740)\" d=\"M1772.85 1517.37 Q1769.24 1517.37 1767.41 1520.93 Q1765.6 1524.47 1765.6 1531.6 Q1765.6 1538.71 1767.41 1542.27 Q1769.24 1545.82 1772.85 1545.82 Q1776.48 1545.82 1778.29 1542.27 Q1780.11 1538.71 1780.11 1531.6 Q1780.11 1524.47 1778.29 1520.93 Q1776.48 1517.37 1772.85 1517.37 M1772.85 1513.66 Q1778.66 1513.66 1781.71 1518.27 Q1784.79 1522.85 1784.79 1531.6 Q1784.79 1540.33 1781.71 1544.94 Q1778.66 1549.52 1772.85 1549.52 Q1767.04 1549.52 1763.96 1544.94 Q1760.9 1540.33 1760.9 1531.6 Q1760.9 1522.85 1763.96 1518.27 Q1767.04 1513.66 1772.85 1513.66 Z\" fill=\"#000000\" fill-rule=\"evenodd\" fill-opacity=\"1\" /><path clip-path=\"url(#clip740)\" d=\"M1793.05 1514.29 L1811.41 1514.29 L1811.41 1518.22 L1797.34 1518.22 L1797.34 1526.7 Q1798.36 1526.35 1799.37 1526.19 Q1800.39 1526 1801.41 1526 Q1807.2 1526 1810.58 1529.17 Q1813.96 1532.34 1813.96 1537.76 Q1813.96 1543.34 1810.48 1546.44 Q1807.01 1549.52 1800.69 1549.52 Q1798.52 1549.52 1796.25 1549.15 Q1794 1548.78 1791.6 1548.04 L1791.6 1543.34 Q1793.68 1544.47 1795.9 1545.03 Q1798.12 1545.58 1800.6 1545.58 Q1804.61 1545.58 1806.94 1543.48 Q1809.28 1541.37 1809.28 1537.76 Q1809.28 1534.15 1806.94 1532.04 Q1804.61 1529.94 1800.6 1529.94 Q1798.73 1529.94 1796.85 1530.35 Q1795 1530.77 1793.05 1531.65 L1793.05 1514.29 Z\" fill=\"#000000\" fill-rule=\"evenodd\" fill-opacity=\"1\" /><path clip-path=\"url(#clip740)\" d=\"M2077.65 1544.91 L2085.29 1544.91 L2085.29 1518.55 L2076.98 1520.21 L2076.98 1515.95 L2085.24 1514.29 L2089.92 1514.29 L2089.92 1544.91 L2097.56 1544.91 L2097.56 1548.85 L2077.65 1548.85 L2077.65 1544.91 Z\" fill=\"#000000\" fill-rule=\"evenodd\" fill-opacity=\"1\" /><path clip-path=\"url(#clip740)\" d=\"M2107 1542.97 L2111.89 1542.97 L2111.89 1548.85 L2107 1548.85 L2107 1542.97 Z\" fill=\"#000000\" fill-rule=\"evenodd\" fill-opacity=\"1\" /><path clip-path=\"url(#clip740)\" d=\"M2132.07 1517.37 Q2128.46 1517.37 2126.63 1520.93 Q2124.83 1524.47 2124.83 1531.6 Q2124.83 1538.71 2126.63 1542.27 Q2128.46 1545.82 2132.07 1545.82 Q2135.71 1545.82 2137.51 1542.27 Q2139.34 1538.71 2139.34 1531.6 Q2139.34 1524.47 2137.51 1520.93 Q2135.71 1517.37 2132.07 1517.37 M2132.07 1513.66 Q2137.88 1513.66 2140.94 1518.27 Q2144.02 1522.85 2144.02 1531.6 Q2144.02 1540.33 2140.94 1544.94 Q2137.88 1549.52 2132.07 1549.52 Q2126.26 1549.52 2123.18 1544.94 Q2120.13 1540.33 2120.13 1531.6 Q2120.13 1522.85 2123.18 1518.27 Q2126.26 1513.66 2132.07 1513.66 Z\" fill=\"#000000\" fill-rule=\"evenodd\" fill-opacity=\"1\" /><path clip-path=\"url(#clip740)\" d=\"M2153.04 1544.91 L2160.68 1544.91 L2160.68 1518.55 L2152.37 1520.21 L2152.37 1515.95 L2160.64 1514.29 L2165.31 1514.29 L2165.31 1544.91 L2172.95 1544.91 L2172.95 1548.85 L2153.04 1548.85 L2153.04 1544.91 Z\" fill=\"#000000\" fill-rule=\"evenodd\" fill-opacity=\"1\" /><path clip-path=\"url(#clip740)\" d=\"M2192.39 1517.37 Q2188.78 1517.37 2186.95 1520.93 Q2185.15 1524.47 2185.15 1531.6 Q2185.15 1538.71 2186.95 1542.27 Q2188.78 1545.82 2192.39 1545.82 Q2196.03 1545.82 2197.83 1542.27 Q2199.66 1538.71 2199.66 1531.6 Q2199.66 1524.47 2197.83 1520.93 Q2196.03 1517.37 2192.39 1517.37 M2192.39 1513.66 Q2198.2 1513.66 2201.26 1518.27 Q2204.34 1522.85 2204.34 1531.6 Q2204.34 1540.33 2201.26 1544.94 Q2198.2 1549.52 2192.39 1549.52 Q2186.58 1549.52 2183.51 1544.94 Q2180.45 1540.33 2180.45 1531.6 Q2180.45 1522.85 2183.51 1518.27 Q2186.58 1513.66 2192.39 1513.66 Z\" fill=\"#000000\" fill-rule=\"evenodd\" fill-opacity=\"1\" /><polyline clip-path=\"url(#clip742)\" style=\"stroke:#000000; stroke-linecap:butt; stroke-linejoin:round; stroke-width:2; stroke-opacity:0.1; fill:none\" points=\"\n",
       "  369.025,1183.63 2352.76,1183.63 \n",
       "  \"/>\n",
       "<polyline clip-path=\"url(#clip742)\" style=\"stroke:#000000; stroke-linecap:butt; stroke-linejoin:round; stroke-width:2; stroke-opacity:0.1; fill:none\" points=\"\n",
       "  369.025,852.543 2352.76,852.543 \n",
       "  \"/>\n",
       "<polyline clip-path=\"url(#clip742)\" style=\"stroke:#000000; stroke-linecap:butt; stroke-linejoin:round; stroke-width:2; stroke-opacity:0.1; fill:none\" points=\"\n",
       "  369.025,521.456 2352.76,521.456 \n",
       "  \"/>\n",
       "<polyline clip-path=\"url(#clip742)\" style=\"stroke:#000000; stroke-linecap:butt; stroke-linejoin:round; stroke-width:2; stroke-opacity:0.1; fill:none\" points=\"\n",
       "  369.025,190.37 2352.76,190.37 \n",
       "  \"/>\n",
       "<polyline clip-path=\"url(#clip740)\" style=\"stroke:#000000; stroke-linecap:butt; stroke-linejoin:round; stroke-width:4; stroke-opacity:1; fill:none\" points=\"\n",
       "  369.025,1486.45 369.025,47.2441 \n",
       "  \"/>\n",
       "<polyline clip-path=\"url(#clip740)\" style=\"stroke:#000000; stroke-linecap:butt; stroke-linejoin:round; stroke-width:4; stroke-opacity:1; fill:none\" points=\"\n",
       "  369.025,1183.63 387.922,1183.63 \n",
       "  \"/>\n",
       "<polyline clip-path=\"url(#clip740)\" style=\"stroke:#000000; stroke-linecap:butt; stroke-linejoin:round; stroke-width:4; stroke-opacity:1; fill:none\" points=\"\n",
       "  369.025,852.543 387.922,852.543 \n",
       "  \"/>\n",
       "<polyline clip-path=\"url(#clip740)\" style=\"stroke:#000000; stroke-linecap:butt; stroke-linejoin:round; stroke-width:4; stroke-opacity:1; fill:none\" points=\"\n",
       "  369.025,521.456 387.922,521.456 \n",
       "  \"/>\n",
       "<polyline clip-path=\"url(#clip740)\" style=\"stroke:#000000; stroke-linecap:butt; stroke-linejoin:round; stroke-width:4; stroke-opacity:1; fill:none\" points=\"\n",
       "  369.025,190.37 387.922,190.37 \n",
       "  \"/>\n",
       "<path clip-path=\"url(#clip740)\" d=\"M50.9921 1190.53 L80.6679 1190.53 L80.6679 1194.46 L50.9921 1194.46 L50.9921 1190.53 Z\" fill=\"#000000\" fill-rule=\"evenodd\" fill-opacity=\"1\" /><path clip-path=\"url(#clip740)\" d=\"M94.7882 1203.42 L111.108 1203.42 L111.108 1207.36 L89.1632 1207.36 L89.1632 1203.42 Q91.8252 1200.67 96.4085 1196.04 Q101.015 1191.39 102.196 1190.04 Q104.441 1187.52 105.321 1185.78 Q106.223 1184.02 106.223 1182.34 Q106.223 1179.58 104.279 1177.84 Q102.358 1176.11 99.2558 1176.11 Q97.0567 1176.11 94.603 1176.87 Q92.1725 1177.64 89.3947 1179.19 L89.3947 1174.46 Q92.2188 1173.33 94.6724 1172.75 Q97.1261 1172.17 99.1632 1172.17 Q104.534 1172.17 107.728 1174.86 Q110.922 1177.54 110.922 1182.03 Q110.922 1184.16 110.112 1186.08 Q109.325 1187.98 107.219 1190.58 Q106.64 1191.25 103.538 1194.46 Q100.436 1197.66 94.7882 1203.42 Z\" fill=\"#000000\" fill-rule=\"evenodd\" fill-opacity=\"1\" /><path clip-path=\"url(#clip740)\" d=\"M120.922 1201.48 L125.807 1201.48 L125.807 1207.36 L120.922 1207.36 L120.922 1201.48 Z\" fill=\"#000000\" fill-rule=\"evenodd\" fill-opacity=\"1\" /><path clip-path=\"url(#clip740)\" d=\"M145.992 1175.88 Q142.381 1175.88 140.552 1179.44 Q138.746 1182.98 138.746 1190.11 Q138.746 1197.22 140.552 1200.78 Q142.381 1204.33 145.992 1204.33 Q149.626 1204.33 151.431 1200.78 Q153.26 1197.22 153.26 1190.11 Q153.26 1182.98 151.431 1179.44 Q149.626 1175.88 145.992 1175.88 M145.992 1172.17 Q151.802 1172.17 154.857 1176.78 Q157.936 1181.36 157.936 1190.11 Q157.936 1198.84 154.857 1203.45 Q151.802 1208.03 145.992 1208.03 Q140.181 1208.03 137.103 1203.45 Q134.047 1198.84 134.047 1190.11 Q134.047 1181.36 137.103 1176.78 Q140.181 1172.17 145.992 1172.17 Z\" fill=\"#000000\" fill-rule=\"evenodd\" fill-opacity=\"1\" /><path clip-path=\"url(#clip740)\" d=\"M194.325 1181.9 L183.746 1192.52 L194.325 1203.1 L191.57 1205.9 L180.945 1195.27 L170.32 1205.9 L167.589 1203.1 L178.144 1192.52 L167.589 1181.9 L170.32 1179.09 L180.945 1189.72 L191.57 1179.09 L194.325 1181.9 Z\" fill=\"#000000\" fill-rule=\"evenodd\" fill-opacity=\"1\" /><path clip-path=\"url(#clip740)\" d=\"M206.686 1203.42 L214.325 1203.42 L214.325 1177.06 L206.014 1178.72 L206.014 1174.46 L214.278 1172.8 L218.954 1172.8 L218.954 1203.42 L226.593 1203.42 L226.593 1207.36 L206.686 1207.36 L206.686 1203.42 Z\" fill=\"#000000\" fill-rule=\"evenodd\" fill-opacity=\"1\" /><path clip-path=\"url(#clip740)\" d=\"M246.037 1175.88 Q242.426 1175.88 240.598 1179.44 Q238.792 1182.98 238.792 1190.11 Q238.792 1197.22 240.598 1200.78 Q242.426 1204.33 246.037 1204.33 Q249.672 1204.33 251.477 1200.78 Q253.306 1197.22 253.306 1190.11 Q253.306 1182.98 251.477 1179.44 Q249.672 1175.88 246.037 1175.88 M246.037 1172.17 Q251.848 1172.17 254.903 1176.78 Q257.982 1181.36 257.982 1190.11 Q257.982 1198.84 254.903 1203.45 Q251.848 1208.03 246.037 1208.03 Q240.227 1208.03 237.149 1203.45 Q234.093 1198.84 234.093 1190.11 Q234.093 1181.36 237.149 1176.78 Q240.227 1172.17 246.037 1172.17 Z\" fill=\"#000000\" fill-rule=\"evenodd\" fill-opacity=\"1\" /><path clip-path=\"url(#clip740)\" d=\"M257.982 1166.27 L282.093 1166.27 L282.093 1169.47 L257.982 1169.47 L257.982 1166.27 Z\" fill=\"#000000\" fill-rule=\"evenodd\" fill-opacity=\"1\" /><path clip-path=\"url(#clip740)\" d=\"M290.952 1176.75 L297.158 1176.75 L297.158 1155.33 L290.406 1156.68 L290.406 1153.22 L297.121 1151.87 L300.92 1151.87 L300.92 1176.75 L307.126 1176.75 L307.126 1179.95 L290.952 1179.95 L290.952 1176.75 Z\" fill=\"#000000\" fill-rule=\"evenodd\" fill-opacity=\"1\" /><path clip-path=\"url(#clip740)\" d=\"M325.238 1155.18 L315.646 1170.17 L325.238 1170.17 L325.238 1155.18 M324.242 1151.87 L329.019 1151.87 L329.019 1170.17 L333.025 1170.17 L333.025 1173.33 L329.019 1173.33 L329.019 1179.95 L325.238 1179.95 L325.238 1173.33 L312.562 1173.33 L312.562 1169.66 L324.242 1151.87 Z\" fill=\"#000000\" fill-rule=\"evenodd\" fill-opacity=\"1\" /><path clip-path=\"url(#clip740)\" d=\"M321.08 838.342 Q317.469 838.342 315.641 841.907 Q313.835 845.449 313.835 852.578 Q313.835 859.685 315.641 863.249 Q317.469 866.791 321.08 866.791 Q324.715 866.791 326.52 863.249 Q328.349 859.685 328.349 852.578 Q328.349 845.449 326.52 841.907 Q324.715 838.342 321.08 838.342 M321.08 834.638 Q326.891 834.638 329.946 839.245 Q333.025 843.828 333.025 852.578 Q333.025 861.305 329.946 865.911 Q326.891 870.495 321.08 870.495 Q315.27 870.495 312.192 865.911 Q309.136 861.305 309.136 852.578 Q309.136 843.828 312.192 839.245 Q315.27 834.638 321.08 834.638 Z\" fill=\"#000000\" fill-rule=\"evenodd\" fill-opacity=\"1\" /><path clip-path=\"url(#clip740)\" d=\"M94.7882 541.249 L111.108 541.249 L111.108 545.184 L89.1632 545.184 L89.1632 541.249 Q91.8252 538.494 96.4085 533.865 Q101.015 529.212 102.196 527.869 Q104.441 525.346 105.321 523.61 Q106.223 521.851 106.223 520.161 Q106.223 517.406 104.279 515.67 Q102.358 513.934 99.2558 513.934 Q97.0567 513.934 94.603 514.698 Q92.1725 515.462 89.3947 517.013 L89.3947 512.291 Q92.2188 511.156 94.6724 510.578 Q97.1261 509.999 99.1632 509.999 Q104.534 509.999 107.728 512.684 Q110.922 515.369 110.922 519.86 Q110.922 521.99 110.112 523.911 Q109.325 525.809 107.219 528.402 Q106.64 529.073 103.538 532.291 Q100.436 535.485 94.7882 541.249 Z\" fill=\"#000000\" fill-rule=\"evenodd\" fill-opacity=\"1\" /><path clip-path=\"url(#clip740)\" d=\"M120.922 539.304 L125.807 539.304 L125.807 545.184 L120.922 545.184 L120.922 539.304 Z\" fill=\"#000000\" fill-rule=\"evenodd\" fill-opacity=\"1\" /><path clip-path=\"url(#clip740)\" d=\"M145.992 513.703 Q142.381 513.703 140.552 517.268 Q138.746 520.809 138.746 527.939 Q138.746 535.045 140.552 538.61 Q142.381 542.152 145.992 542.152 Q149.626 542.152 151.431 538.61 Q153.26 535.045 153.26 527.939 Q153.26 520.809 151.431 517.268 Q149.626 513.703 145.992 513.703 M145.992 509.999 Q151.802 509.999 154.857 514.606 Q157.936 519.189 157.936 527.939 Q157.936 536.666 154.857 541.272 Q151.802 545.855 145.992 545.855 Q140.181 545.855 137.103 541.272 Q134.047 536.666 134.047 527.939 Q134.047 519.189 137.103 514.606 Q140.181 509.999 145.992 509.999 Z\" fill=\"#000000\" fill-rule=\"evenodd\" fill-opacity=\"1\" /><path clip-path=\"url(#clip740)\" d=\"M194.325 519.721 L183.746 530.346 L194.325 540.925 L191.57 543.726 L180.945 533.101 L170.32 543.726 L167.589 540.925 L178.144 530.346 L167.589 519.721 L170.32 516.92 L180.945 527.545 L191.57 516.92 L194.325 519.721 Z\" fill=\"#000000\" fill-rule=\"evenodd\" fill-opacity=\"1\" /><path clip-path=\"url(#clip740)\" d=\"M206.686 541.249 L214.325 541.249 L214.325 514.883 L206.014 516.55 L206.014 512.291 L214.278 510.624 L218.954 510.624 L218.954 541.249 L226.593 541.249 L226.593 545.184 L206.686 545.184 L206.686 541.249 Z\" fill=\"#000000\" fill-rule=\"evenodd\" fill-opacity=\"1\" /><path clip-path=\"url(#clip740)\" d=\"M246.037 513.703 Q242.426 513.703 240.598 517.268 Q238.792 520.809 238.792 527.939 Q238.792 535.045 240.598 538.61 Q242.426 542.152 246.037 542.152 Q249.672 542.152 251.477 538.61 Q253.306 535.045 253.306 527.939 Q253.306 520.809 251.477 517.268 Q249.672 513.703 246.037 513.703 M246.037 509.999 Q251.848 509.999 254.903 514.606 Q257.982 519.189 257.982 527.939 Q257.982 536.666 254.903 541.272 Q251.848 545.855 246.037 545.855 Q240.227 545.855 237.149 541.272 Q234.093 536.666 234.093 527.939 Q234.093 519.189 237.149 514.606 Q240.227 509.999 246.037 509.999 Z\" fill=\"#000000\" fill-rule=\"evenodd\" fill-opacity=\"1\" /><path clip-path=\"url(#clip740)\" d=\"M257.982 504.1 L282.093 504.1 L282.093 507.298 L257.982 507.298 L257.982 504.1 Z\" fill=\"#000000\" fill-rule=\"evenodd\" fill-opacity=\"1\" /><path clip-path=\"url(#clip740)\" d=\"M290.952 514.576 L297.158 514.576 L297.158 493.154 L290.406 494.508 L290.406 491.048 L297.121 489.694 L300.92 489.694 L300.92 514.576 L307.126 514.576 L307.126 517.774 L290.952 517.774 L290.952 514.576 Z\" fill=\"#000000\" fill-rule=\"evenodd\" fill-opacity=\"1\" /><path clip-path=\"url(#clip740)\" d=\"M325.238 493.004 L315.646 507.994 L325.238 507.994 L325.238 493.004 M324.242 489.694 L329.019 489.694 L329.019 507.994 L333.025 507.994 L333.025 511.153 L329.019 511.153 L329.019 517.774 L325.238 517.774 L325.238 511.153 L312.562 511.153 L312.562 507.486 L324.242 489.694 Z\" fill=\"#000000\" fill-rule=\"evenodd\" fill-opacity=\"1\" /><path clip-path=\"url(#clip740)\" d=\"M103.608 183.611 L91.8021 202.06 L103.608 202.06 L103.608 183.611 M102.381 179.537 L108.26 179.537 L108.26 202.06 L113.191 202.06 L113.191 205.949 L108.26 205.949 L108.26 214.097 L103.608 214.097 L103.608 205.949 L88.0058 205.949 L88.0058 201.435 L102.381 179.537 Z\" fill=\"#000000\" fill-rule=\"evenodd\" fill-opacity=\"1\" /><path clip-path=\"url(#clip740)\" d=\"M120.922 208.218 L125.807 208.218 L125.807 214.097 L120.922 214.097 L120.922 208.218 Z\" fill=\"#000000\" fill-rule=\"evenodd\" fill-opacity=\"1\" /><path clip-path=\"url(#clip740)\" d=\"M145.992 182.616 Q142.381 182.616 140.552 186.181 Q138.746 189.722 138.746 196.852 Q138.746 203.958 140.552 207.523 Q142.381 211.065 145.992 211.065 Q149.626 211.065 151.431 207.523 Q153.26 203.958 153.26 196.852 Q153.26 189.722 151.431 186.181 Q149.626 182.616 145.992 182.616 M145.992 178.912 Q151.802 178.912 154.857 183.519 Q157.936 188.102 157.936 196.852 Q157.936 205.579 154.857 210.185 Q151.802 214.768 145.992 214.768 Q140.181 214.768 137.103 210.185 Q134.047 205.579 134.047 196.852 Q134.047 188.102 137.103 183.519 Q140.181 178.912 145.992 178.912 Z\" fill=\"#000000\" fill-rule=\"evenodd\" fill-opacity=\"1\" /><path clip-path=\"url(#clip740)\" d=\"M194.325 188.634 L183.746 199.259 L194.325 209.838 L191.57 212.639 L180.945 202.014 L170.32 212.639 L167.589 209.838 L178.144 199.259 L167.589 188.634 L170.32 185.833 L180.945 196.458 L191.57 185.833 L194.325 188.634 Z\" fill=\"#000000\" fill-rule=\"evenodd\" fill-opacity=\"1\" /><path clip-path=\"url(#clip740)\" d=\"M206.686 210.162 L214.325 210.162 L214.325 183.796 L206.014 185.463 L206.014 181.204 L214.278 179.537 L218.954 179.537 L218.954 210.162 L226.593 210.162 L226.593 214.097 L206.686 214.097 L206.686 210.162 Z\" fill=\"#000000\" fill-rule=\"evenodd\" fill-opacity=\"1\" /><path clip-path=\"url(#clip740)\" d=\"M246.037 182.616 Q242.426 182.616 240.598 186.181 Q238.792 189.722 238.792 196.852 Q238.792 203.958 240.598 207.523 Q242.426 211.065 246.037 211.065 Q249.672 211.065 251.477 207.523 Q253.306 203.958 253.306 196.852 Q253.306 189.722 251.477 186.181 Q249.672 182.616 246.037 182.616 M246.037 178.912 Q251.848 178.912 254.903 183.519 Q257.982 188.102 257.982 196.852 Q257.982 205.579 254.903 210.185 Q251.848 214.768 246.037 214.768 Q240.227 214.768 237.149 210.185 Q234.093 205.579 234.093 196.852 Q234.093 188.102 237.149 183.519 Q240.227 178.912 246.037 178.912 Z\" fill=\"#000000\" fill-rule=\"evenodd\" fill-opacity=\"1\" /><path clip-path=\"url(#clip740)\" d=\"M257.982 173.013 L282.093 173.013 L282.093 176.211 L257.982 176.211 L257.982 173.013 Z\" fill=\"#000000\" fill-rule=\"evenodd\" fill-opacity=\"1\" /><path clip-path=\"url(#clip740)\" d=\"M290.952 183.489 L297.158 183.489 L297.158 162.067 L290.406 163.422 L290.406 159.961 L297.121 158.607 L300.92 158.607 L300.92 183.489 L307.126 183.489 L307.126 186.687 L290.952 186.687 L290.952 183.489 Z\" fill=\"#000000\" fill-rule=\"evenodd\" fill-opacity=\"1\" /><path clip-path=\"url(#clip740)\" d=\"M325.238 161.917 L315.646 176.907 L325.238 176.907 L325.238 161.917 M324.242 158.607 L329.019 158.607 L329.019 176.907 L333.025 176.907 L333.025 180.066 L329.019 180.066 L329.019 186.687 L325.238 186.687 L325.238 180.066 L312.562 180.066 L312.562 176.399 L324.242 158.607 Z\" fill=\"#000000\" fill-rule=\"evenodd\" fill-opacity=\"1\" /><polyline clip-path=\"url(#clip742)\" style=\"stroke:#009af9; stroke-linecap:butt; stroke-linejoin:round; stroke-width:4; stroke-opacity:1; fill:none\" points=\"\n",
       "  425.168,1440.67 503.145,1234.83 581.122,1087.79 659.099,984.872 737.076,955.466 815.052,926.06 893.029,881.95 971.006,911.356 1048.98,881.95 1126.96,896.653 \n",
       "  1204.94,867.247 1282.91,881.95 1360.89,852.543 1438.87,940.763 1516.84,955.466 1594.82,823.137 1672.8,881.95 1750.77,867.247 1828.75,881.95 1906.73,852.543 \n",
       "  1984.71,808.434 2062.68,911.356 2140.66,734.918 2218.64,543.776 2296.61,87.9763 \n",
       "  \"/>\n",
       "<polyline clip-path=\"url(#clip742)\" style=\"stroke:#e26f46; stroke-linecap:butt; stroke-linejoin:round; stroke-width:4; stroke-opacity:1; fill:none\" points=\"\n",
       "  425.168,1445.72 503.145,1175.14 581.122,1018.09 659.099,931.722 737.076,887.26 815.052,866.177 893.029,857.178 971.006,853.837 1048.98,852.815 1126.96,852.58 \n",
       "  1204.94,852.546 1282.91,852.543 1360.89,852.543 1438.87,852.543 1516.84,852.541 1594.82,852.507 1672.8,852.272 1750.77,851.25 1828.75,847.909 1906.73,838.91 \n",
       "  1984.71,817.826 2062.68,773.365 2140.66,687 2218.64,529.946 2296.61,259.371 \n",
       "  \"/>\n",
       "<path clip-path=\"url(#clip740)\" d=\"\n",
       "M2013.79 250.738 L2286.63 250.738 L2286.63 95.2176 L2013.79 95.2176  Z\n",
       "  \" fill=\"#ffffff\" fill-rule=\"evenodd\" fill-opacity=\"1\"/>\n",
       "<polyline clip-path=\"url(#clip740)\" style=\"stroke:#000000; stroke-linecap:butt; stroke-linejoin:round; stroke-width:4; stroke-opacity:1; fill:none\" points=\"\n",
       "  2013.79,250.738 2286.63,250.738 2286.63,95.2176 2013.79,95.2176 2013.79,250.738 \n",
       "  \"/>\n",
       "<polyline clip-path=\"url(#clip740)\" style=\"stroke:#009af9; stroke-linecap:butt; stroke-linejoin:round; stroke-width:4; stroke-opacity:1; fill:none\" points=\"\n",
       "  2035.83,147.058 2168.08,147.058 \n",
       "  \"/>\n",
       "<path clip-path=\"url(#clip740)\" d=\"M2203.96 166.745 Q2202.16 171.375 2200.44 172.787 Q2198.73 174.199 2195.86 174.199 L2192.46 174.199 L2192.46 170.634 L2194.96 170.634 Q2196.72 170.634 2197.69 169.8 Q2198.66 168.967 2199.84 165.865 L2200.6 163.921 L2190.12 138.412 L2194.63 138.412 L2202.73 158.689 L2210.84 138.412 L2215.35 138.412 L2203.96 166.745 Z\" fill=\"#000000\" fill-rule=\"evenodd\" fill-opacity=\"1\" /><path clip-path=\"url(#clip740)\" d=\"M2222.64 160.402 L2230.28 160.402 L2230.28 134.037 L2221.97 135.703 L2221.97 131.444 L2230.23 129.778 L2234.91 129.778 L2234.91 160.402 L2242.55 160.402 L2242.55 164.338 L2222.64 164.338 L2222.64 160.402 Z\" fill=\"#000000\" fill-rule=\"evenodd\" fill-opacity=\"1\" /><polyline clip-path=\"url(#clip740)\" style=\"stroke:#e26f46; stroke-linecap:butt; stroke-linejoin:round; stroke-width:4; stroke-opacity:1; fill:none\" points=\"\n",
       "  2035.83,198.898 2168.08,198.898 \n",
       "  \"/>\n",
       "<path clip-path=\"url(#clip740)\" d=\"M2203.96 218.585 Q2202.16 223.215 2200.44 224.627 Q2198.73 226.039 2195.86 226.039 L2192.46 226.039 L2192.46 222.474 L2194.96 222.474 Q2196.72 222.474 2197.69 221.64 Q2198.66 220.807 2199.84 217.705 L2200.6 215.761 L2190.12 190.252 L2194.63 190.252 L2202.73 210.529 L2210.84 190.252 L2215.35 190.252 L2203.96 218.585 Z\" fill=\"#000000\" fill-rule=\"evenodd\" fill-opacity=\"1\" /><path clip-path=\"url(#clip740)\" d=\"M2225.86 212.242 L2242.18 212.242 L2242.18 216.178 L2220.23 216.178 L2220.23 212.242 Q2222.9 209.488 2227.48 204.858 Q2232.09 200.205 2233.27 198.863 Q2235.51 196.34 2236.39 194.604 Q2237.29 192.844 2237.29 191.155 Q2237.29 188.4 2235.35 186.664 Q2233.43 184.928 2230.33 184.928 Q2228.13 184.928 2225.67 185.692 Q2223.24 186.455 2220.47 188.006 L2220.47 183.284 Q2223.29 182.15 2225.74 181.571 Q2228.2 180.993 2230.23 180.993 Q2235.6 180.993 2238.8 183.678 Q2241.99 186.363 2241.99 190.854 Q2241.99 192.983 2241.18 194.905 Q2240.4 196.803 2238.29 199.395 Q2237.71 200.067 2234.61 203.284 Q2231.51 206.479 2225.86 212.242 Z\" fill=\"#000000\" fill-rule=\"evenodd\" fill-opacity=\"1\" /></svg>\n"
      ]
     },
     "execution_count": 21,
     "metadata": {},
     "output_type": "execute_result"
    }
   ],
   "source": [
    "using Plots\n",
    "x = collect(0.988:0.001:1.012)\n",
    "y1 = [x^7 - 7x^6 + 21x^5 - 35x^4 + 35x^3 - 21x^2 + 7x - 1 \n",
    "      for x in 0.988:0.001:1.012]\n",
    "y2 = [(x - 1)^7 for x in 0.988:0.001:1.012]\n",
    "plot(x, y1)\n",
    "plot!(x, y2)"
   ]
  },
  {
   "cell_type": "markdown",
   "metadata": {},
   "source": [
    "In the expanded expression, calculations of floating numbers are rounded at every step, making the sum less accurate than evaluating the 2nd expression, which involves fewer rounding steps. "
   ]
  },
  {
   "cell_type": "markdown",
   "metadata": {},
   "source": [
    "## Q5\n",
    "\n",
    "1. Show the **Sherman-Morrison formula**\n",
    "$$\n",
    "\t(\\mathbf{A} + \\mathbf{u} \\mathbf{u}^T)^{-1} = \\mathbf{A}^{-1} - \\frac{1}{1 + \\mathbf{u}^T \\mathbf{A}^{-1} \\mathbf{u}} \\mathbf{A}^{-1} \\mathbf{u} \\mathbf{u}^T \\mathbf{A}^{-1},\n",
    "$$\n",
    "where $\\mathbf{A} \\in \\mathbb{R}^{n \\times n}$ is nonsingular and $\\mathbf{u} \\in \\mathbb{R}^n$. This formula supplies the inverse of the symmetric, rank-one  perturbation of $\\mathbf{A}$.\n",
    "\n",
    "2. Show the **Woodbury formula**\n",
    "$$\n",
    "\t(\\mathbf{A} + \\mathbf{U} \\mathbf{V}^T)^{-1} = \\mathbf{A}^{-1} - \\mathbf{A}^{-1} \\mathbf{U} (\\mathbf{I}_m + \\mathbf{V}^T \\mathbf{A}^{-1} \\mathbf{U})^{-1} \\mathbf{V}^T \\mathbf{A}^{-1},\n",
    "$$\n",
    "where $\\mathbf{A} \\in \\mathbb{R}^{n \\times n}$ is nonsingular, $\\mathbf{U}, \\mathbf{V} \\in \\mathbb{R}^{n \\times m}$, and $\\mathbf{I}_m$ is the $m \\times m$ identity matrix. In many applications $m$ is much smaller than $n$. Woodbury formula generalizes Sherman-Morrison and is valuable because the smaller matrix $\\mathbf{I}_m + \\mathbf{V}^T \\mathbf{A}^{-1} \\mathbf{U}$ is cheaper to invert than the larger matrix $\\mathbf{A} + \\mathbf{U} \\mathbf{V}^T$.\n",
    "\n",
    "3. Show the **binomial inversion formula**\n",
    "$$\n",
    "\t(\\mathbf{A} + \\mathbf{U} \\mathbf{B} \\mathbf{V}^T)^{-1} = \\mathbf{A}^{-1} - \\mathbf{A}^{-1} \\mathbf{U} (\\mathbf{B}^{-1} + \\mathbf{V}^T \\mathbf{A}^{-1} \\mathbf{U})^{-1} \\mathbf{V}^T \\mathbf{A}^{-1},\n",
    "$$\n",
    "where $\\mathbf{A}$ and $\\mathbf{B}$ are nonsingular.\n",
    "\n",
    "4. Show the identity\n",
    "$$\n",
    "\t\\text{det}(\\mathbf{A} + \\mathbf{U} \\mathbf{V}^T) = \\text{det}(\\mathbf{A}) \\text{det}(\\mathbf{I}_m + \\mathbf{V}^T \\mathbf{A}^{-1} \\mathbf{U}).\n",
    "$$\n",
    "This formula is useful for evaluating the density of a multivariate normal with covariance matrix $\\mathbf{A} + \\mathbf{U} \\mathbf{V}^T$.\n",
    "\n",
    "**Hint**: 1 and 2 are special cases of 3."
   ]
  },
  {
   "cell_type": "markdown",
   "metadata": {},
   "source": [
    "**Solution 5.1**"
   ]
  },
  {
   "cell_type": "markdown",
   "metadata": {},
   "source": [
    "\\begin{align}\n",
    "(\\mathbf{A} &+ \\mathbf{u} \\mathbf{u}^T)(\\mathbf{A}^{-1} - \\frac{1}{1 + \\mathbf{u}^T \\mathbf{A}^{-1} \\mathbf{u}} \\mathbf{A}^{-1} \\mathbf{u} \\mathbf{u}^T \\mathbf{A}^{-1}) \\\\\n",
    "&= \\mathbf{I}_n - \\frac{1}{1 + \\mathbf{u}^T \\mathbf{A}^{-1} \\mathbf{u}} \\mathbf{u} \\mathbf{u}^T \\mathbf{A}^{-1} + \\mathbf{u} \\mathbf{u}^T \\mathbf{A}^{-1} - \\frac{1}{1 + \\mathbf{u}^T \\mathbf{A}^{-1} \\mathbf{u}}\\mathbf{u} \\mathbf{u}^T \\mathbf{A}^{-1} \\mathbf{u} \\mathbf{u}^T \\mathbf{A}^{-1} \\\\\n",
    "&= \\mathbf{I}_n + \\mathbf{u}\\mathbf{u}^T\\mathbf{A}^{-1} - \\frac{1}{1 + \\mathbf{u}^T \\mathbf{A}^{-1} \\mathbf{u}} \\mathbf{u}(1 + \\mathbf{u}^T \\mathbf{A}^{-1} \\mathbf{u} ) \\mathbf{u}^T \\mathbf{A}^{-1} \\\\\n",
    "&= \\mathbf{I}_n + \\mathbf{u}\\mathbf{u}^T\\mathbf{A}^{-1} - \\mathbf{u}\\mathbf{u}^T\\mathbf{A}^{-1} \\\\\n",
    "&= \\mathbf{I}_n \\\\\n",
    "(\\mathbf{A}^{-1} &- \\frac{1}{1 + \\mathbf{u}^T \\mathbf{A}^{-1} \\mathbf{u}} \\mathbf{A}^{-1} \\mathbf{u} \\mathbf{u}^T \\mathbf{A}^{-1}) (\\mathbf{A} + \\mathbf{u} \\mathbf{u}^T) \\\\\n",
    "&= \\mathbf{I}_n - \\mathbf{A}^{-1} \\mathbf{u} \\mathbf{u}^T - \\frac{1}{1 + \\mathbf{u}^T \\mathbf{A}^{-1} \\mathbf{u}} (\\mathbf{A}^{-1} \\mathbf{u} \\mathbf{u}^T + \\mathbf{A}^{-1} \\mathbf{u} \\mathbf{u}^T \\mathbf{A}^{-1} \\mathbf{u} \\mathbf{u}^T) \\\\\n",
    "&= \\mathbf{I}_n - \\mathbf{A}^{-1} \\mathbf{u} \\mathbf{u}^T - \\frac{1}{1 + \\mathbf{u}^T \\mathbf{A}^{-1} \\mathbf{u}} \\mathbf{A}^{-1} \\mathbf{u} (1 + \\mathbf{u}^T \\mathbf{A}^{-1} \\mathbf{u}) \\mathbf{u}^T \\\\\n",
    "&= \\mathbf{I}_n - \\mathbf{A}^{-1} \\mathbf{u} \\mathbf{u}^T + \\mathbf{A}^{-1} \\mathbf{u} \\mathbf{u}^T \\\\\n",
    "&= \\mathbf{I}_n\n",
    "\\end{align}"
   ]
  },
  {
   "cell_type": "markdown",
   "metadata": {},
   "source": [
    "**Solution 5.2**"
   ]
  },
  {
   "cell_type": "markdown",
   "metadata": {},
   "source": [
    "\\begin{align}\n",
    "(\\mathbf{A} &+ \\mathbf{U} \\mathbf{V}^T) [\\mathbf{A}^{-1} - \\mathbf{A}^{-1} \\mathbf{U} (\\mathbf{I}_m + \\mathbf{V}^T \\mathbf{A}^{-1} \\mathbf{U})^{-1} \\mathbf{V}^T \\mathbf{A}^{-1}] \\\\\n",
    "&= \\mathbf{I}_n - \\mathbf{U} (\\mathbf{I}_m + \\mathbf{V}^T \\mathbf{A}^{-1} \\mathbf{U})^{-1} \\mathbf{V}^T \\mathbf{A}^{-1} + \\mathbf{U} \\mathbf{V}^T \\mathbf{A}^{-1} - \\mathbf{U} \\mathbf{V}^T \\mathbf{A}^{-1} \\mathbf{U} (\\mathbf{I}_m + \\mathbf{V}^T \\mathbf{A}^{-1} \\mathbf{U})^{-1} \\mathbf{V}^T \\mathbf{A}^{-1} \\\\\n",
    "&= \\mathbf{I}_n + \\mathbf{U} \\mathbf{V}^T \\mathbf{A}^{-1} - \\mathbf{U} (\\mathbf{I}_m + \\mathbf{V}^T \\mathbf{A}^{-1} \\mathbf{U}) (\\mathbf{I}_m + \\mathbf{V}^T \\mathbf{A}^{-1} \\mathbf{U})^{-1} \\mathbf{V}^T \\mathbf{A}^{-1} \\\\\n",
    "&= \\mathbf{I}_n + \\mathbf{U} \\mathbf{V}^T \\mathbf{A}^{-1} - \\mathbf{U} \\mathbf{V}^T \\mathbf{A}^{-1} \\\\\n",
    "&= \\mathbf{I}_n \\\\\n",
    "[\\mathbf{A}^{-1} &- \\mathbf{A}^{-1} \\mathbf{U} (\\mathbf{I}_m + \\mathbf{V}^T \\mathbf{A}^{-1} \\mathbf{U})^{-1} \\mathbf{V}^T \\mathbf{A}^{-1}] (\\mathbf{A} + \\mathbf{U} \\mathbf{V}^T) \\\\\n",
    "&= \\mathbf{I}_n + \\mathbf{A}^{-1} \\mathbf{U} \\mathbf{V}^T - \\mathbf{A}^{-1} \\mathbf{U} (\\mathbf{I}_m + \\mathbf{V}^T \\mathbf{A}^{-1} \\mathbf{U})^{-1} \\mathbf{V}^T - \\mathbf{A}^{-1} \\mathbf{U} (\\mathbf{I}_m + \\mathbf{V}^T \\mathbf{A}^{-1} \\mathbf{U})^{-1} \\mathbf{V}^T \\mathbf{A}^{-1} \\mathbf{U} \\mathbf{V}^T \\\\\n",
    "&= \\mathbf{I}_n + \\mathbf{A}^{-1} \\mathbf{U} \\mathbf{V}^T - \\mathbf{A}^{-1} \\mathbf{U} (\\mathbf{I}_m + \\mathbf{V}^T \\mathbf{A}^{-1} \\mathbf{U})^{-1} (\\mathbf{I}_m + \\mathbf{V}^T \\mathbf{A}^{-1} \\mathbf{U}) \\mathbf{V}^T \\\\\n",
    "&= \\mathbf{I}_n + \\mathbf{A}^{-1} \\mathbf{U} \\mathbf{V}^T - \\mathbf{A}^{-1} \\mathbf{U} \\mathbf{V}^T \\\\\n",
    "&= \\mathbf{I}_n\n",
    "\\end{align}"
   ]
  },
  {
   "cell_type": "markdown",
   "metadata": {},
   "source": [
    "**Solution 5.3**"
   ]
  },
  {
   "cell_type": "markdown",
   "metadata": {},
   "source": [
    "\\begin{align}\n",
    "(\\mathbf{A} + \\mathbf{U} \\mathbf{B} \\mathbf{V}^T)^{-1} &= \\mathbf{A}^{-1} - \\mathbf{A}^{-1} \\mathbf{U} (\\mathbf{B}^{-1} + \\mathbf{V}^T \\mathbf{A}^{-1} \\mathbf{U})^{-1} \\mathbf{V}^T \\mathbf{A}^{-1} \\\\\n",
    "&=\\mathbf{A}^{-1} - \\mathbf{A}^{-1} \\mathbf{U} \\mathbf{B} \\mathbf{B}^{-1} (\\mathbf{B}^{-1} + \\mathbf{V}^T \\mathbf{A}^{-1} \\mathbf{U})^{-1} \\mathbf{B}^{-1} \\mathbf{B} \\mathbf{V}^T \\mathbf{A}^{-1} \\\\\n",
    "&= \\mathbf{A}^{-1} - \\mathbf{A}^{-1} \\mathbf{U} \\mathbf{B} [\\mathbf{B} (\\mathbf{B}^{-1} + \\mathbf{V}^T \\mathbf{A}^{-1} \\mathbf{U}) \\mathbf{B}]^{-1} \\mathbf{B} \\mathbf{V}^T \\mathbf{A}^{-1} \\\\\n",
    "&= \\mathbf{A}^{-1} - \\mathbf{A}^{-1} \\mathbf{U} \\mathbf{B} (\\mathbf{B} + \\mathbf{B}\\mathbf{V}^T \\mathbf{A}^{-1} \\mathbf{U} \\mathbf{B}) \\mathbf{B} \\mathbf{V}^T \\mathbf{A}^{-1}\n",
    "\\end{align}    "
   ]
  },
  {
   "cell_type": "markdown",
   "metadata": {},
   "source": [
    "Using this expression of $(\\mathbf{A} + \\mathbf{U} \\mathbf{B} \\mathbf{V}^T)^{-1}$, "
   ]
  },
  {
   "cell_type": "markdown",
   "metadata": {},
   "source": [
    "\\begin{align}\n",
    "(\\mathbf{A} &+ \\mathbf{U} \\mathbf{B} \\mathbf{V}^T) [\\mathbf{A}^{-1} - \\mathbf{A}^{-1} \\mathbf{U} \\mathbf{B} (\\mathbf{B} + \\mathbf{B}\\mathbf{V}^T \\mathbf{A}^{-1} \\mathbf{U} \\mathbf{B}) \\mathbf{B} \\mathbf{V}^T \\mathbf{A}^{-1}] \\\\\n",
    "&= \\mathbf{I}_n + \\mathbf{U} \\mathbf{B} \\mathbf{V}^T \\mathbf{A}^{-1} - \\mathbf{U} \\mathbf{B} (\\mathbf{B} + \\mathbf{B}\\mathbf{V}^T \\mathbf{A}^{-1} \\mathbf{U} \\mathbf{B})^{-1} \\mathbf{B} \\mathbf{V} \\mathbf{A}^{-1} - \\mathbf{U} \\mathbf{B} \\mathbf{V}^T \\mathbf{A}^{-1} \\mathbf{U} \\mathbf{B} (\\mathbf{B} + \\mathbf{B} \\mathbf{V}^T \\mathbf{A}^{-1} \\mathbf{U} \\mathbf{B})^{-1} \\mathbf{B} \\mathbf{V} \\mathbf{A}^{-1} \\\\\n",
    "&= \\mathbf{I}_n + \\mathbf{U} \\mathbf{B} \\mathbf{V}^T \\mathbf{A}^{-1} - \\mathbf{U} (\\mathbf{B} + \\mathbf{B} \\mathbf{V}^T \\mathbf{A}^{-1} \\mathbf{U} \\mathbf{B}) (\\mathbf{B} + \\mathbf{B} \\mathbf{V}^T \\mathbf{A}^{-1} \\mathbf{U} \\mathbf{B})^{-1}  \\mathbf{B} \\mathbf{V} \\mathbf{A}^{-1} \\\\\n",
    "&= \\mathbf{I}_n + \\mathbf{U} \\mathbf{B} \\mathbf{V}^T \\mathbf{A}^{-1} - \\mathbf{U} \\mathbf{B} \\mathbf{V}^T \\mathbf{A}^{-1} \\\\\n",
    "&= \\mathbf{I}_n \\\\\n",
    "[\\mathbf{A}^{-1} &- \\mathbf{A}^{-1} \\mathbf{U} \\mathbf{B} (\\mathbf{B} + \\mathbf{B}\\mathbf{V}^T \\mathbf{A}^{-1} \\mathbf{U} \\mathbf{B}) \\mathbf{B} \\mathbf{V}^T \\mathbf{A}^{-1}] (\\mathbf{A} + \\mathbf{U} \\mathbf{B} \\mathbf{V}^T) \\\\\n",
    "&= \\mathbf{I}_n + \\mathbf{A}^{-1} \\mathbf{U} \\mathbf{B} \\mathbf{V}^T - \\mathbf{A}^{-1} \\mathbf{U} \\mathbf{B} (\\mathbf{B} + \\mathbf{B} \\mathbf{V}^T \\mathbf{A}^{-1} \\mathbf{U} \\mathbf{B})^{-1} (\\mathbf{B} + \\mathbf{B} \\mathbf{V}^T \\mathbf{A}^{-1} \\mathbf{U} \\mathbf{B}) \\mathbf{V}^T \\\\\n",
    "&= \\mathbf{I}_n + \\mathbf{A}^{-1} \\mathbf{U} \\mathbf{B} \\mathbf{V}^T - \\mathbf{A}^{-1} \\mathbf{U} \\mathbf{B} \\mathbf{V}^T \\\\\n",
    "&= \\mathbf{I}_n\n",
    "\\end{align} "
   ]
  },
  {
   "cell_type": "markdown",
   "metadata": {},
   "source": [
    "**Solution 5.4**"
   ]
  },
  {
   "cell_type": "markdown",
   "metadata": {},
   "source": [
    "First let $\\mathbf{M} = \\begin{bmatrix} \\mathbf{I}_m & -\\mathbf{U} \\\\ \\mathbf{V}^T & \\mathbf{I}_n \\end{bmatrix}$. Then $\\mathbf{M} = \\text{det} (\\mathbf{I}_m) \\text{det} (\\mathbf{I}_n - \\mathbf{V}^T (\\mathbf{I}_m)^{-1} \\mathbf{U}) = \\text{det} (\\mathbf{I}_n - \\mathbf{V}^T \\mathbf{U})$. Using this result, "
   ]
  },
  {
   "cell_type": "markdown",
   "metadata": {},
   "source": [
    "\\begin{align}\n",
    "\\text{det}(\\mathbf{A} + \\mathbf{U} \\mathbf{V}^T) &= \n",
    "    \\text{det}(\\mathbf{A} \\mathbf{A}^{-1} \\mathbf{A} + \\mathbf{U} \\mathbf{V}^T \\mathbf{A}^{-1} \\mathbf{A}) \\\\\n",
    "    &= \\text{det}[(\\mathbf{I}_n + \\mathbf{U} \\mathbf{V}^T \\mathbf{A}^{-1}) \\mathbf{A}] \\\\\n",
    "    &= \\text{det}(\\mathbf{I}_n + \\mathbf{U} \\mathbf{V}^T \\mathbf{A}^{-1}) \\text{det} (\\mathbf{A}) \\\\\n",
    "    &= \\text{det}(\\mathbf{I}_n + \\mathbf{V}^T \\mathbf{A}^{-1} \\mathbf{U} ) \\text{det} (\\mathbf{A}) \n",
    "\\end{align}"
   ]
  },
  {
   "cell_type": "markdown",
   "metadata": {},
   "source": [
    "## Q6\n",
    "\n",
    "Demonstrate the following facts about triangular and orthogonal matrices in Julia (one example for each fact). Mathematically curious ones are also encouraged to prove them. \n",
    "\n",
    "Note a unit triangular matrix is a triangular matrix with all diagonal entries being 1.\n",
    "\n",
    "1. The product of two upper (lower) triangular matrices is upper (lower) triangular.\n",
    "\n",
    "2. The inverse of an upper (lower) triangular matrix is upper (lower) triangular.\n",
    "\n",
    "3. The product of two unit upper (lower) triangular matrices is unit upper (lower) triangular.\n",
    "\n",
    "4. The inverse of a unit upper (lower) triangular matrix is unit upper (lower) triangular.\n",
    "\n",
    "5. An orthogonal upper (lower) triangular matrix is diagonal. (You just need to prove this.)\n",
    "\n",
    "6. The product of two orthogonal matrices is orthogonal."
   ]
  },
  {
   "cell_type": "markdown",
   "metadata": {},
   "source": [
    "**Solution 6.1**"
   ]
  },
  {
   "cell_type": "code",
   "execution_count": 22,
   "metadata": {},
   "outputs": [
    {
     "data": {
      "text/plain": [
       "5×5 UpperTriangular{Float64, Matrix{Float64}}:\n",
       " 0.789019  0.377184  -0.166085    0.711715  -0.111312\n",
       "  ⋅        2.30437   -1.27073    -0.694692   1.95974\n",
       "  ⋅         ⋅         0.0581141   0.192228  -2.11465\n",
       "  ⋅         ⋅          ⋅          0.194627   0.853956\n",
       "  ⋅         ⋅          ⋅           ⋅         1.23838"
      ]
     },
     "execution_count": 22,
     "metadata": {},
     "output_type": "execute_result"
    }
   ],
   "source": [
    "using LinearAlgebra\n",
    "\n",
    "n = 5\n",
    "A = UpperTriangular(randn(n, n))"
   ]
  },
  {
   "cell_type": "code",
   "execution_count": 23,
   "metadata": {},
   "outputs": [
    {
     "data": {
      "text/plain": [
       "5×5 UpperTriangular{Float64, Matrix{Float64}}:\n",
       " 0.416999  -0.0948742   0.496361  -0.724097    1.26393\n",
       "  ⋅         1.14354    -0.642102   0.0475045   1.0277\n",
       "  ⋅          ⋅          0.372532   1.92379    -0.143981\n",
       "  ⋅          ⋅           ⋅        -0.339999   -0.453877\n",
       "  ⋅          ⋅           ⋅          ⋅         -0.276843"
      ]
     },
     "execution_count": 23,
     "metadata": {},
     "output_type": "execute_result"
    }
   ],
   "source": [
    "B = UpperTriangular(randn(n, n))"
   ]
  },
  {
   "cell_type": "code",
   "execution_count": 24,
   "metadata": {},
   "outputs": [
    {
     "data": {
      "text/plain": [
       "5×5 UpperTriangular{Float64, Matrix{Float64}}:\n",
       " 0.32902  0.35647   0.0875754  -1.1149      1.1166\n",
       "  ⋅       2.63515  -1.95303    -2.09895     2.32394\n",
       "  ⋅        ⋅        0.0216493   0.0464423   0.489812\n",
       "  ⋅        ⋅         ⋅         -0.066173   -0.324748\n",
       "  ⋅        ⋅         ⋅           ⋅         -0.342837"
      ]
     },
     "execution_count": 24,
     "metadata": {},
     "output_type": "execute_result"
    }
   ],
   "source": [
    "A * B"
   ]
  },
  {
   "cell_type": "markdown",
   "metadata": {},
   "source": [
    "**Solution 6.2**"
   ]
  },
  {
   "cell_type": "code",
   "execution_count": 25,
   "metadata": {},
   "outputs": [
    {
     "data": {
      "text/plain": [
       "5×5 UpperTriangular{Float64, Matrix{Float64}}:\n",
       " 0.517734   0.958519  -0.463882  -1.2256     0.48071\n",
       "  ⋅        -1.03979   -0.48793    0.41613    1.38082\n",
       "  ⋅          ⋅         0.521829   0.911189  -0.844706\n",
       "  ⋅          ⋅          ⋅        -0.971195  -0.861787\n",
       "  ⋅          ⋅          ⋅          ⋅        -0.175025"
      ]
     },
     "execution_count": 25,
     "metadata": {},
     "output_type": "execute_result"
    }
   ],
   "source": [
    "A = UpperTriangular(randn(n, n))"
   ]
  },
  {
   "cell_type": "code",
   "execution_count": 26,
   "metadata": {},
   "outputs": [
    {
     "data": {
      "text/plain": [
       "5×5 UpperTriangular{Float64, Matrix{Float64}}:\n",
       " 1.93149   1.78053    3.38188   1.49839   -4.34738\n",
       "  ⋅       -0.961736  -0.89926  -1.25578    2.9358\n",
       "  ⋅         ⋅         1.91634   1.79793  -18.1012\n",
       "  ⋅         ⋅          ⋅       -1.02966    5.06982\n",
       "  ⋅         ⋅          ⋅         ⋅        -5.71346"
      ]
     },
     "execution_count": 26,
     "metadata": {},
     "output_type": "execute_result"
    }
   ],
   "source": [
    "inv(A)"
   ]
  },
  {
   "cell_type": "markdown",
   "metadata": {},
   "source": [
    "**Solution 6.3**"
   ]
  },
  {
   "cell_type": "code",
   "execution_count": 27,
   "metadata": {},
   "outputs": [
    {
     "data": {
      "text/plain": [
       "5×5 UnitUpperTriangular{Float64, Matrix{Float64}}:\n",
       " 1.0  0.716453   0.381884   -1.56034    0.234319\n",
       "  ⋅   1.0       -0.0165212  -0.36772    0.0865125\n",
       "  ⋅    ⋅         1.0        -0.916257  -0.665744\n",
       "  ⋅    ⋅          ⋅          1.0       -0.695259\n",
       "  ⋅    ⋅          ⋅           ⋅         1.0"
      ]
     },
     "execution_count": 27,
     "metadata": {},
     "output_type": "execute_result"
    }
   ],
   "source": [
    "A = UnitUpperTriangular(randn(n, n))"
   ]
  },
  {
   "cell_type": "code",
   "execution_count": 28,
   "metadata": {},
   "outputs": [
    {
     "data": {
      "text/plain": [
       "5×5 UnitUpperTriangular{Float64, Matrix{Float64}}:\n",
       " 1.0  0.830835  -0.483506   1.00252   -0.551762\n",
       "  ⋅   1.0        1.07098   -0.262255  -0.228301\n",
       "  ⋅    ⋅         1.0       -1.43042   -0.475981\n",
       "  ⋅    ⋅          ⋅         1.0        0.32029\n",
       "  ⋅    ⋅          ⋅          ⋅         1.0"
      ]
     },
     "execution_count": 28,
     "metadata": {},
     "output_type": "execute_result"
    }
   ],
   "source": [
    "B = UnitUpperTriangular(randn(n, n))"
   ]
  },
  {
   "cell_type": "code",
   "execution_count": 29,
   "metadata": {},
   "outputs": [
    {
     "data": {
      "text/plain": [
       "5×5 UnitUpperTriangular{Float64, Matrix{Float64}}:\n",
       " 1.0  1.54729  0.665683  -1.29197   -1.16254\n",
       "  ⋅   1.0      1.05446   -0.606343  -0.251701\n",
       "  ⋅    ⋅       1.0       -2.34668   -1.43519\n",
       "  ⋅    ⋅        ⋅         1.0       -0.374969\n",
       "  ⋅    ⋅        ⋅          ⋅         1.0"
      ]
     },
     "execution_count": 29,
     "metadata": {},
     "output_type": "execute_result"
    }
   ],
   "source": [
    "A * B"
   ]
  },
  {
   "cell_type": "markdown",
   "metadata": {},
   "source": [
    "**Solution 6.4**"
   ]
  },
  {
   "cell_type": "code",
   "execution_count": 30,
   "metadata": {},
   "outputs": [
    {
     "data": {
      "text/plain": [
       "5×5 UnitUpperTriangular{Float64, Matrix{Float64}}:\n",
       " 1.0  1.81547  -0.164907   0.226502   -2.26973\n",
       "  ⋅   1.0      -1.33587   -0.825433   -1.14198\n",
       "  ⋅    ⋅        1.0       -0.0866018   0.566497\n",
       "  ⋅    ⋅         ⋅         1.0         0.421545\n",
       "  ⋅    ⋅         ⋅          ⋅          1.0"
      ]
     },
     "execution_count": 30,
     "metadata": {},
     "output_type": "execute_result"
    }
   ],
   "source": [
    "A = UnitUpperTriangular(randn(n, n))"
   ]
  },
  {
   "cell_type": "code",
   "execution_count": 31,
   "metadata": {},
   "outputs": [
    {
     "data": {
      "text/plain": [
       "5×5 UnitUpperTriangular{Float64, Matrix{Float64}}:\n",
       " 1.0  -1.81547  -2.26032  -1.9208      2.28667\n",
       "  ⋅    1.0       1.33587   0.941122   -0.0115113\n",
       "  ⋅     ⋅        1.0       0.0866018  -0.603003\n",
       "  ⋅     ⋅         ⋅        1.0        -0.421545\n",
       "  ⋅     ⋅         ⋅         ⋅          1.0"
      ]
     },
     "execution_count": 31,
     "metadata": {},
     "output_type": "execute_result"
    }
   ],
   "source": [
    "inv(A)"
   ]
  },
  {
   "cell_type": "markdown",
   "metadata": {},
   "source": [
    "**Solution 6.5**"
   ]
  },
  {
   "cell_type": "markdown",
   "metadata": {},
   "source": [
    "An orthogonal upper (lower) triangular matrix is diagonal.\n",
    "Let M be an orthogonal upper triangular matrix. Then $M'M = M^{-1}M = I$. M' is lower triangular, and $M^{-1}$ is also upper triangular from (2). Therefore, $M'$ and $M^{-1}$ are diagonal, which makes $M$ also a diagonal matrix. "
   ]
  },
  {
   "cell_type": "markdown",
   "metadata": {},
   "source": [
    "**Solution 6.6**"
   ]
  },
  {
   "cell_type": "code",
   "execution_count": 32,
   "metadata": {},
   "outputs": [
    {
     "data": {
      "text/plain": [
       "LinearAlgebra.QRCompactWY{Float64, Matrix{Float64}}\n",
       "Q factor:\n",
       "5×5 LinearAlgebra.QRCompactWYQ{Float64, Matrix{Float64}}:\n",
       " -0.598321    0.204166    0.349841    0.55664   -0.409989\n",
       " -0.171705   -0.681469    0.0776085   0.430079   0.561361\n",
       " -0.152677   -0.690358   -0.0471328  -0.337625  -0.619583\n",
       " -0.0180622  -0.0131375   0.8823     -0.431357   0.187027\n",
       " -0.767394    0.130955   -0.301518   -0.452906   0.312922\n",
       "R factor:\n",
       "5×5 Matrix{Float64}:\n",
       " -0.727149  -1.11547  -1.18485   -0.799686   -1.45091\n",
       "  0.0       -1.05458  -0.961228  -0.30684    -0.795069\n",
       "  0.0        0.0       1.02481    0.0932309   0.3849\n",
       "  0.0        0.0       0.0       -0.502923   -0.0638076\n",
       "  0.0        0.0       0.0        0.0        -0.327758"
      ]
     },
     "execution_count": 32,
     "metadata": {},
     "output_type": "execute_result"
    }
   ],
   "source": [
    "Q1, R1 = qr(rand(n,n)) # Q1 is orthogonal\n",
    "Q2, R2 = qr(rand(n,n)) # Q2 is orthogonal"
   ]
  },
  {
   "cell_type": "code",
   "execution_count": 33,
   "metadata": {},
   "outputs": [
    {
     "data": {
      "text/plain": [
       "5×5 Matrix{Float64}:\n",
       "  1.0           1.66533e-16  -8.32667e-17  -5.55112e-17   5.55112e-17\n",
       "  1.66533e-16   1.0          -2.77556e-17  -8.32667e-17  -3.33067e-16\n",
       " -8.32667e-17  -2.77556e-17   1.0           0.0          -1.11022e-16\n",
       " -5.55112e-17  -8.32667e-17   0.0           1.0           5.55112e-17\n",
       "  5.55112e-17  -3.33067e-16  -1.11022e-16   5.55112e-17   1.0"
      ]
     },
     "execution_count": 33,
     "metadata": {},
     "output_type": "execute_result"
    }
   ],
   "source": [
    "transpose(Q1) * Q1"
   ]
  },
  {
   "cell_type": "code",
   "execution_count": 34,
   "metadata": {},
   "outputs": [
    {
     "data": {
      "text/plain": [
       "5×5 Matrix{Float64}:\n",
       " 1.0           3.33067e-16   5.55112e-17   2.77556e-17   0.0\n",
       " 3.33067e-16   1.0           1.11022e-16  -4.16334e-17  -2.22045e-16\n",
       " 5.55112e-17   1.11022e-16   1.0          -1.52656e-16  -2.35922e-16\n",
       " 2.77556e-17  -4.16334e-17  -1.52656e-16   1.0           2.08167e-17\n",
       " 0.0          -2.22045e-16  -2.35922e-16   2.08167e-17   1.0"
      ]
     },
     "execution_count": 34,
     "metadata": {},
     "output_type": "execute_result"
    }
   ],
   "source": [
    "Q1 * transpose(Q1)"
   ]
  },
  {
   "cell_type": "code",
   "execution_count": 35,
   "metadata": {},
   "outputs": [
    {
     "data": {
      "text/plain": [
       "5×5 Matrix{Float64}:\n",
       "  1.0          -5.55112e-17  -8.32667e-17  -1.66533e-16   2.22045e-16\n",
       " -5.55112e-17   1.0           6.93889e-18   5.55112e-17   2.08167e-17\n",
       " -8.32667e-17   6.93889e-18   1.0          -1.38778e-16  -2.77556e-16\n",
       " -1.66533e-16   5.55112e-17  -1.38778e-16   1.0          -4.16334e-16\n",
       "  2.22045e-16   2.08167e-17  -2.77556e-16  -4.16334e-16   1.0"
      ]
     },
     "execution_count": 35,
     "metadata": {},
     "output_type": "execute_result"
    }
   ],
   "source": [
    "transpose(Q2) * Q2"
   ]
  },
  {
   "cell_type": "code",
   "execution_count": 36,
   "metadata": {},
   "outputs": [
    {
     "data": {
      "text/plain": [
       "5×5 Matrix{Float64}:\n",
       "  1.0          -3.33067e-16   3.88578e-16   1.38778e-17   2.77556e-16\n",
       " -3.33067e-16   1.0           2.77556e-16   1.38778e-17   2.498e-16\n",
       "  3.88578e-16   2.77556e-16   1.0          -1.38778e-17  -2.498e-16\n",
       "  1.38778e-17   1.38778e-17  -1.38778e-17   1.0          -4.85723e-17\n",
       "  2.77556e-16   2.498e-16    -2.498e-16    -4.85723e-17   1.0"
      ]
     },
     "execution_count": 36,
     "metadata": {},
     "output_type": "execute_result"
    }
   ],
   "source": [
    "Q2 * transpose(Q2)"
   ]
  },
  {
   "cell_type": "code",
   "execution_count": 37,
   "metadata": {},
   "outputs": [
    {
     "data": {
      "text/plain": [
       "5×5 Matrix{Float64}:\n",
       "  0.664118   0.456106    0.240791  -0.0787726  -0.535472\n",
       " -0.268012   0.0396726  -0.184026  -0.911931   -0.247209\n",
       "  0.305655   0.509221   -0.244255  -0.217637    0.735012\n",
       "  0.302469  -0.215757   -0.888254   0.143078   -0.229119\n",
       "  0.549732  -0.696087    0.243924  -0.307149    0.24376"
      ]
     },
     "execution_count": 37,
     "metadata": {},
     "output_type": "execute_result"
    }
   ],
   "source": [
    "Q = Q1 * Q2"
   ]
  },
  {
   "cell_type": "code",
   "execution_count": 38,
   "metadata": {},
   "outputs": [
    {
     "data": {
      "text/plain": [
       "5×5 Matrix{Float64}:\n",
       "  1.0          -7.33834e-17  -3.3561e-17   -1.48083e-16   1.57301e-16\n",
       " -7.33834e-17   1.0          -1.3254e-16   -2.57858e-16   1.47841e-16\n",
       " -3.3561e-17   -1.3254e-16    1.0          -1.58426e-16  -2.1897e-16\n",
       " -1.48083e-16  -2.57858e-16  -1.58426e-16   1.0          -2.01703e-16\n",
       "  1.57301e-16   1.47841e-16  -2.1897e-16   -2.01703e-16   1.0"
      ]
     },
     "execution_count": 38,
     "metadata": {},
     "output_type": "execute_result"
    }
   ],
   "source": [
    "transpose(Q) * Q"
   ]
  },
  {
   "cell_type": "code",
   "execution_count": 39,
   "metadata": {},
   "outputs": [
    {
     "data": {
      "text/plain": [
       "5×5 Matrix{Float64}:\n",
       "  1.0           1.75231e-17   2.09002e-16  -2.9132e-18    1.05836e-16\n",
       "  1.75231e-17   1.0           8.71145e-17  -2.19481e-16  -3.41599e-16\n",
       "  2.09002e-16   8.71145e-17   1.0           3.22166e-17  -9.81905e-17\n",
       " -2.9132e-18   -2.19481e-16   3.22166e-17   1.0           1.87928e-16\n",
       "  1.05836e-16  -3.41599e-16  -9.81905e-17   1.87928e-16   1.0"
      ]
     },
     "execution_count": 39,
     "metadata": {},
     "output_type": "execute_result"
    }
   ],
   "source": [
    "Q * transpose(Q)"
   ]
  },
  {
   "cell_type": "markdown",
   "metadata": {},
   "source": [
    "We see that Q is also an orthogonal matrix. "
   ]
  }
 ],
 "metadata": {
  "kernelspec": {
   "display_name": "Julia 1.7.2",
   "language": "julia",
   "name": "julia-1.7"
  },
  "language_info": {
   "file_extension": ".jl",
   "mimetype": "application/julia",
   "name": "julia",
   "version": "1.7.2"
  },
  "toc": {
   "colors": {
    "hover_highlight": "#DAA520",
    "running_highlight": "#FF0000",
    "selected_highlight": "#FFD700"
   },
   "moveMenuLeft": true,
   "nav_menu": {
    "height": "153px",
    "width": "252px"
   },
   "navigate_menu": true,
   "number_sections": false,
   "sideBar": true,
   "skip_h1_title": true,
   "threshold": 4,
   "toc_cell": false,
   "toc_section_display": "block",
   "toc_window_display": true,
   "widenNotebook": false
  },
  "toc-autonumbering": false
 },
 "nbformat": 4,
 "nbformat_minor": 4
}
